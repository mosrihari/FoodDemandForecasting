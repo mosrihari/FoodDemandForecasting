{
  "nbformat": 4,
  "nbformat_minor": 0,
  "metadata": {
    "colab": {
      "name": "FoodDemandForecasting.ipynb",
      "provenance": [],
      "collapsed_sections": [],
      "toc_visible": true
    },
    "kernelspec": {
      "name": "python3",
      "display_name": "Python 3"
    }
  },
  "cells": [
    {
      "cell_type": "code",
      "metadata": {
        "id": "S8guxntB7ppl",
        "colab_type": "code",
        "colab": {
          "base_uri": "https://localhost:8080/",
          "height": 70
        },
        "outputId": "b9d83353-0e0e-4505-e4a5-9fd0048e9e8d"
      },
      "source": [
        "import pandas as pd\n",
        "import numpy as np\n",
        "import matplotlib.pyplot as plt\n",
        "import seaborn as sns"
      ],
      "execution_count": 1,
      "outputs": [
        {
          "output_type": "stream",
          "text": [
            "/usr/local/lib/python3.6/dist-packages/statsmodels/tools/_testing.py:19: FutureWarning: pandas.util.testing is deprecated. Use the functions in the public API at pandas.testing instead.\n",
            "  import pandas.util.testing as tm\n"
          ],
          "name": "stderr"
        }
      ]
    },
    {
      "cell_type": "code",
      "metadata": {
        "id": "XOFvyv02FPhr",
        "colab_type": "code",
        "colab": {}
      },
      "source": [
        "PATH = \"drive/My Drive/FoodDemandForecasting/\""
      ],
      "execution_count": 0,
      "outputs": []
    },
    {
      "cell_type": "code",
      "metadata": {
        "id": "YD_dyKvzFZgV",
        "colab_type": "code",
        "colab": {}
      },
      "source": [
        "train = pd.read_csv(f'{PATH}train.csv')\n",
        "meal_info = pd.read_csv(f'{PATH}meal_info.csv')\n",
        "fulfillment = pd.read_csv(f'{PATH}fulfilment_center_info.csv')\n",
        "test = pd.read_csv(f'{PATH}test_QoiMO9B.csv')\n",
        "submission = pd.read_csv(f'{PATH}sample_submission_hSlSoT6.csv')"
      ],
      "execution_count": 0,
      "outputs": []
    },
    {
      "cell_type": "markdown",
      "metadata": {
        "id": "kZWwTeCWGN7M",
        "colab_type": "text"
      },
      "source": [
        "## Data Preparation"
      ]
    },
    {
      "cell_type": "code",
      "metadata": {
        "id": "csH4WD_SOwbe",
        "colab_type": "code",
        "outputId": "80b1b7eb-0f84-4a06-9b02-9f5867f6c53e",
        "colab": {
          "base_uri": "https://localhost:8080/",
          "height": 195
        }
      },
      "source": [
        "train.head()"
      ],
      "execution_count": 0,
      "outputs": [
        {
          "output_type": "execute_result",
          "data": {
            "text/html": [
              "<div>\n",
              "<style scoped>\n",
              "    .dataframe tbody tr th:only-of-type {\n",
              "        vertical-align: middle;\n",
              "    }\n",
              "\n",
              "    .dataframe tbody tr th {\n",
              "        vertical-align: top;\n",
              "    }\n",
              "\n",
              "    .dataframe thead th {\n",
              "        text-align: right;\n",
              "    }\n",
              "</style>\n",
              "<table border=\"1\" class=\"dataframe\">\n",
              "  <thead>\n",
              "    <tr style=\"text-align: right;\">\n",
              "      <th></th>\n",
              "      <th>id</th>\n",
              "      <th>week</th>\n",
              "      <th>center_id</th>\n",
              "      <th>meal_id</th>\n",
              "      <th>checkout_price</th>\n",
              "      <th>base_price</th>\n",
              "      <th>emailer_for_promotion</th>\n",
              "      <th>homepage_featured</th>\n",
              "      <th>num_orders</th>\n",
              "    </tr>\n",
              "  </thead>\n",
              "  <tbody>\n",
              "    <tr>\n",
              "      <th>0</th>\n",
              "      <td>1379560</td>\n",
              "      <td>1</td>\n",
              "      <td>55</td>\n",
              "      <td>1885</td>\n",
              "      <td>136.83</td>\n",
              "      <td>152.29</td>\n",
              "      <td>0</td>\n",
              "      <td>0</td>\n",
              "      <td>177</td>\n",
              "    </tr>\n",
              "    <tr>\n",
              "      <th>1</th>\n",
              "      <td>1466964</td>\n",
              "      <td>1</td>\n",
              "      <td>55</td>\n",
              "      <td>1993</td>\n",
              "      <td>136.83</td>\n",
              "      <td>135.83</td>\n",
              "      <td>0</td>\n",
              "      <td>0</td>\n",
              "      <td>270</td>\n",
              "    </tr>\n",
              "    <tr>\n",
              "      <th>2</th>\n",
              "      <td>1346989</td>\n",
              "      <td>1</td>\n",
              "      <td>55</td>\n",
              "      <td>2539</td>\n",
              "      <td>134.86</td>\n",
              "      <td>135.86</td>\n",
              "      <td>0</td>\n",
              "      <td>0</td>\n",
              "      <td>189</td>\n",
              "    </tr>\n",
              "    <tr>\n",
              "      <th>3</th>\n",
              "      <td>1338232</td>\n",
              "      <td>1</td>\n",
              "      <td>55</td>\n",
              "      <td>2139</td>\n",
              "      <td>339.50</td>\n",
              "      <td>437.53</td>\n",
              "      <td>0</td>\n",
              "      <td>0</td>\n",
              "      <td>54</td>\n",
              "    </tr>\n",
              "    <tr>\n",
              "      <th>4</th>\n",
              "      <td>1448490</td>\n",
              "      <td>1</td>\n",
              "      <td>55</td>\n",
              "      <td>2631</td>\n",
              "      <td>243.50</td>\n",
              "      <td>242.50</td>\n",
              "      <td>0</td>\n",
              "      <td>0</td>\n",
              "      <td>40</td>\n",
              "    </tr>\n",
              "  </tbody>\n",
              "</table>\n",
              "</div>"
            ],
            "text/plain": [
              "        id  week  ...  homepage_featured  num_orders\n",
              "0  1379560     1  ...                  0         177\n",
              "1  1466964     1  ...                  0         270\n",
              "2  1346989     1  ...                  0         189\n",
              "3  1338232     1  ...                  0          54\n",
              "4  1448490     1  ...                  0          40\n",
              "\n",
              "[5 rows x 9 columns]"
            ]
          },
          "metadata": {
            "tags": []
          },
          "execution_count": 4
        }
      ]
    },
    {
      "cell_type": "code",
      "metadata": {
        "id": "Q3qlJbXgPmwr",
        "colab_type": "code",
        "outputId": "31ec3f11-7273-46bd-c80f-0efb4529a7e1",
        "colab": {
          "base_uri": "https://localhost:8080/",
          "height": 195
        }
      },
      "source": [
        "meal_info.head()"
      ],
      "execution_count": 0,
      "outputs": [
        {
          "output_type": "execute_result",
          "data": {
            "text/html": [
              "<div>\n",
              "<style scoped>\n",
              "    .dataframe tbody tr th:only-of-type {\n",
              "        vertical-align: middle;\n",
              "    }\n",
              "\n",
              "    .dataframe tbody tr th {\n",
              "        vertical-align: top;\n",
              "    }\n",
              "\n",
              "    .dataframe thead th {\n",
              "        text-align: right;\n",
              "    }\n",
              "</style>\n",
              "<table border=\"1\" class=\"dataframe\">\n",
              "  <thead>\n",
              "    <tr style=\"text-align: right;\">\n",
              "      <th></th>\n",
              "      <th>meal_id</th>\n",
              "      <th>category</th>\n",
              "      <th>cuisine</th>\n",
              "    </tr>\n",
              "  </thead>\n",
              "  <tbody>\n",
              "    <tr>\n",
              "      <th>0</th>\n",
              "      <td>1885</td>\n",
              "      <td>Beverages</td>\n",
              "      <td>Thai</td>\n",
              "    </tr>\n",
              "    <tr>\n",
              "      <th>1</th>\n",
              "      <td>1993</td>\n",
              "      <td>Beverages</td>\n",
              "      <td>Thai</td>\n",
              "    </tr>\n",
              "    <tr>\n",
              "      <th>2</th>\n",
              "      <td>2539</td>\n",
              "      <td>Beverages</td>\n",
              "      <td>Thai</td>\n",
              "    </tr>\n",
              "    <tr>\n",
              "      <th>3</th>\n",
              "      <td>1248</td>\n",
              "      <td>Beverages</td>\n",
              "      <td>Indian</td>\n",
              "    </tr>\n",
              "    <tr>\n",
              "      <th>4</th>\n",
              "      <td>2631</td>\n",
              "      <td>Beverages</td>\n",
              "      <td>Indian</td>\n",
              "    </tr>\n",
              "  </tbody>\n",
              "</table>\n",
              "</div>"
            ],
            "text/plain": [
              "   meal_id   category cuisine\n",
              "0     1885  Beverages    Thai\n",
              "1     1993  Beverages    Thai\n",
              "2     2539  Beverages    Thai\n",
              "3     1248  Beverages  Indian\n",
              "4     2631  Beverages  Indian"
            ]
          },
          "metadata": {
            "tags": []
          },
          "execution_count": 5
        }
      ]
    },
    {
      "cell_type": "code",
      "metadata": {
        "id": "opk9x1AnPn3E",
        "colab_type": "code",
        "outputId": "864c265e-d668-4dce-d505-8cd25c9e2281",
        "colab": {
          "base_uri": "https://localhost:8080/",
          "height": 195
        }
      },
      "source": [
        "fulfillment.head()"
      ],
      "execution_count": 0,
      "outputs": [
        {
          "output_type": "execute_result",
          "data": {
            "text/html": [
              "<div>\n",
              "<style scoped>\n",
              "    .dataframe tbody tr th:only-of-type {\n",
              "        vertical-align: middle;\n",
              "    }\n",
              "\n",
              "    .dataframe tbody tr th {\n",
              "        vertical-align: top;\n",
              "    }\n",
              "\n",
              "    .dataframe thead th {\n",
              "        text-align: right;\n",
              "    }\n",
              "</style>\n",
              "<table border=\"1\" class=\"dataframe\">\n",
              "  <thead>\n",
              "    <tr style=\"text-align: right;\">\n",
              "      <th></th>\n",
              "      <th>center_id</th>\n",
              "      <th>city_code</th>\n",
              "      <th>region_code</th>\n",
              "      <th>center_type</th>\n",
              "      <th>op_area</th>\n",
              "    </tr>\n",
              "  </thead>\n",
              "  <tbody>\n",
              "    <tr>\n",
              "      <th>0</th>\n",
              "      <td>11</td>\n",
              "      <td>679</td>\n",
              "      <td>56</td>\n",
              "      <td>TYPE_A</td>\n",
              "      <td>3.7</td>\n",
              "    </tr>\n",
              "    <tr>\n",
              "      <th>1</th>\n",
              "      <td>13</td>\n",
              "      <td>590</td>\n",
              "      <td>56</td>\n",
              "      <td>TYPE_B</td>\n",
              "      <td>6.7</td>\n",
              "    </tr>\n",
              "    <tr>\n",
              "      <th>2</th>\n",
              "      <td>124</td>\n",
              "      <td>590</td>\n",
              "      <td>56</td>\n",
              "      <td>TYPE_C</td>\n",
              "      <td>4.0</td>\n",
              "    </tr>\n",
              "    <tr>\n",
              "      <th>3</th>\n",
              "      <td>66</td>\n",
              "      <td>648</td>\n",
              "      <td>34</td>\n",
              "      <td>TYPE_A</td>\n",
              "      <td>4.1</td>\n",
              "    </tr>\n",
              "    <tr>\n",
              "      <th>4</th>\n",
              "      <td>94</td>\n",
              "      <td>632</td>\n",
              "      <td>34</td>\n",
              "      <td>TYPE_C</td>\n",
              "      <td>3.6</td>\n",
              "    </tr>\n",
              "  </tbody>\n",
              "</table>\n",
              "</div>"
            ],
            "text/plain": [
              "   center_id  city_code  region_code center_type  op_area\n",
              "0         11        679           56      TYPE_A      3.7\n",
              "1         13        590           56      TYPE_B      6.7\n",
              "2        124        590           56      TYPE_C      4.0\n",
              "3         66        648           34      TYPE_A      4.1\n",
              "4         94        632           34      TYPE_C      3.6"
            ]
          },
          "metadata": {
            "tags": []
          },
          "execution_count": 6
        }
      ]
    },
    {
      "cell_type": "code",
      "metadata": {
        "id": "mAjp8OvNPqhd",
        "colab_type": "code",
        "colab": {}
      },
      "source": [
        "train_meal = pd.merge(train,meal_info,how=\"inner\",on=\"meal_id\")\n",
        "train_df = pd.merge(train_meal,fulfillment,on=\"center_id\",how=\"inner\")"
      ],
      "execution_count": 0,
      "outputs": []
    },
    {
      "cell_type": "code",
      "metadata": {
        "id": "R-DT6Ad7QrCN",
        "colab_type": "code",
        "outputId": "61575d5a-800c-4ade-ad5d-9ae788d771fa",
        "colab": {
          "base_uri": "https://localhost:8080/",
          "height": 34
        }
      },
      "source": [
        "train_df.shape"
      ],
      "execution_count": 0,
      "outputs": [
        {
          "output_type": "execute_result",
          "data": {
            "text/plain": [
              "(456548, 15)"
            ]
          },
          "metadata": {
            "tags": []
          },
          "execution_count": 8
        }
      ]
    },
    {
      "cell_type": "code",
      "metadata": {
        "id": "I6yBWAykQskj",
        "colab_type": "code",
        "outputId": "2c679585-7e20-461a-cf6f-321f0a8b662e",
        "colab": {
          "base_uri": "https://localhost:8080/",
          "height": 34
        }
      },
      "source": [
        "train.shape"
      ],
      "execution_count": 0,
      "outputs": [
        {
          "output_type": "execute_result",
          "data": {
            "text/plain": [
              "(456548, 9)"
            ]
          },
          "metadata": {
            "tags": []
          },
          "execution_count": 9
        }
      ]
    },
    {
      "cell_type": "code",
      "metadata": {
        "id": "nbFHZwH68Cmo",
        "colab_type": "code",
        "colab": {}
      },
      "source": [
        "test_meal = pd.merge(test,meal_info,how=\"inner\",on=\"meal_id\")\n",
        "test_df = pd.merge(test_meal,fulfillment,on=\"center_id\",how=\"inner\")"
      ],
      "execution_count": 0,
      "outputs": []
    },
    {
      "cell_type": "code",
      "metadata": {
        "id": "HBwq6TH-8OWQ",
        "colab_type": "code",
        "outputId": "e4e99fe3-e972-4e8d-8b33-3d21d7226565",
        "colab": {
          "base_uri": "https://localhost:8080/",
          "height": 34
        }
      },
      "source": [
        "test.shape"
      ],
      "execution_count": 0,
      "outputs": [
        {
          "output_type": "execute_result",
          "data": {
            "text/plain": [
              "(32573, 8)"
            ]
          },
          "metadata": {
            "tags": []
          },
          "execution_count": 11
        }
      ]
    },
    {
      "cell_type": "code",
      "metadata": {
        "id": "wNxdgd4Q8Qp_",
        "colab_type": "code",
        "outputId": "ff9fede8-157e-43bc-8aa1-83c36f7b692a",
        "colab": {
          "base_uri": "https://localhost:8080/",
          "height": 34
        }
      },
      "source": [
        "test_df.shape"
      ],
      "execution_count": 0,
      "outputs": [
        {
          "output_type": "execute_result",
          "data": {
            "text/plain": [
              "(32573, 14)"
            ]
          },
          "metadata": {
            "tags": []
          },
          "execution_count": 12
        }
      ]
    },
    {
      "cell_type": "code",
      "metadata": {
        "id": "-Fxxb9iP9XnA",
        "colab_type": "code",
        "colab": {}
      },
      "source": [
        "## since the evaluation is based on RMSLE ,\n",
        "#train_df['num_orders'] = np.log(train_df['num_orders']) + 1"
      ],
      "execution_count": 0,
      "outputs": []
    },
    {
      "cell_type": "code",
      "metadata": {
        "id": "Mmq2tVXsQtle",
        "colab_type": "code",
        "colab": {}
      },
      "source": [
        "train_df_main = train_df.copy()\n",
        "test_df_main = test_df.copy()"
      ],
      "execution_count": 0,
      "outputs": []
    },
    {
      "cell_type": "code",
      "metadata": {
        "id": "8GB4I3U34w3l",
        "colab_type": "code",
        "colab": {}
      },
      "source": [
        "def rmsle(x,y):\n",
        "  return np.sqrt(((x-y) ** 2).mean())\n",
        "\n",
        "def print_score(m):\n",
        "  print(\"RMSE train,RMSE valid,score train,score valid\")\n",
        "  all_metrics = [rmsle(m.predict(X_train),y_train), rmsle(m.predict(X_valid),y_valid),\n",
        "                 m.score(X_train,y_train),m.score(X_valid,y_valid)]\n",
        "  if hasattr(m,\"oob_score_\"):\n",
        "    all_metrics.append(m.oob_score_)\n",
        "  return all_metrics "
      ],
      "execution_count": 0,
      "outputs": []
    },
    {
      "cell_type": "markdown",
      "metadata": {
        "id": "_u0FQ4c2li9e",
        "colab_type": "text"
      },
      "source": [
        "## Feature engineering"
      ]
    },
    {
      "cell_type": "code",
      "metadata": {
        "id": "G9VXF2Z6lk7P",
        "colab_type": "code",
        "outputId": "42101b34-7a8c-4ea4-d199-ed4c722a0f6a",
        "colab": {
          "base_uri": "https://localhost:8080/",
          "height": 215
        }
      },
      "source": [
        "train_df.head()"
      ],
      "execution_count": 0,
      "outputs": [
        {
          "output_type": "execute_result",
          "data": {
            "text/html": [
              "<div>\n",
              "<style scoped>\n",
              "    .dataframe tbody tr th:only-of-type {\n",
              "        vertical-align: middle;\n",
              "    }\n",
              "\n",
              "    .dataframe tbody tr th {\n",
              "        vertical-align: top;\n",
              "    }\n",
              "\n",
              "    .dataframe thead th {\n",
              "        text-align: right;\n",
              "    }\n",
              "</style>\n",
              "<table border=\"1\" class=\"dataframe\">\n",
              "  <thead>\n",
              "    <tr style=\"text-align: right;\">\n",
              "      <th></th>\n",
              "      <th>id</th>\n",
              "      <th>week</th>\n",
              "      <th>center_id</th>\n",
              "      <th>meal_id</th>\n",
              "      <th>checkout_price</th>\n",
              "      <th>base_price</th>\n",
              "      <th>emailer_for_promotion</th>\n",
              "      <th>homepage_featured</th>\n",
              "      <th>num_orders</th>\n",
              "      <th>category</th>\n",
              "      <th>cuisine</th>\n",
              "      <th>city_code</th>\n",
              "      <th>region_code</th>\n",
              "      <th>center_type</th>\n",
              "      <th>op_area</th>\n",
              "    </tr>\n",
              "  </thead>\n",
              "  <tbody>\n",
              "    <tr>\n",
              "      <th>0</th>\n",
              "      <td>1379560</td>\n",
              "      <td>1</td>\n",
              "      <td>55</td>\n",
              "      <td>1885</td>\n",
              "      <td>136.83</td>\n",
              "      <td>152.29</td>\n",
              "      <td>0</td>\n",
              "      <td>0</td>\n",
              "      <td>177</td>\n",
              "      <td>Beverages</td>\n",
              "      <td>Thai</td>\n",
              "      <td>647</td>\n",
              "      <td>56</td>\n",
              "      <td>TYPE_C</td>\n",
              "      <td>2.0</td>\n",
              "    </tr>\n",
              "    <tr>\n",
              "      <th>1</th>\n",
              "      <td>1018704</td>\n",
              "      <td>2</td>\n",
              "      <td>55</td>\n",
              "      <td>1885</td>\n",
              "      <td>135.83</td>\n",
              "      <td>152.29</td>\n",
              "      <td>0</td>\n",
              "      <td>0</td>\n",
              "      <td>323</td>\n",
              "      <td>Beverages</td>\n",
              "      <td>Thai</td>\n",
              "      <td>647</td>\n",
              "      <td>56</td>\n",
              "      <td>TYPE_C</td>\n",
              "      <td>2.0</td>\n",
              "    </tr>\n",
              "    <tr>\n",
              "      <th>2</th>\n",
              "      <td>1196273</td>\n",
              "      <td>3</td>\n",
              "      <td>55</td>\n",
              "      <td>1885</td>\n",
              "      <td>132.92</td>\n",
              "      <td>133.92</td>\n",
              "      <td>0</td>\n",
              "      <td>0</td>\n",
              "      <td>96</td>\n",
              "      <td>Beverages</td>\n",
              "      <td>Thai</td>\n",
              "      <td>647</td>\n",
              "      <td>56</td>\n",
              "      <td>TYPE_C</td>\n",
              "      <td>2.0</td>\n",
              "    </tr>\n",
              "    <tr>\n",
              "      <th>3</th>\n",
              "      <td>1116527</td>\n",
              "      <td>4</td>\n",
              "      <td>55</td>\n",
              "      <td>1885</td>\n",
              "      <td>135.86</td>\n",
              "      <td>134.86</td>\n",
              "      <td>0</td>\n",
              "      <td>0</td>\n",
              "      <td>163</td>\n",
              "      <td>Beverages</td>\n",
              "      <td>Thai</td>\n",
              "      <td>647</td>\n",
              "      <td>56</td>\n",
              "      <td>TYPE_C</td>\n",
              "      <td>2.0</td>\n",
              "    </tr>\n",
              "    <tr>\n",
              "      <th>4</th>\n",
              "      <td>1343872</td>\n",
              "      <td>5</td>\n",
              "      <td>55</td>\n",
              "      <td>1885</td>\n",
              "      <td>146.50</td>\n",
              "      <td>147.50</td>\n",
              "      <td>0</td>\n",
              "      <td>0</td>\n",
              "      <td>215</td>\n",
              "      <td>Beverages</td>\n",
              "      <td>Thai</td>\n",
              "      <td>647</td>\n",
              "      <td>56</td>\n",
              "      <td>TYPE_C</td>\n",
              "      <td>2.0</td>\n",
              "    </tr>\n",
              "  </tbody>\n",
              "</table>\n",
              "</div>"
            ],
            "text/plain": [
              "        id  week  center_id  ...  region_code  center_type  op_area\n",
              "0  1379560     1         55  ...           56       TYPE_C      2.0\n",
              "1  1018704     2         55  ...           56       TYPE_C      2.0\n",
              "2  1196273     3         55  ...           56       TYPE_C      2.0\n",
              "3  1116527     4         55  ...           56       TYPE_C      2.0\n",
              "4  1343872     5         55  ...           56       TYPE_C      2.0\n",
              "\n",
              "[5 rows x 15 columns]"
            ]
          },
          "metadata": {
            "tags": []
          },
          "execution_count": 16
        }
      ]
    },
    {
      "cell_type": "code",
      "metadata": {
        "id": "xuqAX-WxlrJ5",
        "colab_type": "code",
        "colab": {}
      },
      "source": [
        "train_df['month'] = train_df['week'].apply(lambda x: int(x/4))\n",
        "train_df['year'] = train_df['week'].apply(lambda x: int(x/52))\n",
        "train_df['quarter'] = train_df['week'].apply(lambda x: int(x/13))\n",
        "\n",
        "test_df['month'] = test_df['week'].apply(lambda x: int(x/4))\n",
        "test_df['year'] = test_df['week'].apply(lambda x: int(x/52))\n",
        "test_df['quarter'] = test_df['week'].apply(lambda x: int(x/13))"
      ],
      "execution_count": 0,
      "outputs": []
    },
    {
      "cell_type": "code",
      "metadata": {
        "id": "PpBZxjLlozPe",
        "colab_type": "code",
        "colab": {}
      },
      "source": [
        "train_df['checkout_per_base'] = train_df['checkout_price'] / train_df['base_price']\n",
        "test_df['checkout_per_base'] = test_df['checkout_price'] / test_df['base_price']"
      ],
      "execution_count": 0,
      "outputs": []
    },
    {
      "cell_type": "code",
      "metadata": {
        "id": "4EW-WZIbpRd3",
        "colab_type": "code",
        "colab": {}
      },
      "source": [
        "train_df['category_cuisine'] = train_df['cuisine'] +\"_\"+ train_df['category']\n",
        "test_df['category_cuisine'] = test_df['cuisine'] +\"_\"+ test_df['category']"
      ],
      "execution_count": 0,
      "outputs": []
    },
    {
      "cell_type": "code",
      "metadata": {
        "id": "HrY6QHdrpz-u",
        "colab_type": "code",
        "outputId": "7db0a395-dbe6-4951-88a3-d818eedbedce",
        "colab": {
          "base_uri": "https://localhost:8080/",
          "height": 319
        }
      },
      "source": [
        "train_df['category_cuisine'].value_counts()"
      ],
      "execution_count": 0,
      "outputs": [
        {
          "output_type": "execute_result",
          "data": {
            "text/plain": [
              "Indian_Rice Bowl         33408\n",
              "Italian_Beverages        33381\n",
              "Italian_Sandwich         33291\n",
              "Continental_Pizza        33138\n",
              "Thai_Beverages           32659\n",
              "Continental_Beverages    32554\n",
              "Thai_Starters            29941\n",
              "Thai_Other Snacks        29379\n",
              "Indian_Beverages         29296\n",
              "Indian_Desert            29294\n",
              "Italian_Salad            28559\n",
              "Italian_Pasta            27694\n",
              "Continental_Seafood      26916\n",
              "Indian_Biryani           20614\n",
              "Thai_Extras              13562\n",
              "Thai_Soup                12675\n",
              "Continental_Fish         10187\n",
              "Name: category_cuisine, dtype: int64"
            ]
          },
          "metadata": {
            "tags": []
          },
          "execution_count": 20
        }
      ]
    },
    {
      "cell_type": "code",
      "metadata": {
        "id": "ghhEOh4dqDBS",
        "colab_type": "code",
        "outputId": "ad788b9a-9364-43af-c87b-a66b3b796b16",
        "colab": {
          "base_uri": "https://localhost:8080/",
          "height": 541
        }
      },
      "source": [
        "train_df.corr()"
      ],
      "execution_count": 0,
      "outputs": [
        {
          "output_type": "execute_result",
          "data": {
            "text/html": [
              "<div>\n",
              "<style scoped>\n",
              "    .dataframe tbody tr th:only-of-type {\n",
              "        vertical-align: middle;\n",
              "    }\n",
              "\n",
              "    .dataframe tbody tr th {\n",
              "        vertical-align: top;\n",
              "    }\n",
              "\n",
              "    .dataframe thead th {\n",
              "        text-align: right;\n",
              "    }\n",
              "</style>\n",
              "<table border=\"1\" class=\"dataframe\">\n",
              "  <thead>\n",
              "    <tr style=\"text-align: right;\">\n",
              "      <th></th>\n",
              "      <th>id</th>\n",
              "      <th>week</th>\n",
              "      <th>center_id</th>\n",
              "      <th>meal_id</th>\n",
              "      <th>checkout_price</th>\n",
              "      <th>base_price</th>\n",
              "      <th>emailer_for_promotion</th>\n",
              "      <th>homepage_featured</th>\n",
              "      <th>num_orders</th>\n",
              "      <th>city_code</th>\n",
              "      <th>region_code</th>\n",
              "      <th>op_area</th>\n",
              "      <th>month</th>\n",
              "      <th>year</th>\n",
              "      <th>quarter</th>\n",
              "      <th>checkout_per_base</th>\n",
              "    </tr>\n",
              "  </thead>\n",
              "  <tbody>\n",
              "    <tr>\n",
              "      <th>id</th>\n",
              "      <td>1.000000</td>\n",
              "      <td>0.002225</td>\n",
              "      <td>0.002641</td>\n",
              "      <td>0.000488</td>\n",
              "      <td>0.001941</td>\n",
              "      <td>0.002909</td>\n",
              "      <td>0.002001</td>\n",
              "      <td>0.003111</td>\n",
              "      <td>0.000702</td>\n",
              "      <td>-0.000387</td>\n",
              "      <td>-0.000648</td>\n",
              "      <td>-0.000090</td>\n",
              "      <td>0.002220</td>\n",
              "      <td>0.001454</td>\n",
              "      <td>0.002130</td>\n",
              "      <td>-0.002910</td>\n",
              "    </tr>\n",
              "    <tr>\n",
              "      <th>week</th>\n",
              "      <td>0.002225</td>\n",
              "      <td>1.000000</td>\n",
              "      <td>-0.003450</td>\n",
              "      <td>0.019814</td>\n",
              "      <td>0.026581</td>\n",
              "      <td>0.028614</td>\n",
              "      <td>-0.000841</td>\n",
              "      <td>-0.008263</td>\n",
              "      <td>-0.017210</td>\n",
              "      <td>0.000405</td>\n",
              "      <td>0.004600</td>\n",
              "      <td>0.001550</td>\n",
              "      <td>0.999640</td>\n",
              "      <td>0.940404</td>\n",
              "      <td>0.995927</td>\n",
              "      <td>0.017437</td>\n",
              "    </tr>\n",
              "    <tr>\n",
              "      <th>center_id</th>\n",
              "      <td>0.002641</td>\n",
              "      <td>-0.003450</td>\n",
              "      <td>1.000000</td>\n",
              "      <td>0.009893</td>\n",
              "      <td>0.001348</td>\n",
              "      <td>0.000604</td>\n",
              "      <td>0.013658</td>\n",
              "      <td>-0.005043</td>\n",
              "      <td>-0.053035</td>\n",
              "      <td>0.061078</td>\n",
              "      <td>-0.003426</td>\n",
              "      <td>-0.111869</td>\n",
              "      <td>-0.003453</td>\n",
              "      <td>-0.002844</td>\n",
              "      <td>-0.003508</td>\n",
              "      <td>0.005302</td>\n",
              "    </tr>\n",
              "    <tr>\n",
              "      <th>meal_id</th>\n",
              "      <td>0.000488</td>\n",
              "      <td>0.019814</td>\n",
              "      <td>0.009893</td>\n",
              "      <td>1.000000</td>\n",
              "      <td>0.010748</td>\n",
              "      <td>0.002605</td>\n",
              "      <td>0.013402</td>\n",
              "      <td>0.016354</td>\n",
              "      <td>0.010597</td>\n",
              "      <td>-0.003198</td>\n",
              "      <td>-0.001662</td>\n",
              "      <td>-0.001546</td>\n",
              "      <td>0.019776</td>\n",
              "      <td>0.016642</td>\n",
              "      <td>0.019752</td>\n",
              "      <td>0.045715</td>\n",
              "    </tr>\n",
              "    <tr>\n",
              "      <th>checkout_price</th>\n",
              "      <td>0.001941</td>\n",
              "      <td>0.026581</td>\n",
              "      <td>0.001348</td>\n",
              "      <td>0.010748</td>\n",
              "      <td>1.000000</td>\n",
              "      <td>0.953389</td>\n",
              "      <td>0.004818</td>\n",
              "      <td>-0.057184</td>\n",
              "      <td>-0.282108</td>\n",
              "      <td>-0.004805</td>\n",
              "      <td>-0.003648</td>\n",
              "      <td>0.021569</td>\n",
              "      <td>0.026652</td>\n",
              "      <td>0.027494</td>\n",
              "      <td>0.026615</td>\n",
              "      <td>0.185213</td>\n",
              "    </tr>\n",
              "    <tr>\n",
              "      <th>base_price</th>\n",
              "      <td>0.002909</td>\n",
              "      <td>0.028614</td>\n",
              "      <td>0.000604</td>\n",
              "      <td>0.002605</td>\n",
              "      <td>0.953389</td>\n",
              "      <td>1.000000</td>\n",
              "      <td>0.171173</td>\n",
              "      <td>0.057156</td>\n",
              "      <td>-0.222306</td>\n",
              "      <td>-0.002054</td>\n",
              "      <td>-0.001934</td>\n",
              "      <td>0.018031</td>\n",
              "      <td>0.028598</td>\n",
              "      <td>0.029464</td>\n",
              "      <td>0.028580</td>\n",
              "      <td>-0.090994</td>\n",
              "    </tr>\n",
              "    <tr>\n",
              "      <th>emailer_for_promotion</th>\n",
              "      <td>0.002001</td>\n",
              "      <td>-0.000841</td>\n",
              "      <td>0.013658</td>\n",
              "      <td>0.013402</td>\n",
              "      <td>0.004818</td>\n",
              "      <td>0.171173</td>\n",
              "      <td>1.000000</td>\n",
              "      <td>0.390534</td>\n",
              "      <td>0.277147</td>\n",
              "      <td>-0.005234</td>\n",
              "      <td>-0.007462</td>\n",
              "      <td>-0.019462</td>\n",
              "      <td>-0.000605</td>\n",
              "      <td>0.004931</td>\n",
              "      <td>-0.001216</td>\n",
              "      <td>-0.477564</td>\n",
              "    </tr>\n",
              "    <tr>\n",
              "      <th>homepage_featured</th>\n",
              "      <td>0.003111</td>\n",
              "      <td>-0.008263</td>\n",
              "      <td>-0.005043</td>\n",
              "      <td>0.016354</td>\n",
              "      <td>-0.057184</td>\n",
              "      <td>0.057156</td>\n",
              "      <td>0.390534</td>\n",
              "      <td>1.000000</td>\n",
              "      <td>0.294490</td>\n",
              "      <td>0.008640</td>\n",
              "      <td>0.003605</td>\n",
              "      <td>0.041498</td>\n",
              "      <td>-0.008308</td>\n",
              "      <td>0.006089</td>\n",
              "      <td>-0.007722</td>\n",
              "      <td>-0.338011</td>\n",
              "    </tr>\n",
              "    <tr>\n",
              "      <th>num_orders</th>\n",
              "      <td>0.000702</td>\n",
              "      <td>-0.017210</td>\n",
              "      <td>-0.053035</td>\n",
              "      <td>0.010597</td>\n",
              "      <td>-0.282108</td>\n",
              "      <td>-0.222306</td>\n",
              "      <td>0.277147</td>\n",
              "      <td>0.294490</td>\n",
              "      <td>1.000000</td>\n",
              "      <td>0.041596</td>\n",
              "      <td>0.029744</td>\n",
              "      <td>0.176976</td>\n",
              "      <td>-0.017024</td>\n",
              "      <td>-0.013514</td>\n",
              "      <td>-0.017029</td>\n",
              "      <td>-0.205188</td>\n",
              "    </tr>\n",
              "    <tr>\n",
              "      <th>city_code</th>\n",
              "      <td>-0.000387</td>\n",
              "      <td>0.000405</td>\n",
              "      <td>0.061078</td>\n",
              "      <td>-0.003198</td>\n",
              "      <td>-0.004805</td>\n",
              "      <td>-0.002054</td>\n",
              "      <td>-0.005234</td>\n",
              "      <td>0.008640</td>\n",
              "      <td>0.041596</td>\n",
              "      <td>1.000000</td>\n",
              "      <td>0.042686</td>\n",
              "      <td>0.131476</td>\n",
              "      <td>0.000392</td>\n",
              "      <td>0.000731</td>\n",
              "      <td>0.000483</td>\n",
              "      <td>-0.011755</td>\n",
              "    </tr>\n",
              "    <tr>\n",
              "      <th>region_code</th>\n",
              "      <td>-0.000648</td>\n",
              "      <td>0.004600</td>\n",
              "      <td>-0.003426</td>\n",
              "      <td>-0.001662</td>\n",
              "      <td>-0.003648</td>\n",
              "      <td>-0.001934</td>\n",
              "      <td>-0.007462</td>\n",
              "      <td>0.003605</td>\n",
              "      <td>0.029744</td>\n",
              "      <td>0.042686</td>\n",
              "      <td>1.000000</td>\n",
              "      <td>0.023327</td>\n",
              "      <td>0.004592</td>\n",
              "      <td>0.004036</td>\n",
              "      <td>0.004677</td>\n",
              "      <td>-0.008082</td>\n",
              "    </tr>\n",
              "    <tr>\n",
              "      <th>op_area</th>\n",
              "      <td>-0.000090</td>\n",
              "      <td>0.001550</td>\n",
              "      <td>-0.111869</td>\n",
              "      <td>-0.001546</td>\n",
              "      <td>0.021569</td>\n",
              "      <td>0.018031</td>\n",
              "      <td>-0.019462</td>\n",
              "      <td>0.041498</td>\n",
              "      <td>0.176976</td>\n",
              "      <td>0.131476</td>\n",
              "      <td>0.023327</td>\n",
              "      <td>1.000000</td>\n",
              "      <td>0.001553</td>\n",
              "      <td>0.001473</td>\n",
              "      <td>0.001451</td>\n",
              "      <td>0.008919</td>\n",
              "    </tr>\n",
              "    <tr>\n",
              "      <th>month</th>\n",
              "      <td>0.002220</td>\n",
              "      <td>0.999640</td>\n",
              "      <td>-0.003453</td>\n",
              "      <td>0.019776</td>\n",
              "      <td>0.026652</td>\n",
              "      <td>0.028598</td>\n",
              "      <td>-0.000605</td>\n",
              "      <td>-0.008308</td>\n",
              "      <td>-0.017024</td>\n",
              "      <td>0.000392</td>\n",
              "      <td>0.004592</td>\n",
              "      <td>0.001553</td>\n",
              "      <td>1.000000</td>\n",
              "      <td>0.940519</td>\n",
              "      <td>0.995509</td>\n",
              "      <td>0.017539</td>\n",
              "    </tr>\n",
              "    <tr>\n",
              "      <th>year</th>\n",
              "      <td>0.001454</td>\n",
              "      <td>0.940404</td>\n",
              "      <td>-0.002844</td>\n",
              "      <td>0.016642</td>\n",
              "      <td>0.027494</td>\n",
              "      <td>0.029464</td>\n",
              "      <td>0.004931</td>\n",
              "      <td>0.006089</td>\n",
              "      <td>-0.013514</td>\n",
              "      <td>0.000731</td>\n",
              "      <td>0.004036</td>\n",
              "      <td>0.001473</td>\n",
              "      <td>0.940519</td>\n",
              "      <td>1.000000</td>\n",
              "      <td>0.942948</td>\n",
              "      <td>0.015799</td>\n",
              "    </tr>\n",
              "    <tr>\n",
              "      <th>quarter</th>\n",
              "      <td>0.002130</td>\n",
              "      <td>0.995927</td>\n",
              "      <td>-0.003508</td>\n",
              "      <td>0.019752</td>\n",
              "      <td>0.026615</td>\n",
              "      <td>0.028580</td>\n",
              "      <td>-0.001216</td>\n",
              "      <td>-0.007722</td>\n",
              "      <td>-0.017029</td>\n",
              "      <td>0.000483</td>\n",
              "      <td>0.004677</td>\n",
              "      <td>0.001451</td>\n",
              "      <td>0.995509</td>\n",
              "      <td>0.942948</td>\n",
              "      <td>1.000000</td>\n",
              "      <td>0.017332</td>\n",
              "    </tr>\n",
              "    <tr>\n",
              "      <th>checkout_per_base</th>\n",
              "      <td>-0.002910</td>\n",
              "      <td>0.017437</td>\n",
              "      <td>0.005302</td>\n",
              "      <td>0.045715</td>\n",
              "      <td>0.185213</td>\n",
              "      <td>-0.090994</td>\n",
              "      <td>-0.477564</td>\n",
              "      <td>-0.338011</td>\n",
              "      <td>-0.205188</td>\n",
              "      <td>-0.011755</td>\n",
              "      <td>-0.008082</td>\n",
              "      <td>0.008919</td>\n",
              "      <td>0.017539</td>\n",
              "      <td>0.015799</td>\n",
              "      <td>0.017332</td>\n",
              "      <td>1.000000</td>\n",
              "    </tr>\n",
              "  </tbody>\n",
              "</table>\n",
              "</div>"
            ],
            "text/plain": [
              "                             id      week  ...   quarter  checkout_per_base\n",
              "id                     1.000000  0.002225  ...  0.002130          -0.002910\n",
              "week                   0.002225  1.000000  ...  0.995927           0.017437\n",
              "center_id              0.002641 -0.003450  ... -0.003508           0.005302\n",
              "meal_id                0.000488  0.019814  ...  0.019752           0.045715\n",
              "checkout_price         0.001941  0.026581  ...  0.026615           0.185213\n",
              "base_price             0.002909  0.028614  ...  0.028580          -0.090994\n",
              "emailer_for_promotion  0.002001 -0.000841  ... -0.001216          -0.477564\n",
              "homepage_featured      0.003111 -0.008263  ... -0.007722          -0.338011\n",
              "num_orders             0.000702 -0.017210  ... -0.017029          -0.205188\n",
              "city_code             -0.000387  0.000405  ...  0.000483          -0.011755\n",
              "region_code           -0.000648  0.004600  ...  0.004677          -0.008082\n",
              "op_area               -0.000090  0.001550  ...  0.001451           0.008919\n",
              "month                  0.002220  0.999640  ...  0.995509           0.017539\n",
              "year                   0.001454  0.940404  ...  0.942948           0.015799\n",
              "quarter                0.002130  0.995927  ...  1.000000           0.017332\n",
              "checkout_per_base     -0.002910  0.017437  ...  0.017332           1.000000\n",
              "\n",
              "[16 rows x 16 columns]"
            ]
          },
          "metadata": {
            "tags": []
          },
          "execution_count": 21
        }
      ]
    },
    {
      "cell_type": "code",
      "metadata": {
        "id": "5CyDCbpNqlUT",
        "colab_type": "code",
        "outputId": "9ddecfc8-2058-43c0-8964-eb2b7f7ecf02",
        "colab": {
          "base_uri": "https://localhost:8080/",
          "height": 279
        }
      },
      "source": [
        "sns.barplot(x=\"op_area\",y='num_orders',data=train_df)\n",
        "plt.show()"
      ],
      "execution_count": 0,
      "outputs": [
        {
          "output_type": "display_data",
          "data": {
            "image/png": "[encoded data removed]",
            "text/plain": [
              "<Figure size 432x288 with 1 Axes>"
            ]
          },
          "metadata": {
            "tags": [],
            "needs_background": "light"
          }
        }
      ]
    },
    {
      "cell_type": "code",
      "metadata": {
        "id": "602Pi55rrUcI",
        "colab_type": "code",
        "outputId": "506cb8f6-eebc-418d-80d7-4b29cf12de3f",
        "colab": {
          "base_uri": "https://localhost:8080/",
          "height": 168
        }
      },
      "source": [
        "train_df['op_area'].describe()"
      ],
      "execution_count": 0,
      "outputs": [
        {
          "output_type": "execute_result",
          "data": {
            "text/plain": [
              "count    456548.000000\n",
              "mean          4.083590\n",
              "std           1.091686\n",
              "min           0.900000\n",
              "25%           3.600000\n",
              "50%           4.000000\n",
              "75%           4.500000\n",
              "max           7.000000\n",
              "Name: op_area, dtype: float64"
            ]
          },
          "metadata": {
            "tags": []
          },
          "execution_count": 23
        }
      ]
    },
    {
      "cell_type": "code",
      "metadata": {
        "id": "wRlDBTDkrb55",
        "colab_type": "code",
        "colab": {}
      },
      "source": [
        "## changing the op area to category\n",
        "train_df['op_area_cat'] = pd.cut(np.array(train_df['op_area']), 3,labels=[1,2,3])\n",
        "test_df['op_area_cat'] = pd.cut(np.array(test_df['op_area']), 3,labels=[1,2,3])"
      ],
      "execution_count": 0,
      "outputs": []
    },
    {
      "cell_type": "code",
      "metadata": {
        "id": "VHoSi0WgsNSo",
        "colab_type": "code",
        "outputId": "c4ffe031-456a-4968-d6f3-84b2b94c2692",
        "colab": {
          "base_uri": "https://localhost:8080/",
          "height": 280
        }
      },
      "source": [
        "sns.barplot(x=\"op_area_cat\",y='num_orders',data=train_df)\n",
        "plt.show()"
      ],
      "execution_count": 0,
      "outputs": [
        {
          "output_type": "display_data",
          "data": {
            "image/png": "[encoded data removed]",
            "text/plain": [
              "<Figure size 432x288 with 1 Axes>"
            ]
          },
          "metadata": {
            "tags": [],
            "needs_background": "light"
          }
        }
      ]
    },
    {
      "cell_type": "code",
      "metadata": {
        "id": "ROU7iUy9yfb1",
        "colab_type": "code",
        "colab": {}
      },
      "source": [
        "train_df.loc[train_df['checkout_price'] < train_df['base_price'], 'C'] = 1\n",
        "train_df.loc[train_df['checkout_price'] > train_df['base_price'], 'C'] = 2\n",
        "train_df.loc[train_df['checkout_price'] == train_df['base_price'], 'C'] = 0\n",
        "\n",
        "test_df.loc[test_df['checkout_price'] < test_df['base_price'], 'C'] = 1\n",
        "test_df.loc[test_df['checkout_price'] > test_df['base_price'], 'C'] = 2\n",
        "test_df.loc[test_df['checkout_price'] == test_df['base_price'], 'C'] = 0"
      ],
      "execution_count": 0,
      "outputs": []
    },
    {
      "cell_type": "code",
      "metadata": {
        "id": "yb2fAovCztJM",
        "colab_type": "code",
        "colab": {}
      },
      "source": [
        "train_df['checkout_cat'] = pd.cut(np.array(train_df['checkout_price']),bins=4,labels=[1,2,3,4])\n",
        "train_df['base_cat'] = pd.cut(np.array(train_df['base_price']),bins=4,labels=[1,2,3,4])\n",
        "\n",
        "test_df['checkout_cat'] = pd.cut(np.array(test_df['checkout_price']),bins=4,labels=[1,2,3,4])\n",
        "test_df['base_cat'] = pd.cut(np.array(test_df['base_price']),bins=4,labels=[1,2,3,4])"
      ],
      "execution_count": 0,
      "outputs": []
    },
    {
      "cell_type": "code",
      "metadata": {
        "id": "fpjgUxc00FAc",
        "colab_type": "code",
        "colab": {}
      },
      "source": [
        "from sklearn.preprocessing import LabelEncoder"
      ],
      "execution_count": 0,
      "outputs": []
    },
    {
      "cell_type": "code",
      "metadata": {
        "id": "QYwalNy90Ujt",
        "colab_type": "code",
        "colab": {}
      },
      "source": [
        "le = LabelEncoder()"
      ],
      "execution_count": 0,
      "outputs": []
    },
    {
      "cell_type": "code",
      "metadata": {
        "id": "ePnuPd7o0Y4A",
        "colab_type": "code",
        "outputId": "4d05b041-4fa9-40ab-d2e2-1f3eb7b25448",
        "colab": {
          "base_uri": "https://localhost:8080/",
          "height": 118
        }
      },
      "source": [
        "train_df.columns"
      ],
      "execution_count": 0,
      "outputs": [
        {
          "output_type": "execute_result",
          "data": {
            "text/plain": [
              "Index(['id', 'week', 'center_id', 'meal_id', 'checkout_price', 'base_price',\n",
              "       'emailer_for_promotion', 'homepage_featured', 'num_orders', 'category',\n",
              "       'cuisine', 'city_code', 'region_code', 'center_type', 'op_area',\n",
              "       'month', 'year', 'quarter', 'checkout_per_base', 'category_cuisine',\n",
              "       'op_area_cat', 'C', 'checkout_cat', 'base_cat'],\n",
              "      dtype='object')"
            ]
          },
          "metadata": {
            "tags": []
          },
          "execution_count": 30
        }
      ]
    },
    {
      "cell_type": "code",
      "metadata": {
        "id": "GanqhGDC0XJe",
        "colab_type": "code",
        "colab": {}
      },
      "source": [
        "columns_encode = ['cuisine','category','city_code','region_code','center_type','category_cuisine']\n",
        "for column in columns_encode:\n",
        "  le.fit(train_df[column])\n",
        "  train_df[column] = le.transform(train_df[column])\n",
        "  test_df[column] = le.transform(test_df[column])"
      ],
      "execution_count": 0,
      "outputs": []
    },
    {
      "cell_type": "code",
      "metadata": {
        "id": "_-fUaDX4BckQ",
        "colab_type": "code",
        "colab": {}
      },
      "source": [
        "avg_order_group = train_df.groupby(by=['center_id','meal_id'])['num_orders'].mean().reset_index()"
      ],
      "execution_count": 0,
      "outputs": []
    },
    {
      "cell_type": "code",
      "metadata": {
        "id": "fzdSUgPHByLI",
        "colab_type": "code",
        "colab": {}
      },
      "source": [
        "avg_order_group.rename(columns={\"num_orders\":\"avg_order\"},inplace=True)\n",
        "train_df = train_df.merge(avg_order_group,how=\"left\",on=['center_id','meal_id'])\n",
        "test_df = test_df.merge(avg_order_group,how=\"left\",on=['center_id','meal_id'])"
      ],
      "execution_count": 0,
      "outputs": []
    },
    {
      "cell_type": "markdown",
      "metadata": {
        "id": "tvjnVwjeQ5jZ",
        "colab_type": "text"
      },
      "source": [
        "## Initial Processing using light boost models"
      ]
    },
    {
      "cell_type": "code",
      "metadata": {
        "id": "5Ax_pYggQ-XO",
        "colab_type": "code",
        "colab": {}
      },
      "source": [
        "import lightgbm as lgb"
      ],
      "execution_count": 0,
      "outputs": []
    },
    {
      "cell_type": "code",
      "metadata": {
        "id": "FPnYoekXRCdu",
        "colab_type": "code",
        "outputId": "ea0d8108-57f1-477a-d86d-b21639fdc128",
        "colab": {
          "base_uri": "https://localhost:8080/",
          "height": 215
        }
      },
      "source": [
        "train_df.head()"
      ],
      "execution_count": 0,
      "outputs": [
        {
          "output_type": "execute_result",
          "data": {
            "text/html": [
              "<div>\n",
              "<style scoped>\n",
              "    .dataframe tbody tr th:only-of-type {\n",
              "        vertical-align: middle;\n",
              "    }\n",
              "\n",
              "    .dataframe tbody tr th {\n",
              "        vertical-align: top;\n",
              "    }\n",
              "\n",
              "    .dataframe thead th {\n",
              "        text-align: right;\n",
              "    }\n",
              "</style>\n",
              "<table border=\"1\" class=\"dataframe\">\n",
              "  <thead>\n",
              "    <tr style=\"text-align: right;\">\n",
              "      <th></th>\n",
              "      <th>id</th>\n",
              "      <th>week</th>\n",
              "      <th>center_id</th>\n",
              "      <th>meal_id</th>\n",
              "      <th>checkout_price</th>\n",
              "      <th>base_price</th>\n",
              "      <th>emailer_for_promotion</th>\n",
              "      <th>homepage_featured</th>\n",
              "      <th>num_orders</th>\n",
              "      <th>category</th>\n",
              "      <th>cuisine</th>\n",
              "      <th>city_code</th>\n",
              "      <th>region_code</th>\n",
              "      <th>center_type</th>\n",
              "      <th>op_area</th>\n",
              "      <th>month</th>\n",
              "      <th>year</th>\n",
              "      <th>quarter</th>\n",
              "      <th>checkout_per_base</th>\n",
              "      <th>category_cuisine</th>\n",
              "      <th>op_area_cat</th>\n",
              "      <th>C</th>\n",
              "      <th>checkout_cat</th>\n",
              "      <th>base_cat</th>\n",
              "      <th>avg_order</th>\n",
              "    </tr>\n",
              "  </thead>\n",
              "  <tbody>\n",
              "    <tr>\n",
              "      <th>0</th>\n",
              "      <td>1379560</td>\n",
              "      <td>1</td>\n",
              "      <td>55</td>\n",
              "      <td>1885</td>\n",
              "      <td>136.83</td>\n",
              "      <td>152.29</td>\n",
              "      <td>0</td>\n",
              "      <td>0</td>\n",
              "      <td>177</td>\n",
              "      <td>0</td>\n",
              "      <td>3</td>\n",
              "      <td>30</td>\n",
              "      <td>3</td>\n",
              "      <td>2</td>\n",
              "      <td>2.0</td>\n",
              "      <td>0</td>\n",
              "      <td>0</td>\n",
              "      <td>0</td>\n",
              "      <td>0.898483</td>\n",
              "      <td>12</td>\n",
              "      <td>1</td>\n",
              "      <td>1.0</td>\n",
              "      <td>1</td>\n",
              "      <td>1</td>\n",
              "      <td>230.324138</td>\n",
              "    </tr>\n",
              "    <tr>\n",
              "      <th>1</th>\n",
              "      <td>1018704</td>\n",
              "      <td>2</td>\n",
              "      <td>55</td>\n",
              "      <td>1885</td>\n",
              "      <td>135.83</td>\n",
              "      <td>152.29</td>\n",
              "      <td>0</td>\n",
              "      <td>0</td>\n",
              "      <td>323</td>\n",
              "      <td>0</td>\n",
              "      <td>3</td>\n",
              "      <td>30</td>\n",
              "      <td>3</td>\n",
              "      <td>2</td>\n",
              "      <td>2.0</td>\n",
              "      <td>0</td>\n",
              "      <td>0</td>\n",
              "      <td>0</td>\n",
              "      <td>0.891917</td>\n",
              "      <td>12</td>\n",
              "      <td>1</td>\n",
              "      <td>1.0</td>\n",
              "      <td>1</td>\n",
              "      <td>1</td>\n",
              "      <td>230.324138</td>\n",
              "    </tr>\n",
              "    <tr>\n",
              "      <th>2</th>\n",
              "      <td>1196273</td>\n",
              "      <td>3</td>\n",
              "      <td>55</td>\n",
              "      <td>1885</td>\n",
              "      <td>132.92</td>\n",
              "      <td>133.92</td>\n",
              "      <td>0</td>\n",
              "      <td>0</td>\n",
              "      <td>96</td>\n",
              "      <td>0</td>\n",
              "      <td>3</td>\n",
              "      <td>30</td>\n",
              "      <td>3</td>\n",
              "      <td>2</td>\n",
              "      <td>2.0</td>\n",
              "      <td>0</td>\n",
              "      <td>0</td>\n",
              "      <td>0</td>\n",
              "      <td>0.992533</td>\n",
              "      <td>12</td>\n",
              "      <td>1</td>\n",
              "      <td>1.0</td>\n",
              "      <td>1</td>\n",
              "      <td>1</td>\n",
              "      <td>230.324138</td>\n",
              "    </tr>\n",
              "    <tr>\n",
              "      <th>3</th>\n",
              "      <td>1116527</td>\n",
              "      <td>4</td>\n",
              "      <td>55</td>\n",
              "      <td>1885</td>\n",
              "      <td>135.86</td>\n",
              "      <td>134.86</td>\n",
              "      <td>0</td>\n",
              "      <td>0</td>\n",
              "      <td>163</td>\n",
              "      <td>0</td>\n",
              "      <td>3</td>\n",
              "      <td>30</td>\n",
              "      <td>3</td>\n",
              "      <td>2</td>\n",
              "      <td>2.0</td>\n",
              "      <td>1</td>\n",
              "      <td>0</td>\n",
              "      <td>0</td>\n",
              "      <td>1.007415</td>\n",
              "      <td>12</td>\n",
              "      <td>1</td>\n",
              "      <td>2.0</td>\n",
              "      <td>1</td>\n",
              "      <td>1</td>\n",
              "      <td>230.324138</td>\n",
              "    </tr>\n",
              "    <tr>\n",
              "      <th>4</th>\n",
              "      <td>1343872</td>\n",
              "      <td>5</td>\n",
              "      <td>55</td>\n",
              "      <td>1885</td>\n",
              "      <td>146.50</td>\n",
              "      <td>147.50</td>\n",
              "      <td>0</td>\n",
              "      <td>0</td>\n",
              "      <td>215</td>\n",
              "      <td>0</td>\n",
              "      <td>3</td>\n",
              "      <td>30</td>\n",
              "      <td>3</td>\n",
              "      <td>2</td>\n",
              "      <td>2.0</td>\n",
              "      <td>1</td>\n",
              "      <td>0</td>\n",
              "      <td>0</td>\n",
              "      <td>0.993220</td>\n",
              "      <td>12</td>\n",
              "      <td>1</td>\n",
              "      <td>1.0</td>\n",
              "      <td>1</td>\n",
              "      <td>1</td>\n",
              "      <td>230.324138</td>\n",
              "    </tr>\n",
              "  </tbody>\n",
              "</table>\n",
              "</div>"
            ],
            "text/plain": [
              "        id  week  center_id  meal_id  ...    C  checkout_cat  base_cat   avg_order\n",
              "0  1379560     1         55     1885  ...  1.0             1         1  230.324138\n",
              "1  1018704     2         55     1885  ...  1.0             1         1  230.324138\n",
              "2  1196273     3         55     1885  ...  1.0             1         1  230.324138\n",
              "3  1116527     4         55     1885  ...  2.0             1         1  230.324138\n",
              "4  1343872     5         55     1885  ...  1.0             1         1  230.324138\n",
              "\n",
              "[5 rows x 25 columns]"
            ]
          },
          "metadata": {
            "tags": []
          },
          "execution_count": 35
        }
      ]
    },
    {
      "cell_type": "code",
      "metadata": {
        "id": "dn0SKvBf7Z-F",
        "colab_type": "code",
        "outputId": "fe45fdd3-b38d-4c93-ced9-039cb5aa3099",
        "colab": {
          "base_uri": "https://localhost:8080/",
          "height": 454
        }
      },
      "source": [
        "train_df.dtypes"
      ],
      "execution_count": 0,
      "outputs": [
        {
          "output_type": "execute_result",
          "data": {
            "text/plain": [
              "id                          int64\n",
              "week                        int64\n",
              "center_id                   int64\n",
              "meal_id                     int64\n",
              "checkout_price            float64\n",
              "base_price                float64\n",
              "emailer_for_promotion       int64\n",
              "homepage_featured           int64\n",
              "num_orders                  int64\n",
              "category                    int64\n",
              "cuisine                     int64\n",
              "city_code                   int64\n",
              "region_code                 int64\n",
              "center_type                 int64\n",
              "op_area                   float64\n",
              "month                       int64\n",
              "year                        int64\n",
              "quarter                     int64\n",
              "checkout_per_base         float64\n",
              "category_cuisine            int64\n",
              "op_area_cat              category\n",
              "C                         float64\n",
              "checkout_cat             category\n",
              "base_cat                 category\n",
              "avg_order                 float64\n",
              "dtype: object"
            ]
          },
          "metadata": {
            "tags": []
          },
          "execution_count": 36
        }
      ]
    },
    {
      "cell_type": "code",
      "metadata": {
        "id": "JQnQ_Z_r749z",
        "colab_type": "code",
        "colab": {}
      },
      "source": [
        "from sklearn.model_selection import train_test_split"
      ],
      "execution_count": 0,
      "outputs": []
    },
    {
      "cell_type": "code",
      "metadata": {
        "id": "JOhmrKeXs_zr",
        "colab_type": "code",
        "outputId": "ca4b6b9a-76d0-4b8a-95ce-66feb9d6dbb9",
        "colab": {
          "base_uri": "https://localhost:8080/",
          "height": 118
        }
      },
      "source": [
        "train_df.columns"
      ],
      "execution_count": 0,
      "outputs": [
        {
          "output_type": "execute_result",
          "data": {
            "text/plain": [
              "Index(['id', 'week', 'center_id', 'meal_id', 'checkout_price', 'base_price',\n",
              "       'emailer_for_promotion', 'homepage_featured', 'num_orders', 'category',\n",
              "       'cuisine', 'city_code', 'region_code', 'center_type', 'op_area',\n",
              "       'month', 'year', 'quarter', 'checkout_per_base', 'category_cuisine',\n",
              "       'op_area_cat', 'C', 'checkout_cat', 'base_cat', 'avg_order'],\n",
              "      dtype='object')"
            ]
          },
          "metadata": {
            "tags": []
          },
          "execution_count": 38
        }
      ]
    },
    {
      "cell_type": "code",
      "metadata": {
        "id": "Z8pCJ2u_s3lt",
        "colab_type": "code",
        "colab": {}
      },
      "source": [
        "X = train_df[['week', 'center_id', 'meal_id', 'checkout_price', 'base_price',\n",
        "       'emailer_for_promotion', 'homepage_featured', 'category',\n",
        "       'cuisine', 'city_code', 'region_code', 'center_type', 'op_area',\n",
        "       'month', 'year', 'quarter', 'checkout_per_base', 'category_cuisine',\n",
        "       'op_area_cat', 'C', 'checkout_cat', 'base_cat',\n",
        "       'avg_order']]\n",
        "y = train_df['num_orders']"
      ],
      "execution_count": 0,
      "outputs": []
    },
    {
      "cell_type": "code",
      "metadata": {
        "id": "sO3vczHF81H-",
        "colab_type": "code",
        "colab": {}
      },
      "source": [
        "X_train,X_valid,y_train,y_valid = train_test_split(X,y,test_size=0.3,random_state=88)"
      ],
      "execution_count": 0,
      "outputs": []
    },
    {
      "cell_type": "code",
      "metadata": {
        "id": "mzf9XGUqtWT5",
        "colab_type": "code",
        "outputId": "8b1f6727-a793-45ff-9960-fae46d073525",
        "colab": {
          "base_uri": "https://localhost:8080/",
          "height": 50
        }
      },
      "source": [
        "m = lgb.LGBMRegressor()\n",
        "m.fit(X_train,y_train)\n",
        "print_score(m)"
      ],
      "execution_count": 0,
      "outputs": [
        {
          "output_type": "stream",
          "text": [
            "RMSE train,RMSE valid,score train,score valid\n"
          ],
          "name": "stdout"
        },
        {
          "output_type": "execute_result",
          "data": {
            "text/plain": [
              "[138.77104407412455, 143.5475352621215, 0.8777271003203513, 0.8670810376139876]"
            ]
          },
          "metadata": {
            "tags": []
          },
          "execution_count": 41
        }
      ]
    },
    {
      "cell_type": "code",
      "metadata": {
        "id": "nl6zM3RGtrOz",
        "colab_type": "code",
        "colab": {}
      },
      "source": [
        "X_test = test_df[['week', 'center_id', 'meal_id', 'checkout_price', 'base_price',\n",
        "       'emailer_for_promotion', 'homepage_featured', 'category',\n",
        "       'cuisine', 'city_code', 'region_code', 'center_type', 'op_area',\n",
        "       'month', 'year', 'quarter', 'checkout_per_base', 'category_cuisine',\n",
        "       'op_area_cat', 'C', 'checkout_cat', 'base_cat',\n",
        "       'avg_order']]"
      ],
      "execution_count": 0,
      "outputs": []
    },
    {
      "cell_type": "code",
      "metadata": {
        "id": "5GhuaXhdCqQd",
        "colab_type": "code",
        "outputId": "9d44633d-cfb5-4a96-9473-99d13208ceba",
        "colab": {
          "base_uri": "https://localhost:8080/",
          "height": 101
        }
      },
      "source": [
        "X_test['avg_order'].fillna(0,inplace=True)"
      ],
      "execution_count": 0,
      "outputs": [
        {
          "output_type": "stream",
          "text": [
            "/usr/local/lib/python3.6/dist-packages/pandas/core/generic.py:6245: SettingWithCopyWarning: \n",
            "A value is trying to be set on a copy of a slice from a DataFrame\n",
            "\n",
            "See the caveats in the documentation: https://pandas.pydata.org/pandas-docs/stable/user_guide/indexing.html#returning-a-view-versus-a-copy\n",
            "  self._update_inplace(new_data)\n"
          ],
          "name": "stderr"
        }
      ]
    },
    {
      "cell_type": "code",
      "metadata": {
        "id": "ywLzPpioCnCL",
        "colab_type": "code",
        "outputId": "e90133f2-30b7-45d3-e84b-25c713f5e03c",
        "colab": {
          "base_uri": "https://localhost:8080/",
          "height": 34
        }
      },
      "source": [
        "test_df.shape"
      ],
      "execution_count": 0,
      "outputs": [
        {
          "output_type": "execute_result",
          "data": {
            "text/plain": [
              "(32573, 24)"
            ]
          },
          "metadata": {
            "tags": []
          },
          "execution_count": 44
        }
      ]
    },
    {
      "cell_type": "code",
      "metadata": {
        "id": "goCNZO7x9-Kl",
        "colab_type": "code",
        "colab": {}
      },
      "source": [
        "prediction = m.predict(X_test)"
      ],
      "execution_count": 0,
      "outputs": []
    },
    {
      "cell_type": "code",
      "metadata": {
        "id": "1e0_R0UC-YuI",
        "colab_type": "code",
        "colab": {}
      },
      "source": [
        "pd.DataFrame({'id':test_df['id'],'num_orders':prediction}).to_csv(\"submission_lgbm_nolog.csv\",index=False)"
      ],
      "execution_count": 0,
      "outputs": []
    },
    {
      "cell_type": "markdown",
      "metadata": {
        "id": "eRDDfvglutd5",
        "colab_type": "text"
      },
      "source": [
        "### Random Forest"
      ]
    },
    {
      "cell_type": "code",
      "metadata": {
        "id": "ciOUQF8BvRzG",
        "colab_type": "code",
        "outputId": "84a1744a-11af-4351-85bc-74e4d3059314",
        "colab": {
          "base_uri": "https://localhost:8080/",
          "height": 420
        }
      },
      "source": [
        "X.dtypes"
      ],
      "execution_count": 0,
      "outputs": [
        {
          "output_type": "execute_result",
          "data": {
            "text/plain": [
              "week                        int64\n",
              "center_id                   int64\n",
              "meal_id                     int64\n",
              "checkout_price            float64\n",
              "base_price                float64\n",
              "emailer_for_promotion       int64\n",
              "homepage_featured           int64\n",
              "category                    int64\n",
              "cuisine                     int64\n",
              "city_code                   int64\n",
              "region_code                 int64\n",
              "center_type                 int64\n",
              "op_area                   float64\n",
              "month                       int64\n",
              "year                        int64\n",
              "quarter                     int64\n",
              "checkout_per_base         float64\n",
              "category_cuisine            int64\n",
              "op_area_cat              category\n",
              "C                         float64\n",
              "checkout_cat             category\n",
              "base_cat                 category\n",
              "avg_order                 float64\n",
              "dtype: object"
            ]
          },
          "metadata": {
            "tags": []
          },
          "execution_count": 47
        }
      ]
    },
    {
      "cell_type": "code",
      "metadata": {
        "id": "kJkmmx-suyMd",
        "colab_type": "code",
        "colab": {}
      },
      "source": [
        "from sklearn.ensemble import RandomForestRegressor"
      ],
      "execution_count": 0,
      "outputs": []
    },
    {
      "cell_type": "code",
      "metadata": {
        "id": "Xq7ifLh9uxk8",
        "colab_type": "code",
        "outputId": "35fdc171-5f72-4ccc-e69c-7eadefb05b68",
        "colab": {
          "base_uri": "https://localhost:8080/",
          "height": 171
        }
      },
      "source": [
        "m = RandomForestRegressor(n_estimators=10,oob_score=True) #100 estimators\n",
        "m.fit(X_train,y_train)\n",
        "print_score(m)"
      ],
      "execution_count": 0,
      "outputs": [
        {
          "output_type": "stream",
          "text": [
            "/usr/local/lib/python3.6/dist-packages/sklearn/ensemble/_forest.py:815: UserWarning: Some inputs do not have OOB scores. This probably means too few trees were used to compute any reliable oob estimates.\n",
            "  warn(\"Some inputs do not have OOB scores. \"\n"
          ],
          "name": "stderr"
        },
        {
          "output_type": "stream",
          "text": [
            "RMSE train,RMSE valid,score train,score valid\n"
          ],
          "name": "stdout"
        },
        {
          "output_type": "execute_result",
          "data": {
            "text/plain": [
              "[64.69250147366535,\n",
              " 145.47319520566487,\n",
              " 0.9734270121656272,\n",
              " 0.8634909582178946,\n",
              " 0.8034886146124278]"
            ]
          },
          "metadata": {
            "tags": []
          },
          "execution_count": 49
        }
      ]
    },
    {
      "cell_type": "code",
      "metadata": {
        "colab_type": "code",
        "id": "5tnjRnLGv2pL",
        "colab": {}
      },
      "source": [
        "prediction = m.predict(X_test)"
      ],
      "execution_count": 0,
      "outputs": []
    },
    {
      "cell_type": "code",
      "metadata": {
        "id": "4WTiAc5EGKnt",
        "colab_type": "code",
        "outputId": "ae8d0848-7128-4607-8ae7-958cab6362ec",
        "colab": {
          "base_uri": "https://localhost:8080/",
          "height": 34
        }
      },
      "source": [
        "prediction.shape"
      ],
      "execution_count": 0,
      "outputs": [
        {
          "output_type": "execute_result",
          "data": {
            "text/plain": [
              "(32573,)"
            ]
          },
          "metadata": {
            "tags": []
          },
          "execution_count": 51
        }
      ]
    },
    {
      "cell_type": "code",
      "metadata": {
        "colab_type": "code",
        "id": "5hLZ-Tgmv2pV",
        "colab": {}
      },
      "source": [
        "pd.DataFrame({'id':test_df['id'],'num_orders':prediction}).to_csv(\"submission_rf_nolog.csv\",index=False)"
      ],
      "execution_count": 0,
      "outputs": []
    },
    {
      "cell_type": "code",
      "metadata": {
        "id": "2iAtjNyg2D9Y",
        "colab_type": "code",
        "outputId": "02b0af0a-2750-408b-afc2-2475cfd87211",
        "colab": {
          "base_uri": "https://localhost:8080/",
          "height": 385
        }
      },
      "source": [
        "feat_importances = pd.Series(m.feature_importances_, index=X.columns)\n",
        "feat_importances.nlargest(7).plot(kind='bar')"
      ],
      "execution_count": 0,
      "outputs": [
        {
          "output_type": "execute_result",
          "data": {
            "text/plain": [
              "<matplotlib.axes._subplots.AxesSubplot at 0x7f9726b500f0>"
            ]
          },
          "metadata": {
            "tags": []
          },
          "execution_count": 53
        },
        {
          "output_type": "display_data",
          "data": {
            "image/png": "[encoded data removed]",
            "text/plain": [
              "<Figure size 432x288 with 1 Axes>"
            ]
          },
          "metadata": {
            "tags": [],
            "needs_background": "light"
          }
        }
      ]
    },
    {
      "cell_type": "code",
      "metadata": {
        "id": "hYuzh5GfSozY",
        "colab_type": "code",
        "colab": {}
      },
      "source": [
        "## RMSLE is 55"
      ],
      "execution_count": 0,
      "outputs": []
    },
    {
      "cell_type": "code",
      "metadata": {
        "id": "B-y38wHSWCJF",
        "colab_type": "code",
        "colab": {}
      },
      "source": [
        "def combine_df(train_df,test_df):\n",
        "  train_df['is_train'] = 1\n",
        "  test_df['is_train'] = 0\n",
        "  test_df['avg_order'].fillna(0,inplace=True)\n",
        "  combined = pd.concat([train_df,test_df],axis=0)\n",
        "  return combined\n",
        "combined_df = combine_df(train_df,test_df)"
      ],
      "execution_count": 0,
      "outputs": []
    },
    {
      "cell_type": "code",
      "metadata": {
        "id": "Xukbm80-WVyj",
        "colab_type": "code",
        "outputId": "00960323-bd01-49dc-c8ad-386b7330d58f",
        "colab": {
          "base_uri": "https://localhost:8080/",
          "height": 470
        }
      },
      "source": [
        "combined_df.isnull().sum()"
      ],
      "execution_count": 0,
      "outputs": [
        {
          "output_type": "execute_result",
          "data": {
            "text/plain": [
              "id                           0\n",
              "week                         0\n",
              "center_id                    0\n",
              "meal_id                      0\n",
              "checkout_price               0\n",
              "base_price                   0\n",
              "emailer_for_promotion        0\n",
              "homepage_featured            0\n",
              "num_orders               32573\n",
              "category                     0\n",
              "cuisine                      0\n",
              "city_code                    0\n",
              "region_code                  0\n",
              "center_type                  0\n",
              "op_area                      0\n",
              "month                        0\n",
              "year                         0\n",
              "quarter                      0\n",
              "checkout_per_base            0\n",
              "category_cuisine             0\n",
              "op_area_cat                  0\n",
              "C                            0\n",
              "checkout_cat                 0\n",
              "base_cat                     0\n",
              "avg_order                    0\n",
              "is_train                     0\n",
              "dtype: int64"
            ]
          },
          "metadata": {
            "tags": []
          },
          "execution_count": 56
        }
      ]
    },
    {
      "cell_type": "code",
      "metadata": {
        "id": "5rCwFnSkXhDN",
        "colab_type": "code",
        "colab": {}
      },
      "source": [
        "combined_df.sort_values(by=\"week\",inplace=True)"
      ],
      "execution_count": 0,
      "outputs": []
    },
    {
      "cell_type": "code",
      "metadata": {
        "id": "baM0H2XjoL2w",
        "colab_type": "code",
        "colab": {}
      },
      "source": [
        "def last3orders(df):\n",
        "  final_df = pd.DataFrame()\n",
        "  for center in df['center_id'].unique():\n",
        "    center_df = df.loc[df['center_id'] == center,:]\n",
        "    for meal in center_df['meal_id'].unique():\n",
        "      center_meal_df = center_df.loc[center_df['meal_id'] == meal,:]\n",
        "      center_meal_df['last_order'] = center_meal_df['num_orders'].shift(periods=1)\n",
        "      center_meal_df['last_2_orders'] = center_meal_df['num_orders'].shift(periods=2)\n",
        "      center_meal_df['last_3_orders'] = center_meal_df['num_orders'].shift(periods=3)\n",
        "      final_df = pd.concat([final_df,center_meal_df],axis=0)\n",
        "  return final_df\n",
        "#final_df = last3orders(combined_df)"
      ],
      "execution_count": 0,
      "outputs": []
    },
    {
      "cell_type": "code",
      "metadata": {
        "id": "Z9XjWTYOou2Q",
        "colab_type": "code",
        "colab": {}
      },
      "source": [
        "final_df.to_csv(\"final_df.csv\",index=False)"
      ],
      "execution_count": 0,
      "outputs": []
    },
    {
      "cell_type": "markdown",
      "metadata": {
        "id": "4yXQamUwP-jd",
        "colab_type": "text"
      },
      "source": [
        "## Final Dataframe "
      ]
    },
    {
      "cell_type": "code",
      "metadata": {
        "id": "dNalV1eIiWwS",
        "colab_type": "code",
        "colab": {}
      },
      "source": [
        "final_df = pd.read_csv(f'{PATH}final_df.csv')"
      ],
      "execution_count": 0,
      "outputs": []
    },
    {
      "cell_type": "code",
      "metadata": {
        "id": "y8LyrUGLr3fH",
        "colab_type": "code",
        "colab": {}
      },
      "source": [
        "final_df['week_sin'] = np.sin(2 * np.pi * final_df['week'] / 52.143)\n",
        "final_df['week_cos'] = np.cos(2 * np.pi * final_df['week'] / 52.143)"
      ],
      "execution_count": 0,
      "outputs": []
    },
    {
      "cell_type": "code",
      "metadata": {
        "id": "PLUdXNl_id-A",
        "colab_type": "code",
        "colab": {}
      },
      "source": [
        "train_df_final = final_df.loc[final_df['is_train'] == 1,:]\n",
        "test_df_final = final_df.loc[final_df['is_train'] == 0,:]"
      ],
      "execution_count": 0,
      "outputs": []
    },
    {
      "cell_type": "code",
      "metadata": {
        "id": "wDD4m9_fr2Dk",
        "colab_type": "code",
        "colab": {}
      },
      "source": [
        ""
      ],
      "execution_count": 0,
      "outputs": []
    },
    {
      "cell_type": "code",
      "metadata": {
        "id": "6QZaiDF2tDUW",
        "colab_type": "code",
        "outputId": "6f0d5127-21b1-4165-a399-e435892c8c36",
        "colab": {
          "base_uri": "https://localhost:8080/",
          "height": 34
        }
      },
      "source": [
        "final_df.shape"
      ],
      "execution_count": 132,
      "outputs": [
        {
          "output_type": "execute_result",
          "data": {
            "text/plain": [
              "(489121, 31)"
            ]
          },
          "metadata": {
            "tags": []
          },
          "execution_count": 132
        }
      ]
    },
    {
      "cell_type": "code",
      "metadata": {
        "id": "I8YcXE4dtFZ8",
        "colab_type": "code",
        "outputId": "6f5e7f36-ca63-410a-e8aa-525fdec53ad5",
        "colab": {
          "base_uri": "https://localhost:8080/",
          "height": 554
        }
      },
      "source": [
        "train_df_final.isnull().sum()"
      ],
      "execution_count": 133,
      "outputs": [
        {
          "output_type": "execute_result",
          "data": {
            "text/plain": [
              "id                           0\n",
              "week                         0\n",
              "center_id                    0\n",
              "meal_id                      0\n",
              "checkout_price               0\n",
              "base_price                   0\n",
              "emailer_for_promotion        0\n",
              "homepage_featured            0\n",
              "num_orders                   0\n",
              "category                     0\n",
              "cuisine                      0\n",
              "city_code                    0\n",
              "region_code                  0\n",
              "center_type                  0\n",
              "op_area                      0\n",
              "month                        0\n",
              "year                         0\n",
              "quarter                      0\n",
              "checkout_per_base            0\n",
              "category_cuisine             0\n",
              "op_area_cat                  0\n",
              "C                            0\n",
              "checkout_cat                 0\n",
              "base_cat                     0\n",
              "avg_order                    0\n",
              "is_train                     0\n",
              "last_order                3597\n",
              "last_2_orders             7191\n",
              "last_3_orders            10785\n",
              "week_sin                     0\n",
              "week_cos                     0\n",
              "dtype: int64"
            ]
          },
          "metadata": {
            "tags": []
          },
          "execution_count": 133
        }
      ]
    },
    {
      "cell_type": "code",
      "metadata": {
        "id": "whncAzbGjJDx",
        "colab_type": "code",
        "outputId": "d5246162-42e1-4b97-9d7e-a8246efe4620",
        "colab": {
          "base_uri": "https://localhost:8080/",
          "height": 101
        }
      },
      "source": [
        "# in train_df_final, we can fill 0 \n",
        "train_df_final.fillna(0,inplace=True)"
      ],
      "execution_count": 8,
      "outputs": [
        {
          "output_type": "stream",
          "text": [
            "/usr/local/lib/python3.6/dist-packages/pandas/core/frame.py:4153: SettingWithCopyWarning: \n",
            "A value is trying to be set on a copy of a slice from a DataFrame\n",
            "\n",
            "See the caveats in the documentation: https://pandas.pydata.org/pandas-docs/stable/user_guide/indexing.html#returning-a-view-versus-a-copy\n",
            "  downcast=downcast,\n"
          ],
          "name": "stderr"
        }
      ]
    },
    {
      "cell_type": "code",
      "metadata": {
        "id": "VMjaSRdQjxqy",
        "colab_type": "code",
        "colab": {}
      },
      "source": [
        "X = train_df_final[['week_sin','week_cos', 'center_id', 'meal_id', 'checkout_price', 'base_price',\n",
        "       'emailer_for_promotion', 'homepage_featured', 'category',\n",
        "       'cuisine', 'city_code', 'region_code', 'center_type', 'op_area',\n",
        "       'month', 'year', 'quarter', 'checkout_per_base', 'category_cuisine',\n",
        "       'op_area_cat', 'C', 'checkout_cat', 'base_cat',\n",
        "       'avg_order']]\n",
        "y = train_df_final['num_orders']"
      ],
      "execution_count": 0,
      "outputs": []
    },
    {
      "cell_type": "code",
      "metadata": {
        "id": "BAaH7xVskNEj",
        "colab_type": "code",
        "colab": {}
      },
      "source": [
        "from sklearn.model_selection import train_test_split\n",
        "X_train,X_valid,y_train,y_valid = train_test_split(X,y,test_size=0.3,random_state=88)"
      ],
      "execution_count": 0,
      "outputs": []
    },
    {
      "cell_type": "code",
      "metadata": {
        "id": "JXz4rRe0kdXp",
        "colab_type": "code",
        "outputId": "e3b20afc-00fc-4d21-f8ac-9f8ad98c21e8",
        "colab": {
          "base_uri": "https://localhost:8080/",
          "height": 134
        }
      },
      "source": [
        "from sklearn.ensemble import RandomForestRegressor\n",
        "m = RandomForestRegressor(n_estimators=100,oob_score=True) #100 estimators\n",
        "m.fit(X_train,y_train)\n"
      ],
      "execution_count": 136,
      "outputs": [
        {
          "output_type": "execute_result",
          "data": {
            "text/plain": [
              "RandomForestRegressor(bootstrap=True, ccp_alpha=0.0, criterion='mse',\n",
              "                      max_depth=None, max_features='auto', max_leaf_nodes=None,\n",
              "                      max_samples=None, min_impurity_decrease=0.0,\n",
              "                      min_impurity_split=None, min_samples_leaf=1,\n",
              "                      min_samples_split=2, min_weight_fraction_leaf=0.0,\n",
              "                      n_estimators=100, n_jobs=None, oob_score=True,\n",
              "                      random_state=None, verbose=0, warm_start=False)"
            ]
          },
          "metadata": {
            "tags": []
          },
          "execution_count": 136
        }
      ]
    },
    {
      "cell_type": "code",
      "metadata": {
        "id": "xR44VzuqEpXJ",
        "colab_type": "code",
        "colab": {
          "base_uri": "https://localhost:8080/",
          "height": 118
        },
        "outputId": "12aa435c-5f72-43f0-e318-ba2ba1ad38fb"
      },
      "source": [
        "print_score(m)"
      ],
      "execution_count": 137,
      "outputs": [
        {
          "output_type": "stream",
          "text": [
            "RMSE train,RMSE valid,score train,score valid\n"
          ],
          "name": "stdout"
        },
        {
          "output_type": "execute_result",
          "data": {
            "text/plain": [
              "[52.393808706553465,\n",
              " 136.0266735359419,\n",
              " 0.982834884568476,\n",
              " 0.8761135416154207,\n",
              " 0.8754827398900767]"
            ]
          },
          "metadata": {
            "tags": []
          },
          "execution_count": 137
        }
      ]
    },
    {
      "cell_type": "code",
      "metadata": {
        "id": "InIIBZSokqMc",
        "colab_type": "code",
        "outputId": "d0a531d3-82c7-4437-8de2-5539c3ce68ea",
        "colab": {
          "base_uri": "https://localhost:8080/",
          "height": 368
        }
      },
      "source": [
        "import matplotlib.pyplot as plt\n",
        "feat_importances = pd.Series(m.feature_importances_, index=X.columns)\n",
        "feat_importances.nlargest(7).plot(kind='bar')\n",
        "plt.show()"
      ],
      "execution_count": 138,
      "outputs": [
        {
          "output_type": "display_data",
          "data": {
            "image/png": "[encoded data removed]",
            "text/plain": [
              "<Figure size 432x288 with 1 Axes>"
            ]
          },
          "metadata": {
            "tags": [],
            "needs_background": "light"
          }
        }
      ]
    },
    {
      "cell_type": "code",
      "metadata": {
        "id": "WTcDWjErvEfn",
        "colab_type": "code",
        "colab": {}
      },
      "source": [
        "import lightgbm"
      ],
      "execution_count": 0,
      "outputs": []
    },
    {
      "cell_type": "code",
      "metadata": {
        "id": "-zQdtbIcvHS9",
        "colab_type": "code",
        "colab": {}
      },
      "source": [
        "m = lightgbm.LGBMRegressor(learning_rate=0.003,\n",
        "                          n_estimators=40000,\n",
        "                          silent=False)"
      ],
      "execution_count": 0,
      "outputs": []
    },
    {
      "cell_type": "code",
      "metadata": {
        "id": "jESy_OcGvQO7",
        "colab_type": "code",
        "colab": {
          "base_uri": "https://localhost:8080/",
          "height": 118
        },
        "outputId": "e6672d32-1c28-465b-af6e-25ad1ed9da46"
      },
      "source": [
        "m.fit(X_train,y_train)"
      ],
      "execution_count": 148,
      "outputs": [
        {
          "output_type": "execute_result",
          "data": {
            "text/plain": [
              "LGBMRegressor(boosting_type='gbdt', class_weight=None, colsample_bytree=1.0,\n",
              "              importance_type='split', learning_rate=0.003, max_depth=-1,\n",
              "              min_child_samples=20, min_child_weight=0.001, min_split_gain=0.0,\n",
              "              n_estimators=40000, n_jobs=-1, num_leaves=31, objective=None,\n",
              "              random_state=None, reg_alpha=0.0, reg_lambda=0.0, silent=False,\n",
              "              subsample=1.0, subsample_for_bin=200000, subsample_freq=0)"
            ]
          },
          "metadata": {
            "tags": []
          },
          "execution_count": 148
        }
      ]
    },
    {
      "cell_type": "code",
      "metadata": {
        "id": "dui9jzfduGBc",
        "colab_type": "code",
        "colab": {}
      },
      "source": [
        "X_test = test_df_final[['week_sin','week_cos', 'center_id', 'meal_id', 'checkout_price', 'base_price',\n",
        "       'emailer_for_promotion', 'homepage_featured', 'category',\n",
        "       'cuisine', 'city_code', 'region_code', 'center_type', 'op_area',\n",
        "       'month', 'year', 'quarter', 'checkout_per_base', 'category_cuisine',\n",
        "       'op_area_cat', 'C', 'checkout_cat', 'base_cat',\n",
        "       'avg_order']]\n",
        "y_pred = m.predict(X_test)\n"
      ],
      "execution_count": 0,
      "outputs": []
    },
    {
      "cell_type": "code",
      "metadata": {
        "id": "IcbsSLJw-M68",
        "colab_type": "code",
        "colab": {}
      },
      "source": [
        "#y_pred_lgb = m.predict(X_test)\n",
        "pd.DataFrame({'id':test_df_final['id'],'num_orders':y_pred_lgb}).to_csv(\"submission_rf_new1.csv\",index=False)"
      ],
      "execution_count": 0,
      "outputs": []
    },
    {
      "cell_type": "code",
      "metadata": {
        "id": "_AAYHd-EvVOA",
        "colab_type": "code",
        "colab": {}
      },
      "source": [
        "#y_pred_lgb = m.predict(X_test)\n",
        "pd.DataFrame({'id':test_df_final['id'],'num_orders':y_pred_lgb}).to_csv(\"lightgbm_sub.csv\",index=False)"
      ],
      "execution_count": 0,
      "outputs": []
    },
    {
      "cell_type": "code",
      "metadata": {
        "id": "SSnruHd4zSk_",
        "colab_type": "code",
        "colab": {}
      },
      "source": [
        "y_pred_lgb = y_pred_lgb.clip(min=0)"
      ],
      "execution_count": 0,
      "outputs": []
    },
    {
      "cell_type": "code",
      "metadata": {
        "id": "GwQKxHcZaQRp",
        "colab_type": "code",
        "outputId": "31bd2407-2d2e-4a5d-8a2c-3e6c3c09e298",
        "colab": {
          "base_uri": "https://localhost:8080/",
          "height": 34
        }
      },
      "source": [
        "test_df_final.shape"
      ],
      "execution_count": 0,
      "outputs": [
        {
          "output_type": "execute_result",
          "data": {
            "text/plain": [
              "(32573, 27)"
            ]
          },
          "metadata": {
            "tags": []
          },
          "execution_count": 38
        }
      ]
    },
    {
      "cell_type": "code",
      "metadata": {
        "id": "e1_ujxqQZqb7",
        "colab_type": "code",
        "colab": {}
      },
      "source": [
        "test_df_no_null = test_df_final.dropna(axis=0,inplace=False)"
      ],
      "execution_count": 0,
      "outputs": []
    },
    {
      "cell_type": "code",
      "metadata": {
        "id": "_D9wVlonbxcQ",
        "colab_type": "code",
        "outputId": "4b1cf1ff-e765-4d3a-8608-c77aff020541",
        "colab": {
          "base_uri": "https://localhost:8080/",
          "height": 34
        }
      },
      "source": [
        "test_df_no_null.shape"
      ],
      "execution_count": 0,
      "outputs": [
        {
          "output_type": "execute_result",
          "data": {
            "text/plain": [
              "(3545, 27)"
            ]
          },
          "metadata": {
            "tags": []
          },
          "execution_count": 43
        }
      ]
    },
    {
      "cell_type": "code",
      "metadata": {
        "id": "8HTytD66aIk6",
        "colab_type": "code",
        "outputId": "e17c9ae9-93e0-4fdb-e509-ab37261c7c99",
        "colab": {
          "base_uri": "https://localhost:8080/",
          "height": 34
        }
      },
      "source": [
        "X_test = test_df_no_null[['week', 'center_id', 'meal_id', 'checkout_price', 'base_price',\n",
        "       'emailer_for_promotion', 'homepage_featured', 'category',\n",
        "       'cuisine', 'city_code', 'region_code', 'center_type', 'op_area',\n",
        "       'month', 'year', 'quarter', 'checkout_per_base', 'category_cuisine',\n",
        "       'op_area_cat', 'C', 'checkout_cat', 'base_cat',\n",
        "       'avg_order','last_order','last_2_orders','last_3_orders']]\n",
        "y_pred = m.predict(X_test)\n"
      ],
      "execution_count": 0,
      "outputs": [
        {
          "output_type": "execute_result",
          "data": {
            "text/plain": [
              "(26, 27)"
            ]
          },
          "metadata": {
            "tags": []
          },
          "execution_count": 52
        }
      ]
    },
    {
      "cell_type": "code",
      "metadata": {
        "id": "8XZgD43JfgKm",
        "colab_type": "code",
        "outputId": "b29f1247-36c0-4428-dcfa-5c66413661de",
        "colab": {
          "base_uri": "https://localhost:8080/",
          "height": 422
        }
      },
      "source": [
        "pd.concat([test_df_no_null.reset_index(inplace=False),pd.Series(y_pred)],axis=1)"
      ],
      "execution_count": 0,
      "outputs": [
        {
          "output_type": "execute_result",
          "data": {
            "text/html": [
              "<div>\n",
              "<style scoped>\n",
              "    .dataframe tbody tr th:only-of-type {\n",
              "        vertical-align: middle;\n",
              "    }\n",
              "\n",
              "    .dataframe tbody tr th {\n",
              "        vertical-align: top;\n",
              "    }\n",
              "\n",
              "    .dataframe thead th {\n",
              "        text-align: right;\n",
              "    }\n",
              "</style>\n",
              "<table border=\"1\" class=\"dataframe\">\n",
              "  <thead>\n",
              "    <tr style=\"text-align: right;\">\n",
              "      <th></th>\n",
              "      <th>index</th>\n",
              "      <th>id</th>\n",
              "      <th>week</th>\n",
              "      <th>center_id</th>\n",
              "      <th>meal_id</th>\n",
              "      <th>checkout_price</th>\n",
              "      <th>base_price</th>\n",
              "      <th>emailer_for_promotion</th>\n",
              "      <th>homepage_featured</th>\n",
              "      <th>category</th>\n",
              "      <th>cuisine</th>\n",
              "      <th>city_code</th>\n",
              "      <th>region_code</th>\n",
              "      <th>center_type</th>\n",
              "      <th>op_area</th>\n",
              "      <th>month</th>\n",
              "      <th>year</th>\n",
              "      <th>quarter</th>\n",
              "      <th>checkout_per_base</th>\n",
              "      <th>category_cuisine</th>\n",
              "      <th>op_area_cat</th>\n",
              "      <th>C</th>\n",
              "      <th>checkout_cat</th>\n",
              "      <th>base_cat</th>\n",
              "      <th>avg_order</th>\n",
              "      <th>last_order</th>\n",
              "      <th>last_2_orders</th>\n",
              "      <th>last_3_orders</th>\n",
              "      <th>0</th>\n",
              "    </tr>\n",
              "  </thead>\n",
              "  <tbody>\n",
              "    <tr>\n",
              "      <th>0</th>\n",
              "      <td>145</td>\n",
              "      <td>1028232</td>\n",
              "      <td>146</td>\n",
              "      <td>55</td>\n",
              "      <td>1885</td>\n",
              "      <td>158.11</td>\n",
              "      <td>159.11</td>\n",
              "      <td>0</td>\n",
              "      <td>0</td>\n",
              "      <td>0</td>\n",
              "      <td>3</td>\n",
              "      <td>30</td>\n",
              "      <td>3</td>\n",
              "      <td>2</td>\n",
              "      <td>2.0</td>\n",
              "      <td>36</td>\n",
              "      <td>2</td>\n",
              "      <td>11</td>\n",
              "      <td>0.993715</td>\n",
              "      <td>12</td>\n",
              "      <td>1</td>\n",
              "      <td>1.0</td>\n",
              "      <td>1</td>\n",
              "      <td>1</td>\n",
              "      <td>230.324138</td>\n",
              "      <td>121.0</td>\n",
              "      <td>162.0</td>\n",
              "      <td>176.0</td>\n",
              "      <td>146.40</td>\n",
              "    </tr>\n",
              "    <tr>\n",
              "      <th>1</th>\n",
              "      <td>237</td>\n",
              "      <td>1192413</td>\n",
              "      <td>146</td>\n",
              "      <td>55</td>\n",
              "      <td>2304</td>\n",
              "      <td>486.03</td>\n",
              "      <td>484.03</td>\n",
              "      <td>0</td>\n",
              "      <td>0</td>\n",
              "      <td>2</td>\n",
              "      <td>1</td>\n",
              "      <td>30</td>\n",
              "      <td>3</td>\n",
              "      <td>2</td>\n",
              "      <td>2.0</td>\n",
              "      <td>36</td>\n",
              "      <td>2</td>\n",
              "      <td>11</td>\n",
              "      <td>1.004132</td>\n",
              "      <td>6</td>\n",
              "      <td>1</td>\n",
              "      <td>2.0</td>\n",
              "      <td>2</td>\n",
              "      <td>2</td>\n",
              "      <td>24.265060</td>\n",
              "      <td>14.0</td>\n",
              "      <td>26.0</td>\n",
              "      <td>55.0</td>\n",
              "      <td>27.08</td>\n",
              "    </tr>\n",
              "    <tr>\n",
              "      <th>2</th>\n",
              "      <td>337</td>\n",
              "      <td>1497398</td>\n",
              "      <td>146</td>\n",
              "      <td>55</td>\n",
              "      <td>2704</td>\n",
              "      <td>320.13</td>\n",
              "      <td>321.13</td>\n",
              "      <td>0</td>\n",
              "      <td>0</td>\n",
              "      <td>5</td>\n",
              "      <td>3</td>\n",
              "      <td>30</td>\n",
              "      <td>3</td>\n",
              "      <td>2</td>\n",
              "      <td>2.0</td>\n",
              "      <td>36</td>\n",
              "      <td>2</td>\n",
              "      <td>11</td>\n",
              "      <td>0.996886</td>\n",
              "      <td>14</td>\n",
              "      <td>1</td>\n",
              "      <td>1.0</td>\n",
              "      <td>1</td>\n",
              "      <td>1</td>\n",
              "      <td>32.336957</td>\n",
              "      <td>42.0</td>\n",
              "      <td>53.0</td>\n",
              "      <td>13.0</td>\n",
              "      <td>23.54</td>\n",
              "    </tr>\n",
              "    <tr>\n",
              "      <th>3</th>\n",
              "      <td>455</td>\n",
              "      <td>1152412</td>\n",
              "      <td>146</td>\n",
              "      <td>55</td>\n",
              "      <td>1525</td>\n",
              "      <td>320.13</td>\n",
              "      <td>319.13</td>\n",
              "      <td>0</td>\n",
              "      <td>0</td>\n",
              "      <td>5</td>\n",
              "      <td>3</td>\n",
              "      <td>30</td>\n",
              "      <td>3</td>\n",
              "      <td>2</td>\n",
              "      <td>2.0</td>\n",
              "      <td>36</td>\n",
              "      <td>2</td>\n",
              "      <td>11</td>\n",
              "      <td>1.003134</td>\n",
              "      <td>14</td>\n",
              "      <td>1</td>\n",
              "      <td>2.0</td>\n",
              "      <td>1</td>\n",
              "      <td>1</td>\n",
              "      <td>34.165138</td>\n",
              "      <td>13.0</td>\n",
              "      <td>28.0</td>\n",
              "      <td>41.0</td>\n",
              "      <td>25.86</td>\n",
              "    </tr>\n",
              "    <tr>\n",
              "      <th>4</th>\n",
              "      <td>574</td>\n",
              "      <td>1175393</td>\n",
              "      <td>146</td>\n",
              "      <td>55</td>\n",
              "      <td>2867</td>\n",
              "      <td>726.53</td>\n",
              "      <td>727.53</td>\n",
              "      <td>0</td>\n",
              "      <td>0</td>\n",
              "      <td>11</td>\n",
              "      <td>0</td>\n",
              "      <td>30</td>\n",
              "      <td>3</td>\n",
              "      <td>2</td>\n",
              "      <td>2.0</td>\n",
              "      <td>36</td>\n",
              "      <td>2</td>\n",
              "      <td>11</td>\n",
              "      <td>0.998625</td>\n",
              "      <td>3</td>\n",
              "      <td>1</td>\n",
              "      <td>1.0</td>\n",
              "      <td>3</td>\n",
              "      <td>3</td>\n",
              "      <td>44.702703</td>\n",
              "      <td>15.0</td>\n",
              "      <td>109.0</td>\n",
              "      <td>95.0</td>\n",
              "      <td>28.87</td>\n",
              "    </tr>\n",
              "    <tr>\n",
              "      <th>...</th>\n",
              "      <td>...</td>\n",
              "      <td>...</td>\n",
              "      <td>...</td>\n",
              "      <td>...</td>\n",
              "      <td>...</td>\n",
              "      <td>...</td>\n",
              "      <td>...</td>\n",
              "      <td>...</td>\n",
              "      <td>...</td>\n",
              "      <td>...</td>\n",
              "      <td>...</td>\n",
              "      <td>...</td>\n",
              "      <td>...</td>\n",
              "      <td>...</td>\n",
              "      <td>...</td>\n",
              "      <td>...</td>\n",
              "      <td>...</td>\n",
              "      <td>...</td>\n",
              "      <td>...</td>\n",
              "      <td>...</td>\n",
              "      <td>...</td>\n",
              "      <td>...</td>\n",
              "      <td>...</td>\n",
              "      <td>...</td>\n",
              "      <td>...</td>\n",
              "      <td>...</td>\n",
              "      <td>...</td>\n",
              "      <td>...</td>\n",
              "      <td>...</td>\n",
              "    </tr>\n",
              "    <tr>\n",
              "      <th>3540</th>\n",
              "      <td>488757</td>\n",
              "      <td>1364079</td>\n",
              "      <td>146</td>\n",
              "      <td>137</td>\n",
              "      <td>2490</td>\n",
              "      <td>290.03</td>\n",
              "      <td>292.03</td>\n",
              "      <td>0</td>\n",
              "      <td>0</td>\n",
              "      <td>9</td>\n",
              "      <td>2</td>\n",
              "      <td>17</td>\n",
              "      <td>3</td>\n",
              "      <td>0</td>\n",
              "      <td>4.4</td>\n",
              "      <td>36</td>\n",
              "      <td>2</td>\n",
              "      <td>11</td>\n",
              "      <td>0.993151</td>\n",
              "      <td>10</td>\n",
              "      <td>2</td>\n",
              "      <td>1.0</td>\n",
              "      <td>1</td>\n",
              "      <td>1</td>\n",
              "      <td>651.254098</td>\n",
              "      <td>256.0</td>\n",
              "      <td>204.0</td>\n",
              "      <td>269.0</td>\n",
              "      <td>299.37</td>\n",
              "    </tr>\n",
              "    <tr>\n",
              "      <th>3541</th>\n",
              "      <td>488887</td>\n",
              "      <td>1435797</td>\n",
              "      <td>146</td>\n",
              "      <td>137</td>\n",
              "      <td>2569</td>\n",
              "      <td>340.47</td>\n",
              "      <td>340.47</td>\n",
              "      <td>0</td>\n",
              "      <td>0</td>\n",
              "      <td>9</td>\n",
              "      <td>2</td>\n",
              "      <td>17</td>\n",
              "      <td>3</td>\n",
              "      <td>0</td>\n",
              "      <td>4.4</td>\n",
              "      <td>36</td>\n",
              "      <td>2</td>\n",
              "      <td>11</td>\n",
              "      <td>1.000000</td>\n",
              "      <td>10</td>\n",
              "      <td>2</td>\n",
              "      <td>0.0</td>\n",
              "      <td>2</td>\n",
              "      <td>1</td>\n",
              "      <td>444.433333</td>\n",
              "      <td>689.0</td>\n",
              "      <td>837.0</td>\n",
              "      <td>257.0</td>\n",
              "      <td>438.44</td>\n",
              "    </tr>\n",
              "    <tr>\n",
              "      <th>3542</th>\n",
              "      <td>488978</td>\n",
              "      <td>1278837</td>\n",
              "      <td>146</td>\n",
              "      <td>137</td>\n",
              "      <td>1571</td>\n",
              "      <td>641.23</td>\n",
              "      <td>639.23</td>\n",
              "      <td>0</td>\n",
              "      <td>0</td>\n",
              "      <td>4</td>\n",
              "      <td>0</td>\n",
              "      <td>17</td>\n",
              "      <td>3</td>\n",
              "      <td>0</td>\n",
              "      <td>4.4</td>\n",
              "      <td>36</td>\n",
              "      <td>2</td>\n",
              "      <td>11</td>\n",
              "      <td>1.003129</td>\n",
              "      <td>1</td>\n",
              "      <td>2</td>\n",
              "      <td>2.0</td>\n",
              "      <td>3</td>\n",
              "      <td>3</td>\n",
              "      <td>120.320988</td>\n",
              "      <td>134.0</td>\n",
              "      <td>81.0</td>\n",
              "      <td>188.0</td>\n",
              "      <td>101.73</td>\n",
              "    </tr>\n",
              "    <tr>\n",
              "      <th>3543</th>\n",
              "      <td>489070</td>\n",
              "      <td>1172455</td>\n",
              "      <td>146</td>\n",
              "      <td>137</td>\n",
              "      <td>2956</td>\n",
              "      <td>639.23</td>\n",
              "      <td>640.23</td>\n",
              "      <td>0</td>\n",
              "      <td>0</td>\n",
              "      <td>4</td>\n",
              "      <td>0</td>\n",
              "      <td>17</td>\n",
              "      <td>3</td>\n",
              "      <td>0</td>\n",
              "      <td>4.4</td>\n",
              "      <td>36</td>\n",
              "      <td>2</td>\n",
              "      <td>11</td>\n",
              "      <td>0.998438</td>\n",
              "      <td>1</td>\n",
              "      <td>2</td>\n",
              "      <td>1.0</td>\n",
              "      <td>3</td>\n",
              "      <td>3</td>\n",
              "      <td>103.768293</td>\n",
              "      <td>69.0</td>\n",
              "      <td>108.0</td>\n",
              "      <td>121.0</td>\n",
              "      <td>87.95</td>\n",
              "    </tr>\n",
              "    <tr>\n",
              "      <th>3544</th>\n",
              "      <td>489111</td>\n",
              "      <td>1478221</td>\n",
              "      <td>146</td>\n",
              "      <td>137</td>\n",
              "      <td>2104</td>\n",
              "      <td>641.23</td>\n",
              "      <td>639.23</td>\n",
              "      <td>0</td>\n",
              "      <td>0</td>\n",
              "      <td>4</td>\n",
              "      <td>0</td>\n",
              "      <td>17</td>\n",
              "      <td>3</td>\n",
              "      <td>0</td>\n",
              "      <td>4.4</td>\n",
              "      <td>36</td>\n",
              "      <td>2</td>\n",
              "      <td>11</td>\n",
              "      <td>1.003129</td>\n",
              "      <td>1</td>\n",
              "      <td>2</td>\n",
              "      <td>2.0</td>\n",
              "      <td>3</td>\n",
              "      <td>3</td>\n",
              "      <td>76.161290</td>\n",
              "      <td>53.0</td>\n",
              "      <td>95.0</td>\n",
              "      <td>67.0</td>\n",
              "      <td>74.23</td>\n",
              "    </tr>\n",
              "  </tbody>\n",
              "</table>\n",
              "<p>3545 rows × 29 columns</p>\n",
              "</div>"
            ],
            "text/plain": [
              "       index       id  week  ...  last_2_orders  last_3_orders       0\n",
              "0        145  1028232   146  ...          162.0          176.0  146.40\n",
              "1        237  1192413   146  ...           26.0           55.0   27.08\n",
              "2        337  1497398   146  ...           53.0           13.0   23.54\n",
              "3        455  1152412   146  ...           28.0           41.0   25.86\n",
              "4        574  1175393   146  ...          109.0           95.0   28.87\n",
              "...      ...      ...   ...  ...            ...            ...     ...\n",
              "3540  488757  1364079   146  ...          204.0          269.0  299.37\n",
              "3541  488887  1435797   146  ...          837.0          257.0  438.44\n",
              "3542  488978  1278837   146  ...           81.0          188.0  101.73\n",
              "3543  489070  1172455   146  ...          108.0          121.0   87.95\n",
              "3544  489111  1478221   146  ...           95.0           67.0   74.23\n",
              "\n",
              "[3545 rows x 29 columns]"
            ]
          },
          "metadata": {
            "tags": []
          },
          "execution_count": 62
        }
      ]
    },
    {
      "cell_type": "code",
      "metadata": {
        "id": "HonPTGxcjzd0",
        "colab_type": "code",
        "outputId": "2d8f57a6-49fe-42cf-f34f-7572b11c585c",
        "colab": {
          "base_uri": "https://localhost:8080/",
          "height": 34
        }
      },
      "source": [
        "final_df.shape"
      ],
      "execution_count": 0,
      "outputs": [
        {
          "output_type": "execute_result",
          "data": {
            "text/plain": [
              "(489121, 29)"
            ]
          },
          "metadata": {
            "tags": []
          },
          "execution_count": 63
        }
      ]
    },
    {
      "cell_type": "code",
      "metadata": {
        "id": "f7TFC8KSImZM",
        "colab_type": "code",
        "colab": {}
      },
      "source": [
        "import pickle"
      ],
      "execution_count": 0,
      "outputs": []
    },
    {
      "cell_type": "code",
      "metadata": {
        "id": "8JYaUWZXIngP",
        "colab_type": "code",
        "colab": {}
      },
      "source": [
        "pickle.dump(m, open(\"randomforest.pkl\", 'wb'))"
      ],
      "execution_count": 0,
      "outputs": []
    },
    {
      "cell_type": "code",
      "metadata": {
        "id": "cYBq6pwXND-V",
        "colab_type": "code",
        "colab": {}
      },
      "source": [
        "final_df_v1 = final_df.loc[final_df['week'] >= 144,:]"
      ],
      "execution_count": 0,
      "outputs": []
    },
    {
      "cell_type": "code",
      "metadata": {
        "id": "HXGXdKqFNbaz",
        "colab_type": "code",
        "colab": {
          "base_uri": "https://localhost:8080/",
          "height": 218
        },
        "outputId": "4d890ea6-9266-444a-d47e-f4dafad65b07"
      },
      "source": [
        "final_df_v1.loc[final_df_v1['is_train'] == 0,\"is_predicted\"] = 0\n",
        "final_df_v1.loc[final_df_v1['is_train'] == 1,\"is_predicted\"] = 1"
      ],
      "execution_count": 69,
      "outputs": [
        {
          "output_type": "stream",
          "text": [
            "/usr/local/lib/python3.6/dist-packages/pandas/core/indexing.py:845: SettingWithCopyWarning: \n",
            "A value is trying to be set on a copy of a slice from a DataFrame.\n",
            "Try using .loc[row_indexer,col_indexer] = value instead\n",
            "\n",
            "See the caveats in the documentation: https://pandas.pydata.org/pandas-docs/stable/user_guide/indexing.html#returning-a-view-versus-a-copy\n",
            "  self.obj[key] = _infer_fill_value(value)\n",
            "/usr/local/lib/python3.6/dist-packages/pandas/core/indexing.py:966: SettingWithCopyWarning: \n",
            "A value is trying to be set on a copy of a slice from a DataFrame.\n",
            "Try using .loc[row_indexer,col_indexer] = value instead\n",
            "\n",
            "See the caveats in the documentation: https://pandas.pydata.org/pandas-docs/stable/user_guide/indexing.html#returning-a-view-versus-a-copy\n",
            "  self.obj[item] = s\n"
          ],
          "name": "stderr"
        }
      ]
    },
    {
      "cell_type": "code",
      "metadata": {
        "id": "Y1bcuZQtNsVe",
        "colab_type": "code",
        "colab": {
          "base_uri": "https://localhost:8080/",
          "height": 67
        },
        "outputId": "65c41b3b-58f5-45d1-d064-f8562435a12c"
      },
      "source": [
        "final_df_v1['is_predicted'].value_counts()"
      ],
      "execution_count": 70,
      "outputs": [
        {
          "output_type": "execute_result",
          "data": {
            "text/plain": [
              "0.0    32573\n",
              "1.0     6570\n",
              "Name: is_predicted, dtype: int64"
            ]
          },
          "metadata": {
            "tags": []
          },
          "execution_count": 70
        }
      ]
    },
    {
      "cell_type": "code",
      "metadata": {
        "id": "s3HvHHj-N6zW",
        "colab_type": "code",
        "colab": {
          "base_uri": "https://localhost:8080/",
          "height": 34
        },
        "outputId": "77d18d44-d294-4216-bf77-561a4dbbc832"
      },
      "source": [
        "test_df_final.shape"
      ],
      "execution_count": 71,
      "outputs": [
        {
          "output_type": "execute_result",
          "data": {
            "text/plain": [
              "(32573, 29)"
            ]
          },
          "metadata": {
            "tags": []
          },
          "execution_count": 71
        }
      ]
    },
    {
      "cell_type": "code",
      "metadata": {
        "id": "MRbCvXYPPG3u",
        "colab_type": "code",
        "colab": {
          "base_uri": "https://localhost:8080/",
          "height": 126
        },
        "outputId": "0b170c29-07eb-4b87-e671-abf43d289841"
      },
      "source": [
        "test_df_final.head(2)"
      ],
      "execution_count": 72,
      "outputs": [
        {
          "output_type": "execute_result",
          "data": {
            "text/html": [
              "<div>\n",
              "<style scoped>\n",
              "    .dataframe tbody tr th:only-of-type {\n",
              "        vertical-align: middle;\n",
              "    }\n",
              "\n",
              "    .dataframe tbody tr th {\n",
              "        vertical-align: top;\n",
              "    }\n",
              "\n",
              "    .dataframe thead th {\n",
              "        text-align: right;\n",
              "    }\n",
              "</style>\n",
              "<table border=\"1\" class=\"dataframe\">\n",
              "  <thead>\n",
              "    <tr style=\"text-align: right;\">\n",
              "      <th></th>\n",
              "      <th>id</th>\n",
              "      <th>week</th>\n",
              "      <th>center_id</th>\n",
              "      <th>meal_id</th>\n",
              "      <th>checkout_price</th>\n",
              "      <th>base_price</th>\n",
              "      <th>emailer_for_promotion</th>\n",
              "      <th>homepage_featured</th>\n",
              "      <th>num_orders</th>\n",
              "      <th>category</th>\n",
              "      <th>cuisine</th>\n",
              "      <th>city_code</th>\n",
              "      <th>region_code</th>\n",
              "      <th>center_type</th>\n",
              "      <th>op_area</th>\n",
              "      <th>month</th>\n",
              "      <th>year</th>\n",
              "      <th>quarter</th>\n",
              "      <th>checkout_per_base</th>\n",
              "      <th>category_cuisine</th>\n",
              "      <th>op_area_cat</th>\n",
              "      <th>C</th>\n",
              "      <th>checkout_cat</th>\n",
              "      <th>base_cat</th>\n",
              "      <th>avg_order</th>\n",
              "      <th>is_train</th>\n",
              "      <th>last_order</th>\n",
              "      <th>last_2_orders</th>\n",
              "      <th>last_3_orders</th>\n",
              "    </tr>\n",
              "  </thead>\n",
              "  <tbody>\n",
              "    <tr>\n",
              "      <th>145</th>\n",
              "      <td>1028232</td>\n",
              "      <td>146</td>\n",
              "      <td>55</td>\n",
              "      <td>1885</td>\n",
              "      <td>158.11</td>\n",
              "      <td>159.11</td>\n",
              "      <td>0</td>\n",
              "      <td>0</td>\n",
              "      <td>NaN</td>\n",
              "      <td>0</td>\n",
              "      <td>3</td>\n",
              "      <td>30</td>\n",
              "      <td>3</td>\n",
              "      <td>2</td>\n",
              "      <td>2.0</td>\n",
              "      <td>36</td>\n",
              "      <td>2</td>\n",
              "      <td>11</td>\n",
              "      <td>0.993715</td>\n",
              "      <td>12</td>\n",
              "      <td>1</td>\n",
              "      <td>1.0</td>\n",
              "      <td>1</td>\n",
              "      <td>1</td>\n",
              "      <td>230.324138</td>\n",
              "      <td>0</td>\n",
              "      <td>121.0</td>\n",
              "      <td>162.0</td>\n",
              "      <td>176.0</td>\n",
              "    </tr>\n",
              "    <tr>\n",
              "      <th>146</th>\n",
              "      <td>1262649</td>\n",
              "      <td>147</td>\n",
              "      <td>55</td>\n",
              "      <td>1885</td>\n",
              "      <td>159.11</td>\n",
              "      <td>159.11</td>\n",
              "      <td>0</td>\n",
              "      <td>0</td>\n",
              "      <td>NaN</td>\n",
              "      <td>0</td>\n",
              "      <td>3</td>\n",
              "      <td>30</td>\n",
              "      <td>3</td>\n",
              "      <td>2</td>\n",
              "      <td>2.0</td>\n",
              "      <td>36</td>\n",
              "      <td>2</td>\n",
              "      <td>11</td>\n",
              "      <td>1.000000</td>\n",
              "      <td>12</td>\n",
              "      <td>1</td>\n",
              "      <td>0.0</td>\n",
              "      <td>1</td>\n",
              "      <td>1</td>\n",
              "      <td>230.324138</td>\n",
              "      <td>0</td>\n",
              "      <td>NaN</td>\n",
              "      <td>121.0</td>\n",
              "      <td>162.0</td>\n",
              "    </tr>\n",
              "  </tbody>\n",
              "</table>\n",
              "</div>"
            ],
            "text/plain": [
              "          id  week  center_id  ...  last_order  last_2_orders  last_3_orders\n",
              "145  1028232   146         55  ...       121.0          162.0          176.0\n",
              "146  1262649   147         55  ...         NaN          121.0          162.0\n",
              "\n",
              "[2 rows x 29 columns]"
            ]
          },
          "metadata": {
            "tags": []
          },
          "execution_count": 72
        }
      ]
    },
    {
      "cell_type": "code",
      "metadata": {
        "id": "RuvJIjKxk5VD",
        "colab_type": "code",
        "colab": {}
      },
      "source": [
        "def perform_prediction(final_df,m):\n",
        "  test_df_final = final_df.loc[final_df['is_predicted'] == 0,:]\n",
        "  test_df_no_null = test_df_final.drop(columns=\"num_orders\",axis=1).dropna(axis=0)\n",
        "  if(test_df_no_null.shape[0] == 0):\n",
        "    test_df_no_null = test_df_final.drop(columns=\"num_orders\",axis=1).fillna(0)\n",
        "  X_test = test_df_no_null[['week', 'center_id', 'meal_id', 'checkout_price', 'base_price',\n",
        "       'emailer_for_promotion', 'homepage_featured', 'category',\n",
        "       'cuisine', 'city_code', 'region_code', 'center_type', 'op_area',\n",
        "       'month', 'year', 'quarter', 'checkout_per_base', 'category_cuisine',\n",
        "       'op_area_cat', 'C', 'checkout_cat', 'base_cat',\n",
        "       'avg_order','last_order','last_2_orders','last_3_orders']]\n",
        "  y_pred = m.predict(X_test)\n",
        "  test_predictions = pd.concat([test_df_no_null.reset_index(inplace=False),pd.Series(y_pred)],axis=1)  \n",
        "  test_predictions.rename(columns={0:\"num_orders\"},inplace=True)\n",
        "  test_predictions['is_predicted'] = 1\n",
        "  test_predictions = test_predictions[['meal_id','center_id','week','num_orders','is_predicted']]\n",
        "  df = pd.merge(final_df,test_predictions,left_on=['meal_id','center_id','week'],right_on=['meal_id','center_id','week'],how=\"left\")\n",
        "  df.num_orders_x.fillna(df.num_orders_y,inplace=True)\n",
        "  df.rename(columns={'num_orders_x':'num_orders'},inplace=True)\n",
        "  df.drop(columns = \"num_orders_y\",axis=1,inplace=True)\n",
        "  df.loc[df['is_predicted_y'] == 1,'is_predicted_x'] = 1\n",
        "  df.drop(columns = \"is_predicted_y\",axis=1,inplace=True)\n",
        "  df.rename(columns={\"is_predicted_x\":'is_predicted'},inplace=True)\n",
        "  \n",
        "  return df"
      ],
      "execution_count": 0,
      "outputs": []
    },
    {
      "cell_type": "code",
      "metadata": {
        "id": "u0R9jrF_lGUR",
        "colab_type": "code",
        "colab": {
          "base_uri": "https://localhost:8080/",
          "height": 1000
        },
        "outputId": "0e49e649-7f9a-4857-edb8-b9c1962e6e8e"
      },
      "source": [
        "test_dataframe = pd.DataFrame()\n",
        "counter = 0\n",
        "final_df_v2 = final_df_v1.copy()\n",
        "while(test_dataframe.shape[0] <= 32573):\n",
        "  df = perform_prediction(final_df_v2,m)\n",
        "  test_dataframe = pd.concat([test_dataframe,df[(df['is_train']==0) & (df['is_predicted'] == 1)]],axis=0)\n",
        "  test_dataframe.drop_duplicates(keep=\"first\",inplace=True,ignore_index=True)\n",
        "  final_df_v2 = last3orders(df)\n",
        "  counter += 1\n",
        "  print(counter)\n",
        "  if(counter == 15):\n",
        "    break\n",
        "  else:\n",
        "    pass"
      ],
      "execution_count": 95,
      "outputs": [
        {
          "output_type": "stream",
          "text": [
            "/usr/local/lib/python3.6/dist-packages/ipykernel_launcher.py:7: SettingWithCopyWarning: \n",
            "A value is trying to be set on a copy of a slice from a DataFrame.\n",
            "Try using .loc[row_indexer,col_indexer] = value instead\n",
            "\n",
            "See the caveats in the documentation: https://pandas.pydata.org/pandas-docs/stable/user_guide/indexing.html#returning-a-view-versus-a-copy\n",
            "  import sys\n",
            "/usr/local/lib/python3.6/dist-packages/ipykernel_launcher.py:8: SettingWithCopyWarning: \n",
            "A value is trying to be set on a copy of a slice from a DataFrame.\n",
            "Try using .loc[row_indexer,col_indexer] = value instead\n",
            "\n",
            "See the caveats in the documentation: https://pandas.pydata.org/pandas-docs/stable/user_guide/indexing.html#returning-a-view-versus-a-copy\n",
            "  \n",
            "/usr/local/lib/python3.6/dist-packages/ipykernel_launcher.py:9: SettingWithCopyWarning: \n",
            "A value is trying to be set on a copy of a slice from a DataFrame.\n",
            "Try using .loc[row_indexer,col_indexer] = value instead\n",
            "\n",
            "See the caveats in the documentation: https://pandas.pydata.org/pandas-docs/stable/user_guide/indexing.html#returning-a-view-versus-a-copy\n",
            "  if __name__ == '__main__':\n"
          ],
          "name": "stderr"
        },
        {
          "output_type": "stream",
          "text": [
            "1\n"
          ],
          "name": "stdout"
        },
        {
          "output_type": "stream",
          "text": [
            "/usr/local/lib/python3.6/dist-packages/ipykernel_launcher.py:7: SettingWithCopyWarning: \n",
            "A value is trying to be set on a copy of a slice from a DataFrame.\n",
            "Try using .loc[row_indexer,col_indexer] = value instead\n",
            "\n",
            "See the caveats in the documentation: https://pandas.pydata.org/pandas-docs/stable/user_guide/indexing.html#returning-a-view-versus-a-copy\n",
            "  import sys\n",
            "/usr/local/lib/python3.6/dist-packages/ipykernel_launcher.py:8: SettingWithCopyWarning: \n",
            "A value is trying to be set on a copy of a slice from a DataFrame.\n",
            "Try using .loc[row_indexer,col_indexer] = value instead\n",
            "\n",
            "See the caveats in the documentation: https://pandas.pydata.org/pandas-docs/stable/user_guide/indexing.html#returning-a-view-versus-a-copy\n",
            "  \n",
            "/usr/local/lib/python3.6/dist-packages/ipykernel_launcher.py:9: SettingWithCopyWarning: \n",
            "A value is trying to be set on a copy of a slice from a DataFrame.\n",
            "Try using .loc[row_indexer,col_indexer] = value instead\n",
            "\n",
            "See the caveats in the documentation: https://pandas.pydata.org/pandas-docs/stable/user_guide/indexing.html#returning-a-view-versus-a-copy\n",
            "  if __name__ == '__main__':\n"
          ],
          "name": "stderr"
        },
        {
          "output_type": "stream",
          "text": [
            "2\n"
          ],
          "name": "stdout"
        },
        {
          "output_type": "stream",
          "text": [
            "/usr/local/lib/python3.6/dist-packages/ipykernel_launcher.py:7: SettingWithCopyWarning: \n",
            "A value is trying to be set on a copy of a slice from a DataFrame.\n",
            "Try using .loc[row_indexer,col_indexer] = value instead\n",
            "\n",
            "See the caveats in the documentation: https://pandas.pydata.org/pandas-docs/stable/user_guide/indexing.html#returning-a-view-versus-a-copy\n",
            "  import sys\n",
            "/usr/local/lib/python3.6/dist-packages/ipykernel_launcher.py:8: SettingWithCopyWarning: \n",
            "A value is trying to be set on a copy of a slice from a DataFrame.\n",
            "Try using .loc[row_indexer,col_indexer] = value instead\n",
            "\n",
            "See the caveats in the documentation: https://pandas.pydata.org/pandas-docs/stable/user_guide/indexing.html#returning-a-view-versus-a-copy\n",
            "  \n",
            "/usr/local/lib/python3.6/dist-packages/ipykernel_launcher.py:9: SettingWithCopyWarning: \n",
            "A value is trying to be set on a copy of a slice from a DataFrame.\n",
            "Try using .loc[row_indexer,col_indexer] = value instead\n",
            "\n",
            "See the caveats in the documentation: https://pandas.pydata.org/pandas-docs/stable/user_guide/indexing.html#returning-a-view-versus-a-copy\n",
            "  if __name__ == '__main__':\n"
          ],
          "name": "stderr"
        },
        {
          "output_type": "stream",
          "text": [
            "3\n"
          ],
          "name": "stdout"
        },
        {
          "output_type": "stream",
          "text": [
            "/usr/local/lib/python3.6/dist-packages/ipykernel_launcher.py:7: SettingWithCopyWarning: \n",
            "A value is trying to be set on a copy of a slice from a DataFrame.\n",
            "Try using .loc[row_indexer,col_indexer] = value instead\n",
            "\n",
            "See the caveats in the documentation: https://pandas.pydata.org/pandas-docs/stable/user_guide/indexing.html#returning-a-view-versus-a-copy\n",
            "  import sys\n",
            "/usr/local/lib/python3.6/dist-packages/ipykernel_launcher.py:8: SettingWithCopyWarning: \n",
            "A value is trying to be set on a copy of a slice from a DataFrame.\n",
            "Try using .loc[row_indexer,col_indexer] = value instead\n",
            "\n",
            "See the caveats in the documentation: https://pandas.pydata.org/pandas-docs/stable/user_guide/indexing.html#returning-a-view-versus-a-copy\n",
            "  \n",
            "/usr/local/lib/python3.6/dist-packages/ipykernel_launcher.py:9: SettingWithCopyWarning: \n",
            "A value is trying to be set on a copy of a slice from a DataFrame.\n",
            "Try using .loc[row_indexer,col_indexer] = value instead\n",
            "\n",
            "See the caveats in the documentation: https://pandas.pydata.org/pandas-docs/stable/user_guide/indexing.html#returning-a-view-versus-a-copy\n",
            "  if __name__ == '__main__':\n"
          ],
          "name": "stderr"
        },
        {
          "output_type": "stream",
          "text": [
            "4\n"
          ],
          "name": "stdout"
        },
        {
          "output_type": "stream",
          "text": [
            "/usr/local/lib/python3.6/dist-packages/ipykernel_launcher.py:7: SettingWithCopyWarning: \n",
            "A value is trying to be set on a copy of a slice from a DataFrame.\n",
            "Try using .loc[row_indexer,col_indexer] = value instead\n",
            "\n",
            "See the caveats in the documentation: https://pandas.pydata.org/pandas-docs/stable/user_guide/indexing.html#returning-a-view-versus-a-copy\n",
            "  import sys\n",
            "/usr/local/lib/python3.6/dist-packages/ipykernel_launcher.py:8: SettingWithCopyWarning: \n",
            "A value is trying to be set on a copy of a slice from a DataFrame.\n",
            "Try using .loc[row_indexer,col_indexer] = value instead\n",
            "\n",
            "See the caveats in the documentation: https://pandas.pydata.org/pandas-docs/stable/user_guide/indexing.html#returning-a-view-versus-a-copy\n",
            "  \n",
            "/usr/local/lib/python3.6/dist-packages/ipykernel_launcher.py:9: SettingWithCopyWarning: \n",
            "A value is trying to be set on a copy of a slice from a DataFrame.\n",
            "Try using .loc[row_indexer,col_indexer] = value instead\n",
            "\n",
            "See the caveats in the documentation: https://pandas.pydata.org/pandas-docs/stable/user_guide/indexing.html#returning-a-view-versus-a-copy\n",
            "  if __name__ == '__main__':\n"
          ],
          "name": "stderr"
        },
        {
          "output_type": "stream",
          "text": [
            "5\n"
          ],
          "name": "stdout"
        },
        {
          "output_type": "stream",
          "text": [
            "/usr/local/lib/python3.6/dist-packages/ipykernel_launcher.py:7: SettingWithCopyWarning: \n",
            "A value is trying to be set on a copy of a slice from a DataFrame.\n",
            "Try using .loc[row_indexer,col_indexer] = value instead\n",
            "\n",
            "See the caveats in the documentation: https://pandas.pydata.org/pandas-docs/stable/user_guide/indexing.html#returning-a-view-versus-a-copy\n",
            "  import sys\n",
            "/usr/local/lib/python3.6/dist-packages/ipykernel_launcher.py:8: SettingWithCopyWarning: \n",
            "A value is trying to be set on a copy of a slice from a DataFrame.\n",
            "Try using .loc[row_indexer,col_indexer] = value instead\n",
            "\n",
            "See the caveats in the documentation: https://pandas.pydata.org/pandas-docs/stable/user_guide/indexing.html#returning-a-view-versus-a-copy\n",
            "  \n",
            "/usr/local/lib/python3.6/dist-packages/ipykernel_launcher.py:9: SettingWithCopyWarning: \n",
            "A value is trying to be set on a copy of a slice from a DataFrame.\n",
            "Try using .loc[row_indexer,col_indexer] = value instead\n",
            "\n",
            "See the caveats in the documentation: https://pandas.pydata.org/pandas-docs/stable/user_guide/indexing.html#returning-a-view-versus-a-copy\n",
            "  if __name__ == '__main__':\n"
          ],
          "name": "stderr"
        },
        {
          "output_type": "stream",
          "text": [
            "6\n"
          ],
          "name": "stdout"
        },
        {
          "output_type": "stream",
          "text": [
            "/usr/local/lib/python3.6/dist-packages/ipykernel_launcher.py:7: SettingWithCopyWarning: \n",
            "A value is trying to be set on a copy of a slice from a DataFrame.\n",
            "Try using .loc[row_indexer,col_indexer] = value instead\n",
            "\n",
            "See the caveats in the documentation: https://pandas.pydata.org/pandas-docs/stable/user_guide/indexing.html#returning-a-view-versus-a-copy\n",
            "  import sys\n",
            "/usr/local/lib/python3.6/dist-packages/ipykernel_launcher.py:8: SettingWithCopyWarning: \n",
            "A value is trying to be set on a copy of a slice from a DataFrame.\n",
            "Try using .loc[row_indexer,col_indexer] = value instead\n",
            "\n",
            "See the caveats in the documentation: https://pandas.pydata.org/pandas-docs/stable/user_guide/indexing.html#returning-a-view-versus-a-copy\n",
            "  \n",
            "/usr/local/lib/python3.6/dist-packages/ipykernel_launcher.py:9: SettingWithCopyWarning: \n",
            "A value is trying to be set on a copy of a slice from a DataFrame.\n",
            "Try using .loc[row_indexer,col_indexer] = value instead\n",
            "\n",
            "See the caveats in the documentation: https://pandas.pydata.org/pandas-docs/stable/user_guide/indexing.html#returning-a-view-versus-a-copy\n",
            "  if __name__ == '__main__':\n"
          ],
          "name": "stderr"
        },
        {
          "output_type": "stream",
          "text": [
            "7\n"
          ],
          "name": "stdout"
        },
        {
          "output_type": "stream",
          "text": [
            "/usr/local/lib/python3.6/dist-packages/ipykernel_launcher.py:7: SettingWithCopyWarning: \n",
            "A value is trying to be set on a copy of a slice from a DataFrame.\n",
            "Try using .loc[row_indexer,col_indexer] = value instead\n",
            "\n",
            "See the caveats in the documentation: https://pandas.pydata.org/pandas-docs/stable/user_guide/indexing.html#returning-a-view-versus-a-copy\n",
            "  import sys\n",
            "/usr/local/lib/python3.6/dist-packages/ipykernel_launcher.py:8: SettingWithCopyWarning: \n",
            "A value is trying to be set on a copy of a slice from a DataFrame.\n",
            "Try using .loc[row_indexer,col_indexer] = value instead\n",
            "\n",
            "See the caveats in the documentation: https://pandas.pydata.org/pandas-docs/stable/user_guide/indexing.html#returning-a-view-versus-a-copy\n",
            "  \n",
            "/usr/local/lib/python3.6/dist-packages/ipykernel_launcher.py:9: SettingWithCopyWarning: \n",
            "A value is trying to be set on a copy of a slice from a DataFrame.\n",
            "Try using .loc[row_indexer,col_indexer] = value instead\n",
            "\n",
            "See the caveats in the documentation: https://pandas.pydata.org/pandas-docs/stable/user_guide/indexing.html#returning-a-view-versus-a-copy\n",
            "  if __name__ == '__main__':\n"
          ],
          "name": "stderr"
        },
        {
          "output_type": "stream",
          "text": [
            "8\n"
          ],
          "name": "stdout"
        },
        {
          "output_type": "stream",
          "text": [
            "/usr/local/lib/python3.6/dist-packages/ipykernel_launcher.py:7: SettingWithCopyWarning: \n",
            "A value is trying to be set on a copy of a slice from a DataFrame.\n",
            "Try using .loc[row_indexer,col_indexer] = value instead\n",
            "\n",
            "See the caveats in the documentation: https://pandas.pydata.org/pandas-docs/stable/user_guide/indexing.html#returning-a-view-versus-a-copy\n",
            "  import sys\n",
            "/usr/local/lib/python3.6/dist-packages/ipykernel_launcher.py:8: SettingWithCopyWarning: \n",
            "A value is trying to be set on a copy of a slice from a DataFrame.\n",
            "Try using .loc[row_indexer,col_indexer] = value instead\n",
            "\n",
            "See the caveats in the documentation: https://pandas.pydata.org/pandas-docs/stable/user_guide/indexing.html#returning-a-view-versus-a-copy\n",
            "  \n",
            "/usr/local/lib/python3.6/dist-packages/ipykernel_launcher.py:9: SettingWithCopyWarning: \n",
            "A value is trying to be set on a copy of a slice from a DataFrame.\n",
            "Try using .loc[row_indexer,col_indexer] = value instead\n",
            "\n",
            "See the caveats in the documentation: https://pandas.pydata.org/pandas-docs/stable/user_guide/indexing.html#returning-a-view-versus-a-copy\n",
            "  if __name__ == '__main__':\n"
          ],
          "name": "stderr"
        },
        {
          "output_type": "stream",
          "text": [
            "9\n"
          ],
          "name": "stdout"
        },
        {
          "output_type": "stream",
          "text": [
            "/usr/local/lib/python3.6/dist-packages/ipykernel_launcher.py:7: SettingWithCopyWarning: \n",
            "A value is trying to be set on a copy of a slice from a DataFrame.\n",
            "Try using .loc[row_indexer,col_indexer] = value instead\n",
            "\n",
            "See the caveats in the documentation: https://pandas.pydata.org/pandas-docs/stable/user_guide/indexing.html#returning-a-view-versus-a-copy\n",
            "  import sys\n",
            "/usr/local/lib/python3.6/dist-packages/ipykernel_launcher.py:8: SettingWithCopyWarning: \n",
            "A value is trying to be set on a copy of a slice from a DataFrame.\n",
            "Try using .loc[row_indexer,col_indexer] = value instead\n",
            "\n",
            "See the caveats in the documentation: https://pandas.pydata.org/pandas-docs/stable/user_guide/indexing.html#returning-a-view-versus-a-copy\n",
            "  \n",
            "/usr/local/lib/python3.6/dist-packages/ipykernel_launcher.py:9: SettingWithCopyWarning: \n",
            "A value is trying to be set on a copy of a slice from a DataFrame.\n",
            "Try using .loc[row_indexer,col_indexer] = value instead\n",
            "\n",
            "See the caveats in the documentation: https://pandas.pydata.org/pandas-docs/stable/user_guide/indexing.html#returning-a-view-versus-a-copy\n",
            "  if __name__ == '__main__':\n"
          ],
          "name": "stderr"
        },
        {
          "output_type": "stream",
          "text": [
            "10\n"
          ],
          "name": "stdout"
        }
      ]
    },
    {
      "cell_type": "code",
      "metadata": {
        "id": "9jvXV_jaUNtX",
        "colab_type": "code",
        "colab": {}
      },
      "source": [
        "test_dataframe.drop_duplicates(ignore_index=True,inplace=True)"
      ],
      "execution_count": 0,
      "outputs": []
    },
    {
      "cell_type": "code",
      "metadata": {
        "id": "CaKCfREYY_JD",
        "colab_type": "code",
        "colab": {
          "base_uri": "https://localhost:8080/",
          "height": 34
        },
        "outputId": "8b81f0ca-83d5-4170-817d-21995bb33015"
      },
      "source": [
        "test_dataframe.shape"
      ],
      "execution_count": 97,
      "outputs": [
        {
          "output_type": "execute_result",
          "data": {
            "text/plain": [
              "(33811, 30)"
            ]
          },
          "metadata": {
            "tags": []
          },
          "execution_count": 97
        }
      ]
    },
    {
      "cell_type": "code",
      "metadata": {
        "id": "U2KokPi9b8gs",
        "colab_type": "code",
        "colab": {}
      },
      "source": [
        "mydf = pd.merge(test_df_final,test_dataframe,on=\"id\",how=\"left\")"
      ],
      "execution_count": 0,
      "outputs": []
    },
    {
      "cell_type": "code",
      "metadata": {
        "id": "jacuRLyycIyE",
        "colab_type": "code",
        "colab": {}
      },
      "source": [
        "mydf['id'].drop_duplicates(keep=\"first\",inplace=True)"
      ],
      "execution_count": 0,
      "outputs": []
    },
    {
      "cell_type": "code",
      "metadata": {
        "id": "zP8kaFHAQFgw",
        "colab_type": "code",
        "colab": {
          "base_uri": "https://localhost:8080/",
          "height": 34
        },
        "outputId": "81ad576a-12d3-4e6e-a7c5-1fce17a5ceaf"
      },
      "source": [
        "mydf.shape"
      ],
      "execution_count": 109,
      "outputs": [
        {
          "output_type": "execute_result",
          "data": {
            "text/plain": [
              "(32573, 58)"
            ]
          },
          "metadata": {
            "tags": []
          },
          "execution_count": 109
        }
      ]
    },
    {
      "cell_type": "code",
      "metadata": {
        "id": "YgyFZbhOhgc6",
        "colab_type": "code",
        "colab": {}
      },
      "source": [
        "mydf.num_orders_x.fillna(mydf.num_orders_y,inplace=True)"
      ],
      "execution_count": 0,
      "outputs": []
    },
    {
      "cell_type": "code",
      "metadata": {
        "id": "BAcnE-DphvWd",
        "colab_type": "code",
        "colab": {}
      },
      "source": [
        "sub = pd.read_csv(\"sub_rf.csv\")"
      ],
      "execution_count": 0,
      "outputs": []
    },
    {
      "cell_type": "code",
      "metadata": {
        "id": "DXOgPA7gmPjs",
        "colab_type": "code",
        "colab": {}
      },
      "source": [
        "final = pd.merge(mydf,sub,on=\"id\")"
      ],
      "execution_count": 0,
      "outputs": []
    },
    {
      "cell_type": "code",
      "metadata": {
        "id": "659hA3PQmjsE",
        "colab_type": "code",
        "colab": {}
      },
      "source": [
        "final['num_orders_x'].fillna(final['num_orders'],inplace=True)"
      ],
      "execution_count": 0,
      "outputs": []
    },
    {
      "cell_type": "code",
      "metadata": {
        "id": "TMYqUJPdmylN",
        "colab_type": "code",
        "colab": {
          "base_uri": "https://localhost:8080/",
          "height": 34
        },
        "outputId": "b9734f74-3a43-40bc-b952-f6991c96077e"
      },
      "source": [
        "final['num_orders_x'].isnull().sum()"
      ],
      "execution_count": 122,
      "outputs": [
        {
          "output_type": "execute_result",
          "data": {
            "text/plain": [
              "0"
            ]
          },
          "metadata": {
            "tags": []
          },
          "execution_count": 122
        }
      ]
    },
    {
      "cell_type": "code",
      "metadata": {
        "id": "2OfM9e1eS-Cn",
        "colab_type": "code",
        "colab": {}
      },
      "source": [
        "submission = final[['id','num_orders_x']]"
      ],
      "execution_count": 0,
      "outputs": []
    },
    {
      "cell_type": "code",
      "metadata": {
        "id": "xJRIw6yxnLtu",
        "colab_type": "code",
        "colab": {
          "base_uri": "https://localhost:8080/",
          "height": 101
        },
        "outputId": "0bfb8706-3e05-4563-d349-6861dff338fb"
      },
      "source": [
        "submission.rename(columns={'num_orders_x':'num_orders'},inplace=True)\n",
        "submission.to_csv(\"submission_last3.csv\",index=False)"
      ],
      "execution_count": 124,
      "outputs": [
        {
          "output_type": "stream",
          "text": [
            "/usr/local/lib/python3.6/dist-packages/pandas/core/frame.py:4133: SettingWithCopyWarning: \n",
            "A value is trying to be set on a copy of a slice from a DataFrame\n",
            "\n",
            "See the caveats in the documentation: https://pandas.pydata.org/pandas-docs/stable/user_guide/indexing.html#returning-a-view-versus-a-copy\n",
            "  errors=errors,\n"
          ],
          "name": "stderr"
        }
      ]
    },
    {
      "cell_type": "code",
      "metadata": {
        "id": "Bx677zSBnWa8",
        "colab_type": "code",
        "colab": {
          "base_uri": "https://localhost:8080/",
          "height": 34
        },
        "outputId": "e3ee2351-3ca8-4899-e67c-bcb46a230ff9"
      },
      "source": [
        "submission.shape"
      ],
      "execution_count": 127,
      "outputs": [
        {
          "output_type": "execute_result",
          "data": {
            "text/plain": [
              "(32573, 2)"
            ]
          },
          "metadata": {
            "tags": []
          },
          "execution_count": 127
        }
      ]
    },
    {
      "cell_type": "code",
      "metadata": {
        "id": "J9SVrWUlhYkg",
        "colab_type": "code",
        "colab": {
          "base_uri": "https://localhost:8080/",
          "height": 34
        },
        "outputId": "56555659-51cf-44ba-fe2f-1c6fb7eb6ab1"
      },
      "source": [
        "test_df_final.shape"
      ],
      "execution_count": 106,
      "outputs": [
        {
          "output_type": "execute_result",
          "data": {
            "text/plain": [
              "(32573, 29)"
            ]
          },
          "metadata": {
            "tags": []
          },
          "execution_count": 106
        }
      ]
    },
    {
      "cell_type": "code",
      "metadata": {
        "id": "a2fhWmxwTCIQ",
        "colab_type": "code",
        "colab": {
          "base_uri": "https://localhost:8080/",
          "height": 156
        },
        "outputId": "a2d77fcb-35c9-4cd3-f58f-5da7cc5e5dcd"
      },
      "source": [
        "df1.head(3)"
      ],
      "execution_count": 47,
      "outputs": [
        {
          "output_type": "execute_result",
          "data": {
            "text/html": [
              "<div>\n",
              "<style scoped>\n",
              "    .dataframe tbody tr th:only-of-type {\n",
              "        vertical-align: middle;\n",
              "    }\n",
              "\n",
              "    .dataframe tbody tr th {\n",
              "        vertical-align: top;\n",
              "    }\n",
              "\n",
              "    .dataframe thead th {\n",
              "        text-align: right;\n",
              "    }\n",
              "</style>\n",
              "<table border=\"1\" class=\"dataframe\">\n",
              "  <thead>\n",
              "    <tr style=\"text-align: right;\">\n",
              "      <th></th>\n",
              "      <th>id</th>\n",
              "      <th>week</th>\n",
              "      <th>center_id</th>\n",
              "      <th>meal_id</th>\n",
              "      <th>checkout_price</th>\n",
              "      <th>base_price</th>\n",
              "      <th>emailer_for_promotion</th>\n",
              "      <th>homepage_featured</th>\n",
              "      <th>num_orders</th>\n",
              "      <th>category</th>\n",
              "      <th>cuisine</th>\n",
              "      <th>city_code</th>\n",
              "      <th>region_code</th>\n",
              "      <th>center_type</th>\n",
              "      <th>op_area</th>\n",
              "      <th>month</th>\n",
              "      <th>year</th>\n",
              "      <th>quarter</th>\n",
              "      <th>checkout_per_base</th>\n",
              "      <th>category_cuisine</th>\n",
              "      <th>op_area_cat</th>\n",
              "      <th>C</th>\n",
              "      <th>checkout_cat</th>\n",
              "      <th>base_cat</th>\n",
              "      <th>avg_order</th>\n",
              "      <th>is_train</th>\n",
              "      <th>last_order</th>\n",
              "      <th>last_2_orders</th>\n",
              "      <th>last_3_orders</th>\n",
              "      <th>is_predicted</th>\n",
              "    </tr>\n",
              "  </thead>\n",
              "  <tbody>\n",
              "    <tr>\n",
              "      <th>0</th>\n",
              "      <td>1292806</td>\n",
              "      <td>146.0</td>\n",
              "      <td>89.0</td>\n",
              "      <td>1571.0</td>\n",
              "      <td>150.35</td>\n",
              "      <td>152.35</td>\n",
              "      <td>0</td>\n",
              "      <td>0</td>\n",
              "      <td>64.77</td>\n",
              "      <td>0</td>\n",
              "      <td>3</td>\n",
              "      <td>30</td>\n",
              "      <td>3</td>\n",
              "      <td>2</td>\n",
              "      <td>2.0</td>\n",
              "      <td>36</td>\n",
              "      <td>2</td>\n",
              "      <td>11</td>\n",
              "      <td>0.986872</td>\n",
              "      <td>12</td>\n",
              "      <td>1</td>\n",
              "      <td>1.0</td>\n",
              "      <td>1</td>\n",
              "      <td>1</td>\n",
              "      <td>230.324138</td>\n",
              "      <td>1</td>\n",
              "      <td>NaN</td>\n",
              "      <td>NaN</td>\n",
              "      <td>NaN</td>\n",
              "      <td>1.0</td>\n",
              "    </tr>\n",
              "    <tr>\n",
              "      <th>1480</th>\n",
              "      <td>1428992</td>\n",
              "      <td>144.0</td>\n",
              "      <td>89.0</td>\n",
              "      <td>1571.0</td>\n",
              "      <td>590.73</td>\n",
              "      <td>592.73</td>\n",
              "      <td>0</td>\n",
              "      <td>0</td>\n",
              "      <td>69.00</td>\n",
              "      <td>4</td>\n",
              "      <td>0</td>\n",
              "      <td>49</td>\n",
              "      <td>3</td>\n",
              "      <td>0</td>\n",
              "      <td>4.8</td>\n",
              "      <td>36</td>\n",
              "      <td>2</td>\n",
              "      <td>11</td>\n",
              "      <td>0.996626</td>\n",
              "      <td>1</td>\n",
              "      <td>2</td>\n",
              "      <td>1.0</td>\n",
              "      <td>3</td>\n",
              "      <td>3</td>\n",
              "      <td>85.466667</td>\n",
              "      <td>1</td>\n",
              "      <td>64.77</td>\n",
              "      <td>NaN</td>\n",
              "      <td>NaN</td>\n",
              "      <td>1.0</td>\n",
              "    </tr>\n",
              "    <tr>\n",
              "      <th>1481</th>\n",
              "      <td>1109906</td>\n",
              "      <td>145.0</td>\n",
              "      <td>89.0</td>\n",
              "      <td>1571.0</td>\n",
              "      <td>640.23</td>\n",
              "      <td>640.23</td>\n",
              "      <td>0</td>\n",
              "      <td>0</td>\n",
              "      <td>26.00</td>\n",
              "      <td>4</td>\n",
              "      <td>0</td>\n",
              "      <td>49</td>\n",
              "      <td>3</td>\n",
              "      <td>0</td>\n",
              "      <td>4.8</td>\n",
              "      <td>36</td>\n",
              "      <td>2</td>\n",
              "      <td>11</td>\n",
              "      <td>1.000000</td>\n",
              "      <td>1</td>\n",
              "      <td>2</td>\n",
              "      <td>0.0</td>\n",
              "      <td>3</td>\n",
              "      <td>3</td>\n",
              "      <td>85.466667</td>\n",
              "      <td>1</td>\n",
              "      <td>69.00</td>\n",
              "      <td>64.77</td>\n",
              "      <td>NaN</td>\n",
              "      <td>1.0</td>\n",
              "    </tr>\n",
              "  </tbody>\n",
              "</table>\n",
              "</div>"
            ],
            "text/plain": [
              "           id   week  center_id  ...  last_2_orders  last_3_orders  is_predicted\n",
              "0     1292806  146.0       89.0  ...            NaN            NaN           1.0\n",
              "1480  1428992  144.0       89.0  ...            NaN            NaN           1.0\n",
              "1481  1109906  145.0       89.0  ...          64.77            NaN           1.0\n",
              "\n",
              "[3 rows x 30 columns]"
            ]
          },
          "metadata": {
            "tags": []
          },
          "execution_count": 47
        }
      ]
    },
    {
      "cell_type": "code",
      "metadata": {
        "id": "AzXfYC85RmpS",
        "colab_type": "code",
        "colab": {
          "base_uri": "https://localhost:8080/",
          "height": 34
        },
        "outputId": "9b235799-178b-4053-e5b4-b743d3e369a0"
      },
      "source": [
        "df['num_orders'].isnull().sum()"
      ],
      "execution_count": 45,
      "outputs": [
        {
          "output_type": "execute_result",
          "data": {
            "text/plain": [
              "28822"
            ]
          },
          "metadata": {
            "tags": []
          },
          "execution_count": 45
        }
      ]
    },
    {
      "cell_type": "code",
      "metadata": {
        "id": "Wbsx0O5pQNjA",
        "colab_type": "code",
        "colab": {
          "base_uri": "https://localhost:8080/",
          "height": 67
        },
        "outputId": "b1d32bfa-3a21-4909-e9d9-1cce657994ff"
      },
      "source": [
        "final_df_v1['is_predicted'].value_counts()"
      ],
      "execution_count": 29,
      "outputs": [
        {
          "output_type": "execute_result",
          "data": {
            "text/plain": [
              "0.0    32341\n",
              "1.0     6802\n",
              "Name: is_predicted, dtype: int64"
            ]
          },
          "metadata": {
            "tags": []
          },
          "execution_count": 29
        }
      ]
    },
    {
      "cell_type": "code",
      "metadata": {
        "id": "QR967NsjnVIf",
        "colab_type": "code",
        "outputId": "2b24759a-c501-4481-def3-93d1addcb8fa",
        "colab": {
          "base_uri": "https://localhost:8080/",
          "height": 34
        }
      },
      "source": [
        "df.shape"
      ],
      "execution_count": 0,
      "outputs": [
        {
          "output_type": "execute_result",
          "data": {
            "text/plain": [
              "(489121, 29)"
            ]
          },
          "metadata": {
            "tags": []
          },
          "execution_count": 86
        }
      ]
    },
    {
      "cell_type": "code",
      "metadata": {
        "id": "cJDGk0Jmllsl",
        "colab_type": "code",
        "outputId": "5a50b752-2329-43c9-f107-12b9794d077e",
        "colab": {
          "base_uri": "https://localhost:8080/",
          "height": 34
        }
      },
      "source": [
        "final_df.shape"
      ],
      "execution_count": 0,
      "outputs": [
        {
          "output_type": "execute_result",
          "data": {
            "text/plain": [
              "(489121, 29)"
            ]
          },
          "metadata": {
            "tags": []
          },
          "execution_count": 75
        }
      ]
    },
    {
      "cell_type": "code",
      "metadata": {
        "id": "eLQ9R-QVlLqf",
        "colab_type": "code",
        "colab": {}
      },
      "source": [
        "df.num_orders_x.fillna(df.num_orders_y,inplace=True)"
      ],
      "execution_count": 0,
      "outputs": []
    },
    {
      "cell_type": "code",
      "metadata": {
        "id": "g_BqIfCgm19c",
        "colab_type": "code",
        "outputId": "5e370707-5f21-458c-d6bf-8fe478c130b9",
        "colab": {
          "base_uri": "https://localhost:8080/",
          "height": 521
        }
      },
      "source": [
        "final_df.isnull().sum()"
      ],
      "execution_count": 0,
      "outputs": [
        {
          "output_type": "execute_result",
          "data": {
            "text/plain": [
              "id                           0\n",
              "week                         0\n",
              "center_id                    0\n",
              "meal_id                      0\n",
              "checkout_price               0\n",
              "base_price                   0\n",
              "emailer_for_promotion        0\n",
              "homepage_featured            0\n",
              "num_orders               32573\n",
              "category                     0\n",
              "cuisine                      0\n",
              "city_code                    0\n",
              "region_code                  0\n",
              "center_type                  0\n",
              "op_area                      0\n",
              "month                        0\n",
              "year                         0\n",
              "quarter                      0\n",
              "checkout_per_base            0\n",
              "category_cuisine             0\n",
              "op_area_cat                  0\n",
              "C                            0\n",
              "checkout_cat                 0\n",
              "base_cat                     0\n",
              "avg_order                    0\n",
              "is_train                     0\n",
              "last_order               32625\n",
              "last_2_orders            32693\n",
              "last_3_orders            32789\n",
              "dtype: int64"
            ]
          },
          "metadata": {
            "tags": []
          },
          "execution_count": 81
        }
      ]
    },
    {
      "cell_type": "code",
      "metadata": {
        "id": "GqYJgRCKm9at",
        "colab_type": "code",
        "outputId": "a4613a56-e1a1-49ef-eddf-d29d77b89462",
        "colab": {
          "base_uri": "https://localhost:8080/",
          "height": 538
        }
      },
      "source": [
        "df.isnull().sum()"
      ],
      "execution_count": 0,
      "outputs": [
        {
          "output_type": "execute_result",
          "data": {
            "text/plain": [
              "id                            0\n",
              "week                          0\n",
              "center_id                     0\n",
              "meal_id                       0\n",
              "checkout_price                0\n",
              "base_price                    0\n",
              "emailer_for_promotion         0\n",
              "homepage_featured             0\n",
              "num_orders_x              29028\n",
              "category                      0\n",
              "cuisine                       0\n",
              "city_code                     0\n",
              "region_code                   0\n",
              "center_type                   0\n",
              "op_area                       0\n",
              "month                         0\n",
              "year                          0\n",
              "quarter                       0\n",
              "checkout_per_base             0\n",
              "category_cuisine              0\n",
              "op_area_cat                   0\n",
              "C                             0\n",
              "checkout_cat                  0\n",
              "base_cat                      0\n",
              "avg_order                     0\n",
              "is_train                      0\n",
              "last_order                32625\n",
              "last_2_orders             32693\n",
              "last_3_orders             32789\n",
              "num_orders_y             485576\n",
              "dtype: int64"
            ]
          },
          "metadata": {
            "tags": []
          },
          "execution_count": 82
        }
      ]
    },
    {
      "cell_type": "code",
      "metadata": {
        "id": "yg18W93ys3d4",
        "colab_type": "code",
        "colab": {}
      },
      "source": [
        "## Try to use vaex  (refer krish naik channel) . final_df is in drive"
      ],
      "execution_count": 0,
      "outputs": []
    },
    {
      "cell_type": "code",
      "metadata": {
        "id": "Vm3xWDuQF1ku",
        "colab_type": "code",
        "colab": {}
      },
      "source": [
        "train_df['last_order'] = train_df['num_orders'].shift(periods=1)\n",
        "train_df['last_2_orders'] = train_df['num_orders'].shift(periods=2)\n",
        "train_df['last_3_orders'] = train_df['num_orders'].shift(periods=3)"
      ],
      "execution_count": 0,
      "outputs": []
    },
    {
      "cell_type": "code",
      "metadata": {
        "id": "Spe9gsAUGF8Y",
        "colab_type": "code",
        "outputId": "1f6fe1af-8cfe-44bb-8c69-d4a674ca4cb7",
        "colab": {
          "base_uri": "https://localhost:8080/",
          "height": 215
        }
      },
      "source": [
        "train_df.head()"
      ],
      "execution_count": 0,
      "outputs": [
        {
          "output_type": "execute_result",
          "data": {
            "text/html": [
              "<div>\n",
              "<style scoped>\n",
              "    .dataframe tbody tr th:only-of-type {\n",
              "        vertical-align: middle;\n",
              "    }\n",
              "\n",
              "    .dataframe tbody tr th {\n",
              "        vertical-align: top;\n",
              "    }\n",
              "\n",
              "    .dataframe thead th {\n",
              "        text-align: right;\n",
              "    }\n",
              "</style>\n",
              "<table border=\"1\" class=\"dataframe\">\n",
              "  <thead>\n",
              "    <tr style=\"text-align: right;\">\n",
              "      <th></th>\n",
              "      <th>id</th>\n",
              "      <th>week</th>\n",
              "      <th>center_id</th>\n",
              "      <th>meal_id</th>\n",
              "      <th>checkout_price</th>\n",
              "      <th>base_price</th>\n",
              "      <th>emailer_for_promotion</th>\n",
              "      <th>homepage_featured</th>\n",
              "      <th>num_orders</th>\n",
              "      <th>category</th>\n",
              "      <th>cuisine</th>\n",
              "      <th>city_code</th>\n",
              "      <th>region_code</th>\n",
              "      <th>center_type</th>\n",
              "      <th>op_area</th>\n",
              "      <th>month</th>\n",
              "      <th>year</th>\n",
              "      <th>quarter</th>\n",
              "      <th>checkout_per_base</th>\n",
              "      <th>category_cuisine</th>\n",
              "      <th>op_area_cat</th>\n",
              "      <th>C</th>\n",
              "      <th>checkout_cat</th>\n",
              "      <th>base_cat</th>\n",
              "      <th>avg_order</th>\n",
              "      <th>last_order</th>\n",
              "      <th>last_2_orders</th>\n",
              "      <th>last_3_orders</th>\n",
              "    </tr>\n",
              "  </thead>\n",
              "  <tbody>\n",
              "    <tr>\n",
              "      <th>0</th>\n",
              "      <td>1379560</td>\n",
              "      <td>1</td>\n",
              "      <td>55</td>\n",
              "      <td>1885</td>\n",
              "      <td>136.83</td>\n",
              "      <td>152.29</td>\n",
              "      <td>0</td>\n",
              "      <td>0</td>\n",
              "      <td>177</td>\n",
              "      <td>0</td>\n",
              "      <td>3</td>\n",
              "      <td>30</td>\n",
              "      <td>3</td>\n",
              "      <td>2</td>\n",
              "      <td>2.0</td>\n",
              "      <td>0</td>\n",
              "      <td>0</td>\n",
              "      <td>0</td>\n",
              "      <td>0.898483</td>\n",
              "      <td>12</td>\n",
              "      <td>1</td>\n",
              "      <td>1.0</td>\n",
              "      <td>1</td>\n",
              "      <td>1</td>\n",
              "      <td>230.324138</td>\n",
              "      <td>NaN</td>\n",
              "      <td>NaN</td>\n",
              "      <td>NaN</td>\n",
              "    </tr>\n",
              "    <tr>\n",
              "      <th>1</th>\n",
              "      <td>1018704</td>\n",
              "      <td>2</td>\n",
              "      <td>55</td>\n",
              "      <td>1885</td>\n",
              "      <td>135.83</td>\n",
              "      <td>152.29</td>\n",
              "      <td>0</td>\n",
              "      <td>0</td>\n",
              "      <td>323</td>\n",
              "      <td>0</td>\n",
              "      <td>3</td>\n",
              "      <td>30</td>\n",
              "      <td>3</td>\n",
              "      <td>2</td>\n",
              "      <td>2.0</td>\n",
              "      <td>0</td>\n",
              "      <td>0</td>\n",
              "      <td>0</td>\n",
              "      <td>0.891917</td>\n",
              "      <td>12</td>\n",
              "      <td>1</td>\n",
              "      <td>1.0</td>\n",
              "      <td>1</td>\n",
              "      <td>1</td>\n",
              "      <td>230.324138</td>\n",
              "      <td>177.0</td>\n",
              "      <td>NaN</td>\n",
              "      <td>NaN</td>\n",
              "    </tr>\n",
              "    <tr>\n",
              "      <th>2</th>\n",
              "      <td>1196273</td>\n",
              "      <td>3</td>\n",
              "      <td>55</td>\n",
              "      <td>1885</td>\n",
              "      <td>132.92</td>\n",
              "      <td>133.92</td>\n",
              "      <td>0</td>\n",
              "      <td>0</td>\n",
              "      <td>96</td>\n",
              "      <td>0</td>\n",
              "      <td>3</td>\n",
              "      <td>30</td>\n",
              "      <td>3</td>\n",
              "      <td>2</td>\n",
              "      <td>2.0</td>\n",
              "      <td>0</td>\n",
              "      <td>0</td>\n",
              "      <td>0</td>\n",
              "      <td>0.992533</td>\n",
              "      <td>12</td>\n",
              "      <td>1</td>\n",
              "      <td>1.0</td>\n",
              "      <td>1</td>\n",
              "      <td>1</td>\n",
              "      <td>230.324138</td>\n",
              "      <td>323.0</td>\n",
              "      <td>177.0</td>\n",
              "      <td>NaN</td>\n",
              "    </tr>\n",
              "    <tr>\n",
              "      <th>3</th>\n",
              "      <td>1116527</td>\n",
              "      <td>4</td>\n",
              "      <td>55</td>\n",
              "      <td>1885</td>\n",
              "      <td>135.86</td>\n",
              "      <td>134.86</td>\n",
              "      <td>0</td>\n",
              "      <td>0</td>\n",
              "      <td>163</td>\n",
              "      <td>0</td>\n",
              "      <td>3</td>\n",
              "      <td>30</td>\n",
              "      <td>3</td>\n",
              "      <td>2</td>\n",
              "      <td>2.0</td>\n",
              "      <td>1</td>\n",
              "      <td>0</td>\n",
              "      <td>0</td>\n",
              "      <td>1.007415</td>\n",
              "      <td>12</td>\n",
              "      <td>1</td>\n",
              "      <td>2.0</td>\n",
              "      <td>1</td>\n",
              "      <td>1</td>\n",
              "      <td>230.324138</td>\n",
              "      <td>96.0</td>\n",
              "      <td>323.0</td>\n",
              "      <td>177.0</td>\n",
              "    </tr>\n",
              "    <tr>\n",
              "      <th>4</th>\n",
              "      <td>1343872</td>\n",
              "      <td>5</td>\n",
              "      <td>55</td>\n",
              "      <td>1885</td>\n",
              "      <td>146.50</td>\n",
              "      <td>147.50</td>\n",
              "      <td>0</td>\n",
              "      <td>0</td>\n",
              "      <td>215</td>\n",
              "      <td>0</td>\n",
              "      <td>3</td>\n",
              "      <td>30</td>\n",
              "      <td>3</td>\n",
              "      <td>2</td>\n",
              "      <td>2.0</td>\n",
              "      <td>1</td>\n",
              "      <td>0</td>\n",
              "      <td>0</td>\n",
              "      <td>0.993220</td>\n",
              "      <td>12</td>\n",
              "      <td>1</td>\n",
              "      <td>1.0</td>\n",
              "      <td>1</td>\n",
              "      <td>1</td>\n",
              "      <td>230.324138</td>\n",
              "      <td>163.0</td>\n",
              "      <td>96.0</td>\n",
              "      <td>323.0</td>\n",
              "    </tr>\n",
              "  </tbody>\n",
              "</table>\n",
              "</div>"
            ],
            "text/plain": [
              "        id  week  center_id  meal_id  checkout_price  base_price  \\\n",
              "0  1379560     1         55     1885          136.83      152.29   \n",
              "1  1018704     2         55     1885          135.83      152.29   \n",
              "2  1196273     3         55     1885          132.92      133.92   \n",
              "3  1116527     4         55     1885          135.86      134.86   \n",
              "4  1343872     5         55     1885          146.50      147.50   \n",
              "\n",
              "   emailer_for_promotion  homepage_featured  num_orders  category  cuisine  \\\n",
              "0                      0                  0         177         0        3   \n",
              "1                      0                  0         323         0        3   \n",
              "2                      0                  0          96         0        3   \n",
              "3                      0                  0         163         0        3   \n",
              "4                      0                  0         215         0        3   \n",
              "\n",
              "   city_code  region_code  center_type  op_area  month  year  quarter  \\\n",
              "0         30            3            2      2.0      0     0        0   \n",
              "1         30            3            2      2.0      0     0        0   \n",
              "2         30            3            2      2.0      0     0        0   \n",
              "3         30            3            2      2.0      1     0        0   \n",
              "4         30            3            2      2.0      1     0        0   \n",
              "\n",
              "   checkout_per_base  category_cuisine op_area_cat    C checkout_cat base_cat  \\\n",
              "0           0.898483                12           1  1.0            1        1   \n",
              "1           0.891917                12           1  1.0            1        1   \n",
              "2           0.992533                12           1  1.0            1        1   \n",
              "3           1.007415                12           1  2.0            1        1   \n",
              "4           0.993220                12           1  1.0            1        1   \n",
              "\n",
              "    avg_order  last_order  last_2_orders  last_3_orders  \n",
              "0  230.324138         NaN            NaN            NaN  \n",
              "1  230.324138       177.0            NaN            NaN  \n",
              "2  230.324138       323.0          177.0            NaN  \n",
              "3  230.324138        96.0          323.0          177.0  \n",
              "4  230.324138       163.0           96.0          323.0  "
            ]
          },
          "metadata": {
            "tags": []
          },
          "execution_count": 73
        }
      ]
    },
    {
      "cell_type": "markdown",
      "metadata": {
        "id": "ibs87Hqr0WAj",
        "colab_type": "text"
      },
      "source": [
        "## Pycaret"
      ]
    },
    {
      "cell_type": "code",
      "metadata": {
        "id": "545-5RTL0Xua",
        "colab_type": "code",
        "colab": {}
      },
      "source": [
        "!pip install pycaret"
      ],
      "execution_count": 0,
      "outputs": []
    },
    {
      "cell_type": "markdown",
      "metadata": {
        "id": "Cg9VtkkrUnHz",
        "colab_type": "text"
      },
      "source": [
        "## Catboost approach"
      ]
    },
    {
      "cell_type": "code",
      "metadata": {
        "id": "tyaFIz35-1HE",
        "colab_type": "code",
        "outputId": "c8958fe5-58c9-4e84-bc29-8391b5567247",
        "colab": {
          "base_uri": "https://localhost:8080/",
          "height": 1000
        }
      },
      "source": [
        "!pip install catboost\n",
        "!pip install scikit-learn==0.21\n",
        "!pip install fastai==0.7.0\n"
      ],
      "execution_count": 0,
      "outputs": [
        {
          "output_type": "stream",
          "text": [
            "Requirement already satisfied: catboost in /usr/local/lib/python3.6/dist-packages (0.23)\n",
            "Requirement already satisfied: scipy in /usr/local/lib/python3.6/dist-packages (from catboost) (1.4.1)\n",
            "Requirement already satisfied: graphviz in /usr/local/lib/python3.6/dist-packages (from catboost) (0.10.1)\n",
            "Requirement already satisfied: pandas>=0.24.0 in /usr/local/lib/python3.6/dist-packages (from catboost) (1.0.3)\n",
            "Requirement already satisfied: numpy>=1.16.0 in /usr/local/lib/python3.6/dist-packages (from catboost) (1.18.4)\n",
            "Requirement already satisfied: plotly in /usr/local/lib/python3.6/dist-packages (from catboost) (4.4.1)\n",
            "Requirement already satisfied: matplotlib in /usr/local/lib/python3.6/dist-packages (from catboost) (3.2.1)\n",
            "Requirement already satisfied: six in /usr/local/lib/python3.6/dist-packages (from catboost) (1.12.0)\n",
            "Requirement already satisfied: pytz>=2017.2 in /usr/local/lib/python3.6/dist-packages (from pandas>=0.24.0->catboost) (2018.9)\n",
            "Requirement already satisfied: python-dateutil>=2.6.1 in /usr/local/lib/python3.6/dist-packages (from pandas>=0.24.0->catboost) (2.8.1)\n",
            "Requirement already satisfied: retrying>=1.3.3 in /usr/local/lib/python3.6/dist-packages (from plotly->catboost) (1.3.3)\n",
            "Requirement already satisfied: pyparsing!=2.0.4,!=2.1.2,!=2.1.6,>=2.0.1 in /usr/local/lib/python3.6/dist-packages (from matplotlib->catboost) (2.4.7)\n",
            "Requirement already satisfied: kiwisolver>=1.0.1 in /usr/local/lib/python3.6/dist-packages (from matplotlib->catboost) (1.2.0)\n",
            "Requirement already satisfied: cycler>=0.10 in /usr/local/lib/python3.6/dist-packages (from matplotlib->catboost) (0.10.0)\n",
            "Collecting scikit-learn==0.21\n",
            "\u001b[?25l  Downloading https://files.pythonhosted.org/packages/b7/6c/ec121123c671d980c6969dfc69d0f09e1d7f88d80d373f511e61d773b85c/scikit_learn-0.21.0-cp36-cp36m-manylinux1_x86_64.whl (6.6MB)\n",
            "\u001b[K     |████████████████████████████████| 6.6MB 2.5MB/s \n",
            "\u001b[?25hRequirement already satisfied: scipy>=0.17.0 in /usr/local/lib/python3.6/dist-packages (from scikit-learn==0.21) (1.4.1)\n",
            "Requirement already satisfied: joblib>=0.11 in /usr/local/lib/python3.6/dist-packages (from scikit-learn==0.21) (0.14.1)\n",
            "Requirement already satisfied: numpy>=1.11.0 in /usr/local/lib/python3.6/dist-packages (from scikit-learn==0.21) (1.18.4)\n",
            "Installing collected packages: scikit-learn\n",
            "  Found existing installation: scikit-learn 0.22.2.post1\n",
            "    Uninstalling scikit-learn-0.22.2.post1:\n",
            "      Successfully uninstalled scikit-learn-0.22.2.post1\n",
            "Successfully installed scikit-learn-0.21.0\n"
          ],
          "name": "stdout"
        },
        {
          "output_type": "display_data",
          "data": {
            "application/vnd.colab-display-data+json": {
              "pip_warning": {
                "packages": [
                  "sklearn"
                ]
              }
            }
          },
          "metadata": {
            "tags": []
          }
        },
        {
          "output_type": "stream",
          "text": [
            "Collecting fastai==0.7.0\n",
            "\u001b[?25l  Downloading https://files.pythonhosted.org/packages/50/6d/9d0d6e17a78b0598d5e8c49a0d03ffc7ff265ae62eca3e2345fab14edb9b/fastai-0.7.0-py3-none-any.whl (112kB)\n",
            "\r\u001b[K     |███                             | 10kB 18.1MB/s eta 0:00:01\r\u001b[K     |█████▉                          | 20kB 1.6MB/s eta 0:00:01\r\u001b[K     |████████▊                       | 30kB 2.1MB/s eta 0:00:01\r\u001b[K     |███████████▋                    | 40kB 2.4MB/s eta 0:00:01\r\u001b[K     |██████████████▌                 | 51kB 1.9MB/s eta 0:00:01\r\u001b[K     |█████████████████▍              | 61kB 2.1MB/s eta 0:00:01\r\u001b[K     |████████████████████▍           | 71kB 2.3MB/s eta 0:00:01\r\u001b[K     |███████████████████████▎        | 81kB 2.6MB/s eta 0:00:01\r\u001b[K     |██████████████████████████▏     | 92kB 2.7MB/s eta 0:00:01\r\u001b[K     |█████████████████████████████   | 102kB 2.6MB/s eta 0:00:01\r\u001b[K     |████████████████████████████████| 112kB 2.6MB/s eta 0:00:01\r\u001b[K     |████████████████████████████████| 122kB 2.6MB/s \n",
            "\u001b[?25hRequirement already satisfied: pickleshare in /usr/local/lib/python3.6/dist-packages (from fastai==0.7.0) (0.7.5)\n",
            "Requirement already satisfied: pyparsing in /usr/local/lib/python3.6/dist-packages (from fastai==0.7.0) (2.4.7)\n",
            "Requirement already satisfied: wcwidth in /usr/local/lib/python3.6/dist-packages (from fastai==0.7.0) (0.1.9)\n",
            "Requirement already satisfied: ipywidgets in /usr/local/lib/python3.6/dist-packages (from fastai==0.7.0) (7.5.1)\n",
            "Requirement already satisfied: testpath in /usr/local/lib/python3.6/dist-packages (from fastai==0.7.0) (0.4.4)\n",
            "Requirement already satisfied: Jinja2 in /usr/local/lib/python3.6/dist-packages (from fastai==0.7.0) (2.11.2)\n",
            "Requirement already satisfied: MarkupSafe in /usr/local/lib/python3.6/dist-packages (from fastai==0.7.0) (1.1.1)\n",
            "Requirement already satisfied: ptyprocess in /usr/local/lib/python3.6/dist-packages (from fastai==0.7.0) (0.6.0)\n",
            "Requirement already satisfied: widgetsnbextension in /usr/local/lib/python3.6/dist-packages (from fastai==0.7.0) (3.5.1)\n",
            "Requirement already satisfied: ipython-genutils in /usr/local/lib/python3.6/dist-packages (from fastai==0.7.0) (0.2.0)\n",
            "Requirement already satisfied: bleach in /usr/local/lib/python3.6/dist-packages (from fastai==0.7.0) (3.1.5)\n",
            "Requirement already satisfied: jsonschema in /usr/local/lib/python3.6/dist-packages (from fastai==0.7.0) (2.6.0)\n",
            "Requirement already satisfied: opencv-python in /usr/local/lib/python3.6/dist-packages (from fastai==0.7.0) (4.1.2.30)\n",
            "Requirement already satisfied: jupyter in /usr/local/lib/python3.6/dist-packages (from fastai==0.7.0) (1.0.0)\n",
            "Requirement already satisfied: simplegeneric in /usr/local/lib/python3.6/dist-packages (from fastai==0.7.0) (0.8.1)\n",
            "Requirement already satisfied: pandas in /usr/local/lib/python3.6/dist-packages (from fastai==0.7.0) (1.0.3)\n",
            "Requirement already satisfied: sklearn-pandas in /usr/local/lib/python3.6/dist-packages (from fastai==0.7.0) (1.8.0)\n",
            "Requirement already satisfied: entrypoints in /usr/local/lib/python3.6/dist-packages (from fastai==0.7.0) (0.3)\n",
            "Requirement already satisfied: seaborn in /usr/local/lib/python3.6/dist-packages (from fastai==0.7.0) (0.10.1)\n",
            "Requirement already satisfied: graphviz in /usr/local/lib/python3.6/dist-packages (from fastai==0.7.0) (0.10.1)\n",
            "Requirement already satisfied: numpy in /usr/local/lib/python3.6/dist-packages (from fastai==0.7.0) (1.18.4)\n",
            "Requirement already satisfied: decorator in /usr/local/lib/python3.6/dist-packages (from fastai==0.7.0) (4.4.2)\n",
            "Requirement already satisfied: webencodings in /usr/local/lib/python3.6/dist-packages (from fastai==0.7.0) (0.5.1)\n",
            "Requirement already satisfied: pyzmq in /usr/local/lib/python3.6/dist-packages (from fastai==0.7.0) (19.0.1)\n",
            "Requirement already satisfied: html5lib in /usr/local/lib/python3.6/dist-packages (from fastai==0.7.0) (1.0.1)\n",
            "Collecting isoweek\n",
            "  Downloading https://files.pythonhosted.org/packages/c2/d4/fe7e2637975c476734fcbf53776e650a29680194eb0dd21dbdc020ca92de/isoweek-1.3.3-py2.py3-none-any.whl\n",
            "Collecting pandas-summary\n",
            "  Downloading https://files.pythonhosted.org/packages/f5/20/865d4785f86e86f7ad7ebd52fc14810ef59ef13cd959f1363a2615d1c665/pandas_summary-0.0.7-py2.py3-none-any.whl\n",
            "Requirement already satisfied: certifi in /usr/local/lib/python3.6/dist-packages (from fastai==0.7.0) (2020.4.5.1)\n",
            "Requirement already satisfied: Pillow in /usr/local/lib/python3.6/dist-packages (from fastai==0.7.0) (7.0.0)\n",
            "Collecting torch<0.4\n",
            "\u001b[?25l  Downloading https://files.pythonhosted.org/packages/5b/a5/e8b50b55b1abac9f1e3346c4242f1e42a82d368a8442cbd50c532922f6c4/torch-0.3.1-cp36-cp36m-manylinux1_x86_64.whl (496.4MB)\n",
            "\u001b[K     |████████████████████████████████| 496.4MB 25kB/s \n",
            "\u001b[?25hRequirement already satisfied: torchvision in /usr/local/lib/python3.6/dist-packages (from fastai==0.7.0) (0.6.0+cu101)\n",
            "Requirement already satisfied: torchtext in /usr/local/lib/python3.6/dist-packages (from fastai==0.7.0) (0.3.1)\n",
            "Collecting bcolz\n",
            "\u001b[?25l  Downloading https://files.pythonhosted.org/packages/5c/4e/23942de9d5c0fb16f10335fa83e52b431bcb8c0d4a8419c9ac206268c279/bcolz-1.2.1.tar.gz (1.5MB)\n",
            "\u001b[K     |████████████████████████████████| 1.5MB 47.7MB/s \n",
            "\u001b[?25hRequirement already satisfied: PyYAML in /usr/local/lib/python3.6/dist-packages (from fastai==0.7.0) (3.13)\n",
            "Requirement already satisfied: jedi in /usr/local/lib/python3.6/dist-packages (from fastai==0.7.0) (0.17.0)\n",
            "Requirement already satisfied: plotnine in /usr/local/lib/python3.6/dist-packages (from fastai==0.7.0) (0.6.0)\n",
            "Requirement already satisfied: Pygments in /usr/local/lib/python3.6/dist-packages (from fastai==0.7.0) (2.1.3)\n",
            "Requirement already satisfied: tqdm in /usr/local/lib/python3.6/dist-packages (from fastai==0.7.0) (4.41.1)\n",
            "Requirement already satisfied: python-dateutil in /usr/local/lib/python3.6/dist-packages (from fastai==0.7.0) (2.8.1)\n",
            "Requirement already satisfied: ipykernel in /usr/local/lib/python3.6/dist-packages (from fastai==0.7.0) (4.10.1)\n",
            "Requirement already satisfied: cycler in /usr/local/lib/python3.6/dist-packages (from fastai==0.7.0) (0.10.0)\n",
            "Requirement already satisfied: pytz in /usr/local/lib/python3.6/dist-packages (from fastai==0.7.0) (2018.9)\n",
            "Requirement already satisfied: scipy in /usr/local/lib/python3.6/dist-packages (from fastai==0.7.0) (1.4.1)\n",
            "Requirement already satisfied: feather-format in /usr/local/lib/python3.6/dist-packages (from fastai==0.7.0) (0.4.1)\n",
            "Requirement already satisfied: traitlets in /usr/local/lib/python3.6/dist-packages (from fastai==0.7.0) (4.3.3)\n",
            "Requirement already satisfied: tornado in /usr/local/lib/python3.6/dist-packages (from fastai==0.7.0) (4.5.3)\n",
            "Requirement already satisfied: ipython in /usr/local/lib/python3.6/dist-packages (from fastai==0.7.0) (5.5.0)\n",
            "Requirement already satisfied: matplotlib in /usr/local/lib/python3.6/dist-packages (from fastai==0.7.0) (3.2.1)\n",
            "Requirement already satisfied: nbformat>=4.2.0 in /usr/local/lib/python3.6/dist-packages (from ipywidgets->fastai==0.7.0) (5.0.6)\n",
            "Requirement already satisfied: notebook>=4.4.1 in /usr/local/lib/python3.6/dist-packages (from widgetsnbextension->fastai==0.7.0) (5.2.2)\n",
            "Requirement already satisfied: packaging in /usr/local/lib/python3.6/dist-packages (from bleach->fastai==0.7.0) (20.3)\n",
            "Requirement already satisfied: six>=1.9.0 in /usr/local/lib/python3.6/dist-packages (from bleach->fastai==0.7.0) (1.12.0)\n",
            "Requirement already satisfied: jupyter-console in /usr/local/lib/python3.6/dist-packages (from jupyter->fastai==0.7.0) (5.2.0)\n",
            "Requirement already satisfied: qtconsole in /usr/local/lib/python3.6/dist-packages (from jupyter->fastai==0.7.0) (4.7.3)\n",
            "Requirement already satisfied: nbconvert in /usr/local/lib/python3.6/dist-packages (from jupyter->fastai==0.7.0) (5.6.1)\n",
            "Requirement already satisfied: scikit-learn>=0.15.0 in /usr/local/lib/python3.6/dist-packages (from sklearn-pandas->fastai==0.7.0) (0.21.0)\n",
            "Requirement already satisfied: requests in /usr/local/lib/python3.6/dist-packages (from torchtext->fastai==0.7.0) (2.23.0)\n",
            "Requirement already satisfied: parso>=0.7.0 in /usr/local/lib/python3.6/dist-packages (from jedi->fastai==0.7.0) (0.7.0)\n",
            "Requirement already satisfied: mizani>=0.6.0 in /usr/local/lib/python3.6/dist-packages (from plotnine->fastai==0.7.0) (0.6.0)\n",
            "Requirement already satisfied: statsmodels>=0.9.0 in /usr/local/lib/python3.6/dist-packages (from plotnine->fastai==0.7.0) (0.10.2)\n",
            "Requirement already satisfied: descartes>=1.1.0 in /usr/local/lib/python3.6/dist-packages (from plotnine->fastai==0.7.0) (1.1.0)\n",
            "Requirement already satisfied: patsy>=0.4.1 in /usr/local/lib/python3.6/dist-packages (from plotnine->fastai==0.7.0) (0.5.1)\n",
            "Requirement already satisfied: jupyter-client in /usr/local/lib/python3.6/dist-packages (from ipykernel->fastai==0.7.0) (5.3.4)\n",
            "Requirement already satisfied: pyarrow>=0.4.0 in /usr/local/lib/python3.6/dist-packages (from feather-format->fastai==0.7.0) (0.14.1)\n",
            "Requirement already satisfied: pexpect; sys_platform != \"win32\" in /usr/local/lib/python3.6/dist-packages (from ipython->fastai==0.7.0) (4.8.0)\n",
            "Requirement already satisfied: setuptools>=18.5 in /usr/local/lib/python3.6/dist-packages (from ipython->fastai==0.7.0) (46.1.3)\n",
            "Requirement already satisfied: prompt-toolkit<2.0.0,>=1.0.4 in /usr/local/lib/python3.6/dist-packages (from ipython->fastai==0.7.0) (1.0.18)\n",
            "Requirement already satisfied: kiwisolver>=1.0.1 in /usr/local/lib/python3.6/dist-packages (from matplotlib->fastai==0.7.0) (1.2.0)\n",
            "Requirement already satisfied: jupyter-core in /usr/local/lib/python3.6/dist-packages (from nbformat>=4.2.0->ipywidgets->fastai==0.7.0) (4.6.3)\n",
            "Requirement already satisfied: terminado>=0.3.3; sys_platform != \"win32\" in /usr/local/lib/python3.6/dist-packages (from notebook>=4.4.1->widgetsnbextension->fastai==0.7.0) (0.8.3)\n",
            "Requirement already satisfied: qtpy in /usr/local/lib/python3.6/dist-packages (from qtconsole->jupyter->fastai==0.7.0) (1.9.0)\n",
            "Requirement already satisfied: pandocfilters>=1.4.1 in /usr/local/lib/python3.6/dist-packages (from nbconvert->jupyter->fastai==0.7.0) (1.4.2)\n",
            "Requirement already satisfied: mistune<2,>=0.8.1 in /usr/local/lib/python3.6/dist-packages (from nbconvert->jupyter->fastai==0.7.0) (0.8.4)\n",
            "Requirement already satisfied: defusedxml in /usr/local/lib/python3.6/dist-packages (from nbconvert->jupyter->fastai==0.7.0) (0.6.0)\n",
            "Requirement already satisfied: joblib>=0.11 in /usr/local/lib/python3.6/dist-packages (from scikit-learn>=0.15.0->sklearn-pandas->fastai==0.7.0) (0.14.1)\n",
            "Requirement already satisfied: chardet<4,>=3.0.2 in /usr/local/lib/python3.6/dist-packages (from requests->torchtext->fastai==0.7.0) (3.0.4)\n",
            "Requirement already satisfied: urllib3!=1.25.0,!=1.25.1,<1.26,>=1.21.1 in /usr/local/lib/python3.6/dist-packages (from requests->torchtext->fastai==0.7.0) (1.24.3)\n",
            "Requirement already satisfied: idna<3,>=2.5 in /usr/local/lib/python3.6/dist-packages (from requests->torchtext->fastai==0.7.0) (2.9)\n",
            "Requirement already satisfied: palettable in /usr/local/lib/python3.6/dist-packages (from mizani>=0.6.0->plotnine->fastai==0.7.0) (3.3.0)\n",
            "Building wheels for collected packages: bcolz\n",
            "  Building wheel for bcolz (setup.py) ... \u001b[?25l\u001b[?25hdone\n",
            "  Created wheel for bcolz: filename=bcolz-1.2.1-cp36-cp36m-linux_x86_64.whl size=2666429 sha256=630d1533d346d5d7ba7aa515a948436359689ece29cd659e70845c7d7e31be3c\n",
            "  Stored in directory: /root/.cache/pip/wheels/9f/78/26/fb8c0acb91a100dc8914bf236c4eaa4b207cb876893c40b745\n",
            "Successfully built bcolz\n",
            "\u001b[31mERROR: torchvision 0.6.0+cu101 has requirement torch==1.5.0, but you'll have torch 0.3.1 which is incompatible.\u001b[0m\n",
            "Installing collected packages: isoweek, pandas-summary, torch, bcolz, fastai\n",
            "  Found existing installation: torch 1.5.0+cu101\n",
            "    Uninstalling torch-1.5.0+cu101:\n",
            "      Successfully uninstalled torch-1.5.0+cu101\n",
            "  Found existing installation: fastai 1.0.61\n",
            "    Uninstalling fastai-1.0.61:\n",
            "      Successfully uninstalled fastai-1.0.61\n",
            "Successfully installed bcolz-1.2.1 fastai-0.7.0 isoweek-1.3.3 pandas-summary-0.0.7 torch-0.3.1\n"
          ],
          "name": "stdout"
        }
      ]
    },
    {
      "cell_type": "code",
      "metadata": {
        "id": "XFguZwDh_sP7",
        "colab_type": "code",
        "outputId": "29cb5b3c-4b2d-484c-96b9-862d0092fa61",
        "colab": {
          "base_uri": "https://localhost:8080/",
          "height": 70
        }
      },
      "source": [
        "from fastai.imports import *\n",
        "from fastai.structured import *\n",
        "\n",
        "from sklearn.ensemble import RandomForestRegressor\n",
        "from pandas_summary import DataFrameSummary\n",
        "import catboost"
      ],
      "execution_count": 0,
      "outputs": [
        {
          "output_type": "stream",
          "text": [
            "/usr/local/lib/python3.6/dist-packages/statsmodels/tools/_testing.py:19: FutureWarning: pandas.util.testing is deprecated. Use the functions in the public API at pandas.testing instead.\n",
            "  import pandas.util.testing as tm\n"
          ],
          "name": "stderr"
        }
      ]
    },
    {
      "cell_type": "code",
      "metadata": {
        "id": "n2WJ3nCT_tYV",
        "colab_type": "code",
        "colab": {}
      },
      "source": [
        "train_cats(train_df)\n",
        "apply_cats(test_df,train_df)"
      ],
      "execution_count": 0,
      "outputs": []
    },
    {
      "cell_type": "code",
      "metadata": {
        "id": "ZJOzdiyOWhyR",
        "colab_type": "code",
        "colab": {}
      },
      "source": [
        "X,y,nas = proc_df(train_df,y_fld = \"num_orders\")\n",
        "X_test,_,_ = proc_df(test_df)"
      ],
      "execution_count": 0,
      "outputs": []
    },
    {
      "cell_type": "code",
      "metadata": {
        "id": "eeve29e0ZIX6",
        "colab_type": "code",
        "colab": {}
      },
      "source": [
        "from sklearn.model_selection import train_test_split\n",
        "X_train,X_valid,y_train,y_valid = train_test_split(X.drop(\"id\",axis=1),y,test_size=0.3,random_state=88)"
      ],
      "execution_count": 0,
      "outputs": []
    },
    {
      "cell_type": "code",
      "metadata": {
        "id": "SieI5VC-ZJ6R",
        "colab_type": "code",
        "outputId": "70ea528f-ad84-4f0d-e094-bee089b48568",
        "colab": {
          "base_uri": "https://localhost:8080/",
          "height": 1000
        }
      },
      "source": [
        "m = catboost.CatBoostRegressor()\n",
        "m.fit(X_train,y_train)\n"
      ],
      "execution_count": 0,
      "outputs": [
        {
          "output_type": "stream",
          "text": [
            "Learning rate set to 0.108947\n",
            "0:\tlearn: 1.1531701\ttotal: 124ms\tremaining: 2m 3s\n",
            "1:\tlearn: 1.0966529\ttotal: 193ms\tremaining: 1m 36s\n",
            "2:\tlearn: 1.0484590\ttotal: 251ms\tremaining: 1m 23s\n",
            "3:\tlearn: 1.0075062\ttotal: 307ms\tremaining: 1m 16s\n",
            "4:\tlearn: 0.9732720\ttotal: 364ms\tremaining: 1m 12s\n",
            "5:\tlearn: 0.9451162\ttotal: 422ms\tremaining: 1m 9s\n",
            "6:\tlearn: 0.9202047\ttotal: 479ms\tremaining: 1m 7s\n",
            "7:\tlearn: 0.8944472\ttotal: 537ms\tremaining: 1m 6s\n",
            "8:\tlearn: 0.8737200\ttotal: 592ms\tremaining: 1m 5s\n",
            "9:\tlearn: 0.8573584\ttotal: 649ms\tremaining: 1m 4s\n",
            "10:\tlearn: 0.8408809\ttotal: 705ms\tremaining: 1m 3s\n",
            "11:\tlearn: 0.8215005\ttotal: 764ms\tremaining: 1m 2s\n",
            "12:\tlearn: 0.8053894\ttotal: 821ms\tremaining: 1m 2s\n",
            "13:\tlearn: 0.7939209\ttotal: 879ms\tremaining: 1m 1s\n",
            "14:\tlearn: 0.7858608\ttotal: 935ms\tremaining: 1m 1s\n",
            "15:\tlearn: 0.7777313\ttotal: 990ms\tremaining: 1m\n",
            "16:\tlearn: 0.7666492\ttotal: 1.05s\tremaining: 1m\n",
            "17:\tlearn: 0.7587972\ttotal: 1.11s\tremaining: 1m\n",
            "18:\tlearn: 0.7494873\ttotal: 1.17s\tremaining: 1m\n",
            "19:\tlearn: 0.7445732\ttotal: 1.22s\tremaining: 60s\n",
            "20:\tlearn: 0.7382107\ttotal: 1.28s\tremaining: 59.7s\n",
            "21:\tlearn: 0.7322407\ttotal: 1.34s\tremaining: 59.5s\n",
            "22:\tlearn: 0.7275268\ttotal: 1.39s\tremaining: 59.2s\n",
            "23:\tlearn: 0.7235088\ttotal: 1.45s\tremaining: 58.9s\n",
            "24:\tlearn: 0.7198714\ttotal: 1.5s\tremaining: 58.6s\n",
            "25:\tlearn: 0.7148480\ttotal: 1.56s\tremaining: 58.5s\n",
            "26:\tlearn: 0.7101355\ttotal: 1.62s\tremaining: 58.3s\n",
            "27:\tlearn: 0.7064434\ttotal: 1.67s\tremaining: 58s\n",
            "28:\tlearn: 0.7036634\ttotal: 1.72s\tremaining: 57.7s\n",
            "29:\tlearn: 0.6997861\ttotal: 1.78s\tremaining: 57.7s\n",
            "30:\tlearn: 0.6959121\ttotal: 1.84s\tremaining: 57.6s\n",
            "31:\tlearn: 0.6928421\ttotal: 1.9s\tremaining: 57.4s\n",
            "32:\tlearn: 0.6892295\ttotal: 1.95s\tremaining: 57.2s\n",
            "33:\tlearn: 0.6859664\ttotal: 2.01s\tremaining: 57.1s\n",
            "34:\tlearn: 0.6827350\ttotal: 2.06s\tremaining: 56.9s\n",
            "35:\tlearn: 0.6803796\ttotal: 2.12s\tremaining: 56.8s\n",
            "36:\tlearn: 0.6773233\ttotal: 2.19s\tremaining: 57s\n",
            "37:\tlearn: 0.6752976\ttotal: 2.25s\tremaining: 57.1s\n",
            "38:\tlearn: 0.6730320\ttotal: 2.31s\tremaining: 57s\n",
            "39:\tlearn: 0.6699912\ttotal: 2.37s\tremaining: 56.9s\n",
            "40:\tlearn: 0.6679402\ttotal: 2.42s\tremaining: 56.7s\n",
            "41:\tlearn: 0.6661375\ttotal: 2.48s\tremaining: 56.6s\n",
            "42:\tlearn: 0.6641357\ttotal: 2.54s\tremaining: 56.5s\n",
            "43:\tlearn: 0.6624318\ttotal: 2.59s\tremaining: 56.4s\n",
            "44:\tlearn: 0.6605386\ttotal: 2.65s\tremaining: 56.2s\n",
            "45:\tlearn: 0.6586088\ttotal: 2.71s\tremaining: 56.3s\n",
            "46:\tlearn: 0.6572133\ttotal: 2.77s\tremaining: 56.1s\n",
            "47:\tlearn: 0.6552769\ttotal: 2.82s\tremaining: 56s\n",
            "48:\tlearn: 0.6518475\ttotal: 2.88s\tremaining: 56s\n",
            "49:\tlearn: 0.6497910\ttotal: 2.94s\tremaining: 55.9s\n",
            "50:\tlearn: 0.6485233\ttotal: 3s\tremaining: 55.8s\n",
            "51:\tlearn: 0.6473509\ttotal: 3.05s\tremaining: 55.7s\n",
            "52:\tlearn: 0.6456879\ttotal: 3.11s\tremaining: 55.6s\n",
            "53:\tlearn: 0.6435681\ttotal: 3.18s\tremaining: 55.7s\n",
            "54:\tlearn: 0.6421476\ttotal: 3.24s\tremaining: 55.7s\n",
            "55:\tlearn: 0.6403130\ttotal: 3.29s\tremaining: 55.5s\n",
            "56:\tlearn: 0.6390191\ttotal: 3.35s\tremaining: 55.4s\n",
            "57:\tlearn: 0.6377611\ttotal: 3.41s\tremaining: 55.3s\n",
            "58:\tlearn: 0.6363042\ttotal: 3.46s\tremaining: 55.3s\n",
            "59:\tlearn: 0.6351955\ttotal: 3.52s\tremaining: 55.2s\n",
            "60:\tlearn: 0.6341158\ttotal: 3.58s\tremaining: 55.1s\n",
            "61:\tlearn: 0.6328175\ttotal: 3.64s\tremaining: 55.1s\n",
            "62:\tlearn: 0.6314404\ttotal: 3.7s\tremaining: 55s\n",
            "63:\tlearn: 0.6299437\ttotal: 3.75s\tremaining: 54.9s\n",
            "64:\tlearn: 0.6290739\ttotal: 3.81s\tremaining: 54.7s\n",
            "65:\tlearn: 0.6275117\ttotal: 3.86s\tremaining: 54.7s\n",
            "66:\tlearn: 0.6264430\ttotal: 3.92s\tremaining: 54.6s\n",
            "67:\tlearn: 0.6251693\ttotal: 3.98s\tremaining: 54.5s\n",
            "68:\tlearn: 0.6238527\ttotal: 4.03s\tremaining: 54.4s\n",
            "69:\tlearn: 0.6228170\ttotal: 4.09s\tremaining: 54.4s\n",
            "70:\tlearn: 0.6222796\ttotal: 4.15s\tremaining: 54.3s\n",
            "71:\tlearn: 0.6211687\ttotal: 4.22s\tremaining: 54.4s\n",
            "72:\tlearn: 0.6202257\ttotal: 4.28s\tremaining: 54.3s\n",
            "73:\tlearn: 0.6189828\ttotal: 4.34s\tremaining: 54.3s\n",
            "74:\tlearn: 0.6180347\ttotal: 4.39s\tremaining: 54.2s\n",
            "75:\tlearn: 0.6173955\ttotal: 4.44s\tremaining: 54s\n",
            "76:\tlearn: 0.6166461\ttotal: 4.5s\tremaining: 53.9s\n",
            "77:\tlearn: 0.6154621\ttotal: 4.56s\tremaining: 53.9s\n",
            "78:\tlearn: 0.6146428\ttotal: 4.61s\tremaining: 53.8s\n",
            "79:\tlearn: 0.6138572\ttotal: 4.67s\tremaining: 53.7s\n",
            "80:\tlearn: 0.6131030\ttotal: 4.72s\tremaining: 53.6s\n",
            "81:\tlearn: 0.6125844\ttotal: 4.78s\tremaining: 53.5s\n",
            "82:\tlearn: 0.6121305\ttotal: 4.84s\tremaining: 53.4s\n",
            "83:\tlearn: 0.6107309\ttotal: 4.9s\tremaining: 53.4s\n",
            "84:\tlearn: 0.6098389\ttotal: 4.96s\tremaining: 53.4s\n",
            "85:\tlearn: 0.6090657\ttotal: 5.02s\tremaining: 53.3s\n",
            "86:\tlearn: 0.6085547\ttotal: 5.07s\tremaining: 53.2s\n",
            "87:\tlearn: 0.6075660\ttotal: 5.13s\tremaining: 53.1s\n",
            "88:\tlearn: 0.6066584\ttotal: 5.18s\tremaining: 53.1s\n",
            "89:\tlearn: 0.6060209\ttotal: 5.25s\tremaining: 53.1s\n",
            "90:\tlearn: 0.6052191\ttotal: 5.31s\tremaining: 53s\n",
            "91:\tlearn: 0.6045179\ttotal: 5.36s\tremaining: 52.9s\n",
            "92:\tlearn: 0.6040214\ttotal: 5.42s\tremaining: 52.9s\n",
            "93:\tlearn: 0.6034676\ttotal: 5.48s\tremaining: 52.8s\n",
            "94:\tlearn: 0.6030314\ttotal: 5.53s\tremaining: 52.7s\n",
            "95:\tlearn: 0.6021824\ttotal: 5.59s\tremaining: 52.6s\n",
            "96:\tlearn: 0.6016638\ttotal: 5.64s\tremaining: 52.5s\n",
            "97:\tlearn: 0.6009001\ttotal: 5.7s\tremaining: 52.5s\n",
            "98:\tlearn: 0.6002488\ttotal: 5.76s\tremaining: 52.4s\n",
            "99:\tlearn: 0.5998382\ttotal: 5.84s\tremaining: 52.6s\n",
            "100:\tlearn: 0.5991059\ttotal: 5.89s\tremaining: 52.5s\n",
            "101:\tlearn: 0.5983704\ttotal: 5.96s\tremaining: 52.4s\n",
            "102:\tlearn: 0.5977217\ttotal: 6.02s\tremaining: 52.5s\n",
            "103:\tlearn: 0.5971874\ttotal: 6.08s\tremaining: 52.4s\n",
            "104:\tlearn: 0.5966249\ttotal: 6.14s\tremaining: 52.3s\n",
            "105:\tlearn: 0.5961566\ttotal: 6.2s\tremaining: 52.3s\n",
            "106:\tlearn: 0.5957304\ttotal: 6.26s\tremaining: 52.2s\n",
            "107:\tlearn: 0.5950861\ttotal: 6.32s\tremaining: 52.2s\n",
            "108:\tlearn: 0.5944581\ttotal: 6.37s\tremaining: 52.1s\n",
            "109:\tlearn: 0.5938586\ttotal: 6.43s\tremaining: 52s\n",
            "110:\tlearn: 0.5932943\ttotal: 6.49s\tremaining: 52s\n",
            "111:\tlearn: 0.5928456\ttotal: 6.54s\tremaining: 51.9s\n",
            "112:\tlearn: 0.5922465\ttotal: 6.6s\tremaining: 51.8s\n",
            "113:\tlearn: 0.5918617\ttotal: 6.66s\tremaining: 51.8s\n",
            "114:\tlearn: 0.5912566\ttotal: 6.72s\tremaining: 51.7s\n",
            "115:\tlearn: 0.5907237\ttotal: 6.78s\tremaining: 51.7s\n",
            "116:\tlearn: 0.5898546\ttotal: 6.84s\tremaining: 51.6s\n",
            "117:\tlearn: 0.5890218\ttotal: 6.91s\tremaining: 51.7s\n",
            "118:\tlearn: 0.5886216\ttotal: 6.97s\tremaining: 51.6s\n",
            "119:\tlearn: 0.5879126\ttotal: 7.03s\tremaining: 51.5s\n",
            "120:\tlearn: 0.5873571\ttotal: 7.08s\tremaining: 51.5s\n",
            "121:\tlearn: 0.5867794\ttotal: 7.14s\tremaining: 51.4s\n",
            "122:\tlearn: 0.5863196\ttotal: 7.2s\tremaining: 51.3s\n",
            "123:\tlearn: 0.5859095\ttotal: 7.26s\tremaining: 51.3s\n",
            "124:\tlearn: 0.5854157\ttotal: 7.32s\tremaining: 51.2s\n",
            "125:\tlearn: 0.5849561\ttotal: 7.38s\tremaining: 51.2s\n",
            "126:\tlearn: 0.5845558\ttotal: 7.44s\tremaining: 51.1s\n",
            "127:\tlearn: 0.5839207\ttotal: 7.5s\tremaining: 51.1s\n",
            "128:\tlearn: 0.5834792\ttotal: 7.55s\tremaining: 51s\n",
            "129:\tlearn: 0.5829311\ttotal: 7.62s\tremaining: 51s\n",
            "130:\tlearn: 0.5825050\ttotal: 7.67s\tremaining: 50.9s\n",
            "131:\tlearn: 0.5819406\ttotal: 7.73s\tremaining: 50.8s\n",
            "132:\tlearn: 0.5814800\ttotal: 7.79s\tremaining: 50.8s\n",
            "133:\tlearn: 0.5809511\ttotal: 7.85s\tremaining: 50.7s\n",
            "134:\tlearn: 0.5806361\ttotal: 7.91s\tremaining: 50.7s\n",
            "135:\tlearn: 0.5800909\ttotal: 7.96s\tremaining: 50.6s\n",
            "136:\tlearn: 0.5797696\ttotal: 8.03s\tremaining: 50.6s\n",
            "137:\tlearn: 0.5794689\ttotal: 8.09s\tremaining: 50.5s\n",
            "138:\tlearn: 0.5791436\ttotal: 8.14s\tremaining: 50.5s\n",
            "139:\tlearn: 0.5787798\ttotal: 8.21s\tremaining: 50.4s\n",
            "140:\tlearn: 0.5784775\ttotal: 8.27s\tremaining: 50.4s\n",
            "141:\tlearn: 0.5779790\ttotal: 8.33s\tremaining: 50.3s\n",
            "142:\tlearn: 0.5774619\ttotal: 8.39s\tremaining: 50.3s\n",
            "143:\tlearn: 0.5770529\ttotal: 8.45s\tremaining: 50.2s\n",
            "144:\tlearn: 0.5764442\ttotal: 8.5s\tremaining: 50.1s\n",
            "145:\tlearn: 0.5759751\ttotal: 8.56s\tremaining: 50.1s\n",
            "146:\tlearn: 0.5756391\ttotal: 8.62s\tremaining: 50s\n",
            "147:\tlearn: 0.5754337\ttotal: 8.67s\tremaining: 49.9s\n",
            "148:\tlearn: 0.5749459\ttotal: 8.72s\tremaining: 49.8s\n",
            "149:\tlearn: 0.5746327\ttotal: 8.79s\tremaining: 49.8s\n",
            "150:\tlearn: 0.5743502\ttotal: 8.84s\tremaining: 49.7s\n",
            "151:\tlearn: 0.5740676\ttotal: 8.9s\tremaining: 49.7s\n",
            "152:\tlearn: 0.5737052\ttotal: 8.96s\tremaining: 49.6s\n",
            "153:\tlearn: 0.5731520\ttotal: 9.02s\tremaining: 49.5s\n",
            "154:\tlearn: 0.5727400\ttotal: 9.07s\tremaining: 49.5s\n",
            "155:\tlearn: 0.5723707\ttotal: 9.13s\tremaining: 49.4s\n",
            "156:\tlearn: 0.5720439\ttotal: 9.19s\tremaining: 49.3s\n",
            "157:\tlearn: 0.5717254\ttotal: 9.25s\tremaining: 49.3s\n",
            "158:\tlearn: 0.5713040\ttotal: 9.31s\tremaining: 49.3s\n",
            "159:\tlearn: 0.5710028\ttotal: 9.37s\tremaining: 49.2s\n",
            "160:\tlearn: 0.5707771\ttotal: 9.42s\tremaining: 49.1s\n",
            "161:\tlearn: 0.5703696\ttotal: 9.48s\tremaining: 49.1s\n",
            "162:\tlearn: 0.5699283\ttotal: 9.54s\tremaining: 49s\n",
            "163:\tlearn: 0.5697766\ttotal: 9.59s\tremaining: 48.9s\n",
            "164:\tlearn: 0.5693478\ttotal: 9.65s\tremaining: 48.8s\n",
            "165:\tlearn: 0.5690695\ttotal: 9.71s\tremaining: 48.8s\n",
            "166:\tlearn: 0.5688016\ttotal: 9.76s\tremaining: 48.7s\n",
            "167:\tlearn: 0.5683652\ttotal: 9.82s\tremaining: 48.7s\n",
            "168:\tlearn: 0.5680284\ttotal: 9.89s\tremaining: 48.6s\n",
            "169:\tlearn: 0.5677597\ttotal: 9.95s\tremaining: 48.6s\n",
            "170:\tlearn: 0.5674613\ttotal: 10s\tremaining: 48.5s\n",
            "171:\tlearn: 0.5668276\ttotal: 10.1s\tremaining: 48.4s\n",
            "172:\tlearn: 0.5665305\ttotal: 10.1s\tremaining: 48.3s\n",
            "173:\tlearn: 0.5663043\ttotal: 10.2s\tremaining: 48.3s\n",
            "174:\tlearn: 0.5659265\ttotal: 10.2s\tremaining: 48.2s\n",
            "175:\tlearn: 0.5656499\ttotal: 10.3s\tremaining: 48.2s\n",
            "176:\tlearn: 0.5654307\ttotal: 10.4s\tremaining: 48.1s\n",
            "177:\tlearn: 0.5652026\ttotal: 10.4s\tremaining: 48.1s\n",
            "178:\tlearn: 0.5648985\ttotal: 10.5s\tremaining: 48s\n",
            "179:\tlearn: 0.5646263\ttotal: 10.5s\tremaining: 47.9s\n",
            "180:\tlearn: 0.5643160\ttotal: 10.6s\tremaining: 47.9s\n",
            "181:\tlearn: 0.5639068\ttotal: 10.6s\tremaining: 47.8s\n",
            "182:\tlearn: 0.5636396\ttotal: 10.7s\tremaining: 47.7s\n",
            "183:\tlearn: 0.5634796\ttotal: 10.7s\tremaining: 47.6s\n",
            "184:\tlearn: 0.5630064\ttotal: 10.8s\tremaining: 47.6s\n",
            "185:\tlearn: 0.5625305\ttotal: 10.9s\tremaining: 47.6s\n",
            "186:\tlearn: 0.5622841\ttotal: 10.9s\tremaining: 47.5s\n",
            "187:\tlearn: 0.5620234\ttotal: 11s\tremaining: 47.4s\n",
            "188:\tlearn: 0.5617296\ttotal: 11s\tremaining: 47.4s\n",
            "189:\tlearn: 0.5615561\ttotal: 11.1s\tremaining: 47.3s\n",
            "190:\tlearn: 0.5612000\ttotal: 11.2s\tremaining: 47.2s\n",
            "191:\tlearn: 0.5609207\ttotal: 11.2s\tremaining: 47.2s\n",
            "192:\tlearn: 0.5606539\ttotal: 11.3s\tremaining: 47.1s\n",
            "193:\tlearn: 0.5602965\ttotal: 11.3s\tremaining: 47.1s\n",
            "194:\tlearn: 0.5600004\ttotal: 11.4s\tremaining: 47s\n",
            "195:\tlearn: 0.5597348\ttotal: 11.4s\tremaining: 47s\n",
            "196:\tlearn: 0.5595134\ttotal: 11.5s\tremaining: 46.9s\n",
            "197:\tlearn: 0.5593206\ttotal: 11.6s\tremaining: 46.8s\n",
            "198:\tlearn: 0.5590433\ttotal: 11.6s\tremaining: 46.8s\n",
            "199:\tlearn: 0.5587577\ttotal: 11.7s\tremaining: 46.7s\n",
            "200:\tlearn: 0.5585070\ttotal: 11.7s\tremaining: 46.6s\n",
            "201:\tlearn: 0.5583070\ttotal: 11.8s\tremaining: 46.6s\n",
            "202:\tlearn: 0.5580460\ttotal: 11.8s\tremaining: 46.5s\n",
            "203:\tlearn: 0.5578108\ttotal: 11.9s\tremaining: 46.4s\n",
            "204:\tlearn: 0.5574711\ttotal: 12s\tremaining: 46.4s\n",
            "205:\tlearn: 0.5572545\ttotal: 12s\tremaining: 46.3s\n",
            "206:\tlearn: 0.5569989\ttotal: 12.1s\tremaining: 46.2s\n",
            "207:\tlearn: 0.5567441\ttotal: 12.1s\tremaining: 46.2s\n",
            "208:\tlearn: 0.5564269\ttotal: 12.2s\tremaining: 46.1s\n",
            "209:\tlearn: 0.5562164\ttotal: 12.2s\tremaining: 46s\n",
            "210:\tlearn: 0.5559893\ttotal: 12.3s\tremaining: 46s\n",
            "211:\tlearn: 0.5558578\ttotal: 12.4s\tremaining: 46s\n",
            "212:\tlearn: 0.5556169\ttotal: 12.4s\tremaining: 45.9s\n",
            "213:\tlearn: 0.5553547\ttotal: 12.5s\tremaining: 45.8s\n",
            "214:\tlearn: 0.5551735\ttotal: 12.5s\tremaining: 45.8s\n",
            "215:\tlearn: 0.5548969\ttotal: 12.6s\tremaining: 45.7s\n",
            "216:\tlearn: 0.5547439\ttotal: 12.6s\tremaining: 45.6s\n",
            "217:\tlearn: 0.5544916\ttotal: 12.7s\tremaining: 45.6s\n",
            "218:\tlearn: 0.5543107\ttotal: 12.8s\tremaining: 45.5s\n",
            "219:\tlearn: 0.5540516\ttotal: 12.8s\tremaining: 45.4s\n",
            "220:\tlearn: 0.5539484\ttotal: 12.9s\tremaining: 45.3s\n",
            "221:\tlearn: 0.5537534\ttotal: 12.9s\tremaining: 45.3s\n",
            "222:\tlearn: 0.5536333\ttotal: 13s\tremaining: 45.2s\n",
            "223:\tlearn: 0.5533360\ttotal: 13s\tremaining: 45.2s\n",
            "224:\tlearn: 0.5531130\ttotal: 13.1s\tremaining: 45.1s\n",
            "225:\tlearn: 0.5529496\ttotal: 13.1s\tremaining: 45s\n",
            "226:\tlearn: 0.5528062\ttotal: 13.2s\tremaining: 44.9s\n",
            "227:\tlearn: 0.5525957\ttotal: 13.3s\tremaining: 44.9s\n",
            "228:\tlearn: 0.5523086\ttotal: 13.3s\tremaining: 44.8s\n",
            "229:\tlearn: 0.5521281\ttotal: 13.4s\tremaining: 44.8s\n",
            "230:\tlearn: 0.5519150\ttotal: 13.4s\tremaining: 44.7s\n",
            "231:\tlearn: 0.5517499\ttotal: 13.5s\tremaining: 44.7s\n",
            "232:\tlearn: 0.5515548\ttotal: 13.5s\tremaining: 44.6s\n",
            "233:\tlearn: 0.5513169\ttotal: 13.6s\tremaining: 44.6s\n",
            "234:\tlearn: 0.5510611\ttotal: 13.7s\tremaining: 44.5s\n",
            "235:\tlearn: 0.5508141\ttotal: 13.7s\tremaining: 44.4s\n",
            "236:\tlearn: 0.5505244\ttotal: 13.8s\tremaining: 44.4s\n",
            "237:\tlearn: 0.5503887\ttotal: 13.8s\tremaining: 44.3s\n",
            "238:\tlearn: 0.5502284\ttotal: 13.9s\tremaining: 44.3s\n",
            "239:\tlearn: 0.5499727\ttotal: 14s\tremaining: 44.2s\n",
            "240:\tlearn: 0.5498031\ttotal: 14s\tremaining: 44.1s\n",
            "241:\tlearn: 0.5496363\ttotal: 14.1s\tremaining: 44.1s\n",
            "242:\tlearn: 0.5494686\ttotal: 14.1s\tremaining: 44s\n",
            "243:\tlearn: 0.5492159\ttotal: 14.2s\tremaining: 43.9s\n",
            "244:\tlearn: 0.5489449\ttotal: 14.2s\tremaining: 43.9s\n",
            "245:\tlearn: 0.5485553\ttotal: 14.3s\tremaining: 43.9s\n",
            "246:\tlearn: 0.5483332\ttotal: 14.4s\tremaining: 43.8s\n",
            "247:\tlearn: 0.5481347\ttotal: 14.4s\tremaining: 43.8s\n",
            "248:\tlearn: 0.5479134\ttotal: 14.5s\tremaining: 43.7s\n",
            "249:\tlearn: 0.5477188\ttotal: 14.5s\tremaining: 43.6s\n",
            "250:\tlearn: 0.5475614\ttotal: 14.6s\tremaining: 43.6s\n",
            "251:\tlearn: 0.5473097\ttotal: 14.7s\tremaining: 43.5s\n",
            "252:\tlearn: 0.5470387\ttotal: 14.7s\tremaining: 43.4s\n",
            "253:\tlearn: 0.5468276\ttotal: 14.8s\tremaining: 43.4s\n",
            "254:\tlearn: 0.5467091\ttotal: 14.8s\tremaining: 43.3s\n",
            "255:\tlearn: 0.5465204\ttotal: 14.9s\tremaining: 43.3s\n",
            "256:\tlearn: 0.5463177\ttotal: 14.9s\tremaining: 43.2s\n",
            "257:\tlearn: 0.5461130\ttotal: 15s\tremaining: 43.1s\n",
            "258:\tlearn: 0.5459292\ttotal: 15.1s\tremaining: 43.1s\n",
            "259:\tlearn: 0.5456919\ttotal: 15.1s\tremaining: 43s\n",
            "260:\tlearn: 0.5455934\ttotal: 15.2s\tremaining: 42.9s\n",
            "261:\tlearn: 0.5454215\ttotal: 15.2s\tremaining: 42.9s\n",
            "262:\tlearn: 0.5451004\ttotal: 15.3s\tremaining: 42.8s\n",
            "263:\tlearn: 0.5449528\ttotal: 15.3s\tremaining: 42.8s\n",
            "264:\tlearn: 0.5447432\ttotal: 15.4s\tremaining: 42.7s\n",
            "265:\tlearn: 0.5445543\ttotal: 15.5s\tremaining: 42.7s\n",
            "266:\tlearn: 0.5443348\ttotal: 15.5s\tremaining: 42.6s\n",
            "267:\tlearn: 0.5441474\ttotal: 15.6s\tremaining: 42.5s\n",
            "268:\tlearn: 0.5440574\ttotal: 15.6s\tremaining: 42.5s\n",
            "269:\tlearn: 0.5439083\ttotal: 15.7s\tremaining: 42.4s\n",
            "270:\tlearn: 0.5436926\ttotal: 15.7s\tremaining: 42.4s\n",
            "271:\tlearn: 0.5434185\ttotal: 15.8s\tremaining: 42.3s\n",
            "272:\tlearn: 0.5432256\ttotal: 15.9s\tremaining: 42.3s\n",
            "273:\tlearn: 0.5430696\ttotal: 15.9s\tremaining: 42.2s\n",
            "274:\tlearn: 0.5429230\ttotal: 16s\tremaining: 42.1s\n",
            "275:\tlearn: 0.5427594\ttotal: 16s\tremaining: 42.1s\n",
            "276:\tlearn: 0.5426333\ttotal: 16.1s\tremaining: 42s\n",
            "277:\tlearn: 0.5424435\ttotal: 16.1s\tremaining: 41.9s\n",
            "278:\tlearn: 0.5422757\ttotal: 16.2s\tremaining: 41.9s\n",
            "279:\tlearn: 0.5421159\ttotal: 16.3s\tremaining: 41.8s\n",
            "280:\tlearn: 0.5418705\ttotal: 16.3s\tremaining: 41.8s\n",
            "281:\tlearn: 0.5416696\ttotal: 16.4s\tremaining: 41.7s\n",
            "282:\tlearn: 0.5415130\ttotal: 16.5s\tremaining: 41.7s\n",
            "283:\tlearn: 0.5413477\ttotal: 16.5s\tremaining: 41.6s\n",
            "284:\tlearn: 0.5411478\ttotal: 16.6s\tremaining: 41.6s\n",
            "285:\tlearn: 0.5410008\ttotal: 16.6s\tremaining: 41.5s\n",
            "286:\tlearn: 0.5407834\ttotal: 16.7s\tremaining: 41.5s\n",
            "287:\tlearn: 0.5406529\ttotal: 16.7s\tremaining: 41.4s\n",
            "288:\tlearn: 0.5405753\ttotal: 16.8s\tremaining: 41.3s\n",
            "289:\tlearn: 0.5404699\ttotal: 16.9s\tremaining: 41.3s\n",
            "290:\tlearn: 0.5403518\ttotal: 16.9s\tremaining: 41.2s\n",
            "291:\tlearn: 0.5401963\ttotal: 17s\tremaining: 41.2s\n",
            "292:\tlearn: 0.5399937\ttotal: 17s\tremaining: 41.1s\n",
            "293:\tlearn: 0.5397618\ttotal: 17.1s\tremaining: 41.1s\n",
            "294:\tlearn: 0.5396357\ttotal: 17.2s\tremaining: 41s\n",
            "295:\tlearn: 0.5395214\ttotal: 17.2s\tremaining: 40.9s\n",
            "296:\tlearn: 0.5393578\ttotal: 17.3s\tremaining: 40.9s\n",
            "297:\tlearn: 0.5391898\ttotal: 17.3s\tremaining: 40.8s\n",
            "298:\tlearn: 0.5390492\ttotal: 17.4s\tremaining: 40.8s\n",
            "299:\tlearn: 0.5388666\ttotal: 17.4s\tremaining: 40.7s\n",
            "300:\tlearn: 0.5387359\ttotal: 17.5s\tremaining: 40.6s\n",
            "301:\tlearn: 0.5386123\ttotal: 17.6s\tremaining: 40.6s\n",
            "302:\tlearn: 0.5385206\ttotal: 17.6s\tremaining: 40.5s\n",
            "303:\tlearn: 0.5383082\ttotal: 17.7s\tremaining: 40.5s\n",
            "304:\tlearn: 0.5381825\ttotal: 17.7s\tremaining: 40.4s\n",
            "305:\tlearn: 0.5380713\ttotal: 17.8s\tremaining: 40.3s\n",
            "306:\tlearn: 0.5378191\ttotal: 17.8s\tremaining: 40.3s\n",
            "307:\tlearn: 0.5376851\ttotal: 17.9s\tremaining: 40.2s\n",
            "308:\tlearn: 0.5375945\ttotal: 18s\tremaining: 40.1s\n",
            "309:\tlearn: 0.5374414\ttotal: 18s\tremaining: 40.1s\n",
            "310:\tlearn: 0.5372592\ttotal: 18.1s\tremaining: 40s\n",
            "311:\tlearn: 0.5370886\ttotal: 18.1s\tremaining: 40s\n",
            "312:\tlearn: 0.5369690\ttotal: 18.2s\tremaining: 39.9s\n",
            "313:\tlearn: 0.5368427\ttotal: 18.2s\tremaining: 39.8s\n",
            "314:\tlearn: 0.5366743\ttotal: 18.3s\tremaining: 39.8s\n",
            "315:\tlearn: 0.5365267\ttotal: 18.4s\tremaining: 39.7s\n",
            "316:\tlearn: 0.5364329\ttotal: 18.4s\tremaining: 39.7s\n",
            "317:\tlearn: 0.5363171\ttotal: 18.5s\tremaining: 39.6s\n",
            "318:\tlearn: 0.5360985\ttotal: 18.5s\tremaining: 39.6s\n",
            "319:\tlearn: 0.5359271\ttotal: 18.6s\tremaining: 39.5s\n",
            "320:\tlearn: 0.5357117\ttotal: 18.6s\tremaining: 39.4s\n",
            "321:\tlearn: 0.5354906\ttotal: 18.7s\tremaining: 39.4s\n",
            "322:\tlearn: 0.5353345\ttotal: 18.8s\tremaining: 39.3s\n",
            "323:\tlearn: 0.5351002\ttotal: 18.8s\tremaining: 39.3s\n",
            "324:\tlearn: 0.5349318\ttotal: 18.9s\tremaining: 39.2s\n",
            "325:\tlearn: 0.5348759\ttotal: 18.9s\tremaining: 39.1s\n",
            "326:\tlearn: 0.5347671\ttotal: 19s\tremaining: 39.1s\n",
            "327:\tlearn: 0.5346503\ttotal: 19.1s\tremaining: 39s\n",
            "328:\tlearn: 0.5345591\ttotal: 19.1s\tremaining: 39s\n",
            "329:\tlearn: 0.5344422\ttotal: 19.2s\tremaining: 38.9s\n",
            "330:\tlearn: 0.5343271\ttotal: 19.2s\tremaining: 38.9s\n",
            "331:\tlearn: 0.5341610\ttotal: 19.3s\tremaining: 38.8s\n",
            "332:\tlearn: 0.5340613\ttotal: 19.3s\tremaining: 38.7s\n",
            "333:\tlearn: 0.5339470\ttotal: 19.4s\tremaining: 38.7s\n",
            "334:\tlearn: 0.5338506\ttotal: 19.5s\tremaining: 38.6s\n",
            "335:\tlearn: 0.5337231\ttotal: 19.5s\tremaining: 38.6s\n",
            "336:\tlearn: 0.5335033\ttotal: 19.6s\tremaining: 38.5s\n",
            "337:\tlearn: 0.5334132\ttotal: 19.6s\tremaining: 38.4s\n",
            "338:\tlearn: 0.5332426\ttotal: 19.7s\tremaining: 38.4s\n",
            "339:\tlearn: 0.5330761\ttotal: 19.7s\tremaining: 38.3s\n",
            "340:\tlearn: 0.5329773\ttotal: 19.8s\tremaining: 38.3s\n",
            "341:\tlearn: 0.5328077\ttotal: 19.9s\tremaining: 38.2s\n",
            "342:\tlearn: 0.5327168\ttotal: 19.9s\tremaining: 38.1s\n",
            "343:\tlearn: 0.5325761\ttotal: 20s\tremaining: 38.1s\n",
            "344:\tlearn: 0.5324731\ttotal: 20s\tremaining: 38s\n",
            "345:\tlearn: 0.5323902\ttotal: 20.1s\tremaining: 38s\n",
            "346:\tlearn: 0.5322734\ttotal: 20.1s\tremaining: 37.9s\n",
            "347:\tlearn: 0.5321793\ttotal: 20.2s\tremaining: 37.8s\n",
            "348:\tlearn: 0.5320840\ttotal: 20.3s\tremaining: 37.8s\n",
            "349:\tlearn: 0.5319690\ttotal: 20.3s\tremaining: 37.7s\n",
            "350:\tlearn: 0.5318461\ttotal: 20.4s\tremaining: 37.7s\n",
            "351:\tlearn: 0.5317543\ttotal: 20.4s\tremaining: 37.6s\n",
            "352:\tlearn: 0.5316677\ttotal: 20.5s\tremaining: 37.5s\n",
            "353:\tlearn: 0.5315654\ttotal: 20.5s\tremaining: 37.5s\n",
            "354:\tlearn: 0.5314563\ttotal: 20.6s\tremaining: 37.4s\n",
            "355:\tlearn: 0.5313840\ttotal: 20.6s\tremaining: 37.4s\n",
            "356:\tlearn: 0.5311915\ttotal: 20.7s\tremaining: 37.3s\n",
            "357:\tlearn: 0.5310260\ttotal: 20.8s\tremaining: 37.2s\n",
            "358:\tlearn: 0.5309082\ttotal: 20.8s\tremaining: 37.2s\n",
            "359:\tlearn: 0.5307818\ttotal: 20.9s\tremaining: 37.1s\n",
            "360:\tlearn: 0.5307018\ttotal: 20.9s\tremaining: 37s\n",
            "361:\tlearn: 0.5305961\ttotal: 21s\tremaining: 37s\n",
            "362:\tlearn: 0.5305131\ttotal: 21s\tremaining: 36.9s\n",
            "363:\tlearn: 0.5303711\ttotal: 21.1s\tremaining: 36.9s\n",
            "364:\tlearn: 0.5302314\ttotal: 21.2s\tremaining: 36.8s\n",
            "365:\tlearn: 0.5301398\ttotal: 21.2s\tremaining: 36.7s\n",
            "366:\tlearn: 0.5299912\ttotal: 21.3s\tremaining: 36.7s\n",
            "367:\tlearn: 0.5299052\ttotal: 21.3s\tremaining: 36.6s\n",
            "368:\tlearn: 0.5297835\ttotal: 21.4s\tremaining: 36.6s\n",
            "369:\tlearn: 0.5295874\ttotal: 21.4s\tremaining: 36.5s\n",
            "370:\tlearn: 0.5294674\ttotal: 21.5s\tremaining: 36.5s\n",
            "371:\tlearn: 0.5293494\ttotal: 21.6s\tremaining: 36.4s\n",
            "372:\tlearn: 0.5292138\ttotal: 21.6s\tremaining: 36.3s\n",
            "373:\tlearn: 0.5290445\ttotal: 21.7s\tremaining: 36.3s\n",
            "374:\tlearn: 0.5289046\ttotal: 21.7s\tremaining: 36.2s\n",
            "375:\tlearn: 0.5288114\ttotal: 21.8s\tremaining: 36.2s\n",
            "376:\tlearn: 0.5287437\ttotal: 21.8s\tremaining: 36.1s\n",
            "377:\tlearn: 0.5285699\ttotal: 21.9s\tremaining: 36s\n",
            "378:\tlearn: 0.5284275\ttotal: 22s\tremaining: 36s\n",
            "379:\tlearn: 0.5282837\ttotal: 22s\tremaining: 35.9s\n",
            "380:\tlearn: 0.5281385\ttotal: 22.1s\tremaining: 35.9s\n",
            "381:\tlearn: 0.5280567\ttotal: 22.1s\tremaining: 35.8s\n",
            "382:\tlearn: 0.5279866\ttotal: 22.2s\tremaining: 35.7s\n",
            "383:\tlearn: 0.5279149\ttotal: 22.2s\tremaining: 35.7s\n",
            "384:\tlearn: 0.5278121\ttotal: 22.3s\tremaining: 35.6s\n",
            "385:\tlearn: 0.5277234\ttotal: 22.3s\tremaining: 35.6s\n",
            "386:\tlearn: 0.5275465\ttotal: 22.4s\tremaining: 35.5s\n",
            "387:\tlearn: 0.5274217\ttotal: 22.5s\tremaining: 35.4s\n",
            "388:\tlearn: 0.5273003\ttotal: 22.5s\tremaining: 35.4s\n",
            "389:\tlearn: 0.5272237\ttotal: 22.6s\tremaining: 35.3s\n",
            "390:\tlearn: 0.5271281\ttotal: 22.6s\tremaining: 35.3s\n",
            "391:\tlearn: 0.5270053\ttotal: 22.7s\tremaining: 35.2s\n",
            "392:\tlearn: 0.5268919\ttotal: 22.8s\tremaining: 35.1s\n",
            "393:\tlearn: 0.5268163\ttotal: 22.8s\tremaining: 35.1s\n",
            "394:\tlearn: 0.5267453\ttotal: 22.9s\tremaining: 35s\n",
            "395:\tlearn: 0.5266108\ttotal: 22.9s\tremaining: 35s\n",
            "396:\tlearn: 0.5264864\ttotal: 23s\tremaining: 34.9s\n",
            "397:\tlearn: 0.5263879\ttotal: 23.1s\tremaining: 34.9s\n",
            "398:\tlearn: 0.5262888\ttotal: 23.1s\tremaining: 34.8s\n",
            "399:\tlearn: 0.5261915\ttotal: 23.2s\tremaining: 34.7s\n",
            "400:\tlearn: 0.5259760\ttotal: 23.2s\tremaining: 34.7s\n",
            "401:\tlearn: 0.5258853\ttotal: 23.3s\tremaining: 34.6s\n",
            "402:\tlearn: 0.5257775\ttotal: 23.3s\tremaining: 34.6s\n",
            "403:\tlearn: 0.5256473\ttotal: 23.4s\tremaining: 34.5s\n",
            "404:\tlearn: 0.5255867\ttotal: 23.5s\tremaining: 34.5s\n",
            "405:\tlearn: 0.5255168\ttotal: 23.5s\tremaining: 34.4s\n",
            "406:\tlearn: 0.5254340\ttotal: 23.6s\tremaining: 34.4s\n",
            "407:\tlearn: 0.5253042\ttotal: 23.6s\tremaining: 34.3s\n",
            "408:\tlearn: 0.5252352\ttotal: 23.7s\tremaining: 34.2s\n",
            "409:\tlearn: 0.5251661\ttotal: 23.7s\tremaining: 34.2s\n",
            "410:\tlearn: 0.5250915\ttotal: 23.8s\tremaining: 34.1s\n",
            "411:\tlearn: 0.5249523\ttotal: 23.9s\tremaining: 34.1s\n",
            "412:\tlearn: 0.5247959\ttotal: 23.9s\tremaining: 34s\n",
            "413:\tlearn: 0.5246842\ttotal: 24s\tremaining: 33.9s\n",
            "414:\tlearn: 0.5245874\ttotal: 24s\tremaining: 33.9s\n",
            "415:\tlearn: 0.5245089\ttotal: 24.1s\tremaining: 33.8s\n",
            "416:\tlearn: 0.5243935\ttotal: 24.1s\tremaining: 33.8s\n",
            "417:\tlearn: 0.5243088\ttotal: 24.2s\tremaining: 33.7s\n",
            "418:\tlearn: 0.5240850\ttotal: 24.3s\tremaining: 33.6s\n",
            "419:\tlearn: 0.5239519\ttotal: 24.3s\tremaining: 33.6s\n",
            "420:\tlearn: 0.5238403\ttotal: 24.4s\tremaining: 33.5s\n",
            "421:\tlearn: 0.5237421\ttotal: 24.4s\tremaining: 33.5s\n",
            "422:\tlearn: 0.5236222\ttotal: 24.5s\tremaining: 33.4s\n",
            "423:\tlearn: 0.5235188\ttotal: 24.6s\tremaining: 33.4s\n",
            "424:\tlearn: 0.5234747\ttotal: 24.6s\tremaining: 33.3s\n",
            "425:\tlearn: 0.5233654\ttotal: 24.7s\tremaining: 33.2s\n",
            "426:\tlearn: 0.5233037\ttotal: 24.7s\tremaining: 33.2s\n",
            "427:\tlearn: 0.5231922\ttotal: 24.8s\tremaining: 33.1s\n",
            "428:\tlearn: 0.5230841\ttotal: 24.8s\tremaining: 33.1s\n",
            "429:\tlearn: 0.5230022\ttotal: 24.9s\tremaining: 33s\n",
            "430:\tlearn: 0.5228987\ttotal: 25s\tremaining: 32.9s\n",
            "431:\tlearn: 0.5227502\ttotal: 25s\tremaining: 32.9s\n",
            "432:\tlearn: 0.5226430\ttotal: 25.1s\tremaining: 32.8s\n",
            "433:\tlearn: 0.5224981\ttotal: 25.1s\tremaining: 32.8s\n",
            "434:\tlearn: 0.5224233\ttotal: 25.2s\tremaining: 32.7s\n",
            "435:\tlearn: 0.5223117\ttotal: 25.2s\tremaining: 32.6s\n",
            "436:\tlearn: 0.5222101\ttotal: 25.3s\tremaining: 32.6s\n",
            "437:\tlearn: 0.5221050\ttotal: 25.4s\tremaining: 32.5s\n",
            "438:\tlearn: 0.5219872\ttotal: 25.4s\tremaining: 32.5s\n",
            "439:\tlearn: 0.5219386\ttotal: 25.5s\tremaining: 32.4s\n",
            "440:\tlearn: 0.5218742\ttotal: 25.5s\tremaining: 32.4s\n",
            "441:\tlearn: 0.5218024\ttotal: 25.6s\tremaining: 32.3s\n",
            "442:\tlearn: 0.5217140\ttotal: 25.6s\tremaining: 32.2s\n",
            "443:\tlearn: 0.5216201\ttotal: 25.7s\tremaining: 32.2s\n",
            "444:\tlearn: 0.5215707\ttotal: 25.8s\tremaining: 32.1s\n",
            "445:\tlearn: 0.5214385\ttotal: 25.8s\tremaining: 32.1s\n",
            "446:\tlearn: 0.5214061\ttotal: 25.9s\tremaining: 32s\n",
            "447:\tlearn: 0.5212991\ttotal: 25.9s\tremaining: 31.9s\n",
            "448:\tlearn: 0.5212020\ttotal: 26s\tremaining: 31.9s\n",
            "449:\tlearn: 0.5210723\ttotal: 26s\tremaining: 31.8s\n",
            "450:\tlearn: 0.5209729\ttotal: 26.1s\tremaining: 31.8s\n",
            "451:\tlearn: 0.5208452\ttotal: 26.2s\tremaining: 31.7s\n",
            "452:\tlearn: 0.5207880\ttotal: 26.2s\tremaining: 31.6s\n",
            "453:\tlearn: 0.5207202\ttotal: 26.3s\tremaining: 31.6s\n",
            "454:\tlearn: 0.5206135\ttotal: 26.3s\tremaining: 31.5s\n",
            "455:\tlearn: 0.5204840\ttotal: 26.4s\tremaining: 31.5s\n",
            "456:\tlearn: 0.5204195\ttotal: 26.4s\tremaining: 31.4s\n",
            "457:\tlearn: 0.5203371\ttotal: 26.5s\tremaining: 31.4s\n",
            "458:\tlearn: 0.5202290\ttotal: 26.6s\tremaining: 31.3s\n",
            "459:\tlearn: 0.5201341\ttotal: 26.6s\tremaining: 31.2s\n",
            "460:\tlearn: 0.5200545\ttotal: 26.7s\tremaining: 31.2s\n",
            "461:\tlearn: 0.5199732\ttotal: 26.7s\tremaining: 31.1s\n",
            "462:\tlearn: 0.5198157\ttotal: 26.8s\tremaining: 31.1s\n",
            "463:\tlearn: 0.5197359\ttotal: 26.8s\tremaining: 31s\n",
            "464:\tlearn: 0.5196448\ttotal: 26.9s\tremaining: 30.9s\n",
            "465:\tlearn: 0.5195320\ttotal: 27s\tremaining: 30.9s\n",
            "466:\tlearn: 0.5194275\ttotal: 27s\tremaining: 30.9s\n",
            "467:\tlearn: 0.5193326\ttotal: 27.1s\tremaining: 30.8s\n",
            "468:\tlearn: 0.5192385\ttotal: 27.2s\tremaining: 30.7s\n",
            "469:\tlearn: 0.5191532\ttotal: 27.2s\tremaining: 30.7s\n",
            "470:\tlearn: 0.5190285\ttotal: 27.3s\tremaining: 30.6s\n",
            "471:\tlearn: 0.5189546\ttotal: 27.3s\tremaining: 30.6s\n",
            "472:\tlearn: 0.5188892\ttotal: 27.4s\tremaining: 30.5s\n",
            "473:\tlearn: 0.5187708\ttotal: 27.5s\tremaining: 30.5s\n",
            "474:\tlearn: 0.5187036\ttotal: 27.5s\tremaining: 30.4s\n",
            "475:\tlearn: 0.5186395\ttotal: 27.6s\tremaining: 30.4s\n",
            "476:\tlearn: 0.5185723\ttotal: 27.6s\tremaining: 30.3s\n",
            "477:\tlearn: 0.5184849\ttotal: 27.7s\tremaining: 30.2s\n",
            "478:\tlearn: 0.5183725\ttotal: 27.7s\tremaining: 30.2s\n",
            "479:\tlearn: 0.5182393\ttotal: 27.8s\tremaining: 30.1s\n",
            "480:\tlearn: 0.5182009\ttotal: 27.9s\tremaining: 30.1s\n",
            "481:\tlearn: 0.5181047\ttotal: 27.9s\tremaining: 30s\n",
            "482:\tlearn: 0.5179773\ttotal: 28s\tremaining: 29.9s\n",
            "483:\tlearn: 0.5179042\ttotal: 28s\tremaining: 29.9s\n",
            "484:\tlearn: 0.5178638\ttotal: 28.1s\tremaining: 29.8s\n",
            "485:\tlearn: 0.5177972\ttotal: 28.1s\tremaining: 29.8s\n",
            "486:\tlearn: 0.5176692\ttotal: 28.2s\tremaining: 29.7s\n",
            "487:\tlearn: 0.5176255\ttotal: 28.2s\tremaining: 29.6s\n",
            "488:\tlearn: 0.5175422\ttotal: 28.3s\tremaining: 29.6s\n",
            "489:\tlearn: 0.5174858\ttotal: 28.4s\tremaining: 29.5s\n",
            "490:\tlearn: 0.5174509\ttotal: 28.4s\tremaining: 29.5s\n",
            "491:\tlearn: 0.5173322\ttotal: 28.5s\tremaining: 29.4s\n",
            "492:\tlearn: 0.5172888\ttotal: 28.5s\tremaining: 29.3s\n",
            "493:\tlearn: 0.5172009\ttotal: 28.6s\tremaining: 29.3s\n",
            "494:\tlearn: 0.5170921\ttotal: 28.6s\tremaining: 29.2s\n",
            "495:\tlearn: 0.5170120\ttotal: 28.7s\tremaining: 29.2s\n",
            "496:\tlearn: 0.5169035\ttotal: 28.8s\tremaining: 29.1s\n",
            "497:\tlearn: 0.5168266\ttotal: 28.8s\tremaining: 29.1s\n",
            "498:\tlearn: 0.5167972\ttotal: 28.9s\tremaining: 29s\n",
            "499:\tlearn: 0.5167237\ttotal: 28.9s\tremaining: 28.9s\n",
            "500:\tlearn: 0.5166624\ttotal: 29s\tremaining: 28.9s\n",
            "501:\tlearn: 0.5165428\ttotal: 29s\tremaining: 28.8s\n",
            "502:\tlearn: 0.5164622\ttotal: 29.1s\tremaining: 28.8s\n",
            "503:\tlearn: 0.5164014\ttotal: 29.2s\tremaining: 28.7s\n",
            "504:\tlearn: 0.5162964\ttotal: 29.2s\tremaining: 28.6s\n",
            "505:\tlearn: 0.5161359\ttotal: 29.3s\tremaining: 28.6s\n",
            "506:\tlearn: 0.5160672\ttotal: 29.3s\tremaining: 28.5s\n",
            "507:\tlearn: 0.5160341\ttotal: 29.4s\tremaining: 28.5s\n",
            "508:\tlearn: 0.5159701\ttotal: 29.5s\tremaining: 28.4s\n",
            "509:\tlearn: 0.5159018\ttotal: 29.5s\tremaining: 28.4s\n",
            "510:\tlearn: 0.5157677\ttotal: 29.6s\tremaining: 28.3s\n",
            "511:\tlearn: 0.5156787\ttotal: 29.6s\tremaining: 28.2s\n",
            "512:\tlearn: 0.5156186\ttotal: 29.7s\tremaining: 28.2s\n",
            "513:\tlearn: 0.5155314\ttotal: 29.7s\tremaining: 28.1s\n",
            "514:\tlearn: 0.5154635\ttotal: 29.8s\tremaining: 28.1s\n",
            "515:\tlearn: 0.5154101\ttotal: 29.9s\tremaining: 28s\n",
            "516:\tlearn: 0.5153199\ttotal: 29.9s\tremaining: 27.9s\n",
            "517:\tlearn: 0.5152394\ttotal: 30s\tremaining: 27.9s\n",
            "518:\tlearn: 0.5151580\ttotal: 30s\tremaining: 27.8s\n",
            "519:\tlearn: 0.5151000\ttotal: 30.1s\tremaining: 27.8s\n",
            "520:\tlearn: 0.5150063\ttotal: 30.1s\tremaining: 27.7s\n",
            "521:\tlearn: 0.5149293\ttotal: 30.2s\tremaining: 27.6s\n",
            "522:\tlearn: 0.5148789\ttotal: 30.2s\tremaining: 27.6s\n",
            "523:\tlearn: 0.5147853\ttotal: 30.3s\tremaining: 27.5s\n",
            "524:\tlearn: 0.5147151\ttotal: 30.4s\tremaining: 27.5s\n",
            "525:\tlearn: 0.5145975\ttotal: 30.4s\tremaining: 27.4s\n",
            "526:\tlearn: 0.5145061\ttotal: 30.5s\tremaining: 27.4s\n",
            "527:\tlearn: 0.5144402\ttotal: 30.5s\tremaining: 27.3s\n",
            "528:\tlearn: 0.5143365\ttotal: 30.6s\tremaining: 27.2s\n",
            "529:\tlearn: 0.5142910\ttotal: 30.7s\tremaining: 27.2s\n",
            "530:\tlearn: 0.5142167\ttotal: 30.7s\tremaining: 27.1s\n",
            "531:\tlearn: 0.5141113\ttotal: 30.8s\tremaining: 27.1s\n",
            "532:\tlearn: 0.5140396\ttotal: 30.8s\tremaining: 27s\n",
            "533:\tlearn: 0.5139904\ttotal: 30.9s\tremaining: 27s\n",
            "534:\tlearn: 0.5139121\ttotal: 31s\tremaining: 26.9s\n",
            "535:\tlearn: 0.5138542\ttotal: 31s\tremaining: 26.8s\n",
            "536:\tlearn: 0.5137632\ttotal: 31.1s\tremaining: 26.8s\n",
            "537:\tlearn: 0.5136680\ttotal: 31.1s\tremaining: 26.7s\n",
            "538:\tlearn: 0.5135596\ttotal: 31.2s\tremaining: 26.7s\n",
            "539:\tlearn: 0.5134983\ttotal: 31.2s\tremaining: 26.6s\n",
            "540:\tlearn: 0.5134340\ttotal: 31.3s\tremaining: 26.5s\n",
            "541:\tlearn: 0.5134006\ttotal: 31.3s\tremaining: 26.5s\n",
            "542:\tlearn: 0.5133355\ttotal: 31.4s\tremaining: 26.4s\n",
            "543:\tlearn: 0.5132809\ttotal: 31.5s\tremaining: 26.4s\n",
            "544:\tlearn: 0.5132116\ttotal: 31.5s\tremaining: 26.3s\n",
            "545:\tlearn: 0.5131189\ttotal: 31.6s\tremaining: 26.3s\n",
            "546:\tlearn: 0.5130592\ttotal: 31.6s\tremaining: 26.2s\n",
            "547:\tlearn: 0.5129854\ttotal: 31.7s\tremaining: 26.1s\n",
            "548:\tlearn: 0.5128737\ttotal: 31.8s\tremaining: 26.1s\n",
            "549:\tlearn: 0.5127943\ttotal: 31.8s\tremaining: 26s\n",
            "550:\tlearn: 0.5127184\ttotal: 31.9s\tremaining: 26s\n",
            "551:\tlearn: 0.5126670\ttotal: 31.9s\tremaining: 25.9s\n",
            "552:\tlearn: 0.5126119\ttotal: 32s\tremaining: 25.9s\n",
            "553:\tlearn: 0.5125255\ttotal: 32s\tremaining: 25.8s\n",
            "554:\tlearn: 0.5124533\ttotal: 32.1s\tremaining: 25.7s\n",
            "555:\tlearn: 0.5123685\ttotal: 32.2s\tremaining: 25.7s\n",
            "556:\tlearn: 0.5123029\ttotal: 32.2s\tremaining: 25.6s\n",
            "557:\tlearn: 0.5122486\ttotal: 32.3s\tremaining: 25.6s\n",
            "558:\tlearn: 0.5121776\ttotal: 32.3s\tremaining: 25.5s\n",
            "559:\tlearn: 0.5120951\ttotal: 32.4s\tremaining: 25.5s\n",
            "560:\tlearn: 0.5120318\ttotal: 32.4s\tremaining: 25.4s\n",
            "561:\tlearn: 0.5119599\ttotal: 32.5s\tremaining: 25.3s\n",
            "562:\tlearn: 0.5118962\ttotal: 32.6s\tremaining: 25.3s\n",
            "563:\tlearn: 0.5118309\ttotal: 32.6s\tremaining: 25.2s\n",
            "564:\tlearn: 0.5117814\ttotal: 32.7s\tremaining: 25.2s\n",
            "565:\tlearn: 0.5117231\ttotal: 32.7s\tremaining: 25.1s\n",
            "566:\tlearn: 0.5116628\ttotal: 32.8s\tremaining: 25s\n",
            "567:\tlearn: 0.5116058\ttotal: 32.9s\tremaining: 25s\n",
            "568:\tlearn: 0.5115400\ttotal: 32.9s\tremaining: 24.9s\n",
            "569:\tlearn: 0.5114730\ttotal: 33s\tremaining: 24.9s\n",
            "570:\tlearn: 0.5113757\ttotal: 33s\tremaining: 24.8s\n",
            "571:\tlearn: 0.5113431\ttotal: 33.1s\tremaining: 24.8s\n",
            "572:\tlearn: 0.5112829\ttotal: 33.1s\tremaining: 24.7s\n",
            "573:\tlearn: 0.5111934\ttotal: 33.2s\tremaining: 24.6s\n",
            "574:\tlearn: 0.5110796\ttotal: 33.3s\tremaining: 24.6s\n",
            "575:\tlearn: 0.5110262\ttotal: 33.3s\tremaining: 24.5s\n",
            "576:\tlearn: 0.5109724\ttotal: 33.4s\tremaining: 24.5s\n",
            "577:\tlearn: 0.5108494\ttotal: 33.4s\tremaining: 24.4s\n",
            "578:\tlearn: 0.5107930\ttotal: 33.5s\tremaining: 24.4s\n",
            "579:\tlearn: 0.5107042\ttotal: 33.6s\tremaining: 24.3s\n",
            "580:\tlearn: 0.5106588\ttotal: 33.6s\tremaining: 24.2s\n",
            "581:\tlearn: 0.5105927\ttotal: 33.7s\tremaining: 24.2s\n",
            "582:\tlearn: 0.5105058\ttotal: 33.7s\tremaining: 24.1s\n",
            "583:\tlearn: 0.5103997\ttotal: 33.8s\tremaining: 24.1s\n",
            "584:\tlearn: 0.5103594\ttotal: 33.8s\tremaining: 24s\n",
            "585:\tlearn: 0.5102958\ttotal: 33.9s\tremaining: 24s\n",
            "586:\tlearn: 0.5101957\ttotal: 34s\tremaining: 23.9s\n",
            "587:\tlearn: 0.5101199\ttotal: 34s\tremaining: 23.8s\n",
            "588:\tlearn: 0.5100401\ttotal: 34.1s\tremaining: 23.8s\n",
            "589:\tlearn: 0.5099713\ttotal: 34.1s\tremaining: 23.7s\n",
            "590:\tlearn: 0.5099362\ttotal: 34.2s\tremaining: 23.7s\n",
            "591:\tlearn: 0.5098791\ttotal: 34.2s\tremaining: 23.6s\n",
            "592:\tlearn: 0.5097838\ttotal: 34.3s\tremaining: 23.5s\n",
            "593:\tlearn: 0.5097307\ttotal: 34.4s\tremaining: 23.5s\n",
            "594:\tlearn: 0.5096591\ttotal: 34.4s\tremaining: 23.4s\n",
            "595:\tlearn: 0.5095975\ttotal: 34.5s\tremaining: 23.4s\n",
            "596:\tlearn: 0.5095503\ttotal: 34.5s\tremaining: 23.3s\n",
            "597:\tlearn: 0.5094630\ttotal: 34.6s\tremaining: 23.3s\n",
            "598:\tlearn: 0.5094119\ttotal: 34.7s\tremaining: 23.2s\n",
            "599:\tlearn: 0.5093394\ttotal: 34.7s\tremaining: 23.2s\n",
            "600:\tlearn: 0.5092912\ttotal: 34.8s\tremaining: 23.1s\n",
            "601:\tlearn: 0.5091430\ttotal: 34.8s\tremaining: 23s\n",
            "602:\tlearn: 0.5090915\ttotal: 34.9s\tremaining: 23s\n",
            "603:\tlearn: 0.5090173\ttotal: 35s\tremaining: 22.9s\n",
            "604:\tlearn: 0.5089580\ttotal: 35s\tremaining: 22.9s\n",
            "605:\tlearn: 0.5088269\ttotal: 35.1s\tremaining: 22.8s\n",
            "606:\tlearn: 0.5087054\ttotal: 35.1s\tremaining: 22.7s\n",
            "607:\tlearn: 0.5086573\ttotal: 35.2s\tremaining: 22.7s\n",
            "608:\tlearn: 0.5085938\ttotal: 35.2s\tremaining: 22.6s\n",
            "609:\tlearn: 0.5085565\ttotal: 35.3s\tremaining: 22.6s\n",
            "610:\tlearn: 0.5084821\ttotal: 35.4s\tremaining: 22.5s\n",
            "611:\tlearn: 0.5084226\ttotal: 35.4s\tremaining: 22.4s\n",
            "612:\tlearn: 0.5083252\ttotal: 35.5s\tremaining: 22.4s\n",
            "613:\tlearn: 0.5082535\ttotal: 35.5s\tremaining: 22.3s\n",
            "614:\tlearn: 0.5082089\ttotal: 35.6s\tremaining: 22.3s\n",
            "615:\tlearn: 0.5081396\ttotal: 35.7s\tremaining: 22.2s\n",
            "616:\tlearn: 0.5080899\ttotal: 35.7s\tremaining: 22.2s\n",
            "617:\tlearn: 0.5079976\ttotal: 35.8s\tremaining: 22.1s\n",
            "618:\tlearn: 0.5079422\ttotal: 35.8s\tremaining: 22.1s\n",
            "619:\tlearn: 0.5078390\ttotal: 35.9s\tremaining: 22s\n",
            "620:\tlearn: 0.5077829\ttotal: 35.9s\tremaining: 21.9s\n",
            "621:\tlearn: 0.5077190\ttotal: 36s\tremaining: 21.9s\n",
            "622:\tlearn: 0.5076476\ttotal: 36.1s\tremaining: 21.8s\n",
            "623:\tlearn: 0.5075879\ttotal: 36.1s\tremaining: 21.8s\n",
            "624:\tlearn: 0.5075242\ttotal: 36.2s\tremaining: 21.7s\n",
            "625:\tlearn: 0.5074819\ttotal: 36.2s\tremaining: 21.7s\n",
            "626:\tlearn: 0.5074323\ttotal: 36.3s\tremaining: 21.6s\n",
            "627:\tlearn: 0.5073078\ttotal: 36.4s\tremaining: 21.5s\n",
            "628:\tlearn: 0.5072655\ttotal: 36.4s\tremaining: 21.5s\n",
            "629:\tlearn: 0.5072067\ttotal: 36.5s\tremaining: 21.4s\n",
            "630:\tlearn: 0.5071395\ttotal: 36.5s\tremaining: 21.4s\n",
            "631:\tlearn: 0.5071156\ttotal: 36.6s\tremaining: 21.3s\n",
            "632:\tlearn: 0.5070652\ttotal: 36.6s\tremaining: 21.2s\n",
            "633:\tlearn: 0.5069689\ttotal: 36.7s\tremaining: 21.2s\n",
            "634:\tlearn: 0.5069282\ttotal: 36.8s\tremaining: 21.1s\n",
            "635:\tlearn: 0.5068727\ttotal: 36.8s\tremaining: 21.1s\n",
            "636:\tlearn: 0.5068300\ttotal: 36.9s\tremaining: 21s\n",
            "637:\tlearn: 0.5067430\ttotal: 36.9s\tremaining: 21s\n",
            "638:\tlearn: 0.5066852\ttotal: 37s\tremaining: 20.9s\n",
            "639:\tlearn: 0.5066239\ttotal: 37s\tremaining: 20.8s\n",
            "640:\tlearn: 0.5065474\ttotal: 37.1s\tremaining: 20.8s\n",
            "641:\tlearn: 0.5064420\ttotal: 37.2s\tremaining: 20.7s\n",
            "642:\tlearn: 0.5063666\ttotal: 37.2s\tremaining: 20.7s\n",
            "643:\tlearn: 0.5063074\ttotal: 37.3s\tremaining: 20.6s\n",
            "644:\tlearn: 0.5062629\ttotal: 37.3s\tremaining: 20.6s\n",
            "645:\tlearn: 0.5062237\ttotal: 37.4s\tremaining: 20.5s\n",
            "646:\tlearn: 0.5061500\ttotal: 37.5s\tremaining: 20.4s\n",
            "647:\tlearn: 0.5060850\ttotal: 37.5s\tremaining: 20.4s\n",
            "648:\tlearn: 0.5060160\ttotal: 37.6s\tremaining: 20.3s\n",
            "649:\tlearn: 0.5059387\ttotal: 37.7s\tremaining: 20.3s\n",
            "650:\tlearn: 0.5058357\ttotal: 37.7s\tremaining: 20.2s\n",
            "651:\tlearn: 0.5057481\ttotal: 37.8s\tremaining: 20.2s\n",
            "652:\tlearn: 0.5056857\ttotal: 37.8s\tremaining: 20.1s\n",
            "653:\tlearn: 0.5055365\ttotal: 37.9s\tremaining: 20.1s\n",
            "654:\tlearn: 0.5054729\ttotal: 38s\tremaining: 20s\n",
            "655:\tlearn: 0.5054038\ttotal: 38s\tremaining: 19.9s\n",
            "656:\tlearn: 0.5053485\ttotal: 38.1s\tremaining: 19.9s\n",
            "657:\tlearn: 0.5052837\ttotal: 38.2s\tremaining: 19.8s\n",
            "658:\tlearn: 0.5052119\ttotal: 38.2s\tremaining: 19.8s\n",
            "659:\tlearn: 0.5051577\ttotal: 38.3s\tremaining: 19.7s\n",
            "660:\tlearn: 0.5050228\ttotal: 38.3s\tremaining: 19.7s\n",
            "661:\tlearn: 0.5049772\ttotal: 38.4s\tremaining: 19.6s\n",
            "662:\tlearn: 0.5049083\ttotal: 38.4s\tremaining: 19.5s\n",
            "663:\tlearn: 0.5048275\ttotal: 38.5s\tremaining: 19.5s\n",
            "664:\tlearn: 0.5047578\ttotal: 38.6s\tremaining: 19.4s\n",
            "665:\tlearn: 0.5047166\ttotal: 38.6s\tremaining: 19.4s\n",
            "666:\tlearn: 0.5046410\ttotal: 38.7s\tremaining: 19.3s\n",
            "667:\tlearn: 0.5046042\ttotal: 38.7s\tremaining: 19.3s\n",
            "668:\tlearn: 0.5045507\ttotal: 38.8s\tremaining: 19.2s\n",
            "669:\tlearn: 0.5044772\ttotal: 38.8s\tremaining: 19.1s\n",
            "670:\tlearn: 0.5044197\ttotal: 38.9s\tremaining: 19.1s\n",
            "671:\tlearn: 0.5043810\ttotal: 39s\tremaining: 19s\n",
            "672:\tlearn: 0.5043299\ttotal: 39s\tremaining: 19s\n",
            "673:\tlearn: 0.5042503\ttotal: 39.1s\tremaining: 18.9s\n",
            "674:\tlearn: 0.5042066\ttotal: 39.1s\tremaining: 18.8s\n",
            "675:\tlearn: 0.5041568\ttotal: 39.2s\tremaining: 18.8s\n",
            "676:\tlearn: 0.5040929\ttotal: 39.2s\tremaining: 18.7s\n",
            "677:\tlearn: 0.5040102\ttotal: 39.3s\tremaining: 18.7s\n",
            "678:\tlearn: 0.5039611\ttotal: 39.4s\tremaining: 18.6s\n",
            "679:\tlearn: 0.5038502\ttotal: 39.4s\tremaining: 18.5s\n",
            "680:\tlearn: 0.5037932\ttotal: 39.5s\tremaining: 18.5s\n",
            "681:\tlearn: 0.5037555\ttotal: 39.5s\tremaining: 18.4s\n",
            "682:\tlearn: 0.5037056\ttotal: 39.6s\tremaining: 18.4s\n",
            "683:\tlearn: 0.5036599\ttotal: 39.7s\tremaining: 18.3s\n",
            "684:\tlearn: 0.5035876\ttotal: 39.7s\tremaining: 18.3s\n",
            "685:\tlearn: 0.5035278\ttotal: 39.8s\tremaining: 18.2s\n",
            "686:\tlearn: 0.5034793\ttotal: 39.8s\tremaining: 18.1s\n",
            "687:\tlearn: 0.5033941\ttotal: 39.9s\tremaining: 18.1s\n",
            "688:\tlearn: 0.5033547\ttotal: 39.9s\tremaining: 18s\n",
            "689:\tlearn: 0.5033147\ttotal: 40s\tremaining: 18s\n",
            "690:\tlearn: 0.5032735\ttotal: 40.1s\tremaining: 17.9s\n",
            "691:\tlearn: 0.5032497\ttotal: 40.1s\tremaining: 17.8s\n",
            "692:\tlearn: 0.5031445\ttotal: 40.2s\tremaining: 17.8s\n",
            "693:\tlearn: 0.5030984\ttotal: 40.2s\tremaining: 17.7s\n",
            "694:\tlearn: 0.5030473\ttotal: 40.3s\tremaining: 17.7s\n",
            "695:\tlearn: 0.5029936\ttotal: 40.3s\tremaining: 17.6s\n",
            "696:\tlearn: 0.5029451\ttotal: 40.4s\tremaining: 17.6s\n",
            "697:\tlearn: 0.5028881\ttotal: 40.4s\tremaining: 17.5s\n",
            "698:\tlearn: 0.5028530\ttotal: 40.5s\tremaining: 17.4s\n",
            "699:\tlearn: 0.5027396\ttotal: 40.6s\tremaining: 17.4s\n",
            "700:\tlearn: 0.5027060\ttotal: 40.6s\tremaining: 17.3s\n",
            "701:\tlearn: 0.5026501\ttotal: 40.7s\tremaining: 17.3s\n",
            "702:\tlearn: 0.5026173\ttotal: 40.7s\tremaining: 17.2s\n",
            "703:\tlearn: 0.5025568\ttotal: 40.8s\tremaining: 17.2s\n",
            "704:\tlearn: 0.5025129\ttotal: 40.9s\tremaining: 17.1s\n",
            "705:\tlearn: 0.5024609\ttotal: 40.9s\tremaining: 17s\n",
            "706:\tlearn: 0.5024274\ttotal: 41s\tremaining: 17s\n",
            "707:\tlearn: 0.5023492\ttotal: 41s\tremaining: 16.9s\n",
            "708:\tlearn: 0.5023019\ttotal: 41.1s\tremaining: 16.9s\n",
            "709:\tlearn: 0.5022503\ttotal: 41.1s\tremaining: 16.8s\n",
            "710:\tlearn: 0.5022047\ttotal: 41.2s\tremaining: 16.7s\n",
            "711:\tlearn: 0.5021477\ttotal: 41.3s\tremaining: 16.7s\n",
            "712:\tlearn: 0.5020931\ttotal: 41.3s\tremaining: 16.6s\n",
            "713:\tlearn: 0.5020561\ttotal: 41.4s\tremaining: 16.6s\n",
            "714:\tlearn: 0.5020241\ttotal: 41.4s\tremaining: 16.5s\n",
            "715:\tlearn: 0.5019703\ttotal: 41.5s\tremaining: 16.5s\n",
            "716:\tlearn: 0.5019372\ttotal: 41.5s\tremaining: 16.4s\n",
            "717:\tlearn: 0.5018848\ttotal: 41.6s\tremaining: 16.3s\n",
            "718:\tlearn: 0.5018176\ttotal: 41.7s\tremaining: 16.3s\n",
            "719:\tlearn: 0.5017585\ttotal: 41.7s\tremaining: 16.2s\n",
            "720:\tlearn: 0.5016684\ttotal: 41.8s\tremaining: 16.2s\n",
            "721:\tlearn: 0.5016302\ttotal: 41.8s\tremaining: 16.1s\n",
            "722:\tlearn: 0.5015789\ttotal: 41.9s\tremaining: 16s\n",
            "723:\tlearn: 0.5015097\ttotal: 41.9s\tremaining: 16s\n",
            "724:\tlearn: 0.5014881\ttotal: 42s\tremaining: 15.9s\n",
            "725:\tlearn: 0.5014059\ttotal: 42.1s\tremaining: 15.9s\n",
            "726:\tlearn: 0.5013365\ttotal: 42.1s\tremaining: 15.8s\n",
            "727:\tlearn: 0.5012784\ttotal: 42.2s\tremaining: 15.8s\n",
            "728:\tlearn: 0.5012218\ttotal: 42.2s\tremaining: 15.7s\n",
            "729:\tlearn: 0.5011847\ttotal: 42.3s\tremaining: 15.6s\n",
            "730:\tlearn: 0.5011466\ttotal: 42.3s\tremaining: 15.6s\n",
            "731:\tlearn: 0.5010696\ttotal: 42.4s\tremaining: 15.5s\n",
            "732:\tlearn: 0.5010334\ttotal: 42.5s\tremaining: 15.5s\n",
            "733:\tlearn: 0.5010130\ttotal: 42.5s\tremaining: 15.4s\n",
            "734:\tlearn: 0.5009528\ttotal: 42.6s\tremaining: 15.3s\n",
            "735:\tlearn: 0.5009113\ttotal: 42.6s\tremaining: 15.3s\n",
            "736:\tlearn: 0.5008375\ttotal: 42.7s\tremaining: 15.2s\n",
            "737:\tlearn: 0.5007597\ttotal: 42.7s\tremaining: 15.2s\n",
            "738:\tlearn: 0.5006806\ttotal: 42.8s\tremaining: 15.1s\n",
            "739:\tlearn: 0.5006316\ttotal: 42.8s\tremaining: 15.1s\n",
            "740:\tlearn: 0.5005544\ttotal: 42.9s\tremaining: 15s\n",
            "741:\tlearn: 0.5005051\ttotal: 43s\tremaining: 14.9s\n",
            "742:\tlearn: 0.5004289\ttotal: 43s\tremaining: 14.9s\n",
            "743:\tlearn: 0.5003665\ttotal: 43.1s\tremaining: 14.8s\n",
            "744:\tlearn: 0.5003395\ttotal: 43.1s\tremaining: 14.8s\n",
            "745:\tlearn: 0.5002889\ttotal: 43.2s\tremaining: 14.7s\n",
            "746:\tlearn: 0.5002487\ttotal: 43.2s\tremaining: 14.6s\n",
            "747:\tlearn: 0.5002019\ttotal: 43.3s\tremaining: 14.6s\n",
            "748:\tlearn: 0.5001372\ttotal: 43.4s\tremaining: 14.5s\n",
            "749:\tlearn: 0.5000981\ttotal: 43.4s\tremaining: 14.5s\n",
            "750:\tlearn: 0.5000592\ttotal: 43.5s\tremaining: 14.4s\n",
            "751:\tlearn: 0.4999941\ttotal: 43.5s\tremaining: 14.4s\n",
            "752:\tlearn: 0.4999700\ttotal: 43.6s\tremaining: 14.3s\n",
            "753:\tlearn: 0.4999076\ttotal: 43.6s\tremaining: 14.2s\n",
            "754:\tlearn: 0.4998359\ttotal: 43.7s\tremaining: 14.2s\n",
            "755:\tlearn: 0.4997920\ttotal: 43.8s\tremaining: 14.1s\n",
            "756:\tlearn: 0.4997598\ttotal: 43.8s\tremaining: 14.1s\n",
            "757:\tlearn: 0.4996967\ttotal: 43.9s\tremaining: 14s\n",
            "758:\tlearn: 0.4996345\ttotal: 43.9s\tremaining: 13.9s\n",
            "759:\tlearn: 0.4995600\ttotal: 44s\tremaining: 13.9s\n",
            "760:\tlearn: 0.4995256\ttotal: 44s\tremaining: 13.8s\n",
            "761:\tlearn: 0.4994800\ttotal: 44.1s\tremaining: 13.8s\n",
            "762:\tlearn: 0.4994367\ttotal: 44.2s\tremaining: 13.7s\n",
            "763:\tlearn: 0.4993913\ttotal: 44.2s\tremaining: 13.7s\n",
            "764:\tlearn: 0.4993115\ttotal: 44.3s\tremaining: 13.6s\n",
            "765:\tlearn: 0.4992447\ttotal: 44.3s\tremaining: 13.5s\n",
            "766:\tlearn: 0.4991826\ttotal: 44.4s\tremaining: 13.5s\n",
            "767:\tlearn: 0.4991387\ttotal: 44.4s\tremaining: 13.4s\n",
            "768:\tlearn: 0.4990849\ttotal: 44.5s\tremaining: 13.4s\n",
            "769:\tlearn: 0.4990528\ttotal: 44.6s\tremaining: 13.3s\n",
            "770:\tlearn: 0.4990131\ttotal: 44.6s\tremaining: 13.3s\n",
            "771:\tlearn: 0.4989818\ttotal: 44.7s\tremaining: 13.2s\n",
            "772:\tlearn: 0.4989171\ttotal: 44.7s\tremaining: 13.1s\n",
            "773:\tlearn: 0.4988822\ttotal: 44.8s\tremaining: 13.1s\n",
            "774:\tlearn: 0.4988088\ttotal: 44.8s\tremaining: 13s\n",
            "775:\tlearn: 0.4987716\ttotal: 44.9s\tremaining: 13s\n",
            "776:\tlearn: 0.4986925\ttotal: 45s\tremaining: 12.9s\n",
            "777:\tlearn: 0.4986353\ttotal: 45s\tremaining: 12.8s\n",
            "778:\tlearn: 0.4985854\ttotal: 45.1s\tremaining: 12.8s\n",
            "779:\tlearn: 0.4985508\ttotal: 45.1s\tremaining: 12.7s\n",
            "780:\tlearn: 0.4985042\ttotal: 45.2s\tremaining: 12.7s\n",
            "781:\tlearn: 0.4984514\ttotal: 45.2s\tremaining: 12.6s\n",
            "782:\tlearn: 0.4983690\ttotal: 45.3s\tremaining: 12.6s\n",
            "783:\tlearn: 0.4982175\ttotal: 45.4s\tremaining: 12.5s\n",
            "784:\tlearn: 0.4981788\ttotal: 45.4s\tremaining: 12.4s\n",
            "785:\tlearn: 0.4981275\ttotal: 45.5s\tremaining: 12.4s\n",
            "786:\tlearn: 0.4980968\ttotal: 45.5s\tremaining: 12.3s\n",
            "787:\tlearn: 0.4980522\ttotal: 45.6s\tremaining: 12.3s\n",
            "788:\tlearn: 0.4980116\ttotal: 45.7s\tremaining: 12.2s\n",
            "789:\tlearn: 0.4979562\ttotal: 45.7s\tremaining: 12.2s\n",
            "790:\tlearn: 0.4978947\ttotal: 45.8s\tremaining: 12.1s\n",
            "791:\tlearn: 0.4978341\ttotal: 45.8s\tremaining: 12s\n",
            "792:\tlearn: 0.4977811\ttotal: 45.9s\tremaining: 12s\n",
            "793:\tlearn: 0.4976944\ttotal: 46s\tremaining: 11.9s\n",
            "794:\tlearn: 0.4976640\ttotal: 46s\tremaining: 11.9s\n",
            "795:\tlearn: 0.4976039\ttotal: 46.1s\tremaining: 11.8s\n",
            "796:\tlearn: 0.4975802\ttotal: 46.1s\tremaining: 11.8s\n",
            "797:\tlearn: 0.4975380\ttotal: 46.2s\tremaining: 11.7s\n",
            "798:\tlearn: 0.4974928\ttotal: 46.2s\tremaining: 11.6s\n",
            "799:\tlearn: 0.4974480\ttotal: 46.3s\tremaining: 11.6s\n",
            "800:\tlearn: 0.4973749\ttotal: 46.4s\tremaining: 11.5s\n",
            "801:\tlearn: 0.4973493\ttotal: 46.4s\tremaining: 11.5s\n",
            "802:\tlearn: 0.4973132\ttotal: 46.5s\tremaining: 11.4s\n",
            "803:\tlearn: 0.4972478\ttotal: 46.5s\tremaining: 11.3s\n",
            "804:\tlearn: 0.4972142\ttotal: 46.6s\tremaining: 11.3s\n",
            "805:\tlearn: 0.4971857\ttotal: 46.7s\tremaining: 11.2s\n",
            "806:\tlearn: 0.4971612\ttotal: 46.7s\tremaining: 11.2s\n",
            "807:\tlearn: 0.4971185\ttotal: 46.8s\tremaining: 11.1s\n",
            "808:\tlearn: 0.4970938\ttotal: 46.8s\tremaining: 11.1s\n",
            "809:\tlearn: 0.4970553\ttotal: 46.9s\tremaining: 11s\n",
            "810:\tlearn: 0.4969971\ttotal: 46.9s\tremaining: 10.9s\n",
            "811:\tlearn: 0.4969504\ttotal: 47s\tremaining: 10.9s\n",
            "812:\tlearn: 0.4968994\ttotal: 47s\tremaining: 10.8s\n",
            "813:\tlearn: 0.4968369\ttotal: 47.1s\tremaining: 10.8s\n",
            "814:\tlearn: 0.4967886\ttotal: 47.2s\tremaining: 10.7s\n",
            "815:\tlearn: 0.4967555\ttotal: 47.2s\tremaining: 10.6s\n",
            "816:\tlearn: 0.4967068\ttotal: 47.3s\tremaining: 10.6s\n",
            "817:\tlearn: 0.4966221\ttotal: 47.3s\tremaining: 10.5s\n",
            "818:\tlearn: 0.4965876\ttotal: 47.4s\tremaining: 10.5s\n",
            "819:\tlearn: 0.4965324\ttotal: 47.4s\tremaining: 10.4s\n",
            "820:\tlearn: 0.4964863\ttotal: 47.5s\tremaining: 10.4s\n",
            "821:\tlearn: 0.4964491\ttotal: 47.6s\tremaining: 10.3s\n",
            "822:\tlearn: 0.4964169\ttotal: 47.6s\tremaining: 10.2s\n",
            "823:\tlearn: 0.4963694\ttotal: 47.7s\tremaining: 10.2s\n",
            "824:\tlearn: 0.4963218\ttotal: 47.8s\tremaining: 10.1s\n",
            "825:\tlearn: 0.4962800\ttotal: 47.8s\tremaining: 10.1s\n",
            "826:\tlearn: 0.4962395\ttotal: 47.9s\tremaining: 10s\n",
            "827:\tlearn: 0.4961919\ttotal: 47.9s\tremaining: 9.96s\n",
            "828:\tlearn: 0.4961471\ttotal: 48s\tremaining: 9.9s\n",
            "829:\tlearn: 0.4960701\ttotal: 48.1s\tremaining: 9.84s\n",
            "830:\tlearn: 0.4960213\ttotal: 48.1s\tremaining: 9.79s\n",
            "831:\tlearn: 0.4959839\ttotal: 48.2s\tremaining: 9.73s\n",
            "832:\tlearn: 0.4958991\ttotal: 48.2s\tremaining: 9.67s\n",
            "833:\tlearn: 0.4958717\ttotal: 48.3s\tremaining: 9.61s\n",
            "834:\tlearn: 0.4958310\ttotal: 48.4s\tremaining: 9.55s\n",
            "835:\tlearn: 0.4957625\ttotal: 48.4s\tremaining: 9.49s\n",
            "836:\tlearn: 0.4957427\ttotal: 48.5s\tremaining: 9.44s\n",
            "837:\tlearn: 0.4956791\ttotal: 48.5s\tremaining: 9.38s\n",
            "838:\tlearn: 0.4956202\ttotal: 48.6s\tremaining: 9.32s\n",
            "839:\tlearn: 0.4955705\ttotal: 48.6s\tremaining: 9.26s\n",
            "840:\tlearn: 0.4955363\ttotal: 48.7s\tremaining: 9.21s\n",
            "841:\tlearn: 0.4954407\ttotal: 48.8s\tremaining: 9.15s\n",
            "842:\tlearn: 0.4954088\ttotal: 48.8s\tremaining: 9.09s\n",
            "843:\tlearn: 0.4953799\ttotal: 48.9s\tremaining: 9.03s\n",
            "844:\tlearn: 0.4953421\ttotal: 48.9s\tremaining: 8.97s\n",
            "845:\tlearn: 0.4952683\ttotal: 49s\tremaining: 8.92s\n",
            "846:\tlearn: 0.4952237\ttotal: 49s\tremaining: 8.86s\n",
            "847:\tlearn: 0.4951821\ttotal: 49.1s\tremaining: 8.8s\n",
            "848:\tlearn: 0.4951289\ttotal: 49.2s\tremaining: 8.74s\n",
            "849:\tlearn: 0.4950555\ttotal: 49.2s\tremaining: 8.69s\n",
            "850:\tlearn: 0.4950075\ttotal: 49.3s\tremaining: 8.63s\n",
            "851:\tlearn: 0.4949776\ttotal: 49.3s\tremaining: 8.57s\n",
            "852:\tlearn: 0.4949147\ttotal: 49.4s\tremaining: 8.51s\n",
            "853:\tlearn: 0.4948393\ttotal: 49.4s\tremaining: 8.45s\n",
            "854:\tlearn: 0.4947973\ttotal: 49.5s\tremaining: 8.39s\n",
            "855:\tlearn: 0.4947434\ttotal: 49.6s\tremaining: 8.34s\n",
            "856:\tlearn: 0.4947019\ttotal: 49.6s\tremaining: 8.28s\n",
            "857:\tlearn: 0.4946277\ttotal: 49.7s\tremaining: 8.22s\n",
            "858:\tlearn: 0.4945907\ttotal: 49.7s\tremaining: 8.16s\n",
            "859:\tlearn: 0.4945717\ttotal: 49.8s\tremaining: 8.1s\n",
            "860:\tlearn: 0.4944648\ttotal: 49.8s\tremaining: 8.05s\n",
            "861:\tlearn: 0.4944387\ttotal: 49.9s\tremaining: 7.99s\n",
            "862:\tlearn: 0.4944087\ttotal: 50s\tremaining: 7.93s\n",
            "863:\tlearn: 0.4943657\ttotal: 50s\tremaining: 7.87s\n",
            "864:\tlearn: 0.4943228\ttotal: 50.1s\tremaining: 7.81s\n",
            "865:\tlearn: 0.4942723\ttotal: 50.1s\tremaining: 7.76s\n",
            "866:\tlearn: 0.4942109\ttotal: 50.2s\tremaining: 7.7s\n",
            "867:\tlearn: 0.4941842\ttotal: 50.2s\tremaining: 7.64s\n",
            "868:\tlearn: 0.4941466\ttotal: 50.3s\tremaining: 7.58s\n",
            "869:\tlearn: 0.4940860\ttotal: 50.4s\tremaining: 7.52s\n",
            "870:\tlearn: 0.4940366\ttotal: 50.4s\tremaining: 7.46s\n",
            "871:\tlearn: 0.4939902\ttotal: 50.5s\tremaining: 7.41s\n",
            "872:\tlearn: 0.4939407\ttotal: 50.5s\tremaining: 7.35s\n",
            "873:\tlearn: 0.4938742\ttotal: 50.6s\tremaining: 7.29s\n",
            "874:\tlearn: 0.4938480\ttotal: 50.6s\tremaining: 7.23s\n",
            "875:\tlearn: 0.4937765\ttotal: 50.7s\tremaining: 7.18s\n",
            "876:\tlearn: 0.4937067\ttotal: 50.8s\tremaining: 7.12s\n",
            "877:\tlearn: 0.4936442\ttotal: 50.8s\tremaining: 7.06s\n",
            "878:\tlearn: 0.4936068\ttotal: 50.9s\tremaining: 7s\n",
            "879:\tlearn: 0.4935680\ttotal: 50.9s\tremaining: 6.94s\n",
            "880:\tlearn: 0.4935179\ttotal: 51s\tremaining: 6.89s\n",
            "881:\tlearn: 0.4934718\ttotal: 51s\tremaining: 6.83s\n",
            "882:\tlearn: 0.4934213\ttotal: 51.1s\tremaining: 6.77s\n",
            "883:\tlearn: 0.4933697\ttotal: 51.2s\tremaining: 6.71s\n",
            "884:\tlearn: 0.4933235\ttotal: 51.2s\tremaining: 6.65s\n",
            "885:\tlearn: 0.4932864\ttotal: 51.3s\tremaining: 6.6s\n",
            "886:\tlearn: 0.4932370\ttotal: 51.3s\tremaining: 6.54s\n",
            "887:\tlearn: 0.4932021\ttotal: 51.4s\tremaining: 6.48s\n",
            "888:\tlearn: 0.4931784\ttotal: 51.4s\tremaining: 6.42s\n",
            "889:\tlearn: 0.4931447\ttotal: 51.5s\tremaining: 6.37s\n",
            "890:\tlearn: 0.4930840\ttotal: 51.6s\tremaining: 6.31s\n",
            "891:\tlearn: 0.4930440\ttotal: 51.6s\tremaining: 6.25s\n",
            "892:\tlearn: 0.4929819\ttotal: 51.7s\tremaining: 6.19s\n",
            "893:\tlearn: 0.4929395\ttotal: 51.7s\tremaining: 6.13s\n",
            "894:\tlearn: 0.4929066\ttotal: 51.8s\tremaining: 6.08s\n",
            "895:\tlearn: 0.4928511\ttotal: 51.9s\tremaining: 6.02s\n",
            "896:\tlearn: 0.4928017\ttotal: 51.9s\tremaining: 5.96s\n",
            "897:\tlearn: 0.4927584\ttotal: 52s\tremaining: 5.9s\n",
            "898:\tlearn: 0.4927246\ttotal: 52s\tremaining: 5.84s\n",
            "899:\tlearn: 0.4926958\ttotal: 52.1s\tremaining: 5.79s\n",
            "900:\tlearn: 0.4926714\ttotal: 52.1s\tremaining: 5.73s\n",
            "901:\tlearn: 0.4926310\ttotal: 52.2s\tremaining: 5.67s\n",
            "902:\tlearn: 0.4925936\ttotal: 52.2s\tremaining: 5.61s\n",
            "903:\tlearn: 0.4925669\ttotal: 52.3s\tremaining: 5.55s\n",
            "904:\tlearn: 0.4925338\ttotal: 52.4s\tremaining: 5.5s\n",
            "905:\tlearn: 0.4924979\ttotal: 52.4s\tremaining: 5.44s\n",
            "906:\tlearn: 0.4924515\ttotal: 52.5s\tremaining: 5.38s\n",
            "907:\tlearn: 0.4924133\ttotal: 52.5s\tremaining: 5.32s\n",
            "908:\tlearn: 0.4923408\ttotal: 52.6s\tremaining: 5.26s\n",
            "909:\tlearn: 0.4922782\ttotal: 52.6s\tremaining: 5.21s\n",
            "910:\tlearn: 0.4922488\ttotal: 52.7s\tremaining: 5.15s\n",
            "911:\tlearn: 0.4922164\ttotal: 52.8s\tremaining: 5.09s\n",
            "912:\tlearn: 0.4921977\ttotal: 52.8s\tremaining: 5.03s\n",
            "913:\tlearn: 0.4921581\ttotal: 52.9s\tremaining: 4.97s\n",
            "914:\tlearn: 0.4921176\ttotal: 52.9s\tremaining: 4.92s\n",
            "915:\tlearn: 0.4920442\ttotal: 53s\tremaining: 4.86s\n",
            "916:\tlearn: 0.4920108\ttotal: 53s\tremaining: 4.8s\n",
            "917:\tlearn: 0.4919767\ttotal: 53.1s\tremaining: 4.74s\n",
            "918:\tlearn: 0.4919303\ttotal: 53.2s\tremaining: 4.68s\n",
            "919:\tlearn: 0.4919028\ttotal: 53.2s\tremaining: 4.63s\n",
            "920:\tlearn: 0.4918736\ttotal: 53.3s\tremaining: 4.57s\n",
            "921:\tlearn: 0.4918341\ttotal: 53.3s\tremaining: 4.51s\n",
            "922:\tlearn: 0.4917860\ttotal: 53.4s\tremaining: 4.45s\n",
            "923:\tlearn: 0.4917435\ttotal: 53.5s\tremaining: 4.4s\n",
            "924:\tlearn: 0.4916828\ttotal: 53.5s\tremaining: 4.34s\n",
            "925:\tlearn: 0.4916524\ttotal: 53.6s\tremaining: 4.28s\n",
            "926:\tlearn: 0.4916224\ttotal: 53.6s\tremaining: 4.22s\n",
            "927:\tlearn: 0.4915852\ttotal: 53.7s\tremaining: 4.17s\n",
            "928:\tlearn: 0.4915450\ttotal: 53.8s\tremaining: 4.11s\n",
            "929:\tlearn: 0.4915070\ttotal: 53.8s\tremaining: 4.05s\n",
            "930:\tlearn: 0.4914822\ttotal: 53.9s\tremaining: 3.99s\n",
            "931:\tlearn: 0.4914448\ttotal: 53.9s\tremaining: 3.93s\n",
            "932:\tlearn: 0.4914223\ttotal: 54s\tremaining: 3.88s\n",
            "933:\tlearn: 0.4913649\ttotal: 54s\tremaining: 3.82s\n",
            "934:\tlearn: 0.4913324\ttotal: 54.1s\tremaining: 3.76s\n",
            "935:\tlearn: 0.4912592\ttotal: 54.1s\tremaining: 3.7s\n",
            "936:\tlearn: 0.4912308\ttotal: 54.2s\tremaining: 3.64s\n",
            "937:\tlearn: 0.4911868\ttotal: 54.3s\tremaining: 3.59s\n",
            "938:\tlearn: 0.4911147\ttotal: 54.3s\tremaining: 3.53s\n",
            "939:\tlearn: 0.4910773\ttotal: 54.4s\tremaining: 3.47s\n",
            "940:\tlearn: 0.4910270\ttotal: 54.4s\tremaining: 3.41s\n",
            "941:\tlearn: 0.4910052\ttotal: 54.5s\tremaining: 3.35s\n",
            "942:\tlearn: 0.4909630\ttotal: 54.5s\tremaining: 3.3s\n",
            "943:\tlearn: 0.4909281\ttotal: 54.6s\tremaining: 3.24s\n",
            "944:\tlearn: 0.4908890\ttotal: 54.7s\tremaining: 3.18s\n",
            "945:\tlearn: 0.4908488\ttotal: 54.7s\tremaining: 3.12s\n",
            "946:\tlearn: 0.4908274\ttotal: 54.8s\tremaining: 3.07s\n",
            "947:\tlearn: 0.4908062\ttotal: 54.8s\tremaining: 3.01s\n",
            "948:\tlearn: 0.4907782\ttotal: 54.9s\tremaining: 2.95s\n",
            "949:\tlearn: 0.4907571\ttotal: 54.9s\tremaining: 2.89s\n",
            "950:\tlearn: 0.4907169\ttotal: 55s\tremaining: 2.83s\n",
            "951:\tlearn: 0.4906902\ttotal: 55.1s\tremaining: 2.77s\n",
            "952:\tlearn: 0.4906735\ttotal: 55.1s\tremaining: 2.72s\n",
            "953:\tlearn: 0.4906282\ttotal: 55.2s\tremaining: 2.66s\n",
            "954:\tlearn: 0.4905873\ttotal: 55.2s\tremaining: 2.6s\n",
            "955:\tlearn: 0.4905415\ttotal: 55.3s\tremaining: 2.54s\n",
            "956:\tlearn: 0.4905177\ttotal: 55.4s\tremaining: 2.49s\n",
            "957:\tlearn: 0.4904791\ttotal: 55.4s\tremaining: 2.43s\n",
            "958:\tlearn: 0.4904204\ttotal: 55.5s\tremaining: 2.37s\n",
            "959:\tlearn: 0.4903937\ttotal: 55.5s\tremaining: 2.31s\n",
            "960:\tlearn: 0.4903425\ttotal: 55.6s\tremaining: 2.25s\n",
            "961:\tlearn: 0.4903004\ttotal: 55.6s\tremaining: 2.2s\n",
            "962:\tlearn: 0.4902787\ttotal: 55.7s\tremaining: 2.14s\n",
            "963:\tlearn: 0.4902275\ttotal: 55.8s\tremaining: 2.08s\n",
            "964:\tlearn: 0.4902017\ttotal: 55.8s\tremaining: 2.02s\n",
            "965:\tlearn: 0.4901707\ttotal: 55.9s\tremaining: 1.97s\n",
            "966:\tlearn: 0.4901564\ttotal: 55.9s\tremaining: 1.91s\n",
            "967:\tlearn: 0.4901211\ttotal: 56s\tremaining: 1.85s\n",
            "968:\tlearn: 0.4900645\ttotal: 56s\tremaining: 1.79s\n",
            "969:\tlearn: 0.4900337\ttotal: 56.1s\tremaining: 1.73s\n",
            "970:\tlearn: 0.4899976\ttotal: 56.1s\tremaining: 1.68s\n",
            "971:\tlearn: 0.4899418\ttotal: 56.2s\tremaining: 1.62s\n",
            "972:\tlearn: 0.4898837\ttotal: 56.3s\tremaining: 1.56s\n",
            "973:\tlearn: 0.4898225\ttotal: 56.3s\tremaining: 1.5s\n",
            "974:\tlearn: 0.4897882\ttotal: 56.4s\tremaining: 1.45s\n",
            "975:\tlearn: 0.4897386\ttotal: 56.4s\tremaining: 1.39s\n",
            "976:\tlearn: 0.4896759\ttotal: 56.5s\tremaining: 1.33s\n",
            "977:\tlearn: 0.4896398\ttotal: 56.5s\tremaining: 1.27s\n",
            "978:\tlearn: 0.4896172\ttotal: 56.6s\tremaining: 1.21s\n",
            "979:\tlearn: 0.4895991\ttotal: 56.7s\tremaining: 1.16s\n",
            "980:\tlearn: 0.4895609\ttotal: 56.7s\tremaining: 1.1s\n",
            "981:\tlearn: 0.4895053\ttotal: 56.8s\tremaining: 1.04s\n",
            "982:\tlearn: 0.4894858\ttotal: 56.8s\tremaining: 983ms\n",
            "983:\tlearn: 0.4894176\ttotal: 56.9s\tremaining: 925ms\n",
            "984:\tlearn: 0.4893778\ttotal: 56.9s\tremaining: 867ms\n",
            "985:\tlearn: 0.4893409\ttotal: 57s\tremaining: 809ms\n",
            "986:\tlearn: 0.4892713\ttotal: 57.1s\tremaining: 752ms\n",
            "987:\tlearn: 0.4892461\ttotal: 57.1s\tremaining: 694ms\n",
            "988:\tlearn: 0.4891657\ttotal: 57.2s\tremaining: 636ms\n",
            "989:\tlearn: 0.4891230\ttotal: 57.2s\tremaining: 578ms\n",
            "990:\tlearn: 0.4891079\ttotal: 57.3s\tremaining: 520ms\n",
            "991:\tlearn: 0.4890853\ttotal: 57.3s\tremaining: 462ms\n",
            "992:\tlearn: 0.4890453\ttotal: 57.4s\tremaining: 405ms\n",
            "993:\tlearn: 0.4890087\ttotal: 57.5s\tremaining: 347ms\n",
            "994:\tlearn: 0.4889633\ttotal: 57.5s\tremaining: 289ms\n",
            "995:\tlearn: 0.4888985\ttotal: 57.6s\tremaining: 231ms\n",
            "996:\tlearn: 0.4888725\ttotal: 57.6s\tremaining: 173ms\n",
            "997:\tlearn: 0.4888320\ttotal: 57.7s\tremaining: 116ms\n",
            "998:\tlearn: 0.4887864\ttotal: 57.8s\tremaining: 57.8ms\n",
            "999:\tlearn: 0.4887538\ttotal: 57.8s\tremaining: 0us\n"
          ],
          "name": "stdout"
        },
        {
          "output_type": "error",
          "ename": "TypeError",
          "evalue": "ignored",
          "traceback": [
            "\u001b[0;31m---------------------------------------------------------------------------\u001b[0m",
            "\u001b[0;31mTypeError\u001b[0m                                 Traceback (most recent call last)",
            "\u001b[0;32m<ipython-input-22-4d50c484971e>\u001b[0m in \u001b[0;36m<module>\u001b[0;34m()\u001b[0m\n\u001b[1;32m      1\u001b[0m \u001b[0mm\u001b[0m \u001b[0;34m=\u001b[0m \u001b[0mcatboost\u001b[0m\u001b[0;34m.\u001b[0m\u001b[0mCatBoostRegressor\u001b[0m\u001b[0;34m(\u001b[0m\u001b[0;34m)\u001b[0m\u001b[0;34m\u001b[0m\u001b[0;34m\u001b[0m\u001b[0m\n\u001b[1;32m      2\u001b[0m \u001b[0mm\u001b[0m\u001b[0;34m.\u001b[0m\u001b[0mfit\u001b[0m\u001b[0;34m(\u001b[0m\u001b[0mX_train\u001b[0m\u001b[0;34m,\u001b[0m\u001b[0my_train\u001b[0m\u001b[0;34m)\u001b[0m\u001b[0;34m\u001b[0m\u001b[0;34m\u001b[0m\u001b[0m\n\u001b[0;32m----> 3\u001b[0;31m \u001b[0mprint_score\u001b[0m\u001b[0;34m(\u001b[0m\u001b[0;34m)\u001b[0m\u001b[0;34m\u001b[0m\u001b[0;34m\u001b[0m\u001b[0m\n\u001b[0m",
            "\u001b[0;31mTypeError\u001b[0m: print_score() missing 1 required positional argument: 'm'"
          ]
        }
      ]
    },
    {
      "cell_type": "code",
      "metadata": {
        "id": "4QBD-n7SZ5cm",
        "colab_type": "code",
        "outputId": "f7ab778e-b9e1-4ab9-8314-f0d6fe3771f6",
        "colab": {
          "base_uri": "https://localhost:8080/",
          "height": 101
        }
      },
      "source": [
        "print_score(m)"
      ],
      "execution_count": 0,
      "outputs": [
        {
          "output_type": "stream",
          "text": [
            "RMSE train,RMSE valid,score train,score valid\n"
          ],
          "name": "stdout"
        },
        {
          "output_type": "execute_result",
          "data": {
            "text/plain": [
              "[0.4887538427078974,\n",
              " 0.4953073781242707,\n",
              " 0.8392754632686856,\n",
              " 0.8349287089055546]"
            ]
          },
          "metadata": {
            "tags": []
          },
          "execution_count": 23
        }
      ]
    },
    {
      "cell_type": "code",
      "metadata": {
        "id": "2RTq-bLOaNq9",
        "colab_type": "code",
        "colab": {}
      },
      "source": [
        "y_pred_catboost = m.predict(X_test.drop(\"id\",axis=1))"
      ],
      "execution_count": 0,
      "outputs": []
    },
    {
      "cell_type": "code",
      "metadata": {
        "id": "2qyDsSSGaUkY",
        "colab_type": "code",
        "colab": {}
      },
      "source": [
        "pd.DataFrame({\"id\":X_test['id'],'num_orders':y_pred_catboost}).to_csv(\"Submission_catboost.csv\",index=False)"
      ],
      "execution_count": 0,
      "outputs": []
    },
    {
      "cell_type": "code",
      "metadata": {
        "id": "CW__gGYaahHu",
        "colab_type": "code",
        "outputId": "59f28e41-816c-4250-b971-736acd1c8e39",
        "colab": {
          "base_uri": "https://localhost:8080/",
          "height": 205
        }
      },
      "source": [
        "m = RandomForestRegressor(oob_score=True)\n",
        "m.fit(X_train,y_train)\n",
        "print_score(m)"
      ],
      "execution_count": 0,
      "outputs": [
        {
          "output_type": "stream",
          "text": [
            "/usr/local/lib/python3.6/dist-packages/sklearn/ensemble/forest.py:245: FutureWarning: The default value of n_estimators will change from 10 in version 0.20 to 100 in 0.22.\n",
            "  \"10 in version 0.20 to 100 in 0.22.\", FutureWarning)\n",
            "/usr/local/lib/python3.6/dist-packages/sklearn/ensemble/forest.py:737: UserWarning: Some inputs do not have OOB scores. This probably means too few trees were used to compute any reliable oob estimates.\n",
            "  warn(\"Some inputs do not have OOB scores. \"\n"
          ],
          "name": "stderr"
        },
        {
          "output_type": "stream",
          "text": [
            "RMSE train,RMSE valid,score train,score valid\n"
          ],
          "name": "stdout"
        },
        {
          "output_type": "execute_result",
          "data": {
            "text/plain": [
              "[0.21293786123590108,\n",
              " 0.5067073373875355,\n",
              " 0.9694924319932335,\n",
              " 0.827242727091823,\n",
              " 0.6205336687005528]"
            ]
          },
          "metadata": {
            "tags": []
          },
          "execution_count": 27
        }
      ]
    },
    {
      "cell_type": "code",
      "metadata": {
        "colab_type": "code",
        "id": "WIuRynBAbOFz",
        "colab": {}
      },
      "source": [
        "y_pred_rf = m.predict(X_test.drop(\"id\",axis=1))"
      ],
      "execution_count": 0,
      "outputs": []
    },
    {
      "cell_type": "code",
      "metadata": {
        "colab_type": "code",
        "id": "tN6Nhw9_bOGA",
        "colab": {}
      },
      "source": [
        "pd.DataFrame({\"id\":X_test['id'],'num_orders':y_pred_rf}).to_csv(\"Submission_rf.csv\",index=False)"
      ],
      "execution_count": 0,
      "outputs": []
    },
    {
      "cell_type": "markdown",
      "metadata": {
        "id": "8F34TBVvbTDJ",
        "colab_type": "text"
      },
      "source": [
        "## Feature engineering"
      ]
    },
    {
      "cell_type": "code",
      "metadata": {
        "id": "wFtC9FGmLqAv",
        "colab_type": "code",
        "outputId": "e4ee6c39-8ca9-472b-8ea8-74dc2b22ee64",
        "colab": {
          "base_uri": "https://localhost:8080/",
          "height": 215
        }
      },
      "source": [
        "train_df.head()"
      ],
      "execution_count": 0,
      "outputs": [
        {
          "output_type": "execute_result",
          "data": {
            "text/html": [
              "<div>\n",
              "<style scoped>\n",
              "    .dataframe tbody tr th:only-of-type {\n",
              "        vertical-align: middle;\n",
              "    }\n",
              "\n",
              "    .dataframe tbody tr th {\n",
              "        vertical-align: top;\n",
              "    }\n",
              "\n",
              "    .dataframe thead th {\n",
              "        text-align: right;\n",
              "    }\n",
              "</style>\n",
              "<table border=\"1\" class=\"dataframe\">\n",
              "  <thead>\n",
              "    <tr style=\"text-align: right;\">\n",
              "      <th></th>\n",
              "      <th>id</th>\n",
              "      <th>week</th>\n",
              "      <th>center_id</th>\n",
              "      <th>meal_id</th>\n",
              "      <th>checkout_price</th>\n",
              "      <th>base_price</th>\n",
              "      <th>emailer_for_promotion</th>\n",
              "      <th>homepage_featured</th>\n",
              "      <th>num_orders</th>\n",
              "      <th>category</th>\n",
              "      <th>cuisine</th>\n",
              "      <th>city_code</th>\n",
              "      <th>region_code</th>\n",
              "      <th>center_type</th>\n",
              "      <th>op_area</th>\n",
              "    </tr>\n",
              "  </thead>\n",
              "  <tbody>\n",
              "    <tr>\n",
              "      <th>0</th>\n",
              "      <td>1379560</td>\n",
              "      <td>1</td>\n",
              "      <td>55</td>\n",
              "      <td>1885</td>\n",
              "      <td>136.83</td>\n",
              "      <td>152.29</td>\n",
              "      <td>0</td>\n",
              "      <td>0</td>\n",
              "      <td>6.176150</td>\n",
              "      <td>Beverages</td>\n",
              "      <td>Thai</td>\n",
              "      <td>647</td>\n",
              "      <td>56</td>\n",
              "      <td>TYPE_C</td>\n",
              "      <td>2.0</td>\n",
              "    </tr>\n",
              "    <tr>\n",
              "      <th>1</th>\n",
              "      <td>1018704</td>\n",
              "      <td>2</td>\n",
              "      <td>55</td>\n",
              "      <td>1885</td>\n",
              "      <td>135.83</td>\n",
              "      <td>152.29</td>\n",
              "      <td>0</td>\n",
              "      <td>0</td>\n",
              "      <td>6.777652</td>\n",
              "      <td>Beverages</td>\n",
              "      <td>Thai</td>\n",
              "      <td>647</td>\n",
              "      <td>56</td>\n",
              "      <td>TYPE_C</td>\n",
              "      <td>2.0</td>\n",
              "    </tr>\n",
              "    <tr>\n",
              "      <th>2</th>\n",
              "      <td>1196273</td>\n",
              "      <td>3</td>\n",
              "      <td>55</td>\n",
              "      <td>1885</td>\n",
              "      <td>132.92</td>\n",
              "      <td>133.92</td>\n",
              "      <td>0</td>\n",
              "      <td>0</td>\n",
              "      <td>5.564348</td>\n",
              "      <td>Beverages</td>\n",
              "      <td>Thai</td>\n",
              "      <td>647</td>\n",
              "      <td>56</td>\n",
              "      <td>TYPE_C</td>\n",
              "      <td>2.0</td>\n",
              "    </tr>\n",
              "    <tr>\n",
              "      <th>3</th>\n",
              "      <td>1116527</td>\n",
              "      <td>4</td>\n",
              "      <td>55</td>\n",
              "      <td>1885</td>\n",
              "      <td>135.86</td>\n",
              "      <td>134.86</td>\n",
              "      <td>0</td>\n",
              "      <td>0</td>\n",
              "      <td>6.093750</td>\n",
              "      <td>Beverages</td>\n",
              "      <td>Thai</td>\n",
              "      <td>647</td>\n",
              "      <td>56</td>\n",
              "      <td>TYPE_C</td>\n",
              "      <td>2.0</td>\n",
              "    </tr>\n",
              "    <tr>\n",
              "      <th>4</th>\n",
              "      <td>1343872</td>\n",
              "      <td>5</td>\n",
              "      <td>55</td>\n",
              "      <td>1885</td>\n",
              "      <td>146.50</td>\n",
              "      <td>147.50</td>\n",
              "      <td>0</td>\n",
              "      <td>0</td>\n",
              "      <td>6.370638</td>\n",
              "      <td>Beverages</td>\n",
              "      <td>Thai</td>\n",
              "      <td>647</td>\n",
              "      <td>56</td>\n",
              "      <td>TYPE_C</td>\n",
              "      <td>2.0</td>\n",
              "    </tr>\n",
              "  </tbody>\n",
              "</table>\n",
              "</div>"
            ],
            "text/plain": [
              "        id  week  center_id  ...  region_code  center_type  op_area\n",
              "0  1379560     1         55  ...           56       TYPE_C      2.0\n",
              "1  1018704     2         55  ...           56       TYPE_C      2.0\n",
              "2  1196273     3         55  ...           56       TYPE_C      2.0\n",
              "3  1116527     4         55  ...           56       TYPE_C      2.0\n",
              "4  1343872     5         55  ...           56       TYPE_C      2.0\n",
              "\n",
              "[5 rows x 15 columns]"
            ]
          },
          "metadata": {
            "tags": []
          },
          "execution_count": 16
        }
      ]
    },
    {
      "cell_type": "code",
      "metadata": {
        "id": "ytrtUK15Lspd",
        "colab_type": "code",
        "outputId": "90bbb121-1c3a-458e-88a1-589da920dc83",
        "colab": {
          "base_uri": "https://localhost:8080/",
          "height": 168
        }
      },
      "source": [
        "train_df['op_area'].describe()"
      ],
      "execution_count": 0,
      "outputs": [
        {
          "output_type": "execute_result",
          "data": {
            "text/plain": [
              "count    456548.000000\n",
              "mean          4.083590\n",
              "std           1.091686\n",
              "min           0.900000\n",
              "25%           3.600000\n",
              "50%           4.000000\n",
              "75%           4.500000\n",
              "max           7.000000\n",
              "Name: op_area, dtype: float64"
            ]
          },
          "metadata": {
            "tags": []
          },
          "execution_count": 18
        }
      ]
    },
    {
      "cell_type": "code",
      "metadata": {
        "id": "5tziSoAPMYem",
        "colab_type": "code",
        "outputId": "d5006897-7c53-4304-dc10-31cfaf7ada8f",
        "colab": {
          "base_uri": "https://localhost:8080/",
          "height": 422
        }
      },
      "source": [
        "train_df[train_df['base_price'] < train_df['checkout_price']]"
      ],
      "execution_count": 0,
      "outputs": [
        {
          "output_type": "execute_result",
          "data": {
            "text/html": [
              "<div>\n",
              "<style scoped>\n",
              "    .dataframe tbody tr th:only-of-type {\n",
              "        vertical-align: middle;\n",
              "    }\n",
              "\n",
              "    .dataframe tbody tr th {\n",
              "        vertical-align: top;\n",
              "    }\n",
              "\n",
              "    .dataframe thead th {\n",
              "        text-align: right;\n",
              "    }\n",
              "</style>\n",
              "<table border=\"1\" class=\"dataframe\">\n",
              "  <thead>\n",
              "    <tr style=\"text-align: right;\">\n",
              "      <th></th>\n",
              "      <th>id</th>\n",
              "      <th>week</th>\n",
              "      <th>center_id</th>\n",
              "      <th>meal_id</th>\n",
              "      <th>checkout_price</th>\n",
              "      <th>base_price</th>\n",
              "      <th>emailer_for_promotion</th>\n",
              "      <th>homepage_featured</th>\n",
              "      <th>num_orders</th>\n",
              "      <th>category</th>\n",
              "      <th>cuisine</th>\n",
              "      <th>city_code</th>\n",
              "      <th>region_code</th>\n",
              "      <th>center_type</th>\n",
              "      <th>op_area</th>\n",
              "    </tr>\n",
              "  </thead>\n",
              "  <tbody>\n",
              "    <tr>\n",
              "      <th>3</th>\n",
              "      <td>1116527</td>\n",
              "      <td>4</td>\n",
              "      <td>55</td>\n",
              "      <td>1885</td>\n",
              "      <td>135.86</td>\n",
              "      <td>134.86</td>\n",
              "      <td>0</td>\n",
              "      <td>0</td>\n",
              "      <td>6.093750</td>\n",
              "      <td>Beverages</td>\n",
              "      <td>Thai</td>\n",
              "      <td>647</td>\n",
              "      <td>56</td>\n",
              "      <td>TYPE_C</td>\n",
              "      <td>2.0</td>\n",
              "    </tr>\n",
              "    <tr>\n",
              "      <th>7</th>\n",
              "      <td>1461167</td>\n",
              "      <td>8</td>\n",
              "      <td>55</td>\n",
              "      <td>1885</td>\n",
              "      <td>146.53</td>\n",
              "      <td>145.53</td>\n",
              "      <td>0</td>\n",
              "      <td>0</td>\n",
              "      <td>5.905275</td>\n",
              "      <td>Beverages</td>\n",
              "      <td>Thai</td>\n",
              "      <td>647</td>\n",
              "      <td>56</td>\n",
              "      <td>TYPE_C</td>\n",
              "      <td>2.0</td>\n",
              "    </tr>\n",
              "    <tr>\n",
              "      <th>9</th>\n",
              "      <td>1018130</td>\n",
              "      <td>10</td>\n",
              "      <td>55</td>\n",
              "      <td>1885</td>\n",
              "      <td>144.56</td>\n",
              "      <td>143.56</td>\n",
              "      <td>0</td>\n",
              "      <td>0</td>\n",
              "      <td>6.164786</td>\n",
              "      <td>Beverages</td>\n",
              "      <td>Thai</td>\n",
              "      <td>647</td>\n",
              "      <td>56</td>\n",
              "      <td>TYPE_C</td>\n",
              "      <td>2.0</td>\n",
              "    </tr>\n",
              "    <tr>\n",
              "      <th>10</th>\n",
              "      <td>1047565</td>\n",
              "      <td>11</td>\n",
              "      <td>55</td>\n",
              "      <td>1885</td>\n",
              "      <td>146.53</td>\n",
              "      <td>144.53</td>\n",
              "      <td>0</td>\n",
              "      <td>0</td>\n",
              "      <td>6.497168</td>\n",
              "      <td>Beverages</td>\n",
              "      <td>Thai</td>\n",
              "      <td>647</td>\n",
              "      <td>56</td>\n",
              "      <td>TYPE_C</td>\n",
              "      <td>2.0</td>\n",
              "    </tr>\n",
              "    <tr>\n",
              "      <th>13</th>\n",
              "      <td>1196793</td>\n",
              "      <td>14</td>\n",
              "      <td>55</td>\n",
              "      <td>1885</td>\n",
              "      <td>142.62</td>\n",
              "      <td>141.62</td>\n",
              "      <td>0</td>\n",
              "      <td>0</td>\n",
              "      <td>5.905275</td>\n",
              "      <td>Beverages</td>\n",
              "      <td>Thai</td>\n",
              "      <td>647</td>\n",
              "      <td>56</td>\n",
              "      <td>TYPE_C</td>\n",
              "      <td>2.0</td>\n",
              "    </tr>\n",
              "    <tr>\n",
              "      <th>...</th>\n",
              "      <td>...</td>\n",
              "      <td>...</td>\n",
              "      <td>...</td>\n",
              "      <td>...</td>\n",
              "      <td>...</td>\n",
              "      <td>...</td>\n",
              "      <td>...</td>\n",
              "      <td>...</td>\n",
              "      <td>...</td>\n",
              "      <td>...</td>\n",
              "      <td>...</td>\n",
              "      <td>...</td>\n",
              "      <td>...</td>\n",
              "      <td>...</td>\n",
              "      <td>...</td>\n",
              "    </tr>\n",
              "    <tr>\n",
              "      <th>456526</th>\n",
              "      <td>1315719</td>\n",
              "      <td>124</td>\n",
              "      <td>61</td>\n",
              "      <td>2104</td>\n",
              "      <td>583.03</td>\n",
              "      <td>581.03</td>\n",
              "      <td>0</td>\n",
              "      <td>0</td>\n",
              "      <td>3.639057</td>\n",
              "      <td>Fish</td>\n",
              "      <td>Continental</td>\n",
              "      <td>473</td>\n",
              "      <td>77</td>\n",
              "      <td>TYPE_A</td>\n",
              "      <td>4.5</td>\n",
              "    </tr>\n",
              "    <tr>\n",
              "      <th>456529</th>\n",
              "      <td>1372283</td>\n",
              "      <td>127</td>\n",
              "      <td>61</td>\n",
              "      <td>2104</td>\n",
              "      <td>631.53</td>\n",
              "      <td>630.53</td>\n",
              "      <td>0</td>\n",
              "      <td>0</td>\n",
              "      <td>4.332205</td>\n",
              "      <td>Fish</td>\n",
              "      <td>Continental</td>\n",
              "      <td>473</td>\n",
              "      <td>77</td>\n",
              "      <td>TYPE_A</td>\n",
              "      <td>4.5</td>\n",
              "    </tr>\n",
              "    <tr>\n",
              "      <th>456540</th>\n",
              "      <td>1241284</td>\n",
              "      <td>138</td>\n",
              "      <td>61</td>\n",
              "      <td>2104</td>\n",
              "      <td>631.53</td>\n",
              "      <td>630.53</td>\n",
              "      <td>0</td>\n",
              "      <td>1</td>\n",
              "      <td>6.010635</td>\n",
              "      <td>Fish</td>\n",
              "      <td>Continental</td>\n",
              "      <td>473</td>\n",
              "      <td>77</td>\n",
              "      <td>TYPE_A</td>\n",
              "      <td>4.5</td>\n",
              "    </tr>\n",
              "    <tr>\n",
              "      <th>456545</th>\n",
              "      <td>1029231</td>\n",
              "      <td>143</td>\n",
              "      <td>61</td>\n",
              "      <td>2104</td>\n",
              "      <td>583.03</td>\n",
              "      <td>581.03</td>\n",
              "      <td>0</td>\n",
              "      <td>0</td>\n",
              "      <td>4.688879</td>\n",
              "      <td>Fish</td>\n",
              "      <td>Continental</td>\n",
              "      <td>473</td>\n",
              "      <td>77</td>\n",
              "      <td>TYPE_A</td>\n",
              "      <td>4.5</td>\n",
              "    </tr>\n",
              "    <tr>\n",
              "      <th>456546</th>\n",
              "      <td>1141147</td>\n",
              "      <td>144</td>\n",
              "      <td>61</td>\n",
              "      <td>2104</td>\n",
              "      <td>582.03</td>\n",
              "      <td>581.03</td>\n",
              "      <td>0</td>\n",
              "      <td>0</td>\n",
              "      <td>4.970292</td>\n",
              "      <td>Fish</td>\n",
              "      <td>Continental</td>\n",
              "      <td>473</td>\n",
              "      <td>77</td>\n",
              "      <td>TYPE_A</td>\n",
              "      <td>4.5</td>\n",
              "    </tr>\n",
              "  </tbody>\n",
              "</table>\n",
              "<p>116101 rows × 15 columns</p>\n",
              "</div>"
            ],
            "text/plain": [
              "             id  week  center_id  ...  region_code  center_type  op_area\n",
              "3       1116527     4         55  ...           56       TYPE_C      2.0\n",
              "7       1461167     8         55  ...           56       TYPE_C      2.0\n",
              "9       1018130    10         55  ...           56       TYPE_C      2.0\n",
              "10      1047565    11         55  ...           56       TYPE_C      2.0\n",
              "13      1196793    14         55  ...           56       TYPE_C      2.0\n",
              "...         ...   ...        ...  ...          ...          ...      ...\n",
              "456526  1315719   124         61  ...           77       TYPE_A      4.5\n",
              "456529  1372283   127         61  ...           77       TYPE_A      4.5\n",
              "456540  1241284   138         61  ...           77       TYPE_A      4.5\n",
              "456545  1029231   143         61  ...           77       TYPE_A      4.5\n",
              "456546  1141147   144         61  ...           77       TYPE_A      4.5\n",
              "\n",
              "[116101 rows x 15 columns]"
            ]
          },
          "metadata": {
            "tags": []
          },
          "execution_count": 19
        }
      ]
    },
    {
      "cell_type": "code",
      "metadata": {
        "id": "CjE7PrgkM4U1",
        "colab_type": "code",
        "colab": {}
      },
      "source": [
        "def combine_data():\n",
        "  train_df['is_train'] = 1\n",
        "  test_df['is_train'] = 0\n",
        "  return pd.concat([train_df,test_df],axis=0)\n",
        "combined_df = combine_data()"
      ],
      "execution_count": 0,
      "outputs": []
    },
    {
      "cell_type": "code",
      "metadata": {
        "id": "Pv_mr6c3V20E",
        "colab_type": "code",
        "colab": {}
      },
      "source": [
        "combined_df['discount'] = combined_df['base_price'] - combined_df['checkout_price']"
      ],
      "execution_count": 0,
      "outputs": []
    },
    {
      "cell_type": "code",
      "metadata": {
        "id": "q4FhLLo4V4uj",
        "colab_type": "code",
        "outputId": "91485c3a-d2d5-42e0-d06c-9b54842dbdee",
        "colab": {
          "base_uri": "https://localhost:8080/",
          "height": 482
        }
      },
      "source": [
        "combined_df.corr()"
      ],
      "execution_count": 0,
      "outputs": [
        {
          "output_type": "execute_result",
          "data": {
            "text/html": [
              "<div>\n",
              "<style scoped>\n",
              "    .dataframe tbody tr th:only-of-type {\n",
              "        vertical-align: middle;\n",
              "    }\n",
              "\n",
              "    .dataframe tbody tr th {\n",
              "        vertical-align: top;\n",
              "    }\n",
              "\n",
              "    .dataframe thead th {\n",
              "        text-align: right;\n",
              "    }\n",
              "</style>\n",
              "<table border=\"1\" class=\"dataframe\">\n",
              "  <thead>\n",
              "    <tr style=\"text-align: right;\">\n",
              "      <th></th>\n",
              "      <th>id</th>\n",
              "      <th>week</th>\n",
              "      <th>center_id</th>\n",
              "      <th>meal_id</th>\n",
              "      <th>checkout_price</th>\n",
              "      <th>base_price</th>\n",
              "      <th>emailer_for_promotion</th>\n",
              "      <th>homepage_featured</th>\n",
              "      <th>num_orders</th>\n",
              "      <th>city_code</th>\n",
              "      <th>region_code</th>\n",
              "      <th>op_area</th>\n",
              "      <th>is_train</th>\n",
              "      <th>discount</th>\n",
              "    </tr>\n",
              "  </thead>\n",
              "  <tbody>\n",
              "    <tr>\n",
              "      <th>id</th>\n",
              "      <td>1.000000</td>\n",
              "      <td>0.000802</td>\n",
              "      <td>0.003058</td>\n",
              "      <td>0.000297</td>\n",
              "      <td>0.000938</td>\n",
              "      <td>0.002028</td>\n",
              "      <td>0.001959</td>\n",
              "      <td>0.002869</td>\n",
              "      <td>-0.001363</td>\n",
              "      <td>-0.000401</td>\n",
              "      <td>-0.000659</td>\n",
              "      <td>-0.000141</td>\n",
              "      <td>0.002799</td>\n",
              "      <td>0.003789</td>\n",
              "    </tr>\n",
              "    <tr>\n",
              "      <th>week</th>\n",
              "      <td>0.000802</td>\n",
              "      <td>1.000000</td>\n",
              "      <td>-0.003492</td>\n",
              "      <td>0.018833</td>\n",
              "      <td>0.029952</td>\n",
              "      <td>0.026561</td>\n",
              "      <td>-0.006604</td>\n",
              "      <td>-0.016973</td>\n",
              "      <td>-0.008281</td>\n",
              "      <td>0.000287</td>\n",
              "      <td>0.004606</td>\n",
              "      <td>0.001760</td>\n",
              "      <td>-0.425673</td>\n",
              "      <td>-0.006755</td>\n",
              "    </tr>\n",
              "    <tr>\n",
              "      <th>center_id</th>\n",
              "      <td>0.003058</td>\n",
              "      <td>-0.003492</td>\n",
              "      <td>1.000000</td>\n",
              "      <td>0.009811</td>\n",
              "      <td>0.001084</td>\n",
              "      <td>0.000201</td>\n",
              "      <td>0.013327</td>\n",
              "      <td>-0.005062</td>\n",
              "      <td>-0.055560</td>\n",
              "      <td>0.061032</td>\n",
              "      <td>-0.003761</td>\n",
              "      <td>-0.111663</td>\n",
              "      <td>0.001107</td>\n",
              "      <td>-0.002786</td>\n",
              "    </tr>\n",
              "    <tr>\n",
              "      <th>meal_id</th>\n",
              "      <td>0.000297</td>\n",
              "      <td>0.018833</td>\n",
              "      <td>0.009811</td>\n",
              "      <td>1.000000</td>\n",
              "      <td>0.012980</td>\n",
              "      <td>0.004450</td>\n",
              "      <td>0.010569</td>\n",
              "      <td>0.015426</td>\n",
              "      <td>0.030081</td>\n",
              "      <td>-0.003290</td>\n",
              "      <td>-0.002232</td>\n",
              "      <td>-0.001755</td>\n",
              "      <td>-0.003521</td>\n",
              "      <td>-0.026526</td>\n",
              "    </tr>\n",
              "    <tr>\n",
              "      <th>checkout_price</th>\n",
              "      <td>0.000938</td>\n",
              "      <td>0.029952</td>\n",
              "      <td>0.001084</td>\n",
              "      <td>0.012980</td>\n",
              "      <td>1.000000</td>\n",
              "      <td>0.954192</td>\n",
              "      <td>0.005925</td>\n",
              "      <td>-0.056988</td>\n",
              "      <td>-0.389116</td>\n",
              "      <td>-0.004689</td>\n",
              "      <td>-0.002784</td>\n",
              "      <td>0.022795</td>\n",
              "      <td>-0.015667</td>\n",
              "      <td>-0.000320</td>\n",
              "    </tr>\n",
              "    <tr>\n",
              "      <th>base_price</th>\n",
              "      <td>0.002028</td>\n",
              "      <td>0.026561</td>\n",
              "      <td>0.000201</td>\n",
              "      <td>0.004450</td>\n",
              "      <td>0.954192</td>\n",
              "      <td>1.000000</td>\n",
              "      <td>0.171606</td>\n",
              "      <td>0.056252</td>\n",
              "      <td>-0.329368</td>\n",
              "      <td>-0.001924</td>\n",
              "      <td>-0.000973</td>\n",
              "      <td>0.019211</td>\n",
              "      <td>-0.003634</td>\n",
              "      <td>0.298890</td>\n",
              "    </tr>\n",
              "    <tr>\n",
              "      <th>emailer_for_promotion</th>\n",
              "      <td>0.001959</td>\n",
              "      <td>-0.006604</td>\n",
              "      <td>0.013327</td>\n",
              "      <td>0.010569</td>\n",
              "      <td>0.005925</td>\n",
              "      <td>0.171606</td>\n",
              "      <td>1.000000</td>\n",
              "      <td>0.394478</td>\n",
              "      <td>0.227207</td>\n",
              "      <td>-0.005125</td>\n",
              "      <td>-0.007176</td>\n",
              "      <td>-0.019552</td>\n",
              "      <td>0.013512</td>\n",
              "      <td>0.554659</td>\n",
              "    </tr>\n",
              "    <tr>\n",
              "      <th>homepage_featured</th>\n",
              "      <td>0.002869</td>\n",
              "      <td>-0.016973</td>\n",
              "      <td>-0.005062</td>\n",
              "      <td>0.015426</td>\n",
              "      <td>-0.056988</td>\n",
              "      <td>0.056252</td>\n",
              "      <td>0.394478</td>\n",
              "      <td>1.000000</td>\n",
              "      <td>0.248002</td>\n",
              "      <td>0.008135</td>\n",
              "      <td>0.002760</td>\n",
              "      <td>0.040660</td>\n",
              "      <td>0.022426</td>\n",
              "      <td>0.369775</td>\n",
              "    </tr>\n",
              "    <tr>\n",
              "      <th>num_orders</th>\n",
              "      <td>-0.001363</td>\n",
              "      <td>-0.008281</td>\n",
              "      <td>-0.055560</td>\n",
              "      <td>0.030081</td>\n",
              "      <td>-0.389116</td>\n",
              "      <td>-0.329368</td>\n",
              "      <td>0.227207</td>\n",
              "      <td>0.248002</td>\n",
              "      <td>1.000000</td>\n",
              "      <td>0.030150</td>\n",
              "      <td>0.029696</td>\n",
              "      <td>0.195052</td>\n",
              "      <td>NaN</td>\n",
              "      <td>0.135611</td>\n",
              "    </tr>\n",
              "    <tr>\n",
              "      <th>city_code</th>\n",
              "      <td>-0.000401</td>\n",
              "      <td>0.000287</td>\n",
              "      <td>0.061032</td>\n",
              "      <td>-0.003290</td>\n",
              "      <td>-0.004689</td>\n",
              "      <td>-0.001924</td>\n",
              "      <td>-0.005125</td>\n",
              "      <td>0.008135</td>\n",
              "      <td>0.030150</td>\n",
              "      <td>1.000000</td>\n",
              "      <td>0.042790</td>\n",
              "      <td>0.131554</td>\n",
              "      <td>0.000126</td>\n",
              "      <td>0.008524</td>\n",
              "    </tr>\n",
              "    <tr>\n",
              "      <th>region_code</th>\n",
              "      <td>-0.000659</td>\n",
              "      <td>0.004606</td>\n",
              "      <td>-0.003761</td>\n",
              "      <td>-0.002232</td>\n",
              "      <td>-0.002784</td>\n",
              "      <td>-0.000973</td>\n",
              "      <td>-0.007176</td>\n",
              "      <td>0.002760</td>\n",
              "      <td>0.029696</td>\n",
              "      <td>0.042790</td>\n",
              "      <td>1.000000</td>\n",
              "      <td>0.023214</td>\n",
              "      <td>-0.001379</td>\n",
              "      <td>0.005630</td>\n",
              "    </tr>\n",
              "    <tr>\n",
              "      <th>op_area</th>\n",
              "      <td>-0.000141</td>\n",
              "      <td>0.001760</td>\n",
              "      <td>-0.111663</td>\n",
              "      <td>-0.001755</td>\n",
              "      <td>0.022795</td>\n",
              "      <td>0.019211</td>\n",
              "      <td>-0.019552</td>\n",
              "      <td>0.040660</td>\n",
              "      <td>0.195052</td>\n",
              "      <td>0.131554</td>\n",
              "      <td>0.023214</td>\n",
              "      <td>1.000000</td>\n",
              "      <td>-0.000944</td>\n",
              "      <td>-0.008495</td>\n",
              "    </tr>\n",
              "    <tr>\n",
              "      <th>is_train</th>\n",
              "      <td>0.002799</td>\n",
              "      <td>-0.425673</td>\n",
              "      <td>0.001107</td>\n",
              "      <td>-0.003521</td>\n",
              "      <td>-0.015667</td>\n",
              "      <td>-0.003634</td>\n",
              "      <td>0.013512</td>\n",
              "      <td>0.022426</td>\n",
              "      <td>NaN</td>\n",
              "      <td>0.000126</td>\n",
              "      <td>-0.001379</td>\n",
              "      <td>-0.000944</td>\n",
              "      <td>1.000000</td>\n",
              "      <td>0.037824</td>\n",
              "    </tr>\n",
              "    <tr>\n",
              "      <th>discount</th>\n",
              "      <td>0.003789</td>\n",
              "      <td>-0.006755</td>\n",
              "      <td>-0.002786</td>\n",
              "      <td>-0.026526</td>\n",
              "      <td>-0.000320</td>\n",
              "      <td>0.298890</td>\n",
              "      <td>0.554659</td>\n",
              "      <td>0.369775</td>\n",
              "      <td>0.135611</td>\n",
              "      <td>0.008524</td>\n",
              "      <td>0.005630</td>\n",
              "      <td>-0.008495</td>\n",
              "      <td>0.037824</td>\n",
              "      <td>1.000000</td>\n",
              "    </tr>\n",
              "  </tbody>\n",
              "</table>\n",
              "</div>"
            ],
            "text/plain": [
              "                             id      week  ...  is_train  discount\n",
              "id                     1.000000  0.000802  ...  0.002799  0.003789\n",
              "week                   0.000802  1.000000  ... -0.425673 -0.006755\n",
              "center_id              0.003058 -0.003492  ...  0.001107 -0.002786\n",
              "meal_id                0.000297  0.018833  ... -0.003521 -0.026526\n",
              "checkout_price         0.000938  0.029952  ... -0.015667 -0.000320\n",
              "base_price             0.002028  0.026561  ... -0.003634  0.298890\n",
              "emailer_for_promotion  0.001959 -0.006604  ...  0.013512  0.554659\n",
              "homepage_featured      0.002869 -0.016973  ...  0.022426  0.369775\n",
              "num_orders            -0.001363 -0.008281  ...       NaN  0.135611\n",
              "city_code             -0.000401  0.000287  ...  0.000126  0.008524\n",
              "region_code           -0.000659  0.004606  ... -0.001379  0.005630\n",
              "op_area               -0.000141  0.001760  ... -0.000944 -0.008495\n",
              "is_train               0.002799 -0.425673  ...  1.000000  0.037824\n",
              "discount               0.003789 -0.006755  ...  0.037824  1.000000\n",
              "\n",
              "[14 rows x 14 columns]"
            ]
          },
          "metadata": {
            "tags": []
          },
          "execution_count": 27
        }
      ]
    },
    {
      "cell_type": "code",
      "metadata": {
        "id": "cUg-4AAYWJxc",
        "colab_type": "code",
        "outputId": "cf173bc4-3fa0-4218-863a-c4e8f20c3096",
        "colab": {
          "base_uri": "https://localhost:8080/",
          "height": 168
        }
      },
      "source": [
        "combined_df['homepage_featured'].describe()"
      ],
      "execution_count": 0,
      "outputs": [
        {
          "output_type": "execute_result",
          "data": {
            "text/plain": [
              "count    489121.000000\n",
              "mean          0.107346\n",
              "std           0.309552\n",
              "min           0.000000\n",
              "25%           0.000000\n",
              "50%           0.000000\n",
              "75%           0.000000\n",
              "max           1.000000\n",
              "Name: homepage_featured, dtype: float64"
            ]
          },
          "metadata": {
            "tags": []
          },
          "execution_count": 29
        }
      ]
    },
    {
      "cell_type": "code",
      "metadata": {
        "id": "ROT6YSyrWvsi",
        "colab_type": "code",
        "outputId": "6bb660c9-cca7-42e1-c115-68140a5ec7c3",
        "colab": {
          "base_uri": "https://localhost:8080/",
          "height": 168
        }
      },
      "source": [
        "combined_df['week'].describe()"
      ],
      "execution_count": 0,
      "outputs": [
        {
          "output_type": "execute_result",
          "data": {
            "text/plain": [
              "count    489121.000000\n",
              "mean         79.810613\n",
              "std          44.343325\n",
              "min           1.000000\n",
              "25%          42.000000\n",
              "50%          81.000000\n",
              "75%         118.000000\n",
              "max         155.000000\n",
              "Name: week, dtype: float64"
            ]
          },
          "metadata": {
            "tags": []
          },
          "execution_count": 30
        }
      ]
    },
    {
      "cell_type": "code",
      "metadata": {
        "id": "xPkCnN0OXJb2",
        "colab_type": "code",
        "colab": {}
      },
      "source": [
        "## Week of the year\n",
        "combined_df['week_of_the_year'] = combined_df['week'] % 52"
      ],
      "execution_count": 0,
      "outputs": []
    },
    {
      "cell_type": "code",
      "metadata": {
        "id": "NlITi_YXXO9r",
        "colab_type": "code",
        "outputId": "05904d18-0cfc-469e-9fdb-92d91798fd35",
        "colab": {
          "base_uri": "https://localhost:8080/",
          "height": 84
        }
      },
      "source": [
        "combined_df['center_type'].value_counts()"
      ],
      "execution_count": 0,
      "outputs": [
        {
          "output_type": "execute_result",
          "data": {
            "text/plain": [
              "TYPE_A    281597\n",
              "TYPE_C    106602\n",
              "TYPE_B    100922\n",
              "Name: center_type, dtype: int64"
            ]
          },
          "metadata": {
            "tags": []
          },
          "execution_count": 37
        }
      ]
    },
    {
      "cell_type": "code",
      "metadata": {
        "id": "qScDKzOlYi0C",
        "colab_type": "code",
        "outputId": "0dfdb88d-b1fe-4689-c58b-003e6d175d13",
        "colab": {
          "base_uri": "https://localhost:8080/",
          "height": 215
        }
      },
      "source": [
        "combined_df.head()"
      ],
      "execution_count": 0,
      "outputs": [
        {
          "output_type": "execute_result",
          "data": {
            "text/html": [
              "<div>\n",
              "<style scoped>\n",
              "    .dataframe tbody tr th:only-of-type {\n",
              "        vertical-align: middle;\n",
              "    }\n",
              "\n",
              "    .dataframe tbody tr th {\n",
              "        vertical-align: top;\n",
              "    }\n",
              "\n",
              "    .dataframe thead th {\n",
              "        text-align: right;\n",
              "    }\n",
              "</style>\n",
              "<table border=\"1\" class=\"dataframe\">\n",
              "  <thead>\n",
              "    <tr style=\"text-align: right;\">\n",
              "      <th></th>\n",
              "      <th>id</th>\n",
              "      <th>week</th>\n",
              "      <th>center_id</th>\n",
              "      <th>meal_id</th>\n",
              "      <th>checkout_price</th>\n",
              "      <th>base_price</th>\n",
              "      <th>emailer_for_promotion</th>\n",
              "      <th>homepage_featured</th>\n",
              "      <th>num_orders</th>\n",
              "      <th>category</th>\n",
              "      <th>cuisine</th>\n",
              "      <th>city_code</th>\n",
              "      <th>region_code</th>\n",
              "      <th>center_type</th>\n",
              "      <th>op_area</th>\n",
              "      <th>is_train</th>\n",
              "      <th>discount</th>\n",
              "      <th>week_of_the_year</th>\n",
              "    </tr>\n",
              "  </thead>\n",
              "  <tbody>\n",
              "    <tr>\n",
              "      <th>0</th>\n",
              "      <td>1379560</td>\n",
              "      <td>1</td>\n",
              "      <td>55</td>\n",
              "      <td>1885</td>\n",
              "      <td>136.83</td>\n",
              "      <td>152.29</td>\n",
              "      <td>0</td>\n",
              "      <td>0</td>\n",
              "      <td>6.176150</td>\n",
              "      <td>Beverages</td>\n",
              "      <td>Thai</td>\n",
              "      <td>647</td>\n",
              "      <td>56</td>\n",
              "      <td>TYPE_C</td>\n",
              "      <td>2.0</td>\n",
              "      <td>1</td>\n",
              "      <td>15.46</td>\n",
              "      <td>1</td>\n",
              "    </tr>\n",
              "    <tr>\n",
              "      <th>1</th>\n",
              "      <td>1018704</td>\n",
              "      <td>2</td>\n",
              "      <td>55</td>\n",
              "      <td>1885</td>\n",
              "      <td>135.83</td>\n",
              "      <td>152.29</td>\n",
              "      <td>0</td>\n",
              "      <td>0</td>\n",
              "      <td>6.777652</td>\n",
              "      <td>Beverages</td>\n",
              "      <td>Thai</td>\n",
              "      <td>647</td>\n",
              "      <td>56</td>\n",
              "      <td>TYPE_C</td>\n",
              "      <td>2.0</td>\n",
              "      <td>1</td>\n",
              "      <td>16.46</td>\n",
              "      <td>2</td>\n",
              "    </tr>\n",
              "    <tr>\n",
              "      <th>2</th>\n",
              "      <td>1196273</td>\n",
              "      <td>3</td>\n",
              "      <td>55</td>\n",
              "      <td>1885</td>\n",
              "      <td>132.92</td>\n",
              "      <td>133.92</td>\n",
              "      <td>0</td>\n",
              "      <td>0</td>\n",
              "      <td>5.564348</td>\n",
              "      <td>Beverages</td>\n",
              "      <td>Thai</td>\n",
              "      <td>647</td>\n",
              "      <td>56</td>\n",
              "      <td>TYPE_C</td>\n",
              "      <td>2.0</td>\n",
              "      <td>1</td>\n",
              "      <td>1.00</td>\n",
              "      <td>3</td>\n",
              "    </tr>\n",
              "    <tr>\n",
              "      <th>3</th>\n",
              "      <td>1116527</td>\n",
              "      <td>4</td>\n",
              "      <td>55</td>\n",
              "      <td>1885</td>\n",
              "      <td>135.86</td>\n",
              "      <td>134.86</td>\n",
              "      <td>0</td>\n",
              "      <td>0</td>\n",
              "      <td>6.093750</td>\n",
              "      <td>Beverages</td>\n",
              "      <td>Thai</td>\n",
              "      <td>647</td>\n",
              "      <td>56</td>\n",
              "      <td>TYPE_C</td>\n",
              "      <td>2.0</td>\n",
              "      <td>1</td>\n",
              "      <td>-1.00</td>\n",
              "      <td>4</td>\n",
              "    </tr>\n",
              "    <tr>\n",
              "      <th>4</th>\n",
              "      <td>1343872</td>\n",
              "      <td>5</td>\n",
              "      <td>55</td>\n",
              "      <td>1885</td>\n",
              "      <td>146.50</td>\n",
              "      <td>147.50</td>\n",
              "      <td>0</td>\n",
              "      <td>0</td>\n",
              "      <td>6.370638</td>\n",
              "      <td>Beverages</td>\n",
              "      <td>Thai</td>\n",
              "      <td>647</td>\n",
              "      <td>56</td>\n",
              "      <td>TYPE_C</td>\n",
              "      <td>2.0</td>\n",
              "      <td>1</td>\n",
              "      <td>1.00</td>\n",
              "      <td>5</td>\n",
              "    </tr>\n",
              "  </tbody>\n",
              "</table>\n",
              "</div>"
            ],
            "text/plain": [
              "        id  week  center_id  ...  is_train  discount  week_of_the_year\n",
              "0  1379560     1         55  ...         1     15.46                 1\n",
              "1  1018704     2         55  ...         1     16.46                 2\n",
              "2  1196273     3         55  ...         1      1.00                 3\n",
              "3  1116527     4         55  ...         1     -1.00                 4\n",
              "4  1343872     5         55  ...         1      1.00                 5\n",
              "\n",
              "[5 rows x 18 columns]"
            ]
          },
          "metadata": {
            "tags": []
          },
          "execution_count": 38
        }
      ]
    },
    {
      "cell_type": "code",
      "metadata": {
        "id": "Ebw3R6aIY3Kk",
        "colab_type": "code",
        "outputId": "d0fce107-f67f-4cd5-c2e6-785e121093b0",
        "colab": {
          "base_uri": "https://localhost:8080/",
          "height": 168
        }
      },
      "source": [
        "combined_df['region_code'].value_counts()"
      ],
      "execution_count": 0,
      "outputs": [
        {
          "output_type": "execute_result",
          "data": {
            "text/plain": [
              "56    204911\n",
              "34    124978\n",
              "77    101300\n",
              "85     32521\n",
              "23      6883\n",
              "71      6761\n",
              "93      6133\n",
              "35      5634\n",
              "Name: region_code, dtype: int64"
            ]
          },
          "metadata": {
            "tags": []
          },
          "execution_count": 40
        }
      ]
    },
    {
      "cell_type": "code",
      "metadata": {
        "id": "CqhT0aXVZIJq",
        "colab_type": "code",
        "outputId": "b8635ddb-7c0b-472e-ca57-3577f76e4193",
        "colab": {
          "base_uri": "https://localhost:8080/",
          "height": 269
        }
      },
      "source": [
        "combined_df['category'].value_counts()"
      ],
      "execution_count": 0,
      "outputs": [
        {
          "output_type": "execute_result",
          "data": {
            "text/plain": [
              "Beverages       136781\n",
              "Rice Bowl        35717\n",
              "Sandwich         35599\n",
              "Pizza            35444\n",
              "Starters         31925\n",
              "Other Snacks     31483\n",
              "Desert           31407\n",
              "Salad            30868\n",
              "Pasta            29621\n",
              "Seafood          28613\n",
              "Biryani          21951\n",
              "Extras           14554\n",
              "Soup             13640\n",
              "Fish             11518\n",
              "Name: category, dtype: int64"
            ]
          },
          "metadata": {
            "tags": []
          },
          "execution_count": 41
        }
      ]
    },
    {
      "cell_type": "markdown",
      "metadata": {
        "id": "uD6OufytcMyK",
        "colab_type": "text"
      },
      "source": [
        "## Label Encoding"
      ]
    },
    {
      "cell_type": "code",
      "metadata": {
        "colab_type": "code",
        "id": "6TwRczpIc1Or",
        "colab": {}
      },
      "source": [
        "combined_df['category'] = combined_df['category'].astype(\"category\")\n",
        "combined_df['cuisine'] = combined_df['cuisine'].astype(\"category\")\n",
        "combined_df['center_type'] = combined_df['center_type'].astype(\"category\")"
      ],
      "execution_count": 0,
      "outputs": []
    },
    {
      "cell_type": "code",
      "metadata": {
        "id": "nsz_d_Y_aSCx",
        "colab_type": "code",
        "colab": {}
      },
      "source": [
        "train_df = combined_df[combined_df['is_train'] == 1]\n",
        "test_df = combined_df[combined_df['is_train'] == 0]"
      ],
      "execution_count": 0,
      "outputs": []
    },
    {
      "cell_type": "code",
      "metadata": {
        "id": "AwqVF27iddmo",
        "colab_type": "code",
        "colab": {}
      },
      "source": [
        "import lightgbm as lgb"
      ],
      "execution_count": 0,
      "outputs": []
    },
    {
      "cell_type": "code",
      "metadata": {
        "id": "vGnIWVJTeu01",
        "colab_type": "code",
        "outputId": "d8fd4156-16e5-40c0-dabe-fa9c1599ea42",
        "colab": {
          "base_uri": "https://localhost:8080/",
          "height": 101
        }
      },
      "source": [
        "train_df.drop(\"is_train\",axis=1,inplace=True)\n",
        "test_df.drop(\"is_train\",axis=1,inplace=True)"
      ],
      "execution_count": 0,
      "outputs": [
        {
          "output_type": "stream",
          "text": [
            "/usr/local/lib/python3.6/dist-packages/pandas/core/frame.py:3997: SettingWithCopyWarning: \n",
            "A value is trying to be set on a copy of a slice from a DataFrame\n",
            "\n",
            "See the caveats in the documentation: https://pandas.pydata.org/pandas-docs/stable/user_guide/indexing.html#returning-a-view-versus-a-copy\n",
            "  errors=errors,\n"
          ],
          "name": "stderr"
        }
      ]
    },
    {
      "cell_type": "code",
      "metadata": {
        "id": "6DmpfqQagR_W",
        "colab_type": "code",
        "outputId": "8136f248-0bb5-4a67-ec18-9eddf1485139",
        "colab": {
          "base_uri": "https://localhost:8080/",
          "height": 215
        }
      },
      "source": [
        "train_df.head()"
      ],
      "execution_count": 0,
      "outputs": [
        {
          "output_type": "execute_result",
          "data": {
            "text/html": [
              "<div>\n",
              "<style scoped>\n",
              "    .dataframe tbody tr th:only-of-type {\n",
              "        vertical-align: middle;\n",
              "    }\n",
              "\n",
              "    .dataframe tbody tr th {\n",
              "        vertical-align: top;\n",
              "    }\n",
              "\n",
              "    .dataframe thead th {\n",
              "        text-align: right;\n",
              "    }\n",
              "</style>\n",
              "<table border=\"1\" class=\"dataframe\">\n",
              "  <thead>\n",
              "    <tr style=\"text-align: right;\">\n",
              "      <th></th>\n",
              "      <th>id</th>\n",
              "      <th>week</th>\n",
              "      <th>center_id</th>\n",
              "      <th>meal_id</th>\n",
              "      <th>checkout_price</th>\n",
              "      <th>base_price</th>\n",
              "      <th>emailer_for_promotion</th>\n",
              "      <th>homepage_featured</th>\n",
              "      <th>num_orders</th>\n",
              "      <th>category</th>\n",
              "      <th>cuisine</th>\n",
              "      <th>city_code</th>\n",
              "      <th>region_code</th>\n",
              "      <th>center_type</th>\n",
              "      <th>op_area</th>\n",
              "      <th>discount</th>\n",
              "      <th>week_of_the_year</th>\n",
              "    </tr>\n",
              "  </thead>\n",
              "  <tbody>\n",
              "    <tr>\n",
              "      <th>0</th>\n",
              "      <td>1379560</td>\n",
              "      <td>1</td>\n",
              "      <td>55</td>\n",
              "      <td>1885</td>\n",
              "      <td>136.83</td>\n",
              "      <td>152.29</td>\n",
              "      <td>0</td>\n",
              "      <td>0</td>\n",
              "      <td>6.176150</td>\n",
              "      <td>Beverages</td>\n",
              "      <td>Thai</td>\n",
              "      <td>647</td>\n",
              "      <td>56</td>\n",
              "      <td>TYPE_C</td>\n",
              "      <td>2.0</td>\n",
              "      <td>15.46</td>\n",
              "      <td>1</td>\n",
              "    </tr>\n",
              "    <tr>\n",
              "      <th>1</th>\n",
              "      <td>1018704</td>\n",
              "      <td>2</td>\n",
              "      <td>55</td>\n",
              "      <td>1885</td>\n",
              "      <td>135.83</td>\n",
              "      <td>152.29</td>\n",
              "      <td>0</td>\n",
              "      <td>0</td>\n",
              "      <td>6.777652</td>\n",
              "      <td>Beverages</td>\n",
              "      <td>Thai</td>\n",
              "      <td>647</td>\n",
              "      <td>56</td>\n",
              "      <td>TYPE_C</td>\n",
              "      <td>2.0</td>\n",
              "      <td>16.46</td>\n",
              "      <td>2</td>\n",
              "    </tr>\n",
              "    <tr>\n",
              "      <th>2</th>\n",
              "      <td>1196273</td>\n",
              "      <td>3</td>\n",
              "      <td>55</td>\n",
              "      <td>1885</td>\n",
              "      <td>132.92</td>\n",
              "      <td>133.92</td>\n",
              "      <td>0</td>\n",
              "      <td>0</td>\n",
              "      <td>5.564348</td>\n",
              "      <td>Beverages</td>\n",
              "      <td>Thai</td>\n",
              "      <td>647</td>\n",
              "      <td>56</td>\n",
              "      <td>TYPE_C</td>\n",
              "      <td>2.0</td>\n",
              "      <td>1.00</td>\n",
              "      <td>3</td>\n",
              "    </tr>\n",
              "    <tr>\n",
              "      <th>3</th>\n",
              "      <td>1116527</td>\n",
              "      <td>4</td>\n",
              "      <td>55</td>\n",
              "      <td>1885</td>\n",
              "      <td>135.86</td>\n",
              "      <td>134.86</td>\n",
              "      <td>0</td>\n",
              "      <td>0</td>\n",
              "      <td>6.093750</td>\n",
              "      <td>Beverages</td>\n",
              "      <td>Thai</td>\n",
              "      <td>647</td>\n",
              "      <td>56</td>\n",
              "      <td>TYPE_C</td>\n",
              "      <td>2.0</td>\n",
              "      <td>-1.00</td>\n",
              "      <td>4</td>\n",
              "    </tr>\n",
              "    <tr>\n",
              "      <th>4</th>\n",
              "      <td>1343872</td>\n",
              "      <td>5</td>\n",
              "      <td>55</td>\n",
              "      <td>1885</td>\n",
              "      <td>146.50</td>\n",
              "      <td>147.50</td>\n",
              "      <td>0</td>\n",
              "      <td>0</td>\n",
              "      <td>6.370638</td>\n",
              "      <td>Beverages</td>\n",
              "      <td>Thai</td>\n",
              "      <td>647</td>\n",
              "      <td>56</td>\n",
              "      <td>TYPE_C</td>\n",
              "      <td>2.0</td>\n",
              "      <td>1.00</td>\n",
              "      <td>5</td>\n",
              "    </tr>\n",
              "  </tbody>\n",
              "</table>\n",
              "</div>"
            ],
            "text/plain": [
              "        id  week  center_id  ...  op_area  discount  week_of_the_year\n",
              "0  1379560     1         55  ...      2.0     15.46                 1\n",
              "1  1018704     2         55  ...      2.0     16.46                 2\n",
              "2  1196273     3         55  ...      2.0      1.00                 3\n",
              "3  1116527     4         55  ...      2.0     -1.00                 4\n",
              "4  1343872     5         55  ...      2.0      1.00                 5\n",
              "\n",
              "[5 rows x 17 columns]"
            ]
          },
          "metadata": {
            "tags": []
          },
          "execution_count": 65
        }
      ]
    },
    {
      "cell_type": "code",
      "metadata": {
        "id": "qZ3Ojqg7fDim",
        "colab_type": "code",
        "outputId": "6a48282e-f069-4711-873b-f2ed6ea4aad2",
        "colab": {
          "base_uri": "https://localhost:8080/",
          "height": 101
        }
      },
      "source": [
        "test_df.drop(\"num_orders\",inplace=True,axis=1)"
      ],
      "execution_count": 0,
      "outputs": [
        {
          "output_type": "stream",
          "text": [
            "/usr/local/lib/python3.6/dist-packages/pandas/core/frame.py:3997: SettingWithCopyWarning: \n",
            "A value is trying to be set on a copy of a slice from a DataFrame\n",
            "\n",
            "See the caveats in the documentation: https://pandas.pydata.org/pandas-docs/stable/user_guide/indexing.html#returning-a-view-versus-a-copy\n",
            "  errors=errors,\n"
          ],
          "name": "stderr"
        }
      ]
    },
    {
      "cell_type": "code",
      "metadata": {
        "id": "H95NkSGoisqs",
        "colab_type": "code",
        "outputId": "8e03d2eb-870a-42f1-b328-7fbba31a00c9",
        "colab": {
          "base_uri": "https://localhost:8080/",
          "height": 215
        }
      },
      "source": [
        "test_df.head()"
      ],
      "execution_count": 0,
      "outputs": [
        {
          "output_type": "execute_result",
          "data": {
            "text/html": [
              "<div>\n",
              "<style scoped>\n",
              "    .dataframe tbody tr th:only-of-type {\n",
              "        vertical-align: middle;\n",
              "    }\n",
              "\n",
              "    .dataframe tbody tr th {\n",
              "        vertical-align: top;\n",
              "    }\n",
              "\n",
              "    .dataframe thead th {\n",
              "        text-align: right;\n",
              "    }\n",
              "</style>\n",
              "<table border=\"1\" class=\"dataframe\">\n",
              "  <thead>\n",
              "    <tr style=\"text-align: right;\">\n",
              "      <th></th>\n",
              "      <th>id</th>\n",
              "      <th>week</th>\n",
              "      <th>center_id</th>\n",
              "      <th>meal_id</th>\n",
              "      <th>checkout_price</th>\n",
              "      <th>base_price</th>\n",
              "      <th>emailer_for_promotion</th>\n",
              "      <th>homepage_featured</th>\n",
              "      <th>category</th>\n",
              "      <th>cuisine</th>\n",
              "      <th>city_code</th>\n",
              "      <th>region_code</th>\n",
              "      <th>center_type</th>\n",
              "      <th>op_area</th>\n",
              "      <th>discount</th>\n",
              "      <th>week_of_the_year</th>\n",
              "    </tr>\n",
              "  </thead>\n",
              "  <tbody>\n",
              "    <tr>\n",
              "      <th>0</th>\n",
              "      <td>1028232</td>\n",
              "      <td>146</td>\n",
              "      <td>55</td>\n",
              "      <td>1885</td>\n",
              "      <td>158.11</td>\n",
              "      <td>159.11</td>\n",
              "      <td>0</td>\n",
              "      <td>0</td>\n",
              "      <td>Beverages</td>\n",
              "      <td>Thai</td>\n",
              "      <td>647</td>\n",
              "      <td>56</td>\n",
              "      <td>TYPE_C</td>\n",
              "      <td>2.0</td>\n",
              "      <td>1.0</td>\n",
              "      <td>42</td>\n",
              "    </tr>\n",
              "    <tr>\n",
              "      <th>1</th>\n",
              "      <td>1262649</td>\n",
              "      <td>147</td>\n",
              "      <td>55</td>\n",
              "      <td>1885</td>\n",
              "      <td>159.11</td>\n",
              "      <td>159.11</td>\n",
              "      <td>0</td>\n",
              "      <td>0</td>\n",
              "      <td>Beverages</td>\n",
              "      <td>Thai</td>\n",
              "      <td>647</td>\n",
              "      <td>56</td>\n",
              "      <td>TYPE_C</td>\n",
              "      <td>2.0</td>\n",
              "      <td>0.0</td>\n",
              "      <td>43</td>\n",
              "    </tr>\n",
              "    <tr>\n",
              "      <th>2</th>\n",
              "      <td>1453211</td>\n",
              "      <td>149</td>\n",
              "      <td>55</td>\n",
              "      <td>1885</td>\n",
              "      <td>157.14</td>\n",
              "      <td>158.14</td>\n",
              "      <td>0</td>\n",
              "      <td>0</td>\n",
              "      <td>Beverages</td>\n",
              "      <td>Thai</td>\n",
              "      <td>647</td>\n",
              "      <td>56</td>\n",
              "      <td>TYPE_C</td>\n",
              "      <td>2.0</td>\n",
              "      <td>1.0</td>\n",
              "      <td>45</td>\n",
              "    </tr>\n",
              "    <tr>\n",
              "      <th>3</th>\n",
              "      <td>1262599</td>\n",
              "      <td>150</td>\n",
              "      <td>55</td>\n",
              "      <td>1885</td>\n",
              "      <td>159.14</td>\n",
              "      <td>157.14</td>\n",
              "      <td>0</td>\n",
              "      <td>0</td>\n",
              "      <td>Beverages</td>\n",
              "      <td>Thai</td>\n",
              "      <td>647</td>\n",
              "      <td>56</td>\n",
              "      <td>TYPE_C</td>\n",
              "      <td>2.0</td>\n",
              "      <td>-2.0</td>\n",
              "      <td>46</td>\n",
              "    </tr>\n",
              "    <tr>\n",
              "      <th>4</th>\n",
              "      <td>1495848</td>\n",
              "      <td>151</td>\n",
              "      <td>55</td>\n",
              "      <td>1885</td>\n",
              "      <td>160.11</td>\n",
              "      <td>159.11</td>\n",
              "      <td>0</td>\n",
              "      <td>0</td>\n",
              "      <td>Beverages</td>\n",
              "      <td>Thai</td>\n",
              "      <td>647</td>\n",
              "      <td>56</td>\n",
              "      <td>TYPE_C</td>\n",
              "      <td>2.0</td>\n",
              "      <td>-1.0</td>\n",
              "      <td>47</td>\n",
              "    </tr>\n",
              "  </tbody>\n",
              "</table>\n",
              "</div>"
            ],
            "text/plain": [
              "        id  week  center_id  ...  op_area  discount  week_of_the_year\n",
              "0  1028232   146         55  ...      2.0       1.0                42\n",
              "1  1262649   147         55  ...      2.0       0.0                43\n",
              "2  1453211   149         55  ...      2.0       1.0                45\n",
              "3  1262599   150         55  ...      2.0      -2.0                46\n",
              "4  1495848   151         55  ...      2.0      -1.0                47\n",
              "\n",
              "[5 rows x 16 columns]"
            ]
          },
          "metadata": {
            "tags": []
          },
          "execution_count": 69
        }
      ]
    },
    {
      "cell_type": "code",
      "metadata": {
        "id": "aJ52of_0fKGl",
        "colab_type": "code",
        "outputId": "18b5584c-872e-4686-b929-cd31e1af7f4f",
        "colab": {
          "base_uri": "https://localhost:8080/",
          "height": 34
        }
      },
      "source": [
        "test_df.shape"
      ],
      "execution_count": 0,
      "outputs": [
        {
          "output_type": "execute_result",
          "data": {
            "text/plain": [
              "(32573, 17)"
            ]
          },
          "metadata": {
            "tags": []
          },
          "execution_count": 66
        }
      ]
    },
    {
      "cell_type": "code",
      "metadata": {
        "id": "twULFVZGbPcg",
        "colab_type": "code",
        "outputId": "808f2e6d-5bd4-4319-c20a-90f933f1fab3",
        "colab": {
          "base_uri": "https://localhost:8080/",
          "height": 1000
        }
      },
      "source": [
        "df = pd.DataFrame()\n",
        "for center_id in train_df['center_id'].unique():\n",
        "  center_train = train_df.loc[train_df['center_id'] == center_id,:]\n",
        "  center_test = test_df.loc[test_df['center_id'] == center_id,:]\n",
        "  center_train.drop([\"id\",\"discount\",\"week_of_the_year\"],axis=1,inplace=True)\n",
        "  center_test1 = center_test.drop(['discount','week_of_the_year'],axis=1)\n",
        "  for category in center_train['category'].unique():\n",
        "    center_train_cuisine = center_train.loc[center_train['category'] == category,:]\n",
        "    center_test_cuisine = center_test1.loc[center_test1['category'] == category,:]\n",
        "    center_test_cuisine1 = center_test_cuisine.drop(['id'],axis=1)\n",
        "    m = lgb.LGBMRegressor()\n",
        "    m.fit(center_train_cuisine.drop([\"num_orders\"],axis=1),center_train_cuisine['num_orders'])\n",
        "    pred_result = m.predict(center_test_cuisine1)\n",
        "    df = df.append(pd.DataFrame({\"id\":center_test_cuisine['id'],\"num_orders\":pred_result}))\n"
      ],
      "execution_count": 0,
      "outputs": [
        {
          "output_type": "stream",
          "text": [
            "/usr/local/lib/python3.6/dist-packages/pandas/core/frame.py:3997: SettingWithCopyWarning: \n",
            "A value is trying to be set on a copy of a slice from a DataFrame\n",
            "\n",
            "See the caveats in the documentation: https://pandas.pydata.org/pandas-docs/stable/user_guide/indexing.html#returning-a-view-versus-a-copy\n",
            "  errors=errors,\n"
          ],
          "name": "stderr"
        },
        {
          "output_type": "stream",
          "text": [
            "   week  center_id  meal_id  ...  region_code  center_type  op_area\n",
            "0   146         55     1885  ...           56       TYPE_C      2.0\n",
            "1   147         55     1885  ...           56       TYPE_C      2.0\n",
            "2   149         55     1885  ...           56       TYPE_C      2.0\n",
            "3   150         55     1885  ...           56       TYPE_C      2.0\n",
            "4   151         55     1885  ...           56       TYPE_C      2.0\n",
            "\n",
            "[5 rows x 13 columns]\n",
            "     week  center_id  meal_id  ...  region_code  center_type  op_area\n",
            "100   146         55     2290  ...           56       TYPE_C      2.0\n",
            "101   147         55     2290  ...           56       TYPE_C      2.0\n",
            "102   148         55     2290  ...           56       TYPE_C      2.0\n",
            "103   149         55     2290  ...           56       TYPE_C      2.0\n",
            "104   150         55     2290  ...           56       TYPE_C      2.0\n",
            "\n",
            "[5 rows x 13 columns]\n",
            "     week  center_id  meal_id  ...  region_code  center_type  op_area\n",
            "130   146         55     2577  ...           56       TYPE_C      2.0\n",
            "131   147         55     2577  ...           56       TYPE_C      2.0\n",
            "132   150         55     2577  ...           56       TYPE_C      2.0\n",
            "133   146         55     2640  ...           56       TYPE_C      2.0\n",
            "134   147         55     2640  ...           56       TYPE_C      2.0\n",
            "\n",
            "[5 rows x 13 columns]\n",
            "     week  center_id  meal_id  ...  region_code  center_type  op_area\n",
            "333   147         55     2306  ...           56       TYPE_C      2.0\n",
            "334   154         55     2306  ...           56       TYPE_C      2.0\n",
            "335   149         55     1216  ...           56       TYPE_C      2.0\n",
            "336   150         55     1216  ...           56       TYPE_C      2.0\n",
            "337   151         55     1216  ...           56       TYPE_C      2.0\n",
            "\n",
            "[5 rows x 13 columns]\n",
            "     week  center_id  meal_id  ...  region_code  center_type  op_area\n",
            "140   146         55     2826  ...           56       TYPE_C      2.0\n",
            "141   147         55     2826  ...           56       TYPE_C      2.0\n",
            "142   148         55     2826  ...           56       TYPE_C      2.0\n",
            "143   149         55     2826  ...           56       TYPE_C      2.0\n",
            "144   150         55     2826  ...           56       TYPE_C      2.0\n",
            "\n",
            "[5 rows x 13 columns]\n",
            "     week  center_id  meal_id  ...  region_code  center_type  op_area\n",
            "345   155         55     1902  ...           56       TYPE_C      2.0\n",
            "346   148         55     1770  ...           56       TYPE_C      2.0\n",
            "347   154         55     1770  ...           56       TYPE_C      2.0\n",
            "360   150         55     1247  ...           56       TYPE_C      2.0\n",
            "361   153         55     1247  ...           56       TYPE_C      2.0\n",
            "\n",
            "[5 rows x 13 columns]\n",
            "     week  center_id  meal_id  ...  region_code  center_type  op_area\n",
            "170   146         55     1198  ...           56       TYPE_C      2.0\n",
            "171   147         55     1198  ...           56       TYPE_C      2.0\n",
            "172   149         55     1198  ...           56       TYPE_C      2.0\n",
            "173   150         55     1198  ...           56       TYPE_C      2.0\n",
            "174   151         55     1198  ...           56       TYPE_C      2.0\n",
            "\n",
            "[5 rows x 13 columns]\n",
            "     week  center_id  meal_id  ...  region_code  center_type  op_area\n",
            "199   146         55     1558  ...           56       TYPE_C      2.0\n",
            "200   147         55     1558  ...           56       TYPE_C      2.0\n",
            "201   148         55     1558  ...           56       TYPE_C      2.0\n",
            "202   149         55     1558  ...           56       TYPE_C      2.0\n",
            "203   150         55     1558  ...           56       TYPE_C      2.0\n",
            "\n",
            "[5 rows x 13 columns]\n",
            "     week  center_id  meal_id  ...  region_code  center_type  op_area\n",
            "229   146         55     2444  ...           56       TYPE_C      2.0\n",
            "230   147         55     2444  ...           56       TYPE_C      2.0\n",
            "231   148         55     2444  ...           56       TYPE_C      2.0\n",
            "232   149         55     2444  ...           56       TYPE_C      2.0\n",
            "233   150         55     2444  ...           56       TYPE_C      2.0\n",
            "\n",
            "[5 rows x 13 columns]\n",
            "     week  center_id  meal_id  ...  region_code  center_type  op_area\n",
            "242   146         55     1525  ...           56       TYPE_C      2.0\n",
            "243   147         55     1525  ...           56       TYPE_C      2.0\n",
            "244   148         55     1525  ...           56       TYPE_C      2.0\n",
            "245   149         55     1525  ...           56       TYPE_C      2.0\n",
            "246   150         55     1525  ...           56       TYPE_C      2.0\n",
            "\n",
            "[5 rows x 13 columns]\n",
            "     week  center_id  meal_id  ...  region_code  center_type  op_area\n",
            "259   146         55     2492  ...           56       TYPE_C      2.0\n",
            "260   147         55     2492  ...           56       TYPE_C      2.0\n",
            "261   149         55     2492  ...           56       TYPE_C      2.0\n",
            "262   151         55     2492  ...           56       TYPE_C      2.0\n",
            "263   152         55     2492  ...           56       TYPE_C      2.0\n",
            "\n",
            "[5 rows x 13 columns]\n",
            "     week  center_id  meal_id  ...  region_code  center_type  op_area\n",
            "284   146         55     2664  ...           56       TYPE_C      2.0\n",
            "285   147         55     2664  ...           56       TYPE_C      2.0\n",
            "286   148         55     2664  ...           56       TYPE_C      2.0\n",
            "287   149         55     2664  ...           56       TYPE_C      2.0\n",
            "288   150         55     2664  ...           56       TYPE_C      2.0\n",
            "\n",
            "[5 rows x 13 columns]\n",
            "     week  center_id  meal_id  ...  region_code  center_type  op_area\n",
            "319   149         55     1571  ...           56       TYPE_C      2.0\n",
            "320   151         55     1571  ...           56       TYPE_C      2.0\n",
            "321   152         55     1571  ...           56       TYPE_C      2.0\n",
            "322   153         55     1571  ...           56       TYPE_C      2.0\n",
            "323   155         55     1571  ...           56       TYPE_C      2.0\n",
            "\n",
            "[5 rows x 13 columns]\n",
            "     week  center_id  meal_id  ...  region_code  center_type  op_area\n",
            "362   146         24     1885  ...           85       TYPE_B      3.6\n",
            "363   147         24     1885  ...           85       TYPE_B      3.6\n",
            "364   148         24     1885  ...           85       TYPE_B      3.6\n",
            "365   149         24     1885  ...           85       TYPE_B      3.6\n",
            "366   150         24     1885  ...           85       TYPE_B      3.6\n",
            "\n",
            "[5 rows x 13 columns]\n"
          ],
          "name": "stdout"
        },
        {
          "output_type": "stream",
          "text": [
            "/usr/local/lib/python3.6/dist-packages/pandas/core/frame.py:3997: SettingWithCopyWarning: \n",
            "A value is trying to be set on a copy of a slice from a DataFrame\n",
            "\n",
            "See the caveats in the documentation: https://pandas.pydata.org/pandas-docs/stable/user_guide/indexing.html#returning-a-view-versus-a-copy\n",
            "  errors=errors,\n"
          ],
          "name": "stderr"
        },
        {
          "output_type": "stream",
          "text": [
            "     week  center_id  meal_id  ...  region_code  center_type  op_area\n",
            "452   146         24     2290  ...           85       TYPE_B      3.6\n",
            "453   147         24     2290  ...           85       TYPE_B      3.6\n",
            "454   148         24     2290  ...           85       TYPE_B      3.6\n",
            "455   149         24     2290  ...           85       TYPE_B      3.6\n",
            "456   150         24     2290  ...           85       TYPE_B      3.6\n",
            "\n",
            "[5 rows x 13 columns]\n",
            "     week  center_id  meal_id  ...  region_code  center_type  op_area\n",
            "482   146         24     2577  ...           85       TYPE_B      3.6\n",
            "483   147         24     2577  ...           85       TYPE_B      3.6\n",
            "484   148         24     2577  ...           85       TYPE_B      3.6\n",
            "485   149         24     2577  ...           85       TYPE_B      3.6\n",
            "486   150         24     2577  ...           85       TYPE_B      3.6\n",
            "\n",
            "[5 rows x 13 columns]\n",
            "     week  center_id  meal_id  ...  region_code  center_type  op_area\n",
            "719   146         24     2306  ...           85       TYPE_B      3.6\n",
            "720   147         24     2306  ...           85       TYPE_B      3.6\n",
            "721   148         24     2306  ...           85       TYPE_B      3.6\n",
            "722   149         24     2306  ...           85       TYPE_B      3.6\n",
            "723   150         24     2306  ...           85       TYPE_B      3.6\n",
            "\n",
            "[5 rows x 13 columns]\n",
            "     week  center_id  meal_id  ...  region_code  center_type  op_area\n",
            "502   146         24     2826  ...           85       TYPE_B      3.6\n",
            "503   147         24     2826  ...           85       TYPE_B      3.6\n",
            "504   148         24     2826  ...           85       TYPE_B      3.6\n",
            "505   149         24     2826  ...           85       TYPE_B      3.6\n",
            "506   150         24     2826  ...           85       TYPE_B      3.6\n",
            "\n",
            "[5 rows x 13 columns]\n",
            "     week  center_id  meal_id  ...  region_code  center_type  op_area\n",
            "748   146         24     1902  ...           85       TYPE_B      3.6\n",
            "749   148         24     1902  ...           85       TYPE_B      3.6\n",
            "750   149         24     1902  ...           85       TYPE_B      3.6\n",
            "751   150         24     1902  ...           85       TYPE_B      3.6\n",
            "752   151         24     1902  ...           85       TYPE_B      3.6\n",
            "\n",
            "[5 rows x 13 columns]\n",
            "     week  center_id  meal_id  ...  region_code  center_type  op_area\n",
            "532   146         24     1198  ...           85       TYPE_B      3.6\n",
            "533   147         24     1198  ...           85       TYPE_B      3.6\n",
            "534   148         24     1198  ...           85       TYPE_B      3.6\n",
            "535   149         24     1198  ...           85       TYPE_B      3.6\n",
            "536   150         24     1198  ...           85       TYPE_B      3.6\n",
            "\n",
            "[5 rows x 13 columns]\n",
            "     week  center_id  meal_id  ...  region_code  center_type  op_area\n",
            "562   146         24     1558  ...           85       TYPE_B      3.6\n",
            "563   147         24     1558  ...           85       TYPE_B      3.6\n",
            "564   148         24     1558  ...           85       TYPE_B      3.6\n",
            "565   149         24     1558  ...           85       TYPE_B      3.6\n",
            "566   150         24     1558  ...           85       TYPE_B      3.6\n",
            "\n",
            "[5 rows x 13 columns]\n",
            "     week  center_id  meal_id  ...  region_code  center_type  op_area\n",
            "592   147         24     2444  ...           85       TYPE_B      3.6\n",
            "593   148         24     2444  ...           85       TYPE_B      3.6\n",
            "594   149         24     2444  ...           85       TYPE_B      3.6\n",
            "595   151         24     2444  ...           85       TYPE_B      3.6\n",
            "596   152         24     2444  ...           85       TYPE_B      3.6\n",
            "\n",
            "[5 rows x 13 columns]\n",
            "     week  center_id  meal_id  ...  region_code  center_type  op_area\n",
            "610   146         24     1525  ...           85       TYPE_B      3.6\n",
            "611   147         24     1525  ...           85       TYPE_B      3.6\n",
            "612   148         24     1525  ...           85       TYPE_B      3.6\n",
            "613   149         24     1525  ...           85       TYPE_B      3.6\n",
            "614   150         24     1525  ...           85       TYPE_B      3.6\n",
            "\n",
            "[5 rows x 13 columns]\n",
            "     week  center_id  meal_id  ...  region_code  center_type  op_area\n",
            "630   146         24     1543  ...           85       TYPE_B      3.6\n",
            "631   147         24     1543  ...           85       TYPE_B      3.6\n",
            "632   148         24     1543  ...           85       TYPE_B      3.6\n",
            "633   149         24     1543  ...           85       TYPE_B      3.6\n",
            "634   150         24     1543  ...           85       TYPE_B      3.6\n",
            "\n",
            "[5 rows x 13 columns]\n",
            "     week  center_id  meal_id  ...  region_code  center_type  op_area\n",
            "767   146         24     1438  ...           85       TYPE_B      3.6\n",
            "768   147         24     1438  ...           85       TYPE_B      3.6\n",
            "769   148         24     1438  ...           85       TYPE_B      3.6\n",
            "770   149         24     1438  ...           85       TYPE_B      3.6\n",
            "771   150         24     1438  ...           85       TYPE_B      3.6\n",
            "\n",
            "[5 rows x 13 columns]\n",
            "     week  center_id  meal_id  ...  region_code  center_type  op_area\n",
            "650   146         24     2664  ...           85       TYPE_B      3.6\n",
            "651   147         24     2664  ...           85       TYPE_B      3.6\n",
            "652   148         24     2664  ...           85       TYPE_B      3.6\n",
            "653   149         24     2664  ...           85       TYPE_B      3.6\n",
            "654   150         24     2664  ...           85       TYPE_B      3.6\n",
            "\n",
            "[5 rows x 13 columns]\n",
            "     week  center_id  meal_id  ...  region_code  center_type  op_area\n",
            "690   146         24     1571  ...           85       TYPE_B      3.6\n",
            "691   147         24     1571  ...           85       TYPE_B      3.6\n",
            "692   148         24     1571  ...           85       TYPE_B      3.6\n",
            "693   149         24     1571  ...           85       TYPE_B      3.6\n",
            "694   150         24     1571  ...           85       TYPE_B      3.6\n",
            "\n",
            "[5 rows x 13 columns]\n",
            "     week  center_id  meal_id  ...  region_code  center_type  op_area\n",
            "817   146         11     1885  ...           56       TYPE_A      3.7\n",
            "818   147         11     1885  ...           56       TYPE_A      3.7\n",
            "819   148         11     1885  ...           56       TYPE_A      3.7\n",
            "820   149         11     1885  ...           56       TYPE_A      3.7\n",
            "821   150         11     1885  ...           56       TYPE_A      3.7\n",
            "\n",
            "[5 rows x 13 columns]\n"
          ],
          "name": "stdout"
        },
        {
          "output_type": "stream",
          "text": [
            "/usr/local/lib/python3.6/dist-packages/pandas/core/frame.py:3997: SettingWithCopyWarning: \n",
            "A value is trying to be set on a copy of a slice from a DataFrame\n",
            "\n",
            "See the caveats in the documentation: https://pandas.pydata.org/pandas-docs/stable/user_guide/indexing.html#returning-a-view-versus-a-copy\n",
            "  errors=errors,\n"
          ],
          "name": "stderr"
        },
        {
          "output_type": "stream",
          "text": [
            "     week  center_id  meal_id  ...  region_code  center_type  op_area\n",
            "927   146         11     2290  ...           56       TYPE_A      3.7\n",
            "928   147         11     2290  ...           56       TYPE_A      3.7\n",
            "929   148         11     2290  ...           56       TYPE_A      3.7\n",
            "930   149         11     2290  ...           56       TYPE_A      3.7\n",
            "931   150         11     2290  ...           56       TYPE_A      3.7\n",
            "\n",
            "[5 rows x 13 columns]\n",
            "     week  center_id  meal_id  ...  region_code  center_type  op_area\n",
            "957   146         11     2577  ...           56       TYPE_A      3.7\n",
            "958   147         11     2577  ...           56       TYPE_A      3.7\n",
            "959   148         11     2577  ...           56       TYPE_A      3.7\n",
            "960   149         11     2577  ...           56       TYPE_A      3.7\n",
            "961   150         11     2577  ...           56       TYPE_A      3.7\n",
            "\n",
            "[5 rows x 13 columns]\n",
            "      week  center_id  meal_id  ...  region_code  center_type  op_area\n",
            "1197   146         11     2306  ...           56       TYPE_A      3.7\n",
            "1198   147         11     2306  ...           56       TYPE_A      3.7\n",
            "1199   148         11     2306  ...           56       TYPE_A      3.7\n",
            "1200   150         11     2306  ...           56       TYPE_A      3.7\n",
            "1201   151         11     2306  ...           56       TYPE_A      3.7\n",
            "\n",
            "[5 rows x 13 columns]\n",
            "     week  center_id  meal_id  ...  region_code  center_type  op_area\n",
            "975   146         11     2826  ...           56       TYPE_A      3.7\n",
            "976   147         11     2826  ...           56       TYPE_A      3.7\n",
            "977   148         11     2826  ...           56       TYPE_A      3.7\n",
            "978   149         11     2826  ...           56       TYPE_A      3.7\n",
            "979   150         11     2826  ...           56       TYPE_A      3.7\n",
            "\n",
            "[5 rows x 13 columns]\n",
            "      week  center_id  meal_id  ...  region_code  center_type  op_area\n",
            "1224   146         11     1902  ...           56       TYPE_A      3.7\n",
            "1225   147         11     1902  ...           56       TYPE_A      3.7\n",
            "1226   148         11     1902  ...           56       TYPE_A      3.7\n",
            "1227   149         11     1902  ...           56       TYPE_A      3.7\n",
            "1228   150         11     1902  ...           56       TYPE_A      3.7\n",
            "\n",
            "[5 rows x 13 columns]\n",
            "      week  center_id  meal_id  ...  region_code  center_type  op_area\n",
            "1005   146         11     1198  ...           56       TYPE_A      3.7\n",
            "1006   147         11     1198  ...           56       TYPE_A      3.7\n",
            "1007   148         11     1198  ...           56       TYPE_A      3.7\n",
            "1008   149         11     1198  ...           56       TYPE_A      3.7\n",
            "1009   150         11     1198  ...           56       TYPE_A      3.7\n",
            "\n",
            "[5 rows x 13 columns]\n",
            "      week  center_id  meal_id  ...  region_code  center_type  op_area\n",
            "1035   146         11     1558  ...           56       TYPE_A      3.7\n",
            "1036   147         11     1558  ...           56       TYPE_A      3.7\n",
            "1037   148         11     1558  ...           56       TYPE_A      3.7\n",
            "1038   149         11     1558  ...           56       TYPE_A      3.7\n",
            "1039   150         11     1558  ...           56       TYPE_A      3.7\n",
            "\n",
            "[5 rows x 13 columns]\n",
            "      week  center_id  meal_id  ...  region_code  center_type  op_area\n",
            "1065   146         11     2444  ...           56       TYPE_A      3.7\n",
            "1066   147         11     2444  ...           56       TYPE_A      3.7\n",
            "1067   148         11     2444  ...           56       TYPE_A      3.7\n",
            "1068   149         11     2444  ...           56       TYPE_A      3.7\n",
            "1069   150         11     2444  ...           56       TYPE_A      3.7\n",
            "\n",
            "[5 rows x 13 columns]\n",
            "      week  center_id  meal_id  ...  region_code  center_type  op_area\n",
            "1083   146         11     1525  ...           56       TYPE_A      3.7\n",
            "1084   147         11     1525  ...           56       TYPE_A      3.7\n",
            "1085   148         11     1525  ...           56       TYPE_A      3.7\n",
            "1086   149         11     1525  ...           56       TYPE_A      3.7\n",
            "1087   150         11     1525  ...           56       TYPE_A      3.7\n",
            "\n",
            "[5 rows x 13 columns]\n",
            "      week  center_id  meal_id  ...  region_code  center_type  op_area\n",
            "1103   146         11     2492  ...           56       TYPE_A      3.7\n",
            "1104   147         11     2492  ...           56       TYPE_A      3.7\n",
            "1105   151         11     2492  ...           56       TYPE_A      3.7\n",
            "1106   152         11     2492  ...           56       TYPE_A      3.7\n",
            "1107   153         11     2492  ...           56       TYPE_A      3.7\n",
            "\n",
            "[5 rows x 13 columns]\n",
            "      week  center_id  meal_id  ...  region_code  center_type  op_area\n",
            "1240   146         11     1438  ...           56       TYPE_A      3.7\n",
            "1241   147         11     1438  ...           56       TYPE_A      3.7\n",
            "1242   148         11     1438  ...           56       TYPE_A      3.7\n",
            "1243   149         11     1438  ...           56       TYPE_A      3.7\n",
            "1244   150         11     1438  ...           56       TYPE_A      3.7\n",
            "\n",
            "[5 rows x 13 columns]\n",
            "      week  center_id  meal_id  ...  region_code  center_type  op_area\n",
            "1130   146         11     2664  ...           56       TYPE_A      3.7\n",
            "1131   147         11     2664  ...           56       TYPE_A      3.7\n",
            "1132   148         11     2664  ...           56       TYPE_A      3.7\n",
            "1133   149         11     2664  ...           56       TYPE_A      3.7\n",
            "1134   150         11     2664  ...           56       TYPE_A      3.7\n",
            "\n",
            "[5 rows x 13 columns]\n",
            "      week  center_id  meal_id  ...  region_code  center_type  op_area\n",
            "1169   146         11     1571  ...           56       TYPE_A      3.7\n",
            "1170   147         11     1571  ...           56       TYPE_A      3.7\n",
            "1171   148         11     1571  ...           56       TYPE_A      3.7\n",
            "1172   149         11     1571  ...           56       TYPE_A      3.7\n",
            "1173   150         11     1571  ...           56       TYPE_A      3.7\n",
            "\n",
            "[5 rows x 13 columns]\n",
            "      week  center_id  meal_id  ...  region_code  center_type  op_area\n",
            "1290   146         83     1885  ...           77       TYPE_A      5.3\n",
            "1291   147         83     1885  ...           77       TYPE_A      5.3\n",
            "1292   148         83     1885  ...           77       TYPE_A      5.3\n",
            "1293   149         83     1885  ...           77       TYPE_A      5.3\n",
            "1294   150         83     1885  ...           77       TYPE_A      5.3\n",
            "\n",
            "[5 rows x 13 columns]\n",
            "      week  center_id  meal_id  ...  region_code  center_type  op_area\n",
            "1400   146         83     2290  ...           77       TYPE_A      5.3\n",
            "1401   147         83     2290  ...           77       TYPE_A      5.3\n",
            "1402   148         83     2290  ...           77       TYPE_A      5.3\n",
            "1403   149         83     2290  ...           77       TYPE_A      5.3\n",
            "1404   150         83     2290  ...           77       TYPE_A      5.3\n",
            "\n",
            "[5 rows x 13 columns]\n"
          ],
          "name": "stdout"
        },
        {
          "output_type": "stream",
          "text": [
            "/usr/local/lib/python3.6/dist-packages/pandas/core/frame.py:3997: SettingWithCopyWarning: \n",
            "A value is trying to be set on a copy of a slice from a DataFrame\n",
            "\n",
            "See the caveats in the documentation: https://pandas.pydata.org/pandas-docs/stable/user_guide/indexing.html#returning-a-view-versus-a-copy\n",
            "  errors=errors,\n"
          ],
          "name": "stderr"
        },
        {
          "output_type": "stream",
          "text": [
            "      week  center_id  meal_id  ...  region_code  center_type  op_area\n",
            "1430   146         83     2577  ...           77       TYPE_A      5.3\n",
            "1431   147         83     2577  ...           77       TYPE_A      5.3\n",
            "1432   148         83     2577  ...           77       TYPE_A      5.3\n",
            "1433   149         83     2577  ...           77       TYPE_A      5.3\n",
            "1434   150         83     2577  ...           77       TYPE_A      5.3\n",
            "\n",
            "[5 rows x 13 columns]\n",
            "      week  center_id  meal_id  ...  region_code  center_type  op_area\n",
            "1641   146         83     2306  ...           77       TYPE_A      5.3\n",
            "1642   147         83     2306  ...           77       TYPE_A      5.3\n",
            "1643   148         83     2306  ...           77       TYPE_A      5.3\n",
            "1644   149         83     2306  ...           77       TYPE_A      5.3\n",
            "1645   150         83     2306  ...           77       TYPE_A      5.3\n",
            "\n",
            "[5 rows x 13 columns]\n",
            "      week  center_id  meal_id  ...  region_code  center_type  op_area\n",
            "1449   146         83     2826  ...           77       TYPE_A      5.3\n",
            "1450   147         83     2826  ...           77       TYPE_A      5.3\n",
            "1451   148         83     2826  ...           77       TYPE_A      5.3\n",
            "1452   149         83     2826  ...           77       TYPE_A      5.3\n",
            "1453   150         83     2826  ...           77       TYPE_A      5.3\n",
            "\n",
            "[5 rows x 13 columns]\n",
            "      week  center_id  meal_id  ...  region_code  center_type  op_area\n",
            "1670   146         83     1902  ...           77       TYPE_A      5.3\n",
            "1671   147         83     1902  ...           77       TYPE_A      5.3\n",
            "1672   149         83     1902  ...           77       TYPE_A      5.3\n",
            "1673   150         83     1902  ...           77       TYPE_A      5.3\n",
            "1674   151         83     1902  ...           77       TYPE_A      5.3\n",
            "\n",
            "[5 rows x 13 columns]\n",
            "      week  center_id  meal_id  ...  region_code  center_type  op_area\n",
            "1479   146         83     1558  ...           77       TYPE_A      5.3\n",
            "1480   147         83     1558  ...           77       TYPE_A      5.3\n",
            "1481   148         83     1558  ...           77       TYPE_A      5.3\n",
            "1482   149         83     1558  ...           77       TYPE_A      5.3\n",
            "1483   150         83     1558  ...           77       TYPE_A      5.3\n",
            "\n",
            "[5 rows x 13 columns]\n",
            "      week  center_id  meal_id  ...  region_code  center_type  op_area\n",
            "1509   148         83     2444  ...           77       TYPE_A      5.3\n",
            "1510   149         83     2444  ...           77       TYPE_A      5.3\n",
            "1511   150         83     2444  ...           77       TYPE_A      5.3\n",
            "1512   152         83     2444  ...           77       TYPE_A      5.3\n",
            "1513   154         83     2444  ...           77       TYPE_A      5.3\n",
            "\n",
            "[5 rows x 13 columns]\n",
            "      week  center_id  meal_id  ...  region_code  center_type  op_area\n",
            "1525   146         83     1525  ...           77       TYPE_A      5.3\n",
            "1526   147         83     1525  ...           77       TYPE_A      5.3\n",
            "1527   148         83     1525  ...           77       TYPE_A      5.3\n",
            "1528   149         83     1525  ...           77       TYPE_A      5.3\n",
            "1529   150         83     1525  ...           77       TYPE_A      5.3\n",
            "\n",
            "[5 rows x 13 columns]\n",
            "      week  center_id  meal_id  ...  region_code  center_type  op_area\n",
            "1545   146         83     2492  ...           77       TYPE_A      5.3\n",
            "1546   147         83     2492  ...           77       TYPE_A      5.3\n",
            "1547   148         83     2492  ...           77       TYPE_A      5.3\n",
            "1548   149         83     2492  ...           77       TYPE_A      5.3\n",
            "1549   150         83     2492  ...           77       TYPE_A      5.3\n",
            "\n",
            "[5 rows x 13 columns]\n",
            "      week  center_id  meal_id  ...  region_code  center_type  op_area\n",
            "1572   146         83     2664  ...           77       TYPE_A      5.3\n",
            "1573   147         83     2664  ...           77       TYPE_A      5.3\n",
            "1574   148         83     2664  ...           77       TYPE_A      5.3\n",
            "1575   149         83     2664  ...           77       TYPE_A      5.3\n",
            "1576   150         83     2664  ...           77       TYPE_A      5.3\n",
            "\n",
            "[5 rows x 13 columns]\n",
            "      week  center_id  meal_id  ...  region_code  center_type  op_area\n",
            "1611   146         83     1571  ...           77       TYPE_A      5.3\n",
            "1612   147         83     1571  ...           77       TYPE_A      5.3\n",
            "1613   148         83     1571  ...           77       TYPE_A      5.3\n",
            "1614   149         83     1571  ...           77       TYPE_A      5.3\n",
            "1615   150         83     1571  ...           77       TYPE_A      5.3\n",
            "\n",
            "[5 rows x 13 columns]\n",
            "      week  center_id  meal_id  ...  region_code  center_type  op_area\n",
            "1726   146         32     1885  ...           34       TYPE_A      3.8\n",
            "1727   147         32     1885  ...           34       TYPE_A      3.8\n",
            "1728   148         32     1885  ...           34       TYPE_A      3.8\n",
            "1729   149         32     1885  ...           34       TYPE_A      3.8\n",
            "1730   150         32     1885  ...           34       TYPE_A      3.8\n",
            "\n",
            "[5 rows x 13 columns]\n"
          ],
          "name": "stdout"
        },
        {
          "output_type": "stream",
          "text": [
            "/usr/local/lib/python3.6/dist-packages/pandas/core/frame.py:3997: SettingWithCopyWarning: \n",
            "A value is trying to be set on a copy of a slice from a DataFrame\n",
            "\n",
            "See the caveats in the documentation: https://pandas.pydata.org/pandas-docs/stable/user_guide/indexing.html#returning-a-view-versus-a-copy\n",
            "  errors=errors,\n"
          ],
          "name": "stderr"
        },
        {
          "output_type": "stream",
          "text": [
            "      week  center_id  meal_id  ...  region_code  center_type  op_area\n",
            "1832   146         32     2290  ...           34       TYPE_A      3.8\n",
            "1833   147         32     2290  ...           34       TYPE_A      3.8\n",
            "1834   148         32     2290  ...           34       TYPE_A      3.8\n",
            "1835   149         32     2290  ...           34       TYPE_A      3.8\n",
            "1836   150         32     2290  ...           34       TYPE_A      3.8\n",
            "\n",
            "[5 rows x 13 columns]\n",
            "      week  center_id  meal_id  ...  region_code  center_type  op_area\n",
            "1862   146         32     2577  ...           34       TYPE_A      3.8\n",
            "1863   147         32     2577  ...           34       TYPE_A      3.8\n",
            "1864   148         32     2577  ...           34       TYPE_A      3.8\n",
            "1865   149         32     2577  ...           34       TYPE_A      3.8\n",
            "1866   150         32     2577  ...           34       TYPE_A      3.8\n",
            "\n",
            "[5 rows x 13 columns]\n",
            "      week  center_id  meal_id  ...  region_code  center_type  op_area\n",
            "2078   147         32     2306  ...           34       TYPE_A      3.8\n",
            "2079   148         32     2306  ...           34       TYPE_A      3.8\n",
            "2080   149         32     2306  ...           34       TYPE_A      3.8\n",
            "2081   150         32     2306  ...           34       TYPE_A      3.8\n",
            "2082   152         32     2306  ...           34       TYPE_A      3.8\n",
            "\n",
            "[5 rows x 13 columns]\n",
            "      week  center_id  meal_id  ...  region_code  center_type  op_area\n",
            "1882   146         32     2826  ...           34       TYPE_A      3.8\n",
            "1883   147         32     2826  ...           34       TYPE_A      3.8\n",
            "1884   148         32     2826  ...           34       TYPE_A      3.8\n",
            "1885   149         32     2826  ...           34       TYPE_A      3.8\n",
            "1886   150         32     2826  ...           34       TYPE_A      3.8\n",
            "\n",
            "[5 rows x 13 columns]\n",
            "      week  center_id  meal_id  ...  region_code  center_type  op_area\n",
            "2106   146         32     1902  ...           34       TYPE_A      3.8\n",
            "2107   147         32     1902  ...           34       TYPE_A      3.8\n",
            "2108   149         32     1902  ...           34       TYPE_A      3.8\n",
            "2109   150         32     1902  ...           34       TYPE_A      3.8\n",
            "2110   151         32     1902  ...           34       TYPE_A      3.8\n",
            "\n",
            "[5 rows x 13 columns]\n",
            "      week  center_id  meal_id  ...  region_code  center_type  op_area\n",
            "1912   146         32     1558  ...           34       TYPE_A      3.8\n",
            "1913   147         32     1558  ...           34       TYPE_A      3.8\n",
            "1914   148         32     1558  ...           34       TYPE_A      3.8\n",
            "1915   149         32     1558  ...           34       TYPE_A      3.8\n",
            "1916   150         32     1558  ...           34       TYPE_A      3.8\n",
            "\n",
            "[5 rows x 13 columns]\n",
            "      week  center_id  meal_id  ...  region_code  center_type  op_area\n",
            "1942   146         32     2444  ...           34       TYPE_A      3.8\n",
            "1943   147         32     2444  ...           34       TYPE_A      3.8\n",
            "1944   148         32     2444  ...           34       TYPE_A      3.8\n",
            "1945   149         32     2444  ...           34       TYPE_A      3.8\n",
            "1946   150         32     2444  ...           34       TYPE_A      3.8\n",
            "\n",
            "[5 rows x 13 columns]\n",
            "      week  center_id  meal_id  ...  region_code  center_type  op_area\n",
            "1958   146         32     1525  ...           34       TYPE_A      3.8\n",
            "1959   147         32     1525  ...           34       TYPE_A      3.8\n",
            "1960   148         32     1525  ...           34       TYPE_A      3.8\n",
            "1961   149         32     1525  ...           34       TYPE_A      3.8\n",
            "1962   150         32     1525  ...           34       TYPE_A      3.8\n",
            "\n",
            "[5 rows x 13 columns]\n",
            "      week  center_id  meal_id  ...  region_code  center_type  op_area\n",
            "1978   146         32     2492  ...           34       TYPE_A      3.8\n",
            "1979   147         32     2492  ...           34       TYPE_A      3.8\n",
            "1980   148         32     2492  ...           34       TYPE_A      3.8\n",
            "1981   149         32     2492  ...           34       TYPE_A      3.8\n",
            "1982   150         32     2492  ...           34       TYPE_A      3.8\n",
            "\n",
            "[5 rows x 13 columns]\n",
            "      week  center_id  meal_id  ...  region_code  center_type  op_area\n",
            "2008   146         32     2664  ...           34       TYPE_A      3.8\n",
            "2009   147         32     2664  ...           34       TYPE_A      3.8\n",
            "2010   148         32     2664  ...           34       TYPE_A      3.8\n",
            "2011   149         32     2664  ...           34       TYPE_A      3.8\n",
            "2012   150         32     2664  ...           34       TYPE_A      3.8\n",
            "\n",
            "[5 rows x 13 columns]\n",
            "      week  center_id  meal_id  ...  region_code  center_type  op_area\n",
            "2048   146         32     1571  ...           34       TYPE_A      3.8\n",
            "2049   147         32     1571  ...           34       TYPE_A      3.8\n",
            "2050   148         32     1571  ...           34       TYPE_A      3.8\n",
            "2051   149         32     1571  ...           34       TYPE_A      3.8\n",
            "2052   150         32     1571  ...           34       TYPE_A      3.8\n",
            "\n",
            "[5 rows x 13 columns]\n",
            "      week  center_id  meal_id  ...  region_code  center_type  op_area\n",
            "2155   146         13     1885  ...           56       TYPE_B      6.7\n",
            "2156   147         13     1885  ...           56       TYPE_B      6.7\n",
            "2157   148         13     1885  ...           56       TYPE_B      6.7\n",
            "2158   149         13     1885  ...           56       TYPE_B      6.7\n",
            "2159   150         13     1885  ...           56       TYPE_B      6.7\n",
            "\n",
            "[5 rows x 13 columns]\n"
          ],
          "name": "stdout"
        },
        {
          "output_type": "stream",
          "text": [
            "/usr/local/lib/python3.6/dist-packages/pandas/core/frame.py:3997: SettingWithCopyWarning: \n",
            "A value is trying to be set on a copy of a slice from a DataFrame\n",
            "\n",
            "See the caveats in the documentation: https://pandas.pydata.org/pandas-docs/stable/user_guide/indexing.html#returning-a-view-versus-a-copy\n",
            "  errors=errors,\n"
          ],
          "name": "stderr"
        },
        {
          "output_type": "stream",
          "text": [
            "      week  center_id  meal_id  ...  region_code  center_type  op_area\n",
            "2265   146         13     2290  ...           56       TYPE_B      6.7\n",
            "2266   147         13     2290  ...           56       TYPE_B      6.7\n",
            "2267   148         13     2290  ...           56       TYPE_B      6.7\n",
            "2268   149         13     2290  ...           56       TYPE_B      6.7\n",
            "2269   150         13     2290  ...           56       TYPE_B      6.7\n",
            "\n",
            "[5 rows x 13 columns]\n",
            "      week  center_id  meal_id  ...  region_code  center_type  op_area\n",
            "2295   146         13     2577  ...           56       TYPE_B      6.7\n",
            "2296   147         13     2577  ...           56       TYPE_B      6.7\n",
            "2297   148         13     2577  ...           56       TYPE_B      6.7\n",
            "2298   149         13     2577  ...           56       TYPE_B      6.7\n",
            "2299   150         13     2577  ...           56       TYPE_B      6.7\n",
            "\n",
            "[5 rows x 13 columns]\n",
            "      week  center_id  meal_id  ...  region_code  center_type  op_area\n",
            "2545   146         13     2306  ...           56       TYPE_B      6.7\n",
            "2546   147         13     2306  ...           56       TYPE_B      6.7\n",
            "2547   148         13     2306  ...           56       TYPE_B      6.7\n",
            "2548   149         13     2306  ...           56       TYPE_B      6.7\n",
            "2549   150         13     2306  ...           56       TYPE_B      6.7\n",
            "\n",
            "[5 rows x 13 columns]\n",
            "      week  center_id  meal_id  ...  region_code  center_type  op_area\n",
            "2315   146         13     2826  ...           56       TYPE_B      6.7\n",
            "2316   147         13     2826  ...           56       TYPE_B      6.7\n",
            "2317   148         13     2826  ...           56       TYPE_B      6.7\n",
            "2318   149         13     2826  ...           56       TYPE_B      6.7\n",
            "2319   150         13     2826  ...           56       TYPE_B      6.7\n",
            "\n",
            "[5 rows x 13 columns]\n",
            "      week  center_id  meal_id  ...  region_code  center_type  op_area\n",
            "2575   146         13     1902  ...           56       TYPE_B      6.7\n",
            "2576   147         13     1902  ...           56       TYPE_B      6.7\n",
            "2577   148         13     1902  ...           56       TYPE_B      6.7\n",
            "2578   149         13     1902  ...           56       TYPE_B      6.7\n",
            "2579   150         13     1902  ...           56       TYPE_B      6.7\n",
            "\n",
            "[5 rows x 13 columns]\n",
            "      week  center_id  meal_id  ...  region_code  center_type  op_area\n",
            "2345   146         13     1198  ...           56       TYPE_B      6.7\n",
            "2346   147         13     1198  ...           56       TYPE_B      6.7\n",
            "2347   148         13     1198  ...           56       TYPE_B      6.7\n",
            "2348   149         13     1198  ...           56       TYPE_B      6.7\n",
            "2349   150         13     1198  ...           56       TYPE_B      6.7\n",
            "\n",
            "[5 rows x 13 columns]\n",
            "      week  center_id  meal_id  ...  region_code  center_type  op_area\n",
            "2375   146         13     1558  ...           56       TYPE_B      6.7\n",
            "2376   147         13     1558  ...           56       TYPE_B      6.7\n",
            "2377   148         13     1558  ...           56       TYPE_B      6.7\n",
            "2378   149         13     1558  ...           56       TYPE_B      6.7\n",
            "2379   150         13     1558  ...           56       TYPE_B      6.7\n",
            "\n",
            "[5 rows x 13 columns]\n",
            "      week  center_id  meal_id  ...  region_code  center_type  op_area\n",
            "2405   146         13     2444  ...           56       TYPE_B      6.7\n",
            "2406   147         13     2444  ...           56       TYPE_B      6.7\n",
            "2407   148         13     2444  ...           56       TYPE_B      6.7\n",
            "2408   149         13     2444  ...           56       TYPE_B      6.7\n",
            "2409   150         13     2444  ...           56       TYPE_B      6.7\n",
            "\n",
            "[5 rows x 13 columns]\n",
            "      week  center_id  meal_id  ...  region_code  center_type  op_area\n",
            "2425   146         13     1525  ...           56       TYPE_B      6.7\n",
            "2426   147         13     1525  ...           56       TYPE_B      6.7\n",
            "2427   148         13     1525  ...           56       TYPE_B      6.7\n",
            "2428   149         13     1525  ...           56       TYPE_B      6.7\n",
            "2429   150         13     1525  ...           56       TYPE_B      6.7\n",
            "\n",
            "[5 rows x 13 columns]\n",
            "      week  center_id  meal_id  ...  region_code  center_type  op_area\n",
            "2445   146         13     2492  ...           56       TYPE_B      6.7\n",
            "2446   147         13     2492  ...           56       TYPE_B      6.7\n",
            "2447   148         13     2492  ...           56       TYPE_B      6.7\n",
            "2448   149         13     2492  ...           56       TYPE_B      6.7\n",
            "2449   150         13     2492  ...           56       TYPE_B      6.7\n",
            "\n",
            "[5 rows x 13 columns]\n",
            "      week  center_id  meal_id  ...  region_code  center_type  op_area\n",
            "2594   146         13     1438  ...           56       TYPE_B      6.7\n",
            "2595   147         13     1438  ...           56       TYPE_B      6.7\n",
            "2596   148         13     1438  ...           56       TYPE_B      6.7\n",
            "2597   149         13     1438  ...           56       TYPE_B      6.7\n",
            "2598   150         13     1438  ...           56       TYPE_B      6.7\n",
            "\n",
            "[5 rows x 13 columns]\n",
            "      week  center_id  meal_id  ...  region_code  center_type  op_area\n",
            "2475   146         13     2664  ...           56       TYPE_B      6.7\n",
            "2476   147         13     2664  ...           56       TYPE_B      6.7\n",
            "2477   148         13     2664  ...           56       TYPE_B      6.7\n",
            "2478   149         13     2664  ...           56       TYPE_B      6.7\n",
            "2479   150         13     2664  ...           56       TYPE_B      6.7\n",
            "\n",
            "[5 rows x 13 columns]\n",
            "      week  center_id  meal_id  ...  region_code  center_type  op_area\n",
            "2515   146         13     1571  ...           56       TYPE_B      6.7\n",
            "2516   147         13     1571  ...           56       TYPE_B      6.7\n",
            "2517   148         13     1571  ...           56       TYPE_B      6.7\n",
            "2518   149         13     1571  ...           56       TYPE_B      6.7\n",
            "2519   150         13     1571  ...           56       TYPE_B      6.7\n",
            "\n",
            "[5 rows x 13 columns]\n",
            "      week  center_id  meal_id  ...  region_code  center_type  op_area\n",
            "2664   146        109     1885  ...           56       TYPE_A      3.6\n",
            "2665   147        109     1885  ...           56       TYPE_A      3.6\n",
            "2666   148        109     1885  ...           56       TYPE_A      3.6\n",
            "2667   149        109     1885  ...           56       TYPE_A      3.6\n",
            "2668   150        109     1885  ...           56       TYPE_A      3.6\n",
            "\n",
            "[5 rows x 13 columns]\n"
          ],
          "name": "stdout"
        },
        {
          "output_type": "stream",
          "text": [
            "/usr/local/lib/python3.6/dist-packages/pandas/core/frame.py:3997: SettingWithCopyWarning: \n",
            "A value is trying to be set on a copy of a slice from a DataFrame\n",
            "\n",
            "See the caveats in the documentation: https://pandas.pydata.org/pandas-docs/stable/user_guide/indexing.html#returning-a-view-versus-a-copy\n",
            "  errors=errors,\n"
          ],
          "name": "stderr"
        },
        {
          "output_type": "stream",
          "text": [
            "      week  center_id  meal_id  ...  region_code  center_type  op_area\n",
            "2771   146        109     2290  ...           56       TYPE_A      3.6\n",
            "2772   147        109     2290  ...           56       TYPE_A      3.6\n",
            "2773   148        109     2290  ...           56       TYPE_A      3.6\n",
            "2774   149        109     2290  ...           56       TYPE_A      3.6\n",
            "2775   150        109     2290  ...           56       TYPE_A      3.6\n",
            "\n",
            "[5 rows x 13 columns]\n",
            "      week  center_id  meal_id  ...  region_code  center_type  op_area\n",
            "2801   146        109     2577  ...           56       TYPE_A      3.6\n",
            "2802   147        109     2577  ...           56       TYPE_A      3.6\n",
            "2803   148        109     2577  ...           56       TYPE_A      3.6\n",
            "2804   149        109     2577  ...           56       TYPE_A      3.6\n",
            "2805   150        109     2577  ...           56       TYPE_A      3.6\n",
            "\n",
            "[5 rows x 13 columns]\n",
            "      week  center_id  meal_id  ...  region_code  center_type  op_area\n",
            "3020   146        109     2306  ...           56       TYPE_A      3.6\n",
            "3021   147        109     2306  ...           56       TYPE_A      3.6\n",
            "3022   148        109     2306  ...           56       TYPE_A      3.6\n",
            "3023   149        109     2306  ...           56       TYPE_A      3.6\n",
            "3024   151        109     2306  ...           56       TYPE_A      3.6\n",
            "\n",
            "[5 rows x 13 columns]\n",
            "      week  center_id  meal_id  ...  region_code  center_type  op_area\n",
            "2821   146        109     2826  ...           56       TYPE_A      3.6\n",
            "2822   147        109     2826  ...           56       TYPE_A      3.6\n",
            "2823   148        109     2826  ...           56       TYPE_A      3.6\n",
            "2824   149        109     2826  ...           56       TYPE_A      3.6\n",
            "2825   150        109     2826  ...           56       TYPE_A      3.6\n",
            "\n",
            "[5 rows x 13 columns]\n",
            "      week  center_id  meal_id  ...  region_code  center_type  op_area\n",
            "3045   146        109     1902  ...           56       TYPE_A      3.6\n",
            "3046   148        109     1902  ...           56       TYPE_A      3.6\n",
            "3047   150        109     1902  ...           56       TYPE_A      3.6\n",
            "3048   154        109     1902  ...           56       TYPE_A      3.6\n",
            "3049   146        109     1770  ...           56       TYPE_A      3.6\n",
            "\n",
            "[5 rows x 13 columns]\n",
            "      week  center_id  meal_id  ...  region_code  center_type  op_area\n",
            "2851   146        109     1198  ...           56       TYPE_A      3.6\n",
            "2852   147        109     1198  ...           56       TYPE_A      3.6\n",
            "2853   148        109     1198  ...           56       TYPE_A      3.6\n",
            "2854   149        109     1198  ...           56       TYPE_A      3.6\n",
            "2855   150        109     1198  ...           56       TYPE_A      3.6\n",
            "\n",
            "[5 rows x 13 columns]\n",
            "      week  center_id  meal_id  ...  region_code  center_type  op_area\n",
            "2880   146        109     1558  ...           56       TYPE_A      3.6\n",
            "2881   147        109     1558  ...           56       TYPE_A      3.6\n",
            "2882   148        109     1558  ...           56       TYPE_A      3.6\n",
            "2883   149        109     1558  ...           56       TYPE_A      3.6\n",
            "2884   150        109     1558  ...           56       TYPE_A      3.6\n",
            "\n",
            "[5 rows x 13 columns]\n",
            "      week  center_id  meal_id  ...  region_code  center_type  op_area\n",
            "2910   148        109     2444  ...           56       TYPE_A      3.6\n",
            "2911   149        109     2444  ...           56       TYPE_A      3.6\n",
            "2912   152        109     2444  ...           56       TYPE_A      3.6\n",
            "2913   153        109     2444  ...           56       TYPE_A      3.6\n",
            "2914   154        109     2444  ...           56       TYPE_A      3.6\n",
            "\n",
            "[5 rows x 13 columns]\n",
            "      week  center_id  meal_id  ...  region_code  center_type  op_area\n",
            "2923   146        109     1525  ...           56       TYPE_A      3.6\n",
            "2924   147        109     1525  ...           56       TYPE_A      3.6\n",
            "2925   148        109     1525  ...           56       TYPE_A      3.6\n",
            "2926   149        109     1525  ...           56       TYPE_A      3.6\n",
            "2927   150        109     1525  ...           56       TYPE_A      3.6\n",
            "\n",
            "[5 rows x 13 columns]\n",
            "      week  center_id  meal_id  ...  region_code  center_type  op_area\n",
            "2943   146        109     2492  ...           56       TYPE_A      3.6\n",
            "2944   147        109     2492  ...           56       TYPE_A      3.6\n",
            "2945   148        109     2492  ...           56       TYPE_A      3.6\n",
            "2946   150        109     2492  ...           56       TYPE_A      3.6\n",
            "2947   151        109     2492  ...           56       TYPE_A      3.6\n",
            "\n",
            "[5 rows x 13 columns]\n",
            "      week  center_id  meal_id  ...  region_code  center_type  op_area\n",
            "3058   146        109     1438  ...           56       TYPE_A      3.6\n",
            "3059   147        109     1438  ...           56       TYPE_A      3.6\n",
            "3060   148        109     1438  ...           56       TYPE_A      3.6\n",
            "3061   146        109     2494  ...           56       TYPE_A      3.6\n",
            "3062   149        109     2494  ...           56       TYPE_A      3.6\n",
            "\n",
            "[5 rows x 13 columns]\n",
            "      week  center_id  meal_id  ...  region_code  center_type  op_area\n",
            "2972   146        109     2664  ...           56       TYPE_A      3.6\n",
            "2973   147        109     2664  ...           56       TYPE_A      3.6\n",
            "2974   148        109     2664  ...           56       TYPE_A      3.6\n",
            "2975   149        109     2664  ...           56       TYPE_A      3.6\n",
            "2976   150        109     2664  ...           56       TYPE_A      3.6\n",
            "\n",
            "[5 rows x 13 columns]\n",
            "      week  center_id  meal_id  ...  region_code  center_type  op_area\n",
            "3102   146         52     1885  ...           56       TYPE_B      5.6\n",
            "3103   147         52     1885  ...           56       TYPE_B      5.6\n",
            "3104   148         52     1885  ...           56       TYPE_B      5.6\n",
            "3105   149         52     1885  ...           56       TYPE_B      5.6\n",
            "3106   150         52     1885  ...           56       TYPE_B      5.6\n",
            "\n",
            "[5 rows x 13 columns]\n"
          ],
          "name": "stdout"
        },
        {
          "output_type": "stream",
          "text": [
            "/usr/local/lib/python3.6/dist-packages/pandas/core/frame.py:3997: SettingWithCopyWarning: \n",
            "A value is trying to be set on a copy of a slice from a DataFrame\n",
            "\n",
            "See the caveats in the documentation: https://pandas.pydata.org/pandas-docs/stable/user_guide/indexing.html#returning-a-view-versus-a-copy\n",
            "  errors=errors,\n"
          ],
          "name": "stderr"
        },
        {
          "output_type": "stream",
          "text": [
            "      week  center_id  meal_id  ...  region_code  center_type  op_area\n",
            "3212   146         52     2290  ...           56       TYPE_B      5.6\n",
            "3213   147         52     2290  ...           56       TYPE_B      5.6\n",
            "3214   148         52     2290  ...           56       TYPE_B      5.6\n",
            "3215   149         52     2290  ...           56       TYPE_B      5.6\n",
            "3216   150         52     2290  ...           56       TYPE_B      5.6\n",
            "\n",
            "[5 rows x 13 columns]\n",
            "      week  center_id  meal_id  ...  region_code  center_type  op_area\n",
            "3242   146         52     2577  ...           56       TYPE_B      5.6\n",
            "3243   147         52     2577  ...           56       TYPE_B      5.6\n",
            "3244   148         52     2577  ...           56       TYPE_B      5.6\n",
            "3245   149         52     2577  ...           56       TYPE_B      5.6\n",
            "3246   150         52     2577  ...           56       TYPE_B      5.6\n",
            "\n",
            "[5 rows x 13 columns]\n",
            "      week  center_id  meal_id  ...  region_code  center_type  op_area\n",
            "3490   146         52     2306  ...           56       TYPE_B      5.6\n",
            "3491   147         52     2306  ...           56       TYPE_B      5.6\n",
            "3492   148         52     2306  ...           56       TYPE_B      5.6\n",
            "3493   149         52     2306  ...           56       TYPE_B      5.6\n",
            "3494   150         52     2306  ...           56       TYPE_B      5.6\n",
            "\n",
            "[5 rows x 13 columns]\n",
            "      week  center_id  meal_id  ...  region_code  center_type  op_area\n",
            "3262   146         52     2826  ...           56       TYPE_B      5.6\n",
            "3263   147         52     2826  ...           56       TYPE_B      5.6\n",
            "3264   148         52     2826  ...           56       TYPE_B      5.6\n",
            "3265   149         52     2826  ...           56       TYPE_B      5.6\n",
            "3266   150         52     2826  ...           56       TYPE_B      5.6\n",
            "\n",
            "[5 rows x 13 columns]\n",
            "      week  center_id  meal_id  ...  region_code  center_type  op_area\n",
            "3520   146         52     1902  ...           56       TYPE_B      5.6\n",
            "3521   147         52     1902  ...           56       TYPE_B      5.6\n",
            "3522   148         52     1902  ...           56       TYPE_B      5.6\n",
            "3523   149         52     1902  ...           56       TYPE_B      5.6\n",
            "3524   150         52     1902  ...           56       TYPE_B      5.6\n",
            "\n",
            "[5 rows x 13 columns]\n",
            "      week  center_id  meal_id  ...  region_code  center_type  op_area\n",
            "3292   146         52     1198  ...           56       TYPE_B      5.6\n",
            "3293   147         52     1198  ...           56       TYPE_B      5.6\n",
            "3294   148         52     1198  ...           56       TYPE_B      5.6\n",
            "3295   149         52     1198  ...           56       TYPE_B      5.6\n",
            "3296   150         52     1198  ...           56       TYPE_B      5.6\n",
            "\n",
            "[5 rows x 13 columns]\n",
            "      week  center_id  meal_id  ...  region_code  center_type  op_area\n",
            "3322   146         52     1558  ...           56       TYPE_B      5.6\n",
            "3323   147         52     1558  ...           56       TYPE_B      5.6\n",
            "3324   148         52     1558  ...           56       TYPE_B      5.6\n",
            "3325   149         52     1558  ...           56       TYPE_B      5.6\n",
            "3326   150         52     1558  ...           56       TYPE_B      5.6\n",
            "\n",
            "[5 rows x 13 columns]\n",
            "      week  center_id  meal_id  ...  region_code  center_type  op_area\n",
            "3352   146         52     2444  ...           56       TYPE_B      5.6\n",
            "3353   147         52     2444  ...           56       TYPE_B      5.6\n",
            "3354   148         52     2444  ...           56       TYPE_B      5.6\n",
            "3355   149         52     2444  ...           56       TYPE_B      5.6\n",
            "3356   150         52     2444  ...           56       TYPE_B      5.6\n",
            "\n",
            "[5 rows x 13 columns]\n",
            "      week  center_id  meal_id  ...  region_code  center_type  op_area\n",
            "3372   146         52     1525  ...           56       TYPE_B      5.6\n",
            "3373   147         52     1525  ...           56       TYPE_B      5.6\n",
            "3374   148         52     1525  ...           56       TYPE_B      5.6\n",
            "3375   149         52     1525  ...           56       TYPE_B      5.6\n",
            "3376   150         52     1525  ...           56       TYPE_B      5.6\n",
            "\n",
            "[5 rows x 13 columns]\n",
            "      week  center_id  meal_id  ...  region_code  center_type  op_area\n",
            "3392   146         52     2492  ...           56       TYPE_B      5.6\n",
            "3393   147         52     2492  ...           56       TYPE_B      5.6\n",
            "3394   148         52     2492  ...           56       TYPE_B      5.6\n",
            "3395   149         52     2492  ...           56       TYPE_B      5.6\n",
            "3396   150         52     2492  ...           56       TYPE_B      5.6\n",
            "\n",
            "[5 rows x 13 columns]\n",
            "      week  center_id  meal_id  ...  region_code  center_type  op_area\n",
            "3540   146         52     1438  ...           56       TYPE_B      5.6\n",
            "3541   147         52     1438  ...           56       TYPE_B      5.6\n",
            "3542   148         52     1438  ...           56       TYPE_B      5.6\n",
            "3543   149         52     1438  ...           56       TYPE_B      5.6\n",
            "3544   150         52     1438  ...           56       TYPE_B      5.6\n",
            "\n",
            "[5 rows x 13 columns]\n",
            "      week  center_id  meal_id  ...  region_code  center_type  op_area\n",
            "3421   146         52     2664  ...           56       TYPE_B      5.6\n",
            "3422   147         52     2664  ...           56       TYPE_B      5.6\n",
            "3423   148         52     2664  ...           56       TYPE_B      5.6\n",
            "3424   149         52     2664  ...           56       TYPE_B      5.6\n",
            "3425   150         52     2664  ...           56       TYPE_B      5.6\n",
            "\n",
            "[5 rows x 13 columns]\n",
            "      week  center_id  meal_id  ...  region_code  center_type  op_area\n",
            "3461   146         52     1571  ...           56       TYPE_B      5.6\n",
            "3462   147         52     1571  ...           56       TYPE_B      5.6\n",
            "3463   148         52     1571  ...           56       TYPE_B      5.6\n",
            "3464   149         52     1571  ...           56       TYPE_B      5.6\n",
            "3465   150         52     1571  ...           56       TYPE_B      5.6\n",
            "\n",
            "[5 rows x 13 columns]\n",
            "      week  center_id  meal_id  ...  region_code  center_type  op_area\n",
            "3608   146         93     1885  ...           34       TYPE_A      3.9\n",
            "3609   147         93     1885  ...           34       TYPE_A      3.9\n",
            "3610   148         93     1885  ...           34       TYPE_A      3.9\n",
            "3611   149         93     1885  ...           34       TYPE_A      3.9\n",
            "3612   150         93     1885  ...           34       TYPE_A      3.9\n",
            "\n",
            "[5 rows x 13 columns]\n"
          ],
          "name": "stdout"
        },
        {
          "output_type": "stream",
          "text": [
            "/usr/local/lib/python3.6/dist-packages/pandas/core/frame.py:3997: SettingWithCopyWarning: \n",
            "A value is trying to be set on a copy of a slice from a DataFrame\n",
            "\n",
            "See the caveats in the documentation: https://pandas.pydata.org/pandas-docs/stable/user_guide/indexing.html#returning-a-view-versus-a-copy\n",
            "  errors=errors,\n"
          ],
          "name": "stderr"
        },
        {
          "output_type": "stream",
          "text": [
            "      week  center_id  meal_id  ...  region_code  center_type  op_area\n",
            "3718   146         93     2290  ...           34       TYPE_A      3.9\n",
            "3719   147         93     2290  ...           34       TYPE_A      3.9\n",
            "3720   148         93     2290  ...           34       TYPE_A      3.9\n",
            "3721   149         93     2290  ...           34       TYPE_A      3.9\n",
            "3722   150         93     2290  ...           34       TYPE_A      3.9\n",
            "\n",
            "[5 rows x 13 columns]\n",
            "      week  center_id  meal_id  ...  region_code  center_type  op_area\n",
            "3748   147         93     2577  ...           34       TYPE_A      3.9\n",
            "3749   148         93     2577  ...           34       TYPE_A      3.9\n",
            "3750   149         93     2577  ...           34       TYPE_A      3.9\n",
            "3751   150         93     2577  ...           34       TYPE_A      3.9\n",
            "3752   151         93     2577  ...           34       TYPE_A      3.9\n",
            "\n",
            "[5 rows x 13 columns]\n",
            "      week  center_id  meal_id  ...  region_code  center_type  op_area\n",
            "3954   146         93     2306  ...           34       TYPE_A      3.9\n",
            "3955   147         93     2306  ...           34       TYPE_A      3.9\n",
            "3956   148         93     2306  ...           34       TYPE_A      3.9\n",
            "3957   149         93     2306  ...           34       TYPE_A      3.9\n",
            "3958   150         93     2306  ...           34       TYPE_A      3.9\n",
            "\n",
            "[5 rows x 13 columns]\n",
            "      week  center_id  meal_id  ...  region_code  center_type  op_area\n",
            "3766   146         93     2826  ...           34       TYPE_A      3.9\n",
            "3767   147         93     2826  ...           34       TYPE_A      3.9\n",
            "3768   148         93     2826  ...           34       TYPE_A      3.9\n",
            "3769   149         93     2826  ...           34       TYPE_A      3.9\n",
            "3770   150         93     2826  ...           34       TYPE_A      3.9\n",
            "\n",
            "[5 rows x 13 columns]\n",
            "      week  center_id  meal_id  ...  region_code  center_type  op_area\n",
            "3982   146         93     1902  ...           34       TYPE_A      3.9\n",
            "3983   154         93     1902  ...           34       TYPE_A      3.9\n",
            "3984   147         93     1770  ...           34       TYPE_A      3.9\n",
            "3985   148         93     1770  ...           34       TYPE_A      3.9\n",
            "3986   150         93     1770  ...           34       TYPE_A      3.9\n",
            "\n",
            "[5 rows x 13 columns]\n",
            "      week  center_id  meal_id  ...  region_code  center_type  op_area\n",
            "3796   146         93     1558  ...           34       TYPE_A      3.9\n",
            "3797   147         93     1558  ...           34       TYPE_A      3.9\n",
            "3798   148         93     1558  ...           34       TYPE_A      3.9\n",
            "3799   149         93     1558  ...           34       TYPE_A      3.9\n",
            "3800   150         93     1558  ...           34       TYPE_A      3.9\n",
            "\n",
            "[5 rows x 13 columns]\n",
            "      week  center_id  meal_id  ...  region_code  center_type  op_area\n",
            "3826   146         93     2444  ...           34       TYPE_A      3.9\n",
            "3827   148         93     2444  ...           34       TYPE_A      3.9\n",
            "3828   149         93     2444  ...           34       TYPE_A      3.9\n",
            "3829   152         93     2444  ...           34       TYPE_A      3.9\n",
            "3830   153         93     2444  ...           34       TYPE_A      3.9\n",
            "\n",
            "[5 rows x 13 columns]\n",
            "      week  center_id  meal_id  ...  region_code  center_type  op_area\n",
            "3841   146         93     1525  ...           34       TYPE_A      3.9\n",
            "3842   147         93     1525  ...           34       TYPE_A      3.9\n",
            "3843   148         93     1525  ...           34       TYPE_A      3.9\n",
            "3844   149         93     1525  ...           34       TYPE_A      3.9\n",
            "3845   150         93     1525  ...           34       TYPE_A      3.9\n",
            "\n",
            "[5 rows x 13 columns]\n",
            "      week  center_id  meal_id  ...  region_code  center_type  op_area\n",
            "3861   146         93     2492  ...           34       TYPE_A      3.9\n",
            "3862   148         93     2492  ...           34       TYPE_A      3.9\n",
            "3863   149         93     2492  ...           34       TYPE_A      3.9\n",
            "3864   150         93     2492  ...           34       TYPE_A      3.9\n",
            "3865   152         93     2492  ...           34       TYPE_A      3.9\n",
            "\n",
            "[5 rows x 13 columns]\n",
            "      week  center_id  meal_id  ...  region_code  center_type  op_area\n",
            "3887   146         93     2664  ...           34       TYPE_A      3.9\n",
            "3888   147         93     2664  ...           34       TYPE_A      3.9\n",
            "3889   148         93     2664  ...           34       TYPE_A      3.9\n",
            "3890   149         93     2664  ...           34       TYPE_A      3.9\n",
            "3891   150         93     2664  ...           34       TYPE_A      3.9\n",
            "\n",
            "[5 rows x 13 columns]\n",
            "      week  center_id  meal_id  ...  region_code  center_type  op_area\n",
            "3926   146         93     1571  ...           34       TYPE_A      3.9\n",
            "3927   147         93     1571  ...           34       TYPE_A      3.9\n",
            "3928   148         93     1571  ...           34       TYPE_A      3.9\n",
            "3929   149         93     1571  ...           34       TYPE_A      3.9\n",
            "3930   150         93     1571  ...           34       TYPE_A      3.9\n",
            "\n",
            "[5 rows x 13 columns]\n",
            "      week  center_id  meal_id  ...  region_code  center_type  op_area\n",
            "4020   146        186     1885  ...           34       TYPE_A      3.4\n",
            "4021   147        186     1885  ...           34       TYPE_A      3.4\n",
            "4022   148        186     1885  ...           34       TYPE_A      3.4\n",
            "4023   149        186     1885  ...           34       TYPE_A      3.4\n",
            "4024   150        186     1885  ...           34       TYPE_A      3.4\n",
            "\n",
            "[5 rows x 13 columns]\n"
          ],
          "name": "stdout"
        },
        {
          "output_type": "stream",
          "text": [
            "/usr/local/lib/python3.6/dist-packages/pandas/core/frame.py:3997: SettingWithCopyWarning: \n",
            "A value is trying to be set on a copy of a slice from a DataFrame\n",
            "\n",
            "See the caveats in the documentation: https://pandas.pydata.org/pandas-docs/stable/user_guide/indexing.html#returning-a-view-versus-a-copy\n",
            "  errors=errors,\n"
          ],
          "name": "stderr"
        },
        {
          "output_type": "stream",
          "text": [
            "      week  center_id  meal_id  ...  region_code  center_type  op_area\n",
            "4129   146        186     2290  ...           34       TYPE_A      3.4\n",
            "4130   147        186     2290  ...           34       TYPE_A      3.4\n",
            "4131   148        186     2290  ...           34       TYPE_A      3.4\n",
            "4132   149        186     2290  ...           34       TYPE_A      3.4\n",
            "4133   150        186     2290  ...           34       TYPE_A      3.4\n",
            "\n",
            "[5 rows x 13 columns]\n",
            "      week  center_id  meal_id  ...  region_code  center_type  op_area\n",
            "4159   146        186     2577  ...           34       TYPE_A      3.4\n",
            "4160   146        186     2640  ...           34       TYPE_A      3.4\n",
            "4161   147        186     2640  ...           34       TYPE_A      3.4\n",
            "4162   148        186     2640  ...           34       TYPE_A      3.4\n",
            "4163   149        186     2640  ...           34       TYPE_A      3.4\n",
            "\n",
            "[5 rows x 13 columns]\n",
            "      week  center_id  meal_id  ...  region_code  center_type  op_area\n",
            "4346   148        186     2306  ...           34       TYPE_A      3.4\n",
            "4347   153        186     2306  ...           34       TYPE_A      3.4\n",
            "4348   146        186     1216  ...           34       TYPE_A      3.4\n",
            "4349   147        186     1216  ...           34       TYPE_A      3.4\n",
            "4350   148        186     1216  ...           34       TYPE_A      3.4\n",
            "\n",
            "[5 rows x 13 columns]\n",
            "      week  center_id  meal_id  ...  region_code  center_type  op_area\n",
            "4170   146        186     2826  ...           34       TYPE_A      3.4\n",
            "4171   147        186     2826  ...           34       TYPE_A      3.4\n",
            "4172   148        186     2826  ...           34       TYPE_A      3.4\n",
            "4173   149        186     2826  ...           34       TYPE_A      3.4\n",
            "4174   150        186     2826  ...           34       TYPE_A      3.4\n",
            "\n",
            "[5 rows x 13 columns]\n",
            "      week  center_id  meal_id  ...  region_code  center_type  op_area\n",
            "4367   151        186     1902  ...           34       TYPE_A      3.4\n",
            "4368   146        186     1770  ...           34       TYPE_A      3.4\n",
            "4369   147        186     1770  ...           34       TYPE_A      3.4\n",
            "4370   148        186     1770  ...           34       TYPE_A      3.4\n",
            "4371   149        186     1770  ...           34       TYPE_A      3.4\n",
            "\n",
            "[5 rows x 13 columns]\n",
            "      week  center_id  meal_id  ...  region_code  center_type  op_area\n",
            "4200   146        186     1558  ...           34       TYPE_A      3.4\n",
            "4201   147        186     1558  ...           34       TYPE_A      3.4\n",
            "4202   148        186     1558  ...           34       TYPE_A      3.4\n",
            "4203   149        186     1558  ...           34       TYPE_A      3.4\n",
            "4204   150        186     1558  ...           34       TYPE_A      3.4\n",
            "\n",
            "[5 rows x 13 columns]\n",
            "      week  center_id  meal_id  ...  region_code  center_type  op_area\n",
            "4230   146        186     2444  ...           34       TYPE_A      3.4\n",
            "4231   148        186     2444  ...           34       TYPE_A      3.4\n",
            "4232   149        186     2444  ...           34       TYPE_A      3.4\n",
            "4233   151        186     2444  ...           34       TYPE_A      3.4\n",
            "4234   152        186     2444  ...           34       TYPE_A      3.4\n",
            "\n",
            "[5 rows x 13 columns]\n",
            "      week  center_id  meal_id  ...  region_code  center_type  op_area\n",
            "4245   147        186     1525  ...           34       TYPE_A      3.4\n",
            "4246   148        186     1525  ...           34       TYPE_A      3.4\n",
            "4247   149        186     1525  ...           34       TYPE_A      3.4\n",
            "4248   150        186     1525  ...           34       TYPE_A      3.4\n",
            "4249   151        186     1525  ...           34       TYPE_A      3.4\n",
            "\n",
            "[5 rows x 13 columns]\n",
            "      week  center_id  meal_id  ...  region_code  center_type  op_area\n",
            "4263   147        186     2492  ...           34       TYPE_A      3.4\n",
            "4264   148        186     2492  ...           34       TYPE_A      3.4\n",
            "4265   149        186     2492  ...           34       TYPE_A      3.4\n",
            "4266   150        186     2492  ...           34       TYPE_A      3.4\n",
            "4267   152        186     2492  ...           34       TYPE_A      3.4\n",
            "\n",
            "[5 rows x 13 columns]\n",
            "      week  center_id  meal_id  ...  region_code  center_type  op_area\n",
            "4289   146        186     2664  ...           34       TYPE_A      3.4\n",
            "4290   147        186     2664  ...           34       TYPE_A      3.4\n",
            "4291   148        186     2664  ...           34       TYPE_A      3.4\n",
            "4292   149        186     2664  ...           34       TYPE_A      3.4\n",
            "4293   150        186     2664  ...           34       TYPE_A      3.4\n",
            "\n",
            "[5 rows x 13 columns]\n",
            "      week  center_id  meal_id  ...  region_code  center_type  op_area\n",
            "4327   146        186     1571  ...           34       TYPE_A      3.4\n",
            "4328   147        186     1571  ...           34       TYPE_A      3.4\n",
            "4329   148        186     1571  ...           34       TYPE_A      3.4\n",
            "4330   150        186     1571  ...           34       TYPE_A      3.4\n",
            "4331   151        186     1571  ...           34       TYPE_A      3.4\n",
            "\n",
            "[5 rows x 13 columns]\n",
            "      week  center_id  meal_id  ...  region_code  center_type  op_area\n",
            "4402   146        146     1885  ...           34       TYPE_B      5.0\n",
            "4403   147        146     1885  ...           34       TYPE_B      5.0\n",
            "4404   148        146     1885  ...           34       TYPE_B      5.0\n",
            "4405   149        146     1885  ...           34       TYPE_B      5.0\n",
            "4406   150        146     1885  ...           34       TYPE_B      5.0\n",
            "\n",
            "[5 rows x 13 columns]\n"
          ],
          "name": "stdout"
        },
        {
          "output_type": "stream",
          "text": [
            "/usr/local/lib/python3.6/dist-packages/pandas/core/frame.py:3997: SettingWithCopyWarning: \n",
            "A value is trying to be set on a copy of a slice from a DataFrame\n",
            "\n",
            "See the caveats in the documentation: https://pandas.pydata.org/pandas-docs/stable/user_guide/indexing.html#returning-a-view-versus-a-copy\n",
            "  errors=errors,\n"
          ],
          "name": "stderr"
        },
        {
          "output_type": "stream",
          "text": [
            "      week  center_id  meal_id  ...  region_code  center_type  op_area\n",
            "4507   146        146     2290  ...           34       TYPE_B      5.0\n",
            "4508   147        146     2290  ...           34       TYPE_B      5.0\n",
            "4509   148        146     2290  ...           34       TYPE_B      5.0\n",
            "4510   149        146     2290  ...           34       TYPE_B      5.0\n",
            "4511   150        146     2290  ...           34       TYPE_B      5.0\n",
            "\n",
            "[5 rows x 13 columns]\n",
            "      week  center_id  meal_id  ...  region_code  center_type  op_area\n",
            "4537   146        146     2577  ...           34       TYPE_B      5.0\n",
            "4538   147        146     2577  ...           34       TYPE_B      5.0\n",
            "4539   148        146     2577  ...           34       TYPE_B      5.0\n",
            "4540   149        146     2577  ...           34       TYPE_B      5.0\n",
            "4541   150        146     2577  ...           34       TYPE_B      5.0\n",
            "\n",
            "[5 rows x 13 columns]\n",
            "      week  center_id  meal_id  ...  region_code  center_type  op_area\n",
            "4756   146        146     2306  ...           34       TYPE_B      5.0\n",
            "4757   147        146     2306  ...           34       TYPE_B      5.0\n",
            "4758   148        146     2306  ...           34       TYPE_B      5.0\n",
            "4759   149        146     2306  ...           34       TYPE_B      5.0\n",
            "4760   150        146     2306  ...           34       TYPE_B      5.0\n",
            "\n",
            "[5 rows x 13 columns]\n",
            "      week  center_id  meal_id  ...  region_code  center_type  op_area\n",
            "4557   146        146     2826  ...           34       TYPE_B      5.0\n",
            "4558   147        146     2826  ...           34       TYPE_B      5.0\n",
            "4559   148        146     2826  ...           34       TYPE_B      5.0\n",
            "4560   149        146     2826  ...           34       TYPE_B      5.0\n",
            "4561   150        146     2826  ...           34       TYPE_B      5.0\n",
            "\n",
            "[5 rows x 13 columns]\n",
            "      week  center_id  meal_id  ...  region_code  center_type  op_area\n",
            "4784   146        146     1902  ...           34       TYPE_B      5.0\n",
            "4785   147        146     1902  ...           34       TYPE_B      5.0\n",
            "4786   148        146     1902  ...           34       TYPE_B      5.0\n",
            "4787   149        146     1902  ...           34       TYPE_B      5.0\n",
            "4788   150        146     1902  ...           34       TYPE_B      5.0\n",
            "\n",
            "[5 rows x 13 columns]\n",
            "      week  center_id  meal_id  ...  region_code  center_type  op_area\n",
            "4587   146        146     1558  ...           34       TYPE_B      5.0\n",
            "4588   147        146     1558  ...           34       TYPE_B      5.0\n",
            "4589   148        146     1558  ...           34       TYPE_B      5.0\n",
            "4590   149        146     1558  ...           34       TYPE_B      5.0\n",
            "4591   150        146     1558  ...           34       TYPE_B      5.0\n",
            "\n",
            "[5 rows x 13 columns]\n",
            "      week  center_id  meal_id  ...  region_code  center_type  op_area\n",
            "4617   146        146     2444  ...           34       TYPE_B      5.0\n",
            "4618   147        146     2444  ...           34       TYPE_B      5.0\n",
            "4619   148        146     2444  ...           34       TYPE_B      5.0\n",
            "4620   149        146     2444  ...           34       TYPE_B      5.0\n",
            "4621   150        146     2444  ...           34       TYPE_B      5.0\n",
            "\n",
            "[5 rows x 13 columns]\n",
            "      week  center_id  meal_id  ...  region_code  center_type  op_area\n",
            "4636   146        146     1525  ...           34       TYPE_B      5.0\n",
            "4637   147        146     1525  ...           34       TYPE_B      5.0\n",
            "4638   148        146     1525  ...           34       TYPE_B      5.0\n",
            "4639   149        146     1525  ...           34       TYPE_B      5.0\n",
            "4640   150        146     1525  ...           34       TYPE_B      5.0\n",
            "\n",
            "[5 rows x 13 columns]\n",
            "      week  center_id  meal_id  ...  region_code  center_type  op_area\n",
            "4656   146        146     2492  ...           34       TYPE_B      5.0\n",
            "4657   147        146     2492  ...           34       TYPE_B      5.0\n",
            "4658   148        146     2492  ...           34       TYPE_B      5.0\n",
            "4659   149        146     2492  ...           34       TYPE_B      5.0\n",
            "4660   150        146     2492  ...           34       TYPE_B      5.0\n",
            "\n",
            "[5 rows x 13 columns]\n",
            "      week  center_id  meal_id  ...  region_code  center_type  op_area\n",
            "4686   146        146     2664  ...           34       TYPE_B      5.0\n",
            "4687   147        146     2664  ...           34       TYPE_B      5.0\n",
            "4688   148        146     2664  ...           34       TYPE_B      5.0\n",
            "4689   149        146     2664  ...           34       TYPE_B      5.0\n",
            "4690   150        146     2664  ...           34       TYPE_B      5.0\n",
            "\n",
            "[5 rows x 13 columns]\n",
            "      week  center_id  meal_id  ...  region_code  center_type  op_area\n",
            "4726   146        146     1571  ...           34       TYPE_B      5.0\n",
            "4727   147        146     1571  ...           34       TYPE_B      5.0\n",
            "4728   148        146     1571  ...           34       TYPE_B      5.0\n",
            "4729   149        146     1571  ...           34       TYPE_B      5.0\n",
            "4730   150        146     1571  ...           34       TYPE_B      5.0\n",
            "\n",
            "[5 rows x 13 columns]\n",
            "      week  center_id  meal_id  ...  region_code  center_type  op_area\n",
            "4840   146         57     1885  ...           77       TYPE_C      2.8\n",
            "4841   147         57     1885  ...           77       TYPE_C      2.8\n",
            "4842   148         57     1885  ...           77       TYPE_C      2.8\n",
            "4843   149         57     1885  ...           77       TYPE_C      2.8\n",
            "4844   150         57     1885  ...           77       TYPE_C      2.8\n",
            "\n",
            "[5 rows x 13 columns]\n"
          ],
          "name": "stdout"
        },
        {
          "output_type": "stream",
          "text": [
            "/usr/local/lib/python3.6/dist-packages/pandas/core/frame.py:3997: SettingWithCopyWarning: \n",
            "A value is trying to be set on a copy of a slice from a DataFrame\n",
            "\n",
            "See the caveats in the documentation: https://pandas.pydata.org/pandas-docs/stable/user_guide/indexing.html#returning-a-view-versus-a-copy\n",
            "  errors=errors,\n"
          ],
          "name": "stderr"
        },
        {
          "output_type": "stream",
          "text": [
            "      week  center_id  meal_id  ...  region_code  center_type  op_area\n",
            "4946   146         57     2290  ...           77       TYPE_C      2.8\n",
            "4947   147         57     2290  ...           77       TYPE_C      2.8\n",
            "4948   148         57     2290  ...           77       TYPE_C      2.8\n",
            "4949   149         57     2290  ...           77       TYPE_C      2.8\n",
            "4950   150         57     2290  ...           77       TYPE_C      2.8\n",
            "\n",
            "[5 rows x 13 columns]\n",
            "      week  center_id  meal_id  ...  region_code  center_type  op_area\n",
            "4976   146         57     2640  ...           77       TYPE_C      2.8\n",
            "4977   148         57     2640  ...           77       TYPE_C      2.8\n",
            "4978   149         57     2640  ...           77       TYPE_C      2.8\n",
            "4979   151         57     2640  ...           77       TYPE_C      2.8\n",
            "4980   152         57     2640  ...           77       TYPE_C      2.8\n",
            "\n",
            "[5 rows x 13 columns]\n",
            "      week  center_id  meal_id  ...  region_code  center_type  op_area\n",
            "5131   151         57     2306  ...           77       TYPE_C      2.8\n",
            "5132   152         57     2306  ...           77       TYPE_C      2.8\n",
            "5133   146         57     1216  ...           77       TYPE_C      2.8\n",
            "5134   149         57     1216  ...           77       TYPE_C      2.8\n",
            "5135   150         57     1216  ...           77       TYPE_C      2.8\n",
            "\n",
            "[5 rows x 13 columns]\n",
            "      week  center_id  meal_id  ...  region_code  center_type  op_area\n",
            "4983   146         57     2826  ...           77       TYPE_C      2.8\n",
            "4984   147         57     2826  ...           77       TYPE_C      2.8\n",
            "4985   148         57     2826  ...           77       TYPE_C      2.8\n",
            "4986   149         57     2826  ...           77       TYPE_C      2.8\n",
            "4987   150         57     2826  ...           77       TYPE_C      2.8\n",
            "\n",
            "[5 rows x 13 columns]\n",
            "      week  center_id  meal_id  ...  region_code  center_type  op_area\n",
            "5143   149         57     1770  ...           77       TYPE_C      2.8\n",
            "5150   148         57     1247  ...           77       TYPE_C      2.8\n",
            "\n",
            "[2 rows x 13 columns]\n",
            "      week  center_id  meal_id  ...  region_code  center_type  op_area\n",
            "5013   146         57     1558  ...           77       TYPE_C      2.8\n",
            "5014   147         57     1558  ...           77       TYPE_C      2.8\n",
            "5015   148         57     1558  ...           77       TYPE_C      2.8\n",
            "5016   149         57     1558  ...           77       TYPE_C      2.8\n",
            "5017   150         57     1558  ...           77       TYPE_C      2.8\n",
            "\n",
            "[5 rows x 13 columns]\n",
            "      week  center_id  meal_id  ...  region_code  center_type  op_area\n",
            "5043   146         57     2444  ...           77       TYPE_C      2.8\n",
            "5044   148         57     2444  ...           77       TYPE_C      2.8\n",
            "5045   149         57     2444  ...           77       TYPE_C      2.8\n",
            "5046   151         57     2444  ...           77       TYPE_C      2.8\n",
            "5047   152         57     2444  ...           77       TYPE_C      2.8\n",
            "\n",
            "[5 rows x 13 columns]\n",
            "      week  center_id  meal_id  ...  region_code  center_type  op_area\n",
            "5055   146         57     2704  ...           77       TYPE_C      2.8\n",
            "5056   148         57     2704  ...           77       TYPE_C      2.8\n",
            "5057   151         57     2704  ...           77       TYPE_C      2.8\n",
            "5058   152         57     2704  ...           77       TYPE_C      2.8\n",
            "5059   153         57     2704  ...           77       TYPE_C      2.8\n",
            "\n",
            "[5 rows x 13 columns]\n",
            "      week  center_id  meal_id  ...  region_code  center_type  op_area\n",
            "5062   146         57     2492  ...           77       TYPE_C      2.8\n",
            "5063   147         57     2492  ...           77       TYPE_C      2.8\n",
            "5064   148         57     2492  ...           77       TYPE_C      2.8\n",
            "5065   149         57     2492  ...           77       TYPE_C      2.8\n",
            "5066   150         57     2492  ...           77       TYPE_C      2.8\n",
            "\n",
            "[5 rows x 13 columns]\n",
            "      week  center_id  meal_id  ...  region_code  center_type  op_area\n",
            "5089   146         57     2664  ...           77       TYPE_C      2.8\n",
            "5090   147         57     2664  ...           77       TYPE_C      2.8\n",
            "5091   148         57     2664  ...           77       TYPE_C      2.8\n",
            "5092   149         57     2664  ...           77       TYPE_C      2.8\n",
            "5093   150         57     2664  ...           77       TYPE_C      2.8\n",
            "\n",
            "[5 rows x 13 columns]\n",
            "      week  center_id  meal_id  ...  region_code  center_type  op_area\n",
            "5151   146        149     1885  ...           77       TYPE_A      2.4\n",
            "5152   147        149     1885  ...           77       TYPE_A      2.4\n",
            "5153   148        149     1885  ...           77       TYPE_A      2.4\n",
            "5154   149        149     1885  ...           77       TYPE_A      2.4\n",
            "5155   150        149     1885  ...           77       TYPE_A      2.4\n",
            "\n",
            "[5 rows x 13 columns]\n"
          ],
          "name": "stdout"
        },
        {
          "output_type": "stream",
          "text": [
            "/usr/local/lib/python3.6/dist-packages/pandas/core/frame.py:3997: SettingWithCopyWarning: \n",
            "A value is trying to be set on a copy of a slice from a DataFrame\n",
            "\n",
            "See the caveats in the documentation: https://pandas.pydata.org/pandas-docs/stable/user_guide/indexing.html#returning-a-view-versus-a-copy\n",
            "  errors=errors,\n"
          ],
          "name": "stderr"
        },
        {
          "output_type": "stream",
          "text": [
            "      week  center_id  meal_id  ...  region_code  center_type  op_area\n",
            "5257   146        149     2290  ...           77       TYPE_A      2.4\n",
            "5258   147        149     2290  ...           77       TYPE_A      2.4\n",
            "5259   148        149     2290  ...           77       TYPE_A      2.4\n",
            "5260   149        149     2290  ...           77       TYPE_A      2.4\n",
            "5261   150        149     2290  ...           77       TYPE_A      2.4\n",
            "\n",
            "[5 rows x 13 columns]\n",
            "      week  center_id  meal_id  ...  region_code  center_type  op_area\n",
            "5287   146        149     2640  ...           77       TYPE_A      2.4\n",
            "5288   147        149     2640  ...           77       TYPE_A      2.4\n",
            "5289   149        149     2640  ...           77       TYPE_A      2.4\n",
            "5290   150        149     2640  ...           77       TYPE_A      2.4\n",
            "5291   151        149     2640  ...           77       TYPE_A      2.4\n",
            "\n",
            "[5 rows x 13 columns]\n",
            "      week  center_id  meal_id  ...  region_code  center_type  op_area\n",
            "5450   146        149     2306  ...           77       TYPE_A      2.4\n",
            "5451   147        149     2306  ...           77       TYPE_A      2.4\n",
            "5452   151        149     2306  ...           77       TYPE_A      2.4\n",
            "5453   155        149     2306  ...           77       TYPE_A      2.4\n",
            "5454   146        149     1216  ...           77       TYPE_A      2.4\n",
            "\n",
            "[5 rows x 13 columns]\n",
            "      week  center_id  meal_id  ...  region_code  center_type  op_area\n",
            "5296   146        149     2826  ...           77       TYPE_A      2.4\n",
            "5297   147        149     2826  ...           77       TYPE_A      2.4\n",
            "5298   148        149     2826  ...           77       TYPE_A      2.4\n",
            "5299   149        149     2826  ...           77       TYPE_A      2.4\n",
            "5300   150        149     2826  ...           77       TYPE_A      2.4\n",
            "\n",
            "[5 rows x 13 columns]\n",
            "      week  center_id  meal_id  ...  region_code  center_type  op_area\n",
            "5470   154        149     1902  ...           77       TYPE_A      2.4\n",
            "5471   146        149     1770  ...           77       TYPE_A      2.4\n",
            "5472   148        149     1770  ...           77       TYPE_A      2.4\n",
            "5473   149        149     1770  ...           77       TYPE_A      2.4\n",
            "5474   152        149     1770  ...           77       TYPE_A      2.4\n",
            "\n",
            "[5 rows x 13 columns]\n",
            "      week  center_id  meal_id  ...  region_code  center_type  op_area\n",
            "5325   146        149     1558  ...           77       TYPE_A      2.4\n",
            "5326   147        149     1558  ...           77       TYPE_A      2.4\n",
            "5327   148        149     1558  ...           77       TYPE_A      2.4\n",
            "5328   149        149     1558  ...           77       TYPE_A      2.4\n",
            "5329   150        149     1558  ...           77       TYPE_A      2.4\n",
            "\n",
            "[5 rows x 13 columns]\n",
            "      week  center_id  meal_id  ...  region_code  center_type  op_area\n",
            "5355   146        149     2444  ...           77       TYPE_A      2.4\n",
            "5356   148        149     2444  ...           77       TYPE_A      2.4\n",
            "5357   149        149     2444  ...           77       TYPE_A      2.4\n",
            "5358   150        149     2444  ...           77       TYPE_A      2.4\n",
            "5359   151        149     2444  ...           77       TYPE_A      2.4\n",
            "\n",
            "[5 rows x 13 columns]\n",
            "      week  center_id  meal_id  ...  region_code  center_type  op_area\n",
            "5364   149        149     1525  ...           77       TYPE_A      2.4\n",
            "5365   150        149     1525  ...           77       TYPE_A      2.4\n",
            "5366   151        149     1525  ...           77       TYPE_A      2.4\n",
            "5367   153        149     1525  ...           77       TYPE_A      2.4\n",
            "5368   146        149     2704  ...           77       TYPE_A      2.4\n",
            "\n",
            "[5 rows x 13 columns]\n",
            "      week  center_id  meal_id  ...  region_code  center_type  op_area\n",
            "5378   146        149     2492  ...           77       TYPE_A      2.4\n",
            "5379   147        149     2492  ...           77       TYPE_A      2.4\n",
            "5380   148        149     2492  ...           77       TYPE_A      2.4\n",
            "5381   149        149     2492  ...           77       TYPE_A      2.4\n",
            "5382   150        149     2492  ...           77       TYPE_A      2.4\n",
            "\n",
            "[5 rows x 13 columns]\n",
            "      week  center_id  meal_id  ...  region_code  center_type  op_area\n",
            "5407   146        149     2664  ...           77       TYPE_A      2.4\n",
            "5408   147        149     2664  ...           77       TYPE_A      2.4\n",
            "5409   148        149     2664  ...           77       TYPE_A      2.4\n",
            "5410   149        149     2664  ...           77       TYPE_A      2.4\n",
            "5411   150        149     2664  ...           77       TYPE_A      2.4\n",
            "\n",
            "[5 rows x 13 columns]\n",
            "      week  center_id  meal_id  ...  region_code  center_type  op_area\n",
            "5490   146         89     1885  ...           56       TYPE_A      4.8\n",
            "5491   147         89     1885  ...           56       TYPE_A      4.8\n",
            "5492   148         89     1885  ...           56       TYPE_A      4.8\n",
            "5493   149         89     1885  ...           56       TYPE_A      4.8\n",
            "5494   150         89     1885  ...           56       TYPE_A      4.8\n",
            "\n",
            "[5 rows x 13 columns]\n"
          ],
          "name": "stdout"
        },
        {
          "output_type": "stream",
          "text": [
            "/usr/local/lib/python3.6/dist-packages/pandas/core/frame.py:3997: SettingWithCopyWarning: \n",
            "A value is trying to be set on a copy of a slice from a DataFrame\n",
            "\n",
            "See the caveats in the documentation: https://pandas.pydata.org/pandas-docs/stable/user_guide/indexing.html#returning-a-view-versus-a-copy\n",
            "  errors=errors,\n"
          ],
          "name": "stderr"
        },
        {
          "output_type": "stream",
          "text": [
            "      week  center_id  meal_id  ...  region_code  center_type  op_area\n",
            "5596   146         89     2290  ...           56       TYPE_A      4.8\n",
            "5597   147         89     2290  ...           56       TYPE_A      4.8\n",
            "5598   148         89     2290  ...           56       TYPE_A      4.8\n",
            "5599   149         89     2290  ...           56       TYPE_A      4.8\n",
            "5600   150         89     2290  ...           56       TYPE_A      4.8\n",
            "\n",
            "[5 rows x 13 columns]\n",
            "      week  center_id  meal_id  ...  region_code  center_type  op_area\n",
            "5626   146         89     2577  ...           56       TYPE_A      4.8\n",
            "5627   149         89     2577  ...           56       TYPE_A      4.8\n",
            "5628   151         89     2577  ...           56       TYPE_A      4.8\n",
            "5629   154         89     2577  ...           56       TYPE_A      4.8\n",
            "5630   155         89     2577  ...           56       TYPE_A      4.8\n",
            "\n",
            "[5 rows x 13 columns]\n",
            "      week  center_id  meal_id  ...  region_code  center_type  op_area\n",
            "5862   146         89     2306  ...           56       TYPE_A      4.8\n",
            "5863   148         89     2306  ...           56       TYPE_A      4.8\n",
            "5864   151         89     2306  ...           56       TYPE_A      4.8\n",
            "5865   152         89     2306  ...           56       TYPE_A      4.8\n",
            "5866   153         89     2306  ...           56       TYPE_A      4.8\n",
            "\n",
            "[5 rows x 13 columns]\n",
            "      week  center_id  meal_id  ...  region_code  center_type  op_area\n",
            "5641   146         89     2826  ...           56       TYPE_A      4.8\n",
            "5642   147         89     2826  ...           56       TYPE_A      4.8\n",
            "5643   148         89     2826  ...           56       TYPE_A      4.8\n",
            "5644   149         89     2826  ...           56       TYPE_A      4.8\n",
            "5645   150         89     2826  ...           56       TYPE_A      4.8\n",
            "\n",
            "[5 rows x 13 columns]\n",
            "      week  center_id  meal_id  ...  region_code  center_type  op_area\n",
            "5887   146         89     1902  ...           56       TYPE_A      4.8\n",
            "5888   148         89     1902  ...           56       TYPE_A      4.8\n",
            "5889   149         89     1902  ...           56       TYPE_A      4.8\n",
            "5890   151         89     1902  ...           56       TYPE_A      4.8\n",
            "5891   152         89     1902  ...           56       TYPE_A      4.8\n",
            "\n",
            "[5 rows x 13 columns]\n",
            "      week  center_id  meal_id  ...  region_code  center_type  op_area\n",
            "5671   146         89     1198  ...           56       TYPE_A      4.8\n",
            "5672   147         89     1198  ...           56       TYPE_A      4.8\n",
            "5673   148         89     1198  ...           56       TYPE_A      4.8\n",
            "5674   149         89     1198  ...           56       TYPE_A      4.8\n",
            "5675   150         89     1198  ...           56       TYPE_A      4.8\n",
            "\n",
            "[5 rows x 13 columns]\n",
            "      week  center_id  meal_id  ...  region_code  center_type  op_area\n",
            "5701   146         89     1558  ...           56       TYPE_A      4.8\n",
            "5702   147         89     1558  ...           56       TYPE_A      4.8\n",
            "5703   148         89     1558  ...           56       TYPE_A      4.8\n",
            "5704   149         89     1558  ...           56       TYPE_A      4.8\n",
            "5705   150         89     1558  ...           56       TYPE_A      4.8\n",
            "\n",
            "[5 rows x 13 columns]\n",
            "      week  center_id  meal_id  ...  region_code  center_type  op_area\n",
            "5731   146         89     2444  ...           56       TYPE_A      4.8\n",
            "5732   147         89     2444  ...           56       TYPE_A      4.8\n",
            "5733   148         89     2444  ...           56       TYPE_A      4.8\n",
            "5734   149         89     2444  ...           56       TYPE_A      4.8\n",
            "5735   150         89     2444  ...           56       TYPE_A      4.8\n",
            "\n",
            "[5 rows x 13 columns]\n",
            "      week  center_id  meal_id  ...  region_code  center_type  op_area\n",
            "5749   146         89     1525  ...           56       TYPE_A      4.8\n",
            "5750   147         89     1525  ...           56       TYPE_A      4.8\n",
            "5751   148         89     1525  ...           56       TYPE_A      4.8\n",
            "5752   149         89     1525  ...           56       TYPE_A      4.8\n",
            "5753   150         89     1525  ...           56       TYPE_A      4.8\n",
            "\n",
            "[5 rows x 13 columns]\n",
            "      week  center_id  meal_id  ...  region_code  center_type  op_area\n",
            "5768   146         89     2492  ...           56       TYPE_A      4.8\n",
            "5769   147         89     2492  ...           56       TYPE_A      4.8\n",
            "5770   148         89     2492  ...           56       TYPE_A      4.8\n",
            "5771   149         89     2492  ...           56       TYPE_A      4.8\n",
            "5772   151         89     2492  ...           56       TYPE_A      4.8\n",
            "\n",
            "[5 rows x 13 columns]\n",
            "      week  center_id  meal_id  ...  region_code  center_type  op_area\n",
            "5900   146         89     1438  ...           56       TYPE_A      4.8\n",
            "5901   147         89     1438  ...           56       TYPE_A      4.8\n",
            "5902   148         89     1438  ...           56       TYPE_A      4.8\n",
            "5903   149         89     1438  ...           56       TYPE_A      4.8\n",
            "5904   150         89     1438  ...           56       TYPE_A      4.8\n",
            "\n",
            "[5 rows x 13 columns]\n",
            "      week  center_id  meal_id  ...  region_code  center_type  op_area\n",
            "5795   146         89     2664  ...           56       TYPE_A      4.8\n",
            "5796   147         89     2664  ...           56       TYPE_A      4.8\n",
            "5797   148         89     2664  ...           56       TYPE_A      4.8\n",
            "5798   149         89     2664  ...           56       TYPE_A      4.8\n",
            "5799   150         89     2664  ...           56       TYPE_A      4.8\n",
            "\n",
            "[5 rows x 13 columns]\n"
          ],
          "name": "stdout"
        },
        {
          "output_type": "stream",
          "text": [
            "/usr/local/lib/python3.6/dist-packages/pandas/core/frame.py:3997: SettingWithCopyWarning: \n",
            "A value is trying to be set on a copy of a slice from a DataFrame\n",
            "\n",
            "See the caveats in the documentation: https://pandas.pydata.org/pandas-docs/stable/user_guide/indexing.html#returning-a-view-versus-a-copy\n",
            "  errors=errors,\n"
          ],
          "name": "stderr"
        },
        {
          "output_type": "stream",
          "text": [
            "      week  center_id  meal_id  ...  region_code  center_type  op_area\n",
            "5834   146         89     1571  ...           56       TYPE_A      4.8\n",
            "5835   147         89     1571  ...           56       TYPE_A      4.8\n",
            "5836   148         89     1571  ...           56       TYPE_A      4.8\n",
            "5837   149         89     1571  ...           56       TYPE_A      4.8\n",
            "5838   150         89     1571  ...           56       TYPE_A      4.8\n",
            "\n",
            "[5 rows x 13 columns]\n",
            "      week  center_id  meal_id  ...  region_code  center_type  op_area\n",
            "5961   146        124     1885  ...           56       TYPE_C      4.0\n",
            "5962   147        124     1885  ...           56       TYPE_C      4.0\n",
            "5963   148        124     1885  ...           56       TYPE_C      4.0\n",
            "5964   149        124     1885  ...           56       TYPE_C      4.0\n",
            "5965   150        124     1885  ...           56       TYPE_C      4.0\n",
            "\n",
            "[5 rows x 13 columns]\n",
            "      week  center_id  meal_id  ...  region_code  center_type  op_area\n",
            "6070   146        124     2290  ...           56       TYPE_C      4.0\n",
            "6071   147        124     2290  ...           56       TYPE_C      4.0\n",
            "6072   148        124     2290  ...           56       TYPE_C      4.0\n",
            "6073   149        124     2290  ...           56       TYPE_C      4.0\n",
            "6074   150        124     2290  ...           56       TYPE_C      4.0\n",
            "\n",
            "[5 rows x 13 columns]\n",
            "      week  center_id  meal_id  ...  region_code  center_type  op_area\n",
            "6100   147        124     2577  ...           56       TYPE_C      4.0\n",
            "6101   150        124     2577  ...           56       TYPE_C      4.0\n",
            "6102   151        124     2577  ...           56       TYPE_C      4.0\n",
            "6103   146        124     2640  ...           56       TYPE_C      4.0\n",
            "6104   147        124     2640  ...           56       TYPE_C      4.0\n",
            "\n",
            "[5 rows x 13 columns]\n",
            "      week  center_id  meal_id  ...  region_code  center_type  op_area\n",
            "6310   146        124     2306  ...           56       TYPE_C      4.0\n",
            "6311   149        124     2306  ...           56       TYPE_C      4.0\n",
            "6312   150        124     2306  ...           56       TYPE_C      4.0\n",
            "6313   151        124     2306  ...           56       TYPE_C      4.0\n",
            "6314   152        124     2306  ...           56       TYPE_C      4.0\n",
            "\n",
            "[5 rows x 13 columns]\n",
            "      week  center_id  meal_id  ...  region_code  center_type  op_area\n",
            "6110   146        124     2826  ...           56       TYPE_C      4.0\n",
            "6111   147        124     2826  ...           56       TYPE_C      4.0\n",
            "6112   148        124     2826  ...           56       TYPE_C      4.0\n",
            "6113   149        124     2826  ...           56       TYPE_C      4.0\n",
            "6114   150        124     2826  ...           56       TYPE_C      4.0\n",
            "\n",
            "[5 rows x 13 columns]\n",
            "      week  center_id  meal_id  ...  region_code  center_type  op_area\n",
            "6333   146        124     1902  ...           56       TYPE_C      4.0\n",
            "6334   147        124     1902  ...           56       TYPE_C      4.0\n",
            "6335   149        124     1902  ...           56       TYPE_C      4.0\n",
            "6336   153        124     1902  ...           56       TYPE_C      4.0\n",
            "6337   155        124     1902  ...           56       TYPE_C      4.0\n",
            "\n",
            "[5 rows x 13 columns]\n",
            "      week  center_id  meal_id  ...  region_code  center_type  op_area\n",
            "6140   147        124     1198  ...           56       TYPE_C      4.0\n",
            "6141   148        124     1198  ...           56       TYPE_C      4.0\n",
            "6142   149        124     1198  ...           56       TYPE_C      4.0\n",
            "6143   150        124     1198  ...           56       TYPE_C      4.0\n",
            "6144   151        124     1198  ...           56       TYPE_C      4.0\n",
            "\n",
            "[5 rows x 13 columns]\n",
            "      week  center_id  meal_id  ...  region_code  center_type  op_area\n",
            "6167   146        124     1558  ...           56       TYPE_C      4.0\n",
            "6168   147        124     1558  ...           56       TYPE_C      4.0\n",
            "6169   148        124     1558  ...           56       TYPE_C      4.0\n",
            "6170   149        124     1558  ...           56       TYPE_C      4.0\n",
            "6171   150        124     1558  ...           56       TYPE_C      4.0\n",
            "\n",
            "[5 rows x 13 columns]\n",
            "      week  center_id  meal_id  ...  region_code  center_type  op_area\n",
            "6197   148        124     2444  ...           56       TYPE_C      4.0\n",
            "6198   149        124     2444  ...           56       TYPE_C      4.0\n",
            "6199   150        124     2444  ...           56       TYPE_C      4.0\n",
            "6200   152        124     2444  ...           56       TYPE_C      4.0\n",
            "6201   153        124     2444  ...           56       TYPE_C      4.0\n",
            "\n",
            "[5 rows x 13 columns]\n",
            "      week  center_id  meal_id  ...  region_code  center_type  op_area\n",
            "6208   146        124     1525  ...           56       TYPE_C      4.0\n",
            "6209   147        124     1525  ...           56       TYPE_C      4.0\n",
            "6210   148        124     1525  ...           56       TYPE_C      4.0\n",
            "6211   149        124     1525  ...           56       TYPE_C      4.0\n",
            "6212   150        124     1525  ...           56       TYPE_C      4.0\n",
            "\n",
            "[5 rows x 13 columns]\n",
            "      week  center_id  meal_id  ...  region_code  center_type  op_area\n",
            "6226   146        124     2492  ...           56       TYPE_C      4.0\n",
            "6227   147        124     2492  ...           56       TYPE_C      4.0\n",
            "6228   149        124     2492  ...           56       TYPE_C      4.0\n",
            "6229   150        124     2492  ...           56       TYPE_C      4.0\n",
            "6230   151        124     2492  ...           56       TYPE_C      4.0\n",
            "\n",
            "[5 rows x 13 columns]\n",
            "      week  center_id  meal_id  ...  region_code  center_type  op_area\n",
            "6343   146        124     1438  ...           56       TYPE_C      4.0\n",
            "6344   147        124     1438  ...           56       TYPE_C      4.0\n",
            "6345   148        124     1438  ...           56       TYPE_C      4.0\n",
            "6346   149        124     1438  ...           56       TYPE_C      4.0\n",
            "6347   150        124     1438  ...           56       TYPE_C      4.0\n",
            "\n",
            "[5 rows x 13 columns]\n",
            "      week  center_id  meal_id  ...  region_code  center_type  op_area\n",
            "6253   146        124     2664  ...           56       TYPE_C      4.0\n",
            "6254   147        124     2664  ...           56       TYPE_C      4.0\n",
            "6255   148        124     2664  ...           56       TYPE_C      4.0\n",
            "6256   149        124     2664  ...           56       TYPE_C      4.0\n",
            "6257   150        124     2664  ...           56       TYPE_C      4.0\n",
            "\n",
            "[5 rows x 13 columns]\n",
            "      week  center_id  meal_id  ...  region_code  center_type  op_area\n",
            "6291   146        124     1571  ...           56       TYPE_C      4.0\n",
            "6292   147        124     1571  ...           56       TYPE_C      4.0\n",
            "6293   148        124     1571  ...           56       TYPE_C      4.0\n",
            "6294   149        124     1571  ...           56       TYPE_C      4.0\n",
            "6295   150        124     1571  ...           56       TYPE_C      4.0\n",
            "\n",
            "[5 rows x 13 columns]\n"
          ],
          "name": "stdout"
        },
        {
          "output_type": "stream",
          "text": [
            "/usr/local/lib/python3.6/dist-packages/pandas/core/frame.py:3997: SettingWithCopyWarning: \n",
            "A value is trying to be set on a copy of a slice from a DataFrame\n",
            "\n",
            "See the caveats in the documentation: https://pandas.pydata.org/pandas-docs/stable/user_guide/indexing.html#returning-a-view-versus-a-copy\n",
            "  errors=errors,\n"
          ],
          "name": "stderr"
        },
        {
          "output_type": "stream",
          "text": [
            "      week  center_id  meal_id  ...  region_code  center_type  op_area\n",
            "6398   146        152     1885  ...           34       TYPE_B      4.0\n",
            "6399   147        152     1885  ...           34       TYPE_B      4.0\n",
            "6400   148        152     1885  ...           34       TYPE_B      4.0\n",
            "6401   149        152     1885  ...           34       TYPE_B      4.0\n",
            "6402   150        152     1885  ...           34       TYPE_B      4.0\n",
            "\n",
            "[5 rows x 13 columns]\n",
            "      week  center_id  meal_id  ...  region_code  center_type  op_area\n",
            "6506   146        152     2290  ...           34       TYPE_B      4.0\n",
            "6507   147        152     2290  ...           34       TYPE_B      4.0\n",
            "6508   148        152     2290  ...           34       TYPE_B      4.0\n",
            "6509   149        152     2290  ...           34       TYPE_B      4.0\n",
            "6510   150        152     2290  ...           34       TYPE_B      4.0\n",
            "\n",
            "[5 rows x 13 columns]\n",
            "      week  center_id  meal_id  ...  region_code  center_type  op_area\n",
            "6536   146        152     2577  ...           34       TYPE_B      4.0\n",
            "6537   147        152     2577  ...           34       TYPE_B      4.0\n",
            "6538   148        152     2577  ...           34       TYPE_B      4.0\n",
            "6539   149        152     2577  ...           34       TYPE_B      4.0\n",
            "6540   150        152     2577  ...           34       TYPE_B      4.0\n",
            "\n",
            "[5 rows x 13 columns]\n",
            "      week  center_id  meal_id  ...  region_code  center_type  op_area\n",
            "6751   146        152     2306  ...           34       TYPE_B      4.0\n",
            "6752   147        152     2306  ...           34       TYPE_B      4.0\n",
            "6753   148        152     2306  ...           34       TYPE_B      4.0\n",
            "6754   149        152     2306  ...           34       TYPE_B      4.0\n",
            "6755   151        152     2306  ...           34       TYPE_B      4.0\n",
            "\n",
            "[5 rows x 13 columns]\n",
            "      week  center_id  meal_id  ...  region_code  center_type  op_area\n",
            "6556   146        152     2826  ...           34       TYPE_B      4.0\n",
            "6557   147        152     2826  ...           34       TYPE_B      4.0\n",
            "6558   148        152     2826  ...           34       TYPE_B      4.0\n",
            "6559   149        152     2826  ...           34       TYPE_B      4.0\n",
            "6560   150        152     2826  ...           34       TYPE_B      4.0\n",
            "\n",
            "[5 rows x 13 columns]\n",
            "      week  center_id  meal_id  ...  region_code  center_type  op_area\n",
            "6777   146        152     1902  ...           34       TYPE_B      4.0\n",
            "6778   149        152     1902  ...           34       TYPE_B      4.0\n",
            "6779   150        152     1902  ...           34       TYPE_B      4.0\n",
            "6780   151        152     1902  ...           34       TYPE_B      4.0\n",
            "6781   153        152     1902  ...           34       TYPE_B      4.0\n",
            "\n",
            "[5 rows x 13 columns]\n",
            "      week  center_id  meal_id  ...  region_code  center_type  op_area\n",
            "6586   146        152     1558  ...           34       TYPE_B      4.0\n",
            "6587   147        152     1558  ...           34       TYPE_B      4.0\n",
            "6588   148        152     1558  ...           34       TYPE_B      4.0\n",
            "6589   149        152     1558  ...           34       TYPE_B      4.0\n",
            "6590   150        152     1558  ...           34       TYPE_B      4.0\n",
            "\n",
            "[5 rows x 13 columns]\n",
            "      week  center_id  meal_id  ...  region_code  center_type  op_area\n",
            "6616   146        152     2444  ...           34       TYPE_B      4.0\n",
            "6617   147        152     2444  ...           34       TYPE_B      4.0\n",
            "6618   148        152     2444  ...           34       TYPE_B      4.0\n",
            "6619   149        152     2444  ...           34       TYPE_B      4.0\n",
            "6620   150        152     2444  ...           34       TYPE_B      4.0\n",
            "\n",
            "[5 rows x 13 columns]\n",
            "      week  center_id  meal_id  ...  region_code  center_type  op_area\n",
            "6632   146        152     1525  ...           34       TYPE_B      4.0\n",
            "6633   147        152     1525  ...           34       TYPE_B      4.0\n",
            "6634   148        152     1525  ...           34       TYPE_B      4.0\n",
            "6635   149        152     1525  ...           34       TYPE_B      4.0\n",
            "6636   150        152     1525  ...           34       TYPE_B      4.0\n",
            "\n",
            "[5 rows x 13 columns]\n",
            "      week  center_id  meal_id  ...  region_code  center_type  op_area\n",
            "6652   146        152     2492  ...           34       TYPE_B      4.0\n",
            "6653   147        152     2492  ...           34       TYPE_B      4.0\n",
            "6654   148        152     2492  ...           34       TYPE_B      4.0\n",
            "6655   149        152     2492  ...           34       TYPE_B      4.0\n",
            "6656   150        152     2492  ...           34       TYPE_B      4.0\n",
            "\n",
            "[5 rows x 13 columns]\n",
            "      week  center_id  meal_id  ...  region_code  center_type  op_area\n",
            "6682   146        152     2664  ...           34       TYPE_B      4.0\n",
            "6683   147        152     2664  ...           34       TYPE_B      4.0\n",
            "6684   148        152     2664  ...           34       TYPE_B      4.0\n",
            "6685   149        152     2664  ...           34       TYPE_B      4.0\n",
            "6686   150        152     2664  ...           34       TYPE_B      4.0\n",
            "\n",
            "[5 rows x 13 columns]\n",
            "      week  center_id  meal_id  ...  region_code  center_type  op_area\n",
            "6721   146        152     1571  ...           34       TYPE_B      4.0\n",
            "6722   147        152     1571  ...           34       TYPE_B      4.0\n",
            "6723   148        152     1571  ...           34       TYPE_B      4.0\n",
            "6724   149        152     1571  ...           34       TYPE_B      4.0\n",
            "6725   150        152     1571  ...           34       TYPE_B      4.0\n",
            "\n",
            "[5 rows x 13 columns]\n",
            "      week  center_id  meal_id  ...  region_code  center_type  op_area\n",
            "6827   146         97     1885  ...           77       TYPE_A      4.6\n",
            "6828   147         97     1885  ...           77       TYPE_A      4.6\n",
            "6829   148         97     1885  ...           77       TYPE_A      4.6\n",
            "6830   149         97     1885  ...           77       TYPE_A      4.6\n",
            "6831   150         97     1885  ...           77       TYPE_A      4.6\n",
            "\n",
            "[5 rows x 13 columns]\n",
            "      week  center_id  meal_id  ...  region_code  center_type  op_area\n",
            "6936   146         97     2290  ...           77       TYPE_A      4.6\n",
            "6937   147         97     2290  ...           77       TYPE_A      4.6\n",
            "6938   148         97     2290  ...           77       TYPE_A      4.6\n",
            "6939   149         97     2290  ...           77       TYPE_A      4.6\n",
            "6940   150         97     2290  ...           77       TYPE_A      4.6\n",
            "\n",
            "[5 rows x 13 columns]\n"
          ],
          "name": "stdout"
        },
        {
          "output_type": "stream",
          "text": [
            "/usr/local/lib/python3.6/dist-packages/pandas/core/frame.py:3997: SettingWithCopyWarning: \n",
            "A value is trying to be set on a copy of a slice from a DataFrame\n",
            "\n",
            "See the caveats in the documentation: https://pandas.pydata.org/pandas-docs/stable/user_guide/indexing.html#returning-a-view-versus-a-copy\n",
            "  errors=errors,\n"
          ],
          "name": "stderr"
        },
        {
          "output_type": "stream",
          "text": [
            "      week  center_id  meal_id  ...  region_code  center_type  op_area\n",
            "6966   146         97     2577  ...           77       TYPE_A      4.6\n",
            "6967   147         97     2577  ...           77       TYPE_A      4.6\n",
            "6968   148         97     2577  ...           77       TYPE_A      4.6\n",
            "6969   149         97     2577  ...           77       TYPE_A      4.6\n",
            "6970   150         97     2577  ...           77       TYPE_A      4.6\n",
            "\n",
            "[5 rows x 13 columns]\n",
            "      week  center_id  meal_id  ...  region_code  center_type  op_area\n",
            "7172   146         97     2306  ...           77       TYPE_A      4.6\n",
            "7173   147         97     2306  ...           77       TYPE_A      4.6\n",
            "7174   148         97     2306  ...           77       TYPE_A      4.6\n",
            "7175   149         97     2306  ...           77       TYPE_A      4.6\n",
            "7176   150         97     2306  ...           77       TYPE_A      4.6\n",
            "\n",
            "[5 rows x 13 columns]\n",
            "      week  center_id  meal_id  ...  region_code  center_type  op_area\n",
            "6986   146         97     2826  ...           77       TYPE_A      4.6\n",
            "6987   147         97     2826  ...           77       TYPE_A      4.6\n",
            "6988   148         97     2826  ...           77       TYPE_A      4.6\n",
            "6989   149         97     2826  ...           77       TYPE_A      4.6\n",
            "6990   150         97     2826  ...           77       TYPE_A      4.6\n",
            "\n",
            "[5 rows x 13 columns]\n",
            "      week  center_id  meal_id  ...  region_code  center_type  op_area\n",
            "7200   146         97     1902  ...           77       TYPE_A      4.6\n",
            "7201   147         97     1902  ...           77       TYPE_A      4.6\n",
            "7202   148         97     1902  ...           77       TYPE_A      4.6\n",
            "7203   149         97     1902  ...           77       TYPE_A      4.6\n",
            "7204   150         97     1902  ...           77       TYPE_A      4.6\n",
            "\n",
            "[5 rows x 13 columns]\n",
            "      week  center_id  meal_id  ...  region_code  center_type  op_area\n",
            "7016   146         97     1558  ...           77       TYPE_A      4.6\n",
            "7017   147         97     1558  ...           77       TYPE_A      4.6\n",
            "7018   148         97     1558  ...           77       TYPE_A      4.6\n",
            "7019   149         97     1558  ...           77       TYPE_A      4.6\n",
            "7020   150         97     1558  ...           77       TYPE_A      4.6\n",
            "\n",
            "[5 rows x 13 columns]\n",
            "      week  center_id  meal_id  ...  region_code  center_type  op_area\n",
            "7046   146         97     2444  ...           77       TYPE_A      4.6\n",
            "7047   147         97     2444  ...           77       TYPE_A      4.6\n",
            "7048   148         97     2444  ...           77       TYPE_A      4.6\n",
            "7049   149         97     2444  ...           77       TYPE_A      4.6\n",
            "7050   150         97     2444  ...           77       TYPE_A      4.6\n",
            "\n",
            "[5 rows x 13 columns]\n",
            "      week  center_id  meal_id  ...  region_code  center_type  op_area\n",
            "7066   146         97     1525  ...           77       TYPE_A      4.6\n",
            "7067   147         97     1525  ...           77       TYPE_A      4.6\n",
            "7068   148         97     1525  ...           77       TYPE_A      4.6\n",
            "7069   149         97     1525  ...           77       TYPE_A      4.6\n",
            "7070   150         97     1525  ...           77       TYPE_A      4.6\n",
            "\n",
            "[5 rows x 13 columns]\n",
            "      week  center_id  meal_id  ...  region_code  center_type  op_area\n",
            "7086   146         97     2492  ...           77       TYPE_A      4.6\n",
            "7087   147         97     2492  ...           77       TYPE_A      4.6\n",
            "7088   148         97     2492  ...           77       TYPE_A      4.6\n",
            "7089   149         97     2492  ...           77       TYPE_A      4.6\n",
            "7090   150         97     2492  ...           77       TYPE_A      4.6\n",
            "\n",
            "[5 rows x 13 columns]\n",
            "      week  center_id  meal_id  ...  region_code  center_type  op_area\n",
            "7112   146         97     2664  ...           77       TYPE_A      4.6\n",
            "7113   147         97     2664  ...           77       TYPE_A      4.6\n",
            "7114   148         97     2664  ...           77       TYPE_A      4.6\n",
            "7115   149         97     2664  ...           77       TYPE_A      4.6\n",
            "7116   150         97     2664  ...           77       TYPE_A      4.6\n",
            "\n",
            "[5 rows x 13 columns]\n",
            "      week  center_id  meal_id  ...  region_code  center_type  op_area\n",
            "7152   146         97     1571  ...           77       TYPE_A      4.6\n",
            "7153   147         97     1571  ...           77       TYPE_A      4.6\n",
            "7154   148         97     1571  ...           77       TYPE_A      4.6\n",
            "7155   149         97     1571  ...           77       TYPE_A      4.6\n",
            "7156   150         97     1571  ...           77       TYPE_A      4.6\n",
            "\n",
            "[5 rows x 13 columns]\n",
            "      week  center_id  meal_id  ...  region_code  center_type  op_area\n",
            "7256   146         74     1885  ...           35       TYPE_A      2.8\n",
            "7257   147         74     1885  ...           35       TYPE_A      2.8\n",
            "7258   148         74     1885  ...           35       TYPE_A      2.8\n",
            "7259   149         74     1885  ...           35       TYPE_A      2.8\n",
            "7260   150         74     1885  ...           35       TYPE_A      2.8\n",
            "\n",
            "[5 rows x 13 columns]\n"
          ],
          "name": "stdout"
        },
        {
          "output_type": "stream",
          "text": [
            "/usr/local/lib/python3.6/dist-packages/pandas/core/frame.py:3997: SettingWithCopyWarning: \n",
            "A value is trying to be set on a copy of a slice from a DataFrame\n",
            "\n",
            "See the caveats in the documentation: https://pandas.pydata.org/pandas-docs/stable/user_guide/indexing.html#returning-a-view-versus-a-copy\n",
            "  errors=errors,\n"
          ],
          "name": "stderr"
        },
        {
          "output_type": "stream",
          "text": [
            "      week  center_id  meal_id  ...  region_code  center_type  op_area\n",
            "7363   146         74     2290  ...           35       TYPE_A      2.8\n",
            "7364   147         74     2290  ...           35       TYPE_A      2.8\n",
            "7365   148         74     2290  ...           35       TYPE_A      2.8\n",
            "7366   149         74     2290  ...           35       TYPE_A      2.8\n",
            "7367   150         74     2290  ...           35       TYPE_A      2.8\n",
            "\n",
            "[5 rows x 13 columns]\n",
            "      week  center_id  meal_id  ...  region_code  center_type  op_area\n",
            "7393   146         74     2640  ...           35       TYPE_A      2.8\n",
            "7394   147         74     2640  ...           35       TYPE_A      2.8\n",
            "7395   148         74     2640  ...           35       TYPE_A      2.8\n",
            "7396   149         74     2640  ...           35       TYPE_A      2.8\n",
            "7397   150         74     2640  ...           35       TYPE_A      2.8\n",
            "\n",
            "[5 rows x 13 columns]\n",
            "      week  center_id  meal_id  ...  region_code  center_type  op_area\n",
            "7576   146         74     2306  ...           35       TYPE_A      2.8\n",
            "7577   147         74     2306  ...           35       TYPE_A      2.8\n",
            "7578   148         74     2306  ...           35       TYPE_A      2.8\n",
            "7579   149         74     2306  ...           35       TYPE_A      2.8\n",
            "7580   150         74     2306  ...           35       TYPE_A      2.8\n",
            "\n",
            "[5 rows x 13 columns]\n",
            "      week  center_id  meal_id  ...  region_code  center_type  op_area\n",
            "7403   146         74     2826  ...           35       TYPE_A      2.8\n",
            "7404   147         74     2826  ...           35       TYPE_A      2.8\n",
            "7405   148         74     2826  ...           35       TYPE_A      2.8\n",
            "7406   149         74     2826  ...           35       TYPE_A      2.8\n",
            "7407   150         74     2826  ...           35       TYPE_A      2.8\n",
            "\n",
            "[5 rows x 13 columns]\n",
            "      week  center_id  meal_id  ...  region_code  center_type  op_area\n",
            "7597   148         74     1902  ...           35       TYPE_A      2.8\n",
            "7598   149         74     1902  ...           35       TYPE_A      2.8\n",
            "7599   150         74     1902  ...           35       TYPE_A      2.8\n",
            "7600   151         74     1902  ...           35       TYPE_A      2.8\n",
            "7601   152         74     1902  ...           35       TYPE_A      2.8\n",
            "\n",
            "[5 rows x 13 columns]\n",
            "      week  center_id  meal_id  ...  region_code  center_type  op_area\n",
            "7433   146         74     1558  ...           35       TYPE_A      2.8\n",
            "7434   147         74     1558  ...           35       TYPE_A      2.8\n",
            "7435   148         74     1558  ...           35       TYPE_A      2.8\n",
            "7436   149         74     1558  ...           35       TYPE_A      2.8\n",
            "7437   150         74     1558  ...           35       TYPE_A      2.8\n",
            "\n",
            "[5 rows x 13 columns]\n",
            "      week  center_id  meal_id  ...  region_code  center_type  op_area\n",
            "7463   147         74     2444  ...           35       TYPE_A      2.8\n",
            "7464   148         74     2444  ...           35       TYPE_A      2.8\n",
            "7465   149         74     2444  ...           35       TYPE_A      2.8\n",
            "7466   150         74     2444  ...           35       TYPE_A      2.8\n",
            "7467   151         74     2444  ...           35       TYPE_A      2.8\n",
            "\n",
            "[5 rows x 13 columns]\n",
            "      week  center_id  meal_id  ...  region_code  center_type  op_area\n",
            "7474   147         74     1525  ...           35       TYPE_A      2.8\n",
            "7475   148         74     1525  ...           35       TYPE_A      2.8\n",
            "7476   149         74     1525  ...           35       TYPE_A      2.8\n",
            "7477   150         74     1525  ...           35       TYPE_A      2.8\n",
            "7478   151         74     1525  ...           35       TYPE_A      2.8\n",
            "\n",
            "[5 rows x 13 columns]\n",
            "      week  center_id  meal_id  ...  region_code  center_type  op_area\n",
            "7490   147         74     2492  ...           35       TYPE_A      2.8\n",
            "7491   148         74     2492  ...           35       TYPE_A      2.8\n",
            "7492   149         74     2492  ...           35       TYPE_A      2.8\n",
            "7493   150         74     2492  ...           35       TYPE_A      2.8\n",
            "7494   151         74     2492  ...           35       TYPE_A      2.8\n",
            "\n",
            "[5 rows x 13 columns]\n",
            "      week  center_id  meal_id  ...  region_code  center_type  op_area\n",
            "7512   146         74     2664  ...           35       TYPE_A      2.8\n",
            "7513   147         74     2664  ...           35       TYPE_A      2.8\n",
            "7514   148         74     2664  ...           35       TYPE_A      2.8\n",
            "7515   149         74     2664  ...           35       TYPE_A      2.8\n",
            "7516   150         74     2664  ...           35       TYPE_A      2.8\n",
            "\n",
            "[5 rows x 13 columns]\n",
            "      week  center_id  meal_id  ...  region_code  center_type  op_area\n",
            "7549   146         74     1571  ...           35       TYPE_A      2.8\n",
            "7550   148         74     1571  ...           35       TYPE_A      2.8\n",
            "7551   149         74     1571  ...           35       TYPE_A      2.8\n",
            "7552   150         74     1571  ...           35       TYPE_A      2.8\n",
            "7553   151         74     1571  ...           35       TYPE_A      2.8\n",
            "\n",
            "[5 rows x 13 columns]\n",
            "      week  center_id  meal_id  ...  region_code  center_type  op_area\n",
            "7626   146        108     1885  ...           56       TYPE_B      4.4\n",
            "7627   147        108     1885  ...           56       TYPE_B      4.4\n",
            "7628   148        108     1885  ...           56       TYPE_B      4.4\n",
            "7629   149        108     1885  ...           56       TYPE_B      4.4\n",
            "7630   150        108     1885  ...           56       TYPE_B      4.4\n",
            "\n",
            "[5 rows x 13 columns]\n"
          ],
          "name": "stdout"
        },
        {
          "output_type": "stream",
          "text": [
            "/usr/local/lib/python3.6/dist-packages/pandas/core/frame.py:3997: SettingWithCopyWarning: \n",
            "A value is trying to be set on a copy of a slice from a DataFrame\n",
            "\n",
            "See the caveats in the documentation: https://pandas.pydata.org/pandas-docs/stable/user_guide/indexing.html#returning-a-view-versus-a-copy\n",
            "  errors=errors,\n"
          ],
          "name": "stderr"
        },
        {
          "output_type": "stream",
          "text": [
            "      week  center_id  meal_id  ...  region_code  center_type  op_area\n",
            "7734   146        108     2290  ...           56       TYPE_B      4.4\n",
            "7735   147        108     2290  ...           56       TYPE_B      4.4\n",
            "7736   148        108     2290  ...           56       TYPE_B      4.4\n",
            "7737   149        108     2290  ...           56       TYPE_B      4.4\n",
            "7738   150        108     2290  ...           56       TYPE_B      4.4\n",
            "\n",
            "[5 rows x 13 columns]\n",
            "      week  center_id  meal_id  ...  region_code  center_type  op_area\n",
            "7764   146        108     2577  ...           56       TYPE_B      4.4\n",
            "7765   147        108     2577  ...           56       TYPE_B      4.4\n",
            "7766   148        108     2577  ...           56       TYPE_B      4.4\n",
            "7767   149        108     2577  ...           56       TYPE_B      4.4\n",
            "7768   150        108     2577  ...           56       TYPE_B      4.4\n",
            "\n",
            "[5 rows x 13 columns]\n",
            "      week  center_id  meal_id  ...  region_code  center_type  op_area\n",
            "8009   146        108     2306  ...           56       TYPE_B      4.4\n",
            "8010   147        108     2306  ...           56       TYPE_B      4.4\n",
            "8011   148        108     2306  ...           56       TYPE_B      4.4\n",
            "8012   149        108     2306  ...           56       TYPE_B      4.4\n",
            "8013   150        108     2306  ...           56       TYPE_B      4.4\n",
            "\n",
            "[5 rows x 13 columns]\n",
            "      week  center_id  meal_id  ...  region_code  center_type  op_area\n",
            "7784   146        108     2826  ...           56       TYPE_B      4.4\n",
            "7785   147        108     2826  ...           56       TYPE_B      4.4\n",
            "7786   148        108     2826  ...           56       TYPE_B      4.4\n",
            "7787   149        108     2826  ...           56       TYPE_B      4.4\n",
            "7788   150        108     2826  ...           56       TYPE_B      4.4\n",
            "\n",
            "[5 rows x 13 columns]\n",
            "      week  center_id  meal_id  ...  region_code  center_type  op_area\n",
            "8037   146        108     1902  ...           56       TYPE_B      4.4\n",
            "8038   147        108     1902  ...           56       TYPE_B      4.4\n",
            "8039   148        108     1902  ...           56       TYPE_B      4.4\n",
            "8040   150        108     1902  ...           56       TYPE_B      4.4\n",
            "8041   151        108     1902  ...           56       TYPE_B      4.4\n",
            "\n",
            "[5 rows x 13 columns]\n",
            "      week  center_id  meal_id  ...  region_code  center_type  op_area\n",
            "7814   146        108     1198  ...           56       TYPE_B      4.4\n",
            "7815   147        108     1198  ...           56       TYPE_B      4.4\n",
            "7816   148        108     1198  ...           56       TYPE_B      4.4\n",
            "7817   149        108     1198  ...           56       TYPE_B      4.4\n",
            "7818   150        108     1198  ...           56       TYPE_B      4.4\n",
            "\n",
            "[5 rows x 13 columns]\n",
            "      week  center_id  meal_id  ...  region_code  center_type  op_area\n",
            "7844   146        108     1558  ...           56       TYPE_B      4.4\n",
            "7845   147        108     1558  ...           56       TYPE_B      4.4\n",
            "7846   148        108     1558  ...           56       TYPE_B      4.4\n",
            "7847   149        108     1558  ...           56       TYPE_B      4.4\n",
            "7848   150        108     1558  ...           56       TYPE_B      4.4\n",
            "\n",
            "[5 rows x 13 columns]\n",
            "      week  center_id  meal_id  ...  region_code  center_type  op_area\n",
            "7874   147        108     2444  ...           56       TYPE_B      4.4\n",
            "7875   148        108     2444  ...           56       TYPE_B      4.4\n",
            "7876   149        108     2444  ...           56       TYPE_B      4.4\n",
            "7877   150        108     2444  ...           56       TYPE_B      4.4\n",
            "7878   151        108     2444  ...           56       TYPE_B      4.4\n",
            "\n",
            "[5 rows x 13 columns]\n",
            "      week  center_id  meal_id  ...  region_code  center_type  op_area\n",
            "7893   146        108     1525  ...           56       TYPE_B      4.4\n",
            "7894   147        108     1525  ...           56       TYPE_B      4.4\n",
            "7895   148        108     1525  ...           56       TYPE_B      4.4\n",
            "7896   149        108     1525  ...           56       TYPE_B      4.4\n",
            "7897   150        108     1525  ...           56       TYPE_B      4.4\n",
            "\n",
            "[5 rows x 13 columns]\n",
            "      week  center_id  meal_id  ...  region_code  center_type  op_area\n",
            "7913   146        108     2492  ...           56       TYPE_B      4.4\n",
            "7914   148        108     2492  ...           56       TYPE_B      4.4\n",
            "7915   149        108     2492  ...           56       TYPE_B      4.4\n",
            "7916   150        108     2492  ...           56       TYPE_B      4.4\n",
            "7917   151        108     2492  ...           56       TYPE_B      4.4\n",
            "\n",
            "[5 rows x 13 columns]\n",
            "      week  center_id  meal_id  ...  region_code  center_type  op_area\n",
            "8054   146        108     1438  ...           56       TYPE_B      4.4\n",
            "8055   147        108     1438  ...           56       TYPE_B      4.4\n",
            "8056   148        108     1438  ...           56       TYPE_B      4.4\n",
            "8057   149        108     1438  ...           56       TYPE_B      4.4\n",
            "8058   150        108     1438  ...           56       TYPE_B      4.4\n",
            "\n",
            "[5 rows x 13 columns]\n",
            "      week  center_id  meal_id  ...  region_code  center_type  op_area\n",
            "7942   146        108     2664  ...           56       TYPE_B      4.4\n",
            "7943   147        108     2664  ...           56       TYPE_B      4.4\n",
            "7944   148        108     2664  ...           56       TYPE_B      4.4\n",
            "7945   149        108     2664  ...           56       TYPE_B      4.4\n",
            "7946   150        108     2664  ...           56       TYPE_B      4.4\n",
            "\n",
            "[5 rows x 13 columns]\n",
            "      week  center_id  meal_id  ...  region_code  center_type  op_area\n",
            "7979   146        108     1571  ...           56       TYPE_B      4.4\n",
            "7980   147        108     1571  ...           56       TYPE_B      4.4\n",
            "7981   148        108     1571  ...           56       TYPE_B      4.4\n",
            "7982   149        108     1571  ...           56       TYPE_B      4.4\n",
            "7983   150        108     1571  ...           56       TYPE_B      4.4\n",
            "\n",
            "[5 rows x 13 columns]\n",
            "      week  center_id  meal_id  ...  region_code  center_type  op_area\n",
            "8113   146         99     1885  ...           71       TYPE_A      4.5\n",
            "8114   147         99     1885  ...           71       TYPE_A      4.5\n",
            "8115   148         99     1885  ...           71       TYPE_A      4.5\n",
            "8116   149         99     1885  ...           71       TYPE_A      4.5\n",
            "8117   150         99     1885  ...           71       TYPE_A      4.5\n",
            "\n",
            "[5 rows x 13 columns]\n",
            "      week  center_id  meal_id  ...  region_code  center_type  op_area\n",
            "8223   146         99     2290  ...           71       TYPE_A      4.5\n",
            "8224   147         99     2290  ...           71       TYPE_A      4.5\n",
            "8225   148         99     2290  ...           71       TYPE_A      4.5\n",
            "8226   149         99     2290  ...           71       TYPE_A      4.5\n",
            "8227   150         99     2290  ...           71       TYPE_A      4.5\n",
            "\n",
            "[5 rows x 13 columns]\n"
          ],
          "name": "stdout"
        },
        {
          "output_type": "stream",
          "text": [
            "/usr/local/lib/python3.6/dist-packages/pandas/core/frame.py:3997: SettingWithCopyWarning: \n",
            "A value is trying to be set on a copy of a slice from a DataFrame\n",
            "\n",
            "See the caveats in the documentation: https://pandas.pydata.org/pandas-docs/stable/user_guide/indexing.html#returning-a-view-versus-a-copy\n",
            "  errors=errors,\n"
          ],
          "name": "stderr"
        },
        {
          "output_type": "stream",
          "text": [
            "      week  center_id  meal_id  ...  region_code  center_type  op_area\n",
            "8253   146         99     2577  ...           71       TYPE_A      4.5\n",
            "8254   147         99     2577  ...           71       TYPE_A      4.5\n",
            "8255   148         99     2577  ...           71       TYPE_A      4.5\n",
            "8256   149         99     2577  ...           71       TYPE_A      4.5\n",
            "8257   150         99     2577  ...           71       TYPE_A      4.5\n",
            "\n",
            "[5 rows x 13 columns]\n",
            "      week  center_id  meal_id  ...  region_code  center_type  op_area\n",
            "8490   146         99     2306  ...           71       TYPE_A      4.5\n",
            "8491   147         99     2306  ...           71       TYPE_A      4.5\n",
            "8492   148         99     2306  ...           71       TYPE_A      4.5\n",
            "8493   149         99     2306  ...           71       TYPE_A      4.5\n",
            "8494   151         99     2306  ...           71       TYPE_A      4.5\n",
            "\n",
            "[5 rows x 13 columns]\n",
            "      week  center_id  meal_id  ...  region_code  center_type  op_area\n",
            "8273   146         99     2826  ...           71       TYPE_A      4.5\n",
            "8274   147         99     2826  ...           71       TYPE_A      4.5\n",
            "8275   148         99     2826  ...           71       TYPE_A      4.5\n",
            "8276   149         99     2826  ...           71       TYPE_A      4.5\n",
            "8277   150         99     2826  ...           71       TYPE_A      4.5\n",
            "\n",
            "[5 rows x 13 columns]\n",
            "      week  center_id  meal_id  ...  region_code  center_type  op_area\n",
            "8512   146         99     1902  ...           71       TYPE_A      4.5\n",
            "8513   147         99     1902  ...           71       TYPE_A      4.5\n",
            "8514   148         99     1902  ...           71       TYPE_A      4.5\n",
            "8515   149         99     1902  ...           71       TYPE_A      4.5\n",
            "8516   150         99     1902  ...           71       TYPE_A      4.5\n",
            "\n",
            "[5 rows x 13 columns]\n",
            "      week  center_id  meal_id  ...  region_code  center_type  op_area\n",
            "8303   146         99     1198  ...           71       TYPE_A      4.5\n",
            "8304   148         99     1198  ...           71       TYPE_A      4.5\n",
            "8305   149         99     1198  ...           71       TYPE_A      4.5\n",
            "8306   150         99     1198  ...           71       TYPE_A      4.5\n",
            "8307   151         99     1198  ...           71       TYPE_A      4.5\n",
            "\n",
            "[5 rows x 13 columns]\n",
            "      week  center_id  meal_id  ...  region_code  center_type  op_area\n",
            "8332   146         99     1558  ...           71       TYPE_A      4.5\n",
            "8333   147         99     1558  ...           71       TYPE_A      4.5\n",
            "8334   148         99     1558  ...           71       TYPE_A      4.5\n",
            "8335   149         99     1558  ...           71       TYPE_A      4.5\n",
            "8336   150         99     1558  ...           71       TYPE_A      4.5\n",
            "\n",
            "[5 rows x 13 columns]\n",
            "      week  center_id  meal_id  ...  region_code  center_type  op_area\n",
            "8362   147         99     2444  ...           71       TYPE_A      4.5\n",
            "8363   148         99     2444  ...           71       TYPE_A      4.5\n",
            "8364   149         99     2444  ...           71       TYPE_A      4.5\n",
            "8365   150         99     2444  ...           71       TYPE_A      4.5\n",
            "8366   151         99     2444  ...           71       TYPE_A      4.5\n",
            "\n",
            "[5 rows x 13 columns]\n",
            "      week  center_id  meal_id  ...  region_code  center_type  op_area\n",
            "8374   146         99     1525  ...           71       TYPE_A      4.5\n",
            "8375   147         99     1525  ...           71       TYPE_A      4.5\n",
            "8376   148         99     1525  ...           71       TYPE_A      4.5\n",
            "8377   149         99     1525  ...           71       TYPE_A      4.5\n",
            "8378   150         99     1525  ...           71       TYPE_A      4.5\n",
            "\n",
            "[5 rows x 13 columns]\n",
            "      week  center_id  meal_id  ...  region_code  center_type  op_area\n",
            "8394   146         99     2492  ...           71       TYPE_A      4.5\n",
            "8395   147         99     2492  ...           71       TYPE_A      4.5\n",
            "8396   148         99     2492  ...           71       TYPE_A      4.5\n",
            "8397   149         99     2492  ...           71       TYPE_A      4.5\n",
            "8398   150         99     2492  ...           71       TYPE_A      4.5\n",
            "\n",
            "[5 rows x 13 columns]\n",
            "      week  center_id  meal_id  ...  region_code  center_type  op_area\n",
            "8529   146         99     1438  ...           71       TYPE_A      4.5\n",
            "8530   147         99     1438  ...           71       TYPE_A      4.5\n",
            "8531   148         99     1438  ...           71       TYPE_A      4.5\n",
            "8532   149         99     1438  ...           71       TYPE_A      4.5\n",
            "8533   150         99     1438  ...           71       TYPE_A      4.5\n",
            "\n",
            "[5 rows x 13 columns]\n",
            "      week  center_id  meal_id  ...  region_code  center_type  op_area\n",
            "8423   146         99     2664  ...           71       TYPE_A      4.5\n",
            "8424   147         99     2664  ...           71       TYPE_A      4.5\n",
            "8425   148         99     2664  ...           71       TYPE_A      4.5\n",
            "8426   149         99     2664  ...           71       TYPE_A      4.5\n",
            "8427   150         99     2664  ...           71       TYPE_A      4.5\n",
            "\n",
            "[5 rows x 13 columns]\n",
            "      week  center_id  meal_id  ...  region_code  center_type  op_area\n",
            "8462   146         99     1571  ...           71       TYPE_A      4.5\n",
            "8463   147         99     1571  ...           71       TYPE_A      4.5\n",
            "8464   148         99     1571  ...           71       TYPE_A      4.5\n",
            "8465   150         99     1571  ...           71       TYPE_A      4.5\n",
            "8466   151         99     1571  ...           71       TYPE_A      4.5\n",
            "\n",
            "[5 rows x 13 columns]\n"
          ],
          "name": "stdout"
        },
        {
          "output_type": "stream",
          "text": [
            "/usr/local/lib/python3.6/dist-packages/pandas/core/frame.py:3997: SettingWithCopyWarning: \n",
            "A value is trying to be set on a copy of a slice from a DataFrame\n",
            "\n",
            "See the caveats in the documentation: https://pandas.pydata.org/pandas-docs/stable/user_guide/indexing.html#returning-a-view-versus-a-copy\n",
            "  errors=errors,\n"
          ],
          "name": "stderr"
        },
        {
          "output_type": "stream",
          "text": [
            "      week  center_id  meal_id  ...  region_code  center_type  op_area\n",
            "8581   146         66     1885  ...           34       TYPE_A      4.1\n",
            "8582   147         66     1885  ...           34       TYPE_A      4.1\n",
            "8583   148         66     1885  ...           34       TYPE_A      4.1\n",
            "8584   149         66     1885  ...           34       TYPE_A      4.1\n",
            "8585   150         66     1885  ...           34       TYPE_A      4.1\n",
            "\n",
            "[5 rows x 13 columns]\n",
            "      week  center_id  meal_id  ...  region_code  center_type  op_area\n",
            "8691   146         66     2290  ...           34       TYPE_A      4.1\n",
            "8692   147         66     2290  ...           34       TYPE_A      4.1\n",
            "8693   148         66     2290  ...           34       TYPE_A      4.1\n",
            "8694   149         66     2290  ...           34       TYPE_A      4.1\n",
            "8695   150         66     2290  ...           34       TYPE_A      4.1\n",
            "\n",
            "[5 rows x 13 columns]\n",
            "      week  center_id  meal_id  ...  region_code  center_type  op_area\n",
            "8721   146         66     2577  ...           34       TYPE_A      4.1\n",
            "8722   147         66     2577  ...           34       TYPE_A      4.1\n",
            "8723   148         66     2577  ...           34       TYPE_A      4.1\n",
            "8724   149         66     2577  ...           34       TYPE_A      4.1\n",
            "8725   150         66     2577  ...           34       TYPE_A      4.1\n",
            "\n",
            "[5 rows x 13 columns]\n",
            "      week  center_id  meal_id  ...  region_code  center_type  op_area\n",
            "8937   146         66     2306  ...           34       TYPE_A      4.1\n",
            "8938   147         66     2306  ...           34       TYPE_A      4.1\n",
            "8939   148         66     2306  ...           34       TYPE_A      4.1\n",
            "8940   149         66     2306  ...           34       TYPE_A      4.1\n",
            "8941   150         66     2306  ...           34       TYPE_A      4.1\n",
            "\n",
            "[5 rows x 13 columns]\n",
            "      week  center_id  meal_id  ...  region_code  center_type  op_area\n",
            "8741   146         66     2826  ...           34       TYPE_A      4.1\n",
            "8742   147         66     2826  ...           34       TYPE_A      4.1\n",
            "8743   148         66     2826  ...           34       TYPE_A      4.1\n",
            "8744   149         66     2826  ...           34       TYPE_A      4.1\n",
            "8745   150         66     2826  ...           34       TYPE_A      4.1\n",
            "\n",
            "[5 rows x 13 columns]\n",
            "      week  center_id  meal_id  ...  region_code  center_type  op_area\n",
            "8967   149         66     1902  ...           34       TYPE_A      4.1\n",
            "8968   150         66     1902  ...           34       TYPE_A      4.1\n",
            "8969   153         66     1902  ...           34       TYPE_A      4.1\n",
            "8970   154         66     1902  ...           34       TYPE_A      4.1\n",
            "8971   146         66     1770  ...           34       TYPE_A      4.1\n",
            "\n",
            "[5 rows x 13 columns]\n",
            "      week  center_id  meal_id  ...  region_code  center_type  op_area\n",
            "8771   146         66     1558  ...           34       TYPE_A      4.1\n",
            "8772   147         66     1558  ...           34       TYPE_A      4.1\n",
            "8773   148         66     1558  ...           34       TYPE_A      4.1\n",
            "8774   149         66     1558  ...           34       TYPE_A      4.1\n",
            "8775   150         66     1558  ...           34       TYPE_A      4.1\n",
            "\n",
            "[5 rows x 13 columns]\n",
            "      week  center_id  meal_id  ...  region_code  center_type  op_area\n",
            "8801   146         66     2444  ...           34       TYPE_A      4.1\n",
            "8802   147         66     2444  ...           34       TYPE_A      4.1\n",
            "8803   148         66     2444  ...           34       TYPE_A      4.1\n",
            "8804   149         66     2444  ...           34       TYPE_A      4.1\n",
            "8805   150         66     2444  ...           34       TYPE_A      4.1\n",
            "\n",
            "[5 rows x 13 columns]\n",
            "      week  center_id  meal_id  ...  region_code  center_type  op_area\n",
            "8819   146         66     1525  ...           34       TYPE_A      4.1\n",
            "8820   147         66     1525  ...           34       TYPE_A      4.1\n",
            "8821   148         66     1525  ...           34       TYPE_A      4.1\n",
            "8822   149         66     1525  ...           34       TYPE_A      4.1\n",
            "8823   150         66     1525  ...           34       TYPE_A      4.1\n",
            "\n",
            "[5 rows x 13 columns]\n",
            "      week  center_id  meal_id  ...  region_code  center_type  op_area\n",
            "8839   146         66     2492  ...           34       TYPE_A      4.1\n",
            "8840   147         66     2492  ...           34       TYPE_A      4.1\n",
            "8841   148         66     2492  ...           34       TYPE_A      4.1\n",
            "8842   149         66     2492  ...           34       TYPE_A      4.1\n",
            "8843   150         66     2492  ...           34       TYPE_A      4.1\n",
            "\n",
            "[5 rows x 13 columns]\n",
            "      week  center_id  meal_id  ...  region_code  center_type  op_area\n",
            "8868   146         66     2664  ...           34       TYPE_A      4.1\n",
            "8869   147         66     2664  ...           34       TYPE_A      4.1\n",
            "8870   148         66     2664  ...           34       TYPE_A      4.1\n",
            "8871   149         66     2664  ...           34       TYPE_A      4.1\n",
            "8872   150         66     2664  ...           34       TYPE_A      4.1\n",
            "\n",
            "[5 rows x 13 columns]\n",
            "      week  center_id  meal_id  ...  region_code  center_type  op_area\n",
            "8908   146         66     1571  ...           34       TYPE_A      4.1\n",
            "8909   147         66     1571  ...           34       TYPE_A      4.1\n",
            "8910   148         66     1571  ...           34       TYPE_A      4.1\n",
            "8911   149         66     1571  ...           34       TYPE_A      4.1\n",
            "8912   150         66     1571  ...           34       TYPE_A      4.1\n",
            "\n",
            "[5 rows x 13 columns]\n",
            "      week  center_id  meal_id  ...  region_code  center_type  op_area\n",
            "9017   146         94     1885  ...           34       TYPE_C      3.6\n",
            "9018   147         94     1885  ...           34       TYPE_C      3.6\n",
            "9019   148         94     1885  ...           34       TYPE_C      3.6\n",
            "9020   149         94     1885  ...           34       TYPE_C      3.6\n",
            "9021   150         94     1885  ...           34       TYPE_C      3.6\n",
            "\n",
            "[5 rows x 13 columns]\n",
            "      week  center_id  meal_id  ...  region_code  center_type  op_area\n",
            "9126   146         94     2290  ...           34       TYPE_C      3.6\n",
            "9127   147         94     2290  ...           34       TYPE_C      3.6\n",
            "9128   148         94     2290  ...           34       TYPE_C      3.6\n",
            "9129   149         94     2290  ...           34       TYPE_C      3.6\n",
            "9130   150         94     2290  ...           34       TYPE_C      3.6\n",
            "\n",
            "[5 rows x 13 columns]\n"
          ],
          "name": "stdout"
        },
        {
          "output_type": "stream",
          "text": [
            "/usr/local/lib/python3.6/dist-packages/pandas/core/frame.py:3997: SettingWithCopyWarning: \n",
            "A value is trying to be set on a copy of a slice from a DataFrame\n",
            "\n",
            "See the caveats in the documentation: https://pandas.pydata.org/pandas-docs/stable/user_guide/indexing.html#returning-a-view-versus-a-copy\n",
            "  errors=errors,\n"
          ],
          "name": "stderr"
        },
        {
          "output_type": "stream",
          "text": [
            "      week  center_id  meal_id  ...  region_code  center_type  op_area\n",
            "9156   146         94     2640  ...           34       TYPE_C      3.6\n",
            "9157   148         94     2640  ...           34       TYPE_C      3.6\n",
            "9158   149         94     2640  ...           34       TYPE_C      3.6\n",
            "9159   150         94     2640  ...           34       TYPE_C      3.6\n",
            "9160   151         94     2640  ...           34       TYPE_C      3.6\n",
            "\n",
            "[5 rows x 13 columns]\n",
            "      week  center_id  meal_id  ...  region_code  center_type  op_area\n",
            "9332   147         94     2306  ...           34       TYPE_C      3.6\n",
            "9333   148         94     2306  ...           34       TYPE_C      3.6\n",
            "9334   149         94     2306  ...           34       TYPE_C      3.6\n",
            "9335   150         94     2306  ...           34       TYPE_C      3.6\n",
            "9336   151         94     2306  ...           34       TYPE_C      3.6\n",
            "\n",
            "[5 rows x 13 columns]\n",
            "      week  center_id  meal_id  ...  region_code  center_type  op_area\n",
            "9165   146         94     2826  ...           34       TYPE_C      3.6\n",
            "9166   147         94     2826  ...           34       TYPE_C      3.6\n",
            "9167   148         94     2826  ...           34       TYPE_C      3.6\n",
            "9168   149         94     2826  ...           34       TYPE_C      3.6\n",
            "9169   150         94     2826  ...           34       TYPE_C      3.6\n",
            "\n",
            "[5 rows x 13 columns]\n",
            "      week  center_id  meal_id  ...  region_code  center_type  op_area\n",
            "9356   147         94     1770  ...           34       TYPE_C      3.6\n",
            "9357   149         94     1770  ...           34       TYPE_C      3.6\n",
            "9358   154         94     1770  ...           34       TYPE_C      3.6\n",
            "9376   146         94     1247  ...           34       TYPE_C      3.6\n",
            "9377   147         94     1247  ...           34       TYPE_C      3.6\n",
            "\n",
            "[5 rows x 13 columns]\n",
            "      week  center_id  meal_id  ...  region_code  center_type  op_area\n",
            "9195   146         94     1558  ...           34       TYPE_C      3.6\n",
            "9196   147         94     1558  ...           34       TYPE_C      3.6\n",
            "9197   148         94     1558  ...           34       TYPE_C      3.6\n",
            "9198   149         94     1558  ...           34       TYPE_C      3.6\n",
            "9199   150         94     1558  ...           34       TYPE_C      3.6\n",
            "\n",
            "[5 rows x 13 columns]\n",
            "      week  center_id  meal_id  ...  region_code  center_type  op_area\n",
            "9225   148         94     2444  ...           34       TYPE_C      3.6\n",
            "9226   149         94     2444  ...           34       TYPE_C      3.6\n",
            "9227   151         94     2444  ...           34       TYPE_C      3.6\n",
            "9228   153         94     2444  ...           34       TYPE_C      3.6\n",
            "9229   155         94     2444  ...           34       TYPE_C      3.6\n",
            "\n",
            "[5 rows x 13 columns]\n",
            "      week  center_id  meal_id  ...  region_code  center_type  op_area\n",
            "9236   146         94     1525  ...           34       TYPE_C      3.6\n",
            "9237   147         94     1525  ...           34       TYPE_C      3.6\n",
            "9238   148         94     1525  ...           34       TYPE_C      3.6\n",
            "9239   150         94     1525  ...           34       TYPE_C      3.6\n",
            "9240   151         94     1525  ...           34       TYPE_C      3.6\n",
            "\n",
            "[5 rows x 13 columns]\n",
            "      week  center_id  meal_id  ...  region_code  center_type  op_area\n",
            "9255   146         94     2492  ...           34       TYPE_C      3.6\n",
            "9256   147         94     2492  ...           34       TYPE_C      3.6\n",
            "9257   148         94     2492  ...           34       TYPE_C      3.6\n",
            "9258   149         94     2492  ...           34       TYPE_C      3.6\n",
            "9259   150         94     2492  ...           34       TYPE_C      3.6\n",
            "\n",
            "[5 rows x 13 columns]\n",
            "      week  center_id  meal_id  ...  region_code  center_type  op_area\n",
            "9283   146         94     2664  ...           34       TYPE_C      3.6\n",
            "9284   147         94     2664  ...           34       TYPE_C      3.6\n",
            "9285   148         94     2664  ...           34       TYPE_C      3.6\n",
            "9286   149         94     2664  ...           34       TYPE_C      3.6\n",
            "9287   150         94     2664  ...           34       TYPE_C      3.6\n",
            "\n",
            "[5 rows x 13 columns]\n",
            "Empty DataFrame\n",
            "Columns: [week, center_id, meal_id, checkout_price, base_price, emailer_for_promotion, homepage_featured, category, cuisine, city_code, region_code, center_type, op_area]\n",
            "Index: []\n"
          ],
          "name": "stdout"
        },
        {
          "output_type": "error",
          "ename": "ValueError",
          "evalue": "ignored",
          "traceback": [
            "\u001b[0;31m---------------------------------------------------------------------------\u001b[0m",
            "\u001b[0;31mValueError\u001b[0m                                Traceback (most recent call last)",
            "\u001b[0;32m<ipython-input-85-7d01bf754533>\u001b[0m in \u001b[0;36m<module>\u001b[0;34m()\u001b[0m\n\u001b[1;32m     12\u001b[0m     \u001b[0mprint\u001b[0m\u001b[0;34m(\u001b[0m\u001b[0mcenter_test_cuisine1\u001b[0m\u001b[0;34m.\u001b[0m\u001b[0mhead\u001b[0m\u001b[0;34m(\u001b[0m\u001b[0;34m)\u001b[0m\u001b[0;34m)\u001b[0m\u001b[0;34m\u001b[0m\u001b[0;34m\u001b[0m\u001b[0m\n\u001b[1;32m     13\u001b[0m     \u001b[0mm\u001b[0m\u001b[0;34m.\u001b[0m\u001b[0mfit\u001b[0m\u001b[0;34m(\u001b[0m\u001b[0mcenter_train_cuisine\u001b[0m\u001b[0;34m.\u001b[0m\u001b[0mdrop\u001b[0m\u001b[0;34m(\u001b[0m\u001b[0;34m[\u001b[0m\u001b[0;34m\"num_orders\"\u001b[0m\u001b[0;34m]\u001b[0m\u001b[0;34m,\u001b[0m\u001b[0maxis\u001b[0m\u001b[0;34m=\u001b[0m\u001b[0;36m1\u001b[0m\u001b[0;34m)\u001b[0m\u001b[0;34m,\u001b[0m\u001b[0mcenter_train_cuisine\u001b[0m\u001b[0;34m[\u001b[0m\u001b[0;34m'num_orders'\u001b[0m\u001b[0;34m]\u001b[0m\u001b[0;34m)\u001b[0m\u001b[0;34m\u001b[0m\u001b[0;34m\u001b[0m\u001b[0m\n\u001b[0;32m---> 14\u001b[0;31m     \u001b[0mpred_result\u001b[0m \u001b[0;34m=\u001b[0m \u001b[0mm\u001b[0m\u001b[0;34m.\u001b[0m\u001b[0mpredict\u001b[0m\u001b[0;34m(\u001b[0m\u001b[0mcenter_test_cuisine1\u001b[0m\u001b[0;34m)\u001b[0m\u001b[0;34m\u001b[0m\u001b[0;34m\u001b[0m\u001b[0m\n\u001b[0m\u001b[1;32m     15\u001b[0m     \u001b[0mdf\u001b[0m \u001b[0;34m=\u001b[0m \u001b[0mdf\u001b[0m\u001b[0;34m.\u001b[0m\u001b[0mappend\u001b[0m\u001b[0;34m(\u001b[0m\u001b[0mpd\u001b[0m\u001b[0;34m.\u001b[0m\u001b[0mDataFrame\u001b[0m\u001b[0;34m(\u001b[0m\u001b[0;34m{\u001b[0m\u001b[0;34m\"id\"\u001b[0m\u001b[0;34m:\u001b[0m\u001b[0mcenter_test_cuisine\u001b[0m\u001b[0;34m[\u001b[0m\u001b[0;34m'id'\u001b[0m\u001b[0;34m]\u001b[0m\u001b[0;34m,\u001b[0m\u001b[0;34m\"num_orders\"\u001b[0m\u001b[0;34m:\u001b[0m\u001b[0mpred_result\u001b[0m\u001b[0;34m}\u001b[0m\u001b[0;34m)\u001b[0m\u001b[0;34m)\u001b[0m\u001b[0;34m\u001b[0m\u001b[0;34m\u001b[0m\u001b[0m\n",
            "\u001b[0;32m/usr/local/lib/python3.6/dist-packages/lightgbm/sklearn.py\u001b[0m in \u001b[0;36mpredict\u001b[0;34m(self, X, raw_score, num_iteration, pred_leaf, pred_contrib, **kwargs)\u001b[0m\n\u001b[1;32m    605\u001b[0m                              % (self._n_features, n_features))\n\u001b[1;32m    606\u001b[0m         return self.booster_.predict(X, raw_score=raw_score, num_iteration=num_iteration,\n\u001b[0;32m--> 607\u001b[0;31m                                      pred_leaf=pred_leaf, pred_contrib=pred_contrib, **kwargs)\n\u001b[0m\u001b[1;32m    608\u001b[0m \u001b[0;34m\u001b[0m\u001b[0m\n\u001b[1;32m    609\u001b[0m     \u001b[0;34m@\u001b[0m\u001b[0mproperty\u001b[0m\u001b[0;34m\u001b[0m\u001b[0;34m\u001b[0m\u001b[0m\n",
            "\u001b[0;32m/usr/local/lib/python3.6/dist-packages/lightgbm/basic.py\u001b[0m in \u001b[0;36mpredict\u001b[0;34m(self, data, num_iteration, raw_score, pred_leaf, pred_contrib, data_has_header, is_reshape, **kwargs)\u001b[0m\n\u001b[1;32m   2201\u001b[0m         return predictor.predict(data, num_iteration,\n\u001b[1;32m   2202\u001b[0m                                  \u001b[0mraw_score\u001b[0m\u001b[0;34m,\u001b[0m \u001b[0mpred_leaf\u001b[0m\u001b[0;34m,\u001b[0m \u001b[0mpred_contrib\u001b[0m\u001b[0;34m,\u001b[0m\u001b[0;34m\u001b[0m\u001b[0;34m\u001b[0m\u001b[0m\n\u001b[0;32m-> 2203\u001b[0;31m                                  data_has_header, is_reshape)\n\u001b[0m\u001b[1;32m   2204\u001b[0m \u001b[0;34m\u001b[0m\u001b[0m\n\u001b[1;32m   2205\u001b[0m     \u001b[0;32mdef\u001b[0m \u001b[0mrefit\u001b[0m\u001b[0;34m(\u001b[0m\u001b[0mself\u001b[0m\u001b[0;34m,\u001b[0m \u001b[0mdata\u001b[0m\u001b[0;34m,\u001b[0m \u001b[0mlabel\u001b[0m\u001b[0;34m,\u001b[0m \u001b[0mdecay_rate\u001b[0m\u001b[0;34m=\u001b[0m\u001b[0;36m0.9\u001b[0m\u001b[0;34m,\u001b[0m \u001b[0;34m**\u001b[0m\u001b[0mkwargs\u001b[0m\u001b[0;34m)\u001b[0m\u001b[0;34m:\u001b[0m\u001b[0;34m\u001b[0m\u001b[0;34m\u001b[0m\u001b[0m\n",
            "\u001b[0;32m/usr/local/lib/python3.6/dist-packages/lightgbm/basic.py\u001b[0m in \u001b[0;36mpredict\u001b[0;34m(self, data, num_iteration, raw_score, pred_leaf, pred_contrib, data_has_header, is_reshape)\u001b[0m\n\u001b[1;32m    434\u001b[0m         \u001b[0;32mif\u001b[0m \u001b[0misinstance\u001b[0m\u001b[0;34m(\u001b[0m\u001b[0mdata\u001b[0m\u001b[0;34m,\u001b[0m \u001b[0mDataset\u001b[0m\u001b[0;34m)\u001b[0m\u001b[0;34m:\u001b[0m\u001b[0;34m\u001b[0m\u001b[0;34m\u001b[0m\u001b[0m\n\u001b[1;32m    435\u001b[0m             \u001b[0;32mraise\u001b[0m \u001b[0mTypeError\u001b[0m\u001b[0;34m(\u001b[0m\u001b[0;34m\"Cannot use Dataset instance for prediction, please use raw data instead\"\u001b[0m\u001b[0;34m)\u001b[0m\u001b[0;34m\u001b[0m\u001b[0;34m\u001b[0m\u001b[0m\n\u001b[0;32m--> 436\u001b[0;31m         \u001b[0mdata\u001b[0m \u001b[0;34m=\u001b[0m \u001b[0m_data_from_pandas\u001b[0m\u001b[0;34m(\u001b[0m\u001b[0mdata\u001b[0m\u001b[0;34m,\u001b[0m \u001b[0;32mNone\u001b[0m\u001b[0;34m,\u001b[0m \u001b[0;32mNone\u001b[0m\u001b[0;34m,\u001b[0m \u001b[0mself\u001b[0m\u001b[0;34m.\u001b[0m\u001b[0mpandas_categorical\u001b[0m\u001b[0;34m)\u001b[0m\u001b[0;34m[\u001b[0m\u001b[0;36m0\u001b[0m\u001b[0;34m]\u001b[0m\u001b[0;34m\u001b[0m\u001b[0;34m\u001b[0m\u001b[0m\n\u001b[0m\u001b[1;32m    437\u001b[0m         \u001b[0mpredict_type\u001b[0m \u001b[0;34m=\u001b[0m \u001b[0mC_API_PREDICT_NORMAL\u001b[0m\u001b[0;34m\u001b[0m\u001b[0;34m\u001b[0m\u001b[0m\n\u001b[1;32m    438\u001b[0m         \u001b[0;32mif\u001b[0m \u001b[0mraw_score\u001b[0m\u001b[0;34m:\u001b[0m\u001b[0;34m\u001b[0m\u001b[0;34m\u001b[0m\u001b[0m\n",
            "\u001b[0;32m/usr/local/lib/python3.6/dist-packages/lightgbm/basic.py\u001b[0m in \u001b[0;36m_data_from_pandas\u001b[0;34m(data, feature_name, categorical_feature, pandas_categorical)\u001b[0m\n\u001b[1;32m    244\u001b[0m     \u001b[0;32mif\u001b[0m \u001b[0misinstance\u001b[0m\u001b[0;34m(\u001b[0m\u001b[0mdata\u001b[0m\u001b[0;34m,\u001b[0m \u001b[0mDataFrame\u001b[0m\u001b[0;34m)\u001b[0m\u001b[0;34m:\u001b[0m\u001b[0;34m\u001b[0m\u001b[0;34m\u001b[0m\u001b[0m\n\u001b[1;32m    245\u001b[0m         \u001b[0;32mif\u001b[0m \u001b[0mlen\u001b[0m\u001b[0;34m(\u001b[0m\u001b[0mdata\u001b[0m\u001b[0;34m.\u001b[0m\u001b[0mshape\u001b[0m\u001b[0;34m)\u001b[0m \u001b[0;34m!=\u001b[0m \u001b[0;36m2\u001b[0m \u001b[0;32mor\u001b[0m \u001b[0mdata\u001b[0m\u001b[0;34m.\u001b[0m\u001b[0mshape\u001b[0m\u001b[0;34m[\u001b[0m\u001b[0;36m0\u001b[0m\u001b[0;34m]\u001b[0m \u001b[0;34m<\u001b[0m \u001b[0;36m1\u001b[0m\u001b[0;34m:\u001b[0m\u001b[0;34m\u001b[0m\u001b[0;34m\u001b[0m\u001b[0m\n\u001b[0;32m--> 246\u001b[0;31m             \u001b[0;32mraise\u001b[0m \u001b[0mValueError\u001b[0m\u001b[0;34m(\u001b[0m\u001b[0;34m'Input data must be 2 dimensional and non empty.'\u001b[0m\u001b[0;34m)\u001b[0m\u001b[0;34m\u001b[0m\u001b[0;34m\u001b[0m\u001b[0m\n\u001b[0m\u001b[1;32m    247\u001b[0m         \u001b[0;32mif\u001b[0m \u001b[0mfeature_name\u001b[0m \u001b[0;34m==\u001b[0m \u001b[0;34m'auto'\u001b[0m \u001b[0;32mor\u001b[0m \u001b[0mfeature_name\u001b[0m \u001b[0;32mis\u001b[0m \u001b[0;32mNone\u001b[0m\u001b[0;34m:\u001b[0m\u001b[0;34m\u001b[0m\u001b[0;34m\u001b[0m\u001b[0m\n\u001b[1;32m    248\u001b[0m             \u001b[0mdata\u001b[0m \u001b[0;34m=\u001b[0m \u001b[0mdata\u001b[0m\u001b[0;34m.\u001b[0m\u001b[0mrename\u001b[0m\u001b[0;34m(\u001b[0m\u001b[0mcolumns\u001b[0m\u001b[0;34m=\u001b[0m\u001b[0mstr\u001b[0m\u001b[0;34m)\u001b[0m\u001b[0;34m\u001b[0m\u001b[0;34m\u001b[0m\u001b[0m\n",
            "\u001b[0;31mValueError\u001b[0m: Input data must be 2 dimensional and non empty."
          ]
        }
      ]
    },
    {
      "cell_type": "code",
      "metadata": {
        "id": "q_ec2zwPenEb",
        "colab_type": "code",
        "outputId": "d4fc0823-4a9b-4987-f63f-18082b07895a",
        "colab": {
          "base_uri": "https://localhost:8080/",
          "height": 34
        }
      },
      "source": [
        "df.shape"
      ],
      "execution_count": 0,
      "outputs": [
        {
          "output_type": "execute_result",
          "data": {
            "text/plain": [
              "(32573, 2)"
            ]
          },
          "metadata": {
            "tags": []
          },
          "execution_count": 82
        }
      ]
    },
    {
      "cell_type": "code",
      "metadata": {
        "id": "6RHPW8Phlgnb",
        "colab_type": "code",
        "colab": {}
      },
      "source": [
        "df.to_csv(\"submission_lgb_center_v3.csv\",index=False)"
      ],
      "execution_count": 0,
      "outputs": []
    },
    {
      "cell_type": "code",
      "metadata": {
        "id": "W7eNudHwliOS",
        "colab_type": "code",
        "colab": {}
      },
      "source": [
        ""
      ],
      "execution_count": 0,
      "outputs": []
    }
  ]
}